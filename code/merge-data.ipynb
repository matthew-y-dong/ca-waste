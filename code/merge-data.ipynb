{
 "cells": [
  {
   "cell_type": "code",
   "execution_count": 10,
   "metadata": {},
   "outputs": [],
   "source": [
    "import pandas as pd"
   ]
  },
  {
   "cell_type": "code",
   "execution_count": 11,
   "metadata": {},
   "outputs": [
    {
     "data": {
      "text/html": [
       "<div>\n",
       "<style scoped>\n",
       "    .dataframe tbody tr th:only-of-type {\n",
       "        vertical-align: middle;\n",
       "    }\n",
       "\n",
       "    .dataframe tbody tr th {\n",
       "        vertical-align: top;\n",
       "    }\n",
       "\n",
       "    .dataframe thead th {\n",
       "        text-align: right;\n",
       "    }\n",
       "</style>\n",
       "<table border=\"1\" class=\"dataframe\">\n",
       "  <thead>\n",
       "    <tr style=\"text-align: right;\">\n",
       "      <th></th>\n",
       "      <th>Material Category</th>\n",
       "      <th>Material Type</th>\n",
       "      <th>County</th>\n",
       "      <th>Single Family Tons</th>\n",
       "      <th>Regional Single Family Composition</th>\n",
       "      <th>Multi Family Tons</th>\n",
       "      <th>Statewide Multi Family Composition</th>\n",
       "      <th>Total Residential Tons</th>\n",
       "      <th>Total Residential Composition</th>\n",
       "    </tr>\n",
       "  </thead>\n",
       "  <tbody>\n",
       "    <tr>\n",
       "      <td>0</td>\n",
       "      <td>Paper</td>\n",
       "      <td>Uncoated Corrugated Cardboard</td>\n",
       "      <td>CONTRA COSTA</td>\n",
       "      <td>1536</td>\n",
       "      <td>0.006688</td>\n",
       "      <td>1931</td>\n",
       "      <td>0.035679</td>\n",
       "      <td>3467</td>\n",
       "      <td>0.012218</td>\n",
       "    </tr>\n",
       "    <tr>\n",
       "      <td>1</td>\n",
       "      <td>Paper</td>\n",
       "      <td>Paper Bags</td>\n",
       "      <td>CONTRA COSTA</td>\n",
       "      <td>719</td>\n",
       "      <td>0.003132</td>\n",
       "      <td>286</td>\n",
       "      <td>0.005275</td>\n",
       "      <td>1005</td>\n",
       "      <td>0.003541</td>\n",
       "    </tr>\n",
       "    <tr>\n",
       "      <td>2</td>\n",
       "      <td>Paper</td>\n",
       "      <td>Newspaper</td>\n",
       "      <td>CONTRA COSTA</td>\n",
       "      <td>1665</td>\n",
       "      <td>0.007250</td>\n",
       "      <td>2513</td>\n",
       "      <td>0.046431</td>\n",
       "      <td>4178</td>\n",
       "      <td>0.014724</td>\n",
       "    </tr>\n",
       "    <tr>\n",
       "      <td>3</td>\n",
       "      <td>Paper</td>\n",
       "      <td>White Ledger Paper</td>\n",
       "      <td>CONTRA COSTA</td>\n",
       "      <td>426</td>\n",
       "      <td>0.001854</td>\n",
       "      <td>286</td>\n",
       "      <td>0.005287</td>\n",
       "      <td>712</td>\n",
       "      <td>0.002509</td>\n",
       "    </tr>\n",
       "    <tr>\n",
       "      <td>4</td>\n",
       "      <td>Paper</td>\n",
       "      <td>Other Office Paper</td>\n",
       "      <td>CONTRA COSTA</td>\n",
       "      <td>1097</td>\n",
       "      <td>0.004775</td>\n",
       "      <td>319</td>\n",
       "      <td>0.005888</td>\n",
       "      <td>1415</td>\n",
       "      <td>0.004987</td>\n",
       "    </tr>\n",
       "  </tbody>\n",
       "</table>\n",
       "</div>"
      ],
      "text/plain": [
       "  Material Category                  Material Type        County  \\\n",
       "0             Paper  Uncoated Corrugated Cardboard  CONTRA COSTA   \n",
       "1             Paper                     Paper Bags  CONTRA COSTA   \n",
       "2             Paper                      Newspaper  CONTRA COSTA   \n",
       "3             Paper             White Ledger Paper  CONTRA COSTA   \n",
       "4             Paper             Other Office Paper  CONTRA COSTA   \n",
       "\n",
       "   Single Family Tons  Regional Single Family Composition  Multi Family Tons  \\\n",
       "0                1536                            0.006688               1931   \n",
       "1                 719                            0.003132                286   \n",
       "2                1665                            0.007250               2513   \n",
       "3                 426                            0.001854                286   \n",
       "4                1097                            0.004775                319   \n",
       "\n",
       "   Statewide Multi Family Composition  Total Residential Tons  \\\n",
       "0                            0.035679                    3467   \n",
       "1                            0.005275                    1005   \n",
       "2                            0.046431                    4178   \n",
       "3                            0.005287                     712   \n",
       "4                            0.005888                    1415   \n",
       "\n",
       "   Total Residential Composition  \n",
       "0                       0.012218  \n",
       "1                       0.003541  \n",
       "2                       0.014724  \n",
       "3                       0.002509  \n",
       "4                       0.004987  "
      ]
     },
     "execution_count": 11,
     "metadata": {},
     "output_type": "execute_result"
    }
   ],
   "source": [
    "waste_per_county = pd.read_csv(\"../data/calrecycle_waste_per_county.csv\")\n",
    "waste_per_county.head()"
   ]
  },
  {
   "cell_type": "code",
   "execution_count": 19,
   "metadata": {
    "scrolled": true
   },
   "outputs": [
    {
     "data": {
      "text/html": [
       "<div>\n",
       "<style scoped>\n",
       "    .dataframe tbody tr th:only-of-type {\n",
       "        vertical-align: middle;\n",
       "    }\n",
       "\n",
       "    .dataframe tbody tr th {\n",
       "        vertical-align: top;\n",
       "    }\n",
       "\n",
       "    .dataframe thead th {\n",
       "        text-align: right;\n",
       "    }\n",
       "</style>\n",
       "<table border=\"1\" class=\"dataframe\">\n",
       "  <thead>\n",
       "    <tr style=\"text-align: right;\">\n",
       "      <th></th>\n",
       "      <th>County</th>\n",
       "      <th>Total Residential Tons</th>\n",
       "    </tr>\n",
       "  </thead>\n",
       "  <tbody>\n",
       "    <tr>\n",
       "      <td>0</td>\n",
       "      <td>ALAMEDA</td>\n",
       "      <td>405147</td>\n",
       "    </tr>\n",
       "    <tr>\n",
       "      <td>1</td>\n",
       "      <td>ALPINE</td>\n",
       "      <td>291</td>\n",
       "    </tr>\n",
       "    <tr>\n",
       "      <td>2</td>\n",
       "      <td>AMADOR</td>\n",
       "      <td>8799</td>\n",
       "    </tr>\n",
       "    <tr>\n",
       "      <td>3</td>\n",
       "      <td>BUTTE</td>\n",
       "      <td>55883</td>\n",
       "    </tr>\n",
       "    <tr>\n",
       "      <td>4</td>\n",
       "      <td>CALAVERAS</td>\n",
       "      <td>11400</td>\n",
       "    </tr>\n",
       "  </tbody>\n",
       "</table>\n",
       "</div>"
      ],
      "text/plain": [
       "      County  Total Residential Tons\n",
       "0    ALAMEDA                  405147\n",
       "1     ALPINE                     291\n",
       "2     AMADOR                    8799\n",
       "3      BUTTE                   55883\n",
       "4  CALAVERAS                   11400"
      ]
     },
     "execution_count": 19,
     "metadata": {},
     "output_type": "execute_result"
    }
   ],
   "source": [
    "total_waste_per_county = waste_per_county.groupby(\"County\").agg(\"sum\")[[\"Total Residential Tons\"]].reset_index()\n",
    "total_waste_per_county.head()"
   ]
  },
  {
   "cell_type": "code",
   "execution_count": 22,
   "metadata": {},
   "outputs": [
    {
     "data": {
      "text/plain": [
       "58"
      ]
     },
     "execution_count": 22,
     "metadata": {},
     "output_type": "execute_result"
    }
   ],
   "source": [
    "len(total_waste_per_county.County.unique())"
   ]
  },
  {
   "cell_type": "markdown",
   "metadata": {},
   "source": [
    "---"
   ]
  },
  {
   "cell_type": "code",
   "execution_count": 12,
   "metadata": {},
   "outputs": [
    {
     "data": {
      "text/html": [
       "<div>\n",
       "<style scoped>\n",
       "    .dataframe tbody tr th:only-of-type {\n",
       "        vertical-align: middle;\n",
       "    }\n",
       "\n",
       "    .dataframe tbody tr th {\n",
       "        vertical-align: top;\n",
       "    }\n",
       "\n",
       "    .dataframe thead th {\n",
       "        text-align: right;\n",
       "    }\n",
       "</style>\n",
       "<table border=\"1\" class=\"dataframe\">\n",
       "  <thead>\n",
       "    <tr style=\"text-align: right;\">\n",
       "      <th></th>\n",
       "      <th>County</th>\n",
       "      <th>Sector</th>\n",
       "      <th>2019</th>\n",
       "      <th>2018</th>\n",
       "      <th>2017</th>\n",
       "      <th>2016</th>\n",
       "      <th>2015</th>\n",
       "      <th>2014</th>\n",
       "      <th>2013</th>\n",
       "      <th>2012</th>\n",
       "      <th>2011</th>\n",
       "      <th>2010</th>\n",
       "      <th>Total Usage</th>\n",
       "    </tr>\n",
       "  </thead>\n",
       "  <tbody>\n",
       "    <tr>\n",
       "      <td>0</td>\n",
       "      <td>ALAMEDA</td>\n",
       "      <td>Non-Residential</td>\n",
       "      <td>7619.304491</td>\n",
       "      <td>7445.556909</td>\n",
       "      <td>8087.656147</td>\n",
       "      <td>7873.882100</td>\n",
       "      <td>7341.708151</td>\n",
       "      <td>7408.645462</td>\n",
       "      <td>7634.447579</td>\n",
       "      <td>7592.708714</td>\n",
       "      <td>7955.624590</td>\n",
       "      <td>7701.202729</td>\n",
       "      <td>76660.736872</td>\n",
       "    </tr>\n",
       "    <tr>\n",
       "      <td>1</td>\n",
       "      <td>ALAMEDA</td>\n",
       "      <td>Residential</td>\n",
       "      <td>3064.781376</td>\n",
       "      <td>2945.804917</td>\n",
       "      <td>2991.794416</td>\n",
       "      <td>2917.342741</td>\n",
       "      <td>2893.676837</td>\n",
       "      <td>2891.232325</td>\n",
       "      <td>2984.213677</td>\n",
       "      <td>2998.246885</td>\n",
       "      <td>3023.830340</td>\n",
       "      <td>3021.008265</td>\n",
       "      <td>29731.931779</td>\n",
       "    </tr>\n",
       "    <tr>\n",
       "      <td>2</td>\n",
       "      <td>ALPINE</td>\n",
       "      <td>Non-Residential</td>\n",
       "      <td>8.774426</td>\n",
       "      <td>9.283298</td>\n",
       "      <td>9.025215</td>\n",
       "      <td>8.124741</td>\n",
       "      <td>4.354396</td>\n",
       "      <td>4.008389</td>\n",
       "      <td>4.752038</td>\n",
       "      <td>4.590161</td>\n",
       "      <td>5.199864</td>\n",
       "      <td>5.203784</td>\n",
       "      <td>63.316312</td>\n",
       "    </tr>\n",
       "    <tr>\n",
       "      <td>3</td>\n",
       "      <td>ALPINE</td>\n",
       "      <td>Residential</td>\n",
       "      <td>10.131788</td>\n",
       "      <td>9.420910</td>\n",
       "      <td>9.951697</td>\n",
       "      <td>9.290913</td>\n",
       "      <td>11.855504</td>\n",
       "      <td>11.974975</td>\n",
       "      <td>13.424431</td>\n",
       "      <td>9.298178</td>\n",
       "      <td>9.093424</td>\n",
       "      <td>12.451971</td>\n",
       "      <td>106.893791</td>\n",
       "    </tr>\n",
       "    <tr>\n",
       "      <td>4</td>\n",
       "      <td>AMADOR</td>\n",
       "      <td>Non-Residential</td>\n",
       "      <td>177.195934</td>\n",
       "      <td>167.197304</td>\n",
       "      <td>169.803448</td>\n",
       "      <td>173.577629</td>\n",
       "      <td>152.516800</td>\n",
       "      <td>154.757105</td>\n",
       "      <td>170.871558</td>\n",
       "      <td>180.777745</td>\n",
       "      <td>169.941664</td>\n",
       "      <td>175.688511</td>\n",
       "      <td>1692.327698</td>\n",
       "    </tr>\n",
       "  </tbody>\n",
       "</table>\n",
       "</div>"
      ],
      "text/plain": [
       "    County           Sector         2019         2018         2017  \\\n",
       "0  ALAMEDA  Non-Residential  7619.304491  7445.556909  8087.656147   \n",
       "1  ALAMEDA      Residential  3064.781376  2945.804917  2991.794416   \n",
       "2   ALPINE  Non-Residential     8.774426     9.283298     9.025215   \n",
       "3   ALPINE      Residential    10.131788     9.420910     9.951697   \n",
       "4   AMADOR  Non-Residential   177.195934   167.197304   169.803448   \n",
       "\n",
       "          2016         2015         2014         2013         2012  \\\n",
       "0  7873.882100  7341.708151  7408.645462  7634.447579  7592.708714   \n",
       "1  2917.342741  2893.676837  2891.232325  2984.213677  2998.246885   \n",
       "2     8.124741     4.354396     4.008389     4.752038     4.590161   \n",
       "3     9.290913    11.855504    11.974975    13.424431     9.298178   \n",
       "4   173.577629   152.516800   154.757105   170.871558   180.777745   \n",
       "\n",
       "          2011         2010   Total Usage  \n",
       "0  7955.624590  7701.202729  76660.736872  \n",
       "1  3023.830340  3021.008265  29731.931779  \n",
       "2     5.199864     5.203784     63.316312  \n",
       "3     9.093424    12.451971    106.893791  \n",
       "4   169.941664   175.688511   1692.327698  "
      ]
     },
     "execution_count": 12,
     "metadata": {},
     "output_type": "execute_result"
    }
   ],
   "source": [
    "electricity_per_county = pd.read_csv(\"../data/cec-electricity-by-county.csv\")\n",
    "electricity_per_county.head()"
   ]
  },
  {
   "cell_type": "code",
   "execution_count": 28,
   "metadata": {},
   "outputs": [
    {
     "data": {
      "text/html": [
       "<div>\n",
       "<style scoped>\n",
       "    .dataframe tbody tr th:only-of-type {\n",
       "        vertical-align: middle;\n",
       "    }\n",
       "\n",
       "    .dataframe tbody tr th {\n",
       "        vertical-align: top;\n",
       "    }\n",
       "\n",
       "    .dataframe thead th {\n",
       "        text-align: right;\n",
       "    }\n",
       "</style>\n",
       "<table border=\"1\" class=\"dataframe\">\n",
       "  <thead>\n",
       "    <tr style=\"text-align: right;\">\n",
       "      <th></th>\n",
       "      <th>County</th>\n",
       "      <th>Electricity Usage</th>\n",
       "    </tr>\n",
       "  </thead>\n",
       "  <tbody>\n",
       "    <tr>\n",
       "      <td>1</td>\n",
       "      <td>ALAMEDA</td>\n",
       "      <td>2891.232325</td>\n",
       "    </tr>\n",
       "    <tr>\n",
       "      <td>3</td>\n",
       "      <td>ALPINE</td>\n",
       "      <td>11.974975</td>\n",
       "    </tr>\n",
       "    <tr>\n",
       "      <td>5</td>\n",
       "      <td>AMADOR</td>\n",
       "      <td>134.744387</td>\n",
       "    </tr>\n",
       "    <tr>\n",
       "      <td>7</td>\n",
       "      <td>BUTTE</td>\n",
       "      <td>718.947064</td>\n",
       "    </tr>\n",
       "    <tr>\n",
       "      <td>9</td>\n",
       "      <td>CALAVERAS</td>\n",
       "      <td>192.543967</td>\n",
       "    </tr>\n",
       "  </tbody>\n",
       "</table>\n",
       "</div>"
      ],
      "text/plain": [
       "      County  Electricity Usage\n",
       "1    ALAMEDA        2891.232325\n",
       "3     ALPINE          11.974975\n",
       "5     AMADOR         134.744387\n",
       "7      BUTTE         718.947064\n",
       "9  CALAVERAS         192.543967"
      ]
     },
     "execution_count": 28,
     "metadata": {},
     "output_type": "execute_result"
    }
   ],
   "source": [
    "residential_cond = electricity_per_county.Sector == \"Residential\"\n",
    "year = \"2014\"\n",
    "residential_electricity = electricity_per_county.loc[residential_cond, [\"County\", year]]\n",
    "residential_electricity.rename(columns={year: \"Electricity Usage\"}, inplace=True)\n",
    "residential_electricity.head()"
   ]
  },
  {
   "cell_type": "code",
   "execution_count": 32,
   "metadata": {
    "scrolled": true
   },
   "outputs": [
    {
     "data": {
      "text/plain": [
       "58"
      ]
     },
     "execution_count": 32,
     "metadata": {},
     "output_type": "execute_result"
    }
   ],
   "source": [
    "len(residential_electricity.County.unique())"
   ]
  },
  {
   "cell_type": "markdown",
   "metadata": {},
   "source": [
    "---\n",
    "\n",
    "### Merge"
   ]
  },
  {
   "cell_type": "code",
   "execution_count": 33,
   "metadata": {},
   "outputs": [],
   "source": [
    "waste_electricity_df = total_waste_per_county.merge(residential_electricity)"
   ]
  },
  {
   "cell_type": "code",
   "execution_count": 34,
   "metadata": {},
   "outputs": [
    {
     "data": {
      "text/html": [
       "<div>\n",
       "<style scoped>\n",
       "    .dataframe tbody tr th:only-of-type {\n",
       "        vertical-align: middle;\n",
       "    }\n",
       "\n",
       "    .dataframe tbody tr th {\n",
       "        vertical-align: top;\n",
       "    }\n",
       "\n",
       "    .dataframe thead th {\n",
       "        text-align: right;\n",
       "    }\n",
       "</style>\n",
       "<table border=\"1\" class=\"dataframe\">\n",
       "  <thead>\n",
       "    <tr style=\"text-align: right;\">\n",
       "      <th></th>\n",
       "      <th>County</th>\n",
       "      <th>Total Residential Tons</th>\n",
       "      <th>Electricity Usage</th>\n",
       "    </tr>\n",
       "  </thead>\n",
       "  <tbody>\n",
       "    <tr>\n",
       "      <td>0</td>\n",
       "      <td>ALAMEDA</td>\n",
       "      <td>405147</td>\n",
       "      <td>2891.232325</td>\n",
       "    </tr>\n",
       "    <tr>\n",
       "      <td>1</td>\n",
       "      <td>ALPINE</td>\n",
       "      <td>291</td>\n",
       "      <td>11.974975</td>\n",
       "    </tr>\n",
       "    <tr>\n",
       "      <td>2</td>\n",
       "      <td>AMADOR</td>\n",
       "      <td>8799</td>\n",
       "      <td>134.744387</td>\n",
       "    </tr>\n",
       "    <tr>\n",
       "      <td>3</td>\n",
       "      <td>BUTTE</td>\n",
       "      <td>55883</td>\n",
       "      <td>718.947064</td>\n",
       "    </tr>\n",
       "    <tr>\n",
       "      <td>4</td>\n",
       "      <td>CALAVERAS</td>\n",
       "      <td>11400</td>\n",
       "      <td>192.543967</td>\n",
       "    </tr>\n",
       "  </tbody>\n",
       "</table>\n",
       "</div>"
      ],
      "text/plain": [
       "      County  Total Residential Tons  Electricity Usage\n",
       "0    ALAMEDA                  405147        2891.232325\n",
       "1     ALPINE                     291          11.974975\n",
       "2     AMADOR                    8799         134.744387\n",
       "3      BUTTE                   55883         718.947064\n",
       "4  CALAVERAS                   11400         192.543967"
      ]
     },
     "execution_count": 34,
     "metadata": {},
     "output_type": "execute_result"
    }
   ],
   "source": [
    "waste_electricity_df.head()"
   ]
  },
  {
   "cell_type": "code",
   "execution_count": 35,
   "metadata": {},
   "outputs": [],
   "source": [
    "waste_electricity_df.to_csv(\"../data/complete_features_df.csv\", index=False)"
   ]
  },
  {
   "cell_type": "code",
   "execution_count": null,
   "metadata": {},
   "outputs": [],
   "source": []
  }
 ],
 "metadata": {
  "kernelspec": {
   "display_name": "Python 3",
   "language": "python",
   "name": "python3"
  },
  "language_info": {
   "codemirror_mode": {
    "name": "ipython",
    "version": 3
   },
   "file_extension": ".py",
   "mimetype": "text/x-python",
   "name": "python",
   "nbconvert_exporter": "python",
   "pygments_lexer": "ipython3",
   "version": "3.7.4"
  }
 },
 "nbformat": 4,
 "nbformat_minor": 2
}
