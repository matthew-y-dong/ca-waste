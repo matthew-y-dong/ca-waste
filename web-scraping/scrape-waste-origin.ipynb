{
 "cells": [
  {
   "cell_type": "code",
   "execution_count": 1,
   "metadata": {},
   "outputs": [],
   "source": [
    "import os\n",
    "import pandas as pd\n",
    "\n",
    "import logging\n",
    "import time\n",
    "from tqdm import tqdm\n",
    "\n",
    "from selenium import webdriver\n",
    "from selenium.webdriver.chrome.options import Options\n",
    "from selenium.webdriver.support.wait import WebDriverWait\n",
    "from selenium.webdriver.common.by import By\n",
    "from selenium.webdriver.support import expected_conditions as EC\n",
    "from selenium.common.exceptions import TimeoutException\n",
    "\n",
    "# NEEDS TO BE ABSOLUTE PATH\n",
    "PATH_TO_DOWNLOADS = \"/Users/mdong/dataScience/projects-ml/waste-management/calrecycle-data\"\n",
    "options = Options()\n",
    "prefs = {'download.default_directory' : PATH_TO_DOWNLOADS}\n",
    "options.add_experimental_option('prefs', prefs)\n",
    "options.headless = False"
   ]
  },
  {
   "cell_type": "markdown",
   "metadata": {},
   "source": [
    "> path to downloads folder needs to EMPTY before running, or at least should be no files with the default download name\n",
    "\n",
    "how to iterate through each county? \n",
    "\n",
    "- each county doesn't map to URL like on waste characterization page\n",
    "- use the n-th child selector - one for each county, starts at 2 + 58 counties\n",
    "- document.querySelector(\"#CountyID > option:nth-child(59)\")"
   ]
  },
  {
   "cell_type": "code",
   "execution_count": 2,
   "metadata": {},
   "outputs": [],
   "source": [
    "# for county_idx in range(2, 60):\n",
    "#     print(county_idx)"
   ]
  },
  {
   "cell_type": "code",
   "execution_count": 5,
   "metadata": {},
   "outputs": [],
   "source": [
    "def get_waste_origin_data(idx, download_path):\n",
    "    \"\"\"Exports excel file with origin waste data for the county specified by idx to download_path\n",
    "    \"\"\"\n",
    "    DATA_URL = \"https://www2.calrecycle.ca.gov/LGCentral/DisposalReporting/Origin/CountywideSummary\"\n",
    "    driver = webdriver.Chrome(options=options)\n",
    "    driver.get(DATA_URL)\n",
    "    \n",
    "    county_selector = '#CountyID > option:nth-child({})'.format(idx)\n",
    "    county_element = driver.find_element_by_css_selector(county_selector)\n",
    "    county = county_element.text\n",
    "    county_element.click()\n",
    "\n",
    "    driver.find_element_by_css_selector('#SearchButton').click()\n",
    "\n",
    "    default_name_download = PATH_TO_DOWNLOADS + \"/CountywideSummary.xlsx\"\n",
    "    print(\"Downloading data for county: {}\".format(county))\n",
    "\n",
    "    seconds_waited = 0\n",
    "    while not os.path.exists(default_name_download):\n",
    "        time.sleep(1)\n",
    "        seconds_waited += 1\n",
    "\n",
    "    print(\"Download took {} seconds...\".format(seconds_waited))\n",
    "    updated_file_name = download_path + \"/\" + county + \"_waste_production.xlsx\"\n",
    "    \n",
    "    if os.path.isfile(default_name_download):\n",
    "        os.rename(default_name_download, updated_file_name)\n",
    "        try:\n",
    "            os.remove(default_name_download)\n",
    "        except:\n",
    "            pass\n",
    "\n",
    "    driver.quit()"
   ]
  },
  {
   "cell_type": "code",
   "execution_count": 6,
   "metadata": {
    "scrolled": true
   },
   "outputs": [
    {
     "name": "stdout",
     "output_type": "stream",
     "text": [
      "Downloading data for county: Calaveras\n",
      "Download took 1 seconds...\n"
     ]
    }
   ],
   "source": [
    "get_waste_origin_data(6, PATH_TO_DOWNLOADS)"
   ]
  },
  {
   "cell_type": "code",
   "execution_count": null,
   "metadata": {},
   "outputs": [],
   "source": []
  },
  {
   "cell_type": "markdown",
   "metadata": {},
   "source": [
    "### get it working for one county"
   ]
  },
  {
   "cell_type": "code",
   "execution_count": 11,
   "metadata": {},
   "outputs": [
    {
     "name": "stdout",
     "output_type": "stream",
     "text": [
      "Downloading data for county: Butte\n",
      "Download took 1 seconds...\n"
     ]
    }
   ],
   "source": [
    "DATA_URL = \"https://www2.calrecycle.ca.gov/LGCentral/DisposalReporting/Origin/CountywideSummary\"\n",
    "\n",
    "driver = webdriver.Chrome(options=options)\n",
    "\n",
    "driver.get(DATA_URL)\n",
    "\n",
    "county_element = driver.find_element_by_css_selector('#CountyID > option:nth-child(5)')\n",
    "county = county_element.text\n",
    "county_element.click()\n",
    "\n",
    "driver.find_element_by_css_selector('#SearchButton').click() # .send_keys(\"\\n\")\n",
    "\n",
    "most_recent_waste_data = PATH_TO_DOWNLOADS + \"/CountywideSummary.xlsx\"\n",
    "print(\"Downloading data for county: {}\".format(county_element.text))\n",
    "\n",
    "seconds_waited = 0\n",
    "\n",
    "while not os.path.exists(most_recent_waste_data):\n",
    "    time.sleep(1)\n",
    "    seconds_waited += 1\n",
    "\n",
    "print(\"Download took {} seconds...\".format(seconds_waited))\n",
    "\n",
    "driver.quit()"
   ]
  },
  {
   "cell_type": "code",
   "execution_count": null,
   "metadata": {},
   "outputs": [],
   "source": [
    "def convert_to_csv(path):\n",
    "    \"\"\"Convert the Excel file into a csv with the same name given path to the file\n",
    "    \"\"\"\n",
    "    directory = os.path.dirname(path)\n",
    "    file_name_w_ext = os.path.basename(path)\n",
    "    file_name = os.path.splitext(file_name_w_ext)[0]\n",
    "    csv_file_path = os.path.join(directory, file_name + \".csv\")\n",
    "    \n",
    "    data_xls = pd.read_excel(path)\n",
    "    data_xls.to_csv(csv_file_path, index=False)"
   ]
  },
  {
   "cell_type": "code",
   "execution_count": null,
   "metadata": {},
   "outputs": [],
   "source": [
    "convert_to_csv()"
   ]
  },
  {
   "cell_type": "code",
   "execution_count": null,
   "metadata": {},
   "outputs": [],
   "source": []
  },
  {
   "cell_type": "code",
   "execution_count": null,
   "metadata": {},
   "outputs": [],
   "source": []
  }
 ],
 "metadata": {
  "kernelspec": {
   "display_name": "Python 3",
   "language": "python",
   "name": "python3"
  },
  "language_info": {
   "codemirror_mode": {
    "name": "ipython",
    "version": 3
   },
   "file_extension": ".py",
   "mimetype": "text/x-python",
   "name": "python",
   "nbconvert_exporter": "python",
   "pygments_lexer": "ipython3",
   "version": "3.7.4"
  }
 },
 "nbformat": 4,
 "nbformat_minor": 2
}
