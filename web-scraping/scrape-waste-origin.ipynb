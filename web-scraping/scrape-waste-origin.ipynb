{
 "cells": [
  {
   "cell_type": "code",
   "execution_count": 8,
   "metadata": {},
   "outputs": [],
   "source": [
    "import os\n",
    "import pandas as pd\n",
    "import numpy as np\n",
    "\n",
    "import logging\n",
    "import time\n",
    "from tqdm import tqdm\n",
    "\n",
    "from selenium import webdriver\n",
    "from selenium.webdriver.chrome.options import Options\n",
    "from selenium.webdriver.support.wait import WebDriverWait\n",
    "from selenium.webdriver.common.by import By\n",
    "from selenium.webdriver.support import expected_conditions as EC\n",
    "from selenium.common.exceptions import TimeoutException\n",
    "\n",
    "# NEEDS TO BE ABSOLUTE PATH\n",
    "PATH_TO_DOWNLOADS = \"/Users/mdong/dataScience/projects-ml/waste-management/calrecycle-data\"\n",
    "options = Options()\n",
    "prefs = {'download.default_directory' : PATH_TO_DOWNLOADS}\n",
    "options.add_experimental_option('prefs', prefs)\n",
    "options.headless = True"
   ]
  },
  {
   "cell_type": "markdown",
   "metadata": {},
   "source": [
    "## Notes before running script\n",
    "\n",
    "> path to downloads folder needs to EMPTY before running, or at least should be no files with the default download name"
   ]
  },
  {
   "cell_type": "code",
   "execution_count": 9,
   "metadata": {
    "collapsed": true
   },
   "outputs": [
    {
     "data": {
      "text/plain": [
       "{'Alameda': 2,\n",
       " 'Alpine': 3,\n",
       " 'Amador': 4,\n",
       " 'Butte': 5,\n",
       " 'Calaveras': 6,\n",
       " 'Colusa': 7,\n",
       " 'Contra Costa': 8,\n",
       " 'Del Norte': 9,\n",
       " 'El Dorado': 10,\n",
       " 'Fresno': 11,\n",
       " 'Glenn': 12,\n",
       " 'Humboldt': 13,\n",
       " 'Imperial': 14,\n",
       " 'Inyo': 15,\n",
       " 'Kern': 16,\n",
       " 'Kings': 17,\n",
       " 'Lake': 18,\n",
       " 'Lassen': 19,\n",
       " 'Los Angeles': 20,\n",
       " 'Madera': 21,\n",
       " 'Marin': 22,\n",
       " 'Mariposa': 23,\n",
       " 'Mendocino': 24,\n",
       " 'Merced': 25,\n",
       " 'Modoc': 26,\n",
       " 'Mono': 27,\n",
       " 'Monterey': 28,\n",
       " 'Napa': 29,\n",
       " 'Nevada': 30,\n",
       " 'Orange': 31,\n",
       " 'Placer': 32,\n",
       " 'Plumas': 33,\n",
       " 'Riverside': 34,\n",
       " 'Sacramento': 35,\n",
       " 'San Benito': 36,\n",
       " 'San Bernardino': 37,\n",
       " 'San Diego': 38,\n",
       " 'San Francisco': 39,\n",
       " 'San Joaquin': 40,\n",
       " 'San Luis Obispo': 41,\n",
       " 'San Mateo': 42,\n",
       " 'Santa Barbara': 43,\n",
       " 'Santa Clara': 44,\n",
       " 'Santa Cruz': 45,\n",
       " 'Shasta': 46,\n",
       " 'Sierra': 47,\n",
       " 'Siskiyou': 48,\n",
       " 'Solano': 49,\n",
       " 'Sonoma': 50,\n",
       " 'Stanislaus': 51,\n",
       " 'Sutter': 52,\n",
       " 'Tehama': 53,\n",
       " 'Trinity': 54,\n",
       " 'Tulare': 55,\n",
       " 'Tuolumne': 56,\n",
       " 'Ventura': 57,\n",
       " 'Yolo': 58,\n",
       " 'Yuba': 59}"
      ]
     },
     "execution_count": 9,
     "metadata": {},
     "output_type": "execute_result"
    }
   ],
   "source": [
    "CA_counties = ['Alameda',\n",
    " 'Alpine',\n",
    " 'Amador',\n",
    " 'Butte',\n",
    " 'Calaveras',\n",
    " 'Colusa',\n",
    " 'Contra Costa',\n",
    " 'Del Norte',\n",
    " 'El Dorado',\n",
    " 'Fresno',\n",
    " 'Glenn',\n",
    " 'Humboldt',\n",
    " 'Imperial',\n",
    " 'Inyo',\n",
    " 'Kern',\n",
    " 'Kings',\n",
    " 'Lake',\n",
    " 'Lassen',\n",
    " 'Los Angeles',\n",
    " 'Madera',\n",
    " 'Marin',\n",
    " 'Mariposa',\n",
    " 'Mendocino',\n",
    " 'Merced',\n",
    " 'Modoc',\n",
    " 'Mono',\n",
    " 'Monterey',\n",
    " 'Napa',\n",
    " 'Nevada',\n",
    " 'Orange',\n",
    " 'Placer',\n",
    " 'Plumas',\n",
    " 'Riverside',\n",
    " 'Sacramento',\n",
    " 'San Benito',\n",
    " 'San Bernardino',\n",
    " 'San Diego',\n",
    " 'San Francisco',\n",
    " 'San Joaquin',\n",
    " 'San Luis Obispo',\n",
    " 'San Mateo',\n",
    " 'Santa Barbara',\n",
    " 'Santa Clara',\n",
    " 'Santa Cruz',\n",
    " 'Shasta',\n",
    " 'Sierra',\n",
    " 'Siskiyou',\n",
    " 'Solano',\n",
    " 'Sonoma',\n",
    " 'Stanislaus',\n",
    " 'Sutter',\n",
    " 'Tehama',\n",
    " 'Trinity',\n",
    " 'Tulare',\n",
    " 'Tuolumne',\n",
    " 'Ventura',\n",
    " 'Yolo',\n",
    " 'Yuba']\n",
    "\n",
    "county_selector_map = dict(zip(CA_counties, np.arange(2, 60)))\n",
    "county_selector_map"
   ]
  },
  {
   "cell_type": "markdown",
   "metadata": {},
   "source": [
    "\n",
    "### If we want city, use Single-year Countywide Origin Detail page instead of the Multi-year Countywide Origin Summary because the multi-year countywide summary does not sum for each city across each quarter\n",
    "\n",
    "how to iterate through each county? \n",
    "\n",
    "- each county doesn't map to URL like on waste characterization page\n",
    "- use the n-th child selector - one for each county, starts at 2 + 58 counties\n",
    "```\n",
    "document.querySelector(\"#CountyID > option:nth-child(59)\")\n",
    "<option value=\"58\">Yuba</option>\n",
    "```\n",
    "\n",
    "how to iterate through each year?\n",
    "\n",
    "- same idea: \n",
    "```\n",
    "document.querySelector(\"#Year > option:nth-child(27)\")\n",
    "<option>1995</option>\n",
    "```\n",
    "\n",
    "- Create a map from year to CSS idx and county to CSS idx so you can update the function definition to be get_waste_origin_data(county, year)"
   ]
  },
  {
   "cell_type": "code",
   "execution_count": 2,
   "metadata": {},
   "outputs": [],
   "source": [
    "# for county_idx in range(2, 60):\n",
    "#     print(county_idx)"
   ]
  },
  {
   "cell_type": "code",
   "execution_count": 2,
   "metadata": {},
   "outputs": [],
   "source": [
    "def convert_to_csv(path):\n",
    "    \"\"\"Convert the Excel file into a csv with the same name given path to the file\n",
    "    \"\"\"\n",
    "    directory = os.path.dirname(path)\n",
    "    file_name_w_ext = os.path.basename(path)\n",
    "    file_name = os.path.splitext(file_name_w_ext)[0]\n",
    "    csv_file_path = os.path.join(directory, file_name + \".csv\")\n",
    "    \n",
    "    data_xls = pd.read_excel(path)\n",
    "    data_xls.to_csv(csv_file_path, index=False)"
   ]
  },
  {
   "cell_type": "code",
   "execution_count": 3,
   "metadata": {},
   "outputs": [],
   "source": [
    "def get_waste_origin_data(idx, download_path):\n",
    "    \"\"\"Exports excel file with origin waste data for the county specified by idx to download_path\n",
    "    \"\"\"\n",
    "    DATA_URL = \"https://www2.calrecycle.ca.gov/LGCentral/DisposalReporting/Origin/CountywideSummary\"\n",
    "    driver = webdriver.Chrome(options=options)\n",
    "    driver.get(DATA_URL)\n",
    "    \n",
    "    county_selector = '#CountyID > option:nth-child({})'.format(idx)\n",
    "    county_element = driver.find_element_by_css_selector(county_selector)\n",
    "    county = county_element.text\n",
    "    county_element.click()\n",
    "\n",
    "    driver.find_element_by_css_selector('#SearchButton').click()\n",
    "\n",
    "    default_name_download = PATH_TO_DOWNLOADS + \"/CountywideSummary.xlsx\"\n",
    "    print(\"Downloading data for county: {}\".format(county))\n",
    "\n",
    "    seconds_waited = 0\n",
    "    while not os.path.exists(default_name_download):\n",
    "        time.sleep(1)\n",
    "        seconds_waited += 1\n",
    "\n",
    "    print(\"Download took {} seconds...\".format(seconds_waited))\n",
    "    updated_file_name = download_path + \"/\" + county + \"_waste_production.xlsx\"\n",
    "    \n",
    "    if os.path.isfile(default_name_download):\n",
    "        os.rename(default_name_download, updated_file_name)\n",
    "        try:\n",
    "            os.remove(default_name_download)\n",
    "        except:\n",
    "            pass\n",
    "    \n",
    "    convert_to_csv(updated_file_name)\n",
    "\n",
    "    driver.quit()"
   ]
  },
  {
   "cell_type": "code",
   "execution_count": 4,
   "metadata": {
    "scrolled": true
   },
   "outputs": [
    {
     "name": "stdout",
     "output_type": "stream",
     "text": [
      "Downloading data for county: Alameda\n",
      "Download took 1 seconds...\n"
     ]
    }
   ],
   "source": [
    "get_waste_origin_data(2, PATH_TO_DOWNLOADS)"
   ]
  },
  {
   "cell_type": "markdown",
   "metadata": {},
   "source": [
    "### get it working for one county"
   ]
  },
  {
   "cell_type": "code",
   "execution_count": 11,
   "metadata": {},
   "outputs": [
    {
     "name": "stdout",
     "output_type": "stream",
     "text": [
      "Downloading data for county: Butte\n",
      "Download took 1 seconds...\n"
     ]
    }
   ],
   "source": [
    "DATA_URL = \"https://www2.calrecycle.ca.gov/LGCentral/DisposalReporting/Origin/CountywideSummary\"\n",
    "\n",
    "driver = webdriver.Chrome(options=options)\n",
    "\n",
    "driver.get(DATA_URL)\n",
    "\n",
    "county_element = driver.find_element_by_css_selector('#CountyID > option:nth-child(5)')\n",
    "county = county_element.text\n",
    "county_element.click()\n",
    "\n",
    "driver.find_element_by_css_selector('#SearchButton').click() # .send_keys(\"\\n\")\n",
    "\n",
    "most_recent_waste_data = PATH_TO_DOWNLOADS + \"/CountywideSummary.xlsx\"\n",
    "print(\"Downloading data for county: {}\".format(county_element.text))\n",
    "\n",
    "seconds_waited = 0\n",
    "\n",
    "while not os.path.exists(most_recent_waste_data):\n",
    "    time.sleep(1)\n",
    "    seconds_waited += 1\n",
    "\n",
    "print(\"Download took {} seconds...\".format(seconds_waited))\n",
    "\n",
    "driver.quit()"
   ]
  },
  {
   "cell_type": "code",
   "execution_count": 10,
   "metadata": {},
   "outputs": [],
   "source": [
    "convert_to_csv(\"/Users/mdong/dataScience/projects-ml/waste-management/calrecycle-data/Calaveras_waste_production.xlsx\")"
   ]
  },
  {
   "cell_type": "code",
   "execution_count": null,
   "metadata": {},
   "outputs": [],
   "source": []
  },
  {
   "cell_type": "code",
   "execution_count": null,
   "metadata": {},
   "outputs": [],
   "source": []
  }
 ],
 "metadata": {
  "kernelspec": {
   "display_name": "Python 3",
   "language": "python",
   "name": "python3"
  },
  "language_info": {
   "codemirror_mode": {
    "name": "ipython",
    "version": 3
   },
   "file_extension": ".py",
   "mimetype": "text/x-python",
   "name": "python",
   "nbconvert_exporter": "python",
   "pygments_lexer": "ipython3",
   "version": "3.7.4"
  }
 },
 "nbformat": 4,
 "nbformat_minor": 2
}
