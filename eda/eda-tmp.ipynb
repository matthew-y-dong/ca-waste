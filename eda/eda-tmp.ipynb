{
 "cells": [
  {
   "cell_type": "code",
   "execution_count": 11,
   "metadata": {},
   "outputs": [],
   "source": [
    "import pandas as pd\n",
    "import numpy as np\n",
    "from getpass import getpass\n",
    "\n",
    "import plotly.express as px\n",
    "import plotly.graph_objects as go\n",
    "import chart_studio\n",
    "import chart_studio.plotly as py\n",
    "\n",
    "username = \"matthew-y-dong\"\n",
    "# api_key = getpass()\n",
    "# chart_studio.tools.set_credentials_file(username=username, api_key=api_key)"
   ]
  },
  {
   "cell_type": "code",
   "execution_count": 2,
   "metadata": {},
   "outputs": [
    {
     "name": "stdout",
     "output_type": "stream",
     "text": [
      "User: Matthew\n",
      "Path to data: /Users/mdong/dataScience/projects-ml/ca-waste/data/\n"
     ]
    }
   ],
   "source": [
    "GOOGLE_DRIVE_BASE_PATH = \"/content/drive/MyDrive/\"\n",
    "user = \"Matthew\"\n",
    "\n",
    "if user == \"Julia\":\n",
    "    DATA_PATH = GOOGLE_DRIVE_BASE_PATH + \"...\" + \"data/\"\n",
    "elif user == \"Matthew\":\n",
    "    DATA_PATH = \"/Users/mdong/dataScience/projects-ml/ca-waste/\" + \"data/\"\n",
    "#     DATA_PATH = GOOGLE_DRIVE_BASE_PATH + \"Sustainability/ER131-Project/\" + \"data/\"\n",
    "elif user == \"Samadi\":\n",
    "    DATA_PATH = GOOGLE_DRIVE_BASE_PATH + \"...\" + \"data/\"\n",
    "elif user == \"Shaye\":\n",
    "    DATA_PATH = GOOGLE_DRIVE_BASE_PATH + \"...\" + \"data/\"\n",
    "    \n",
    "print(\"User: {}\\nPath to data: {}\".format(user, DATA_PATH))"
   ]
  },
  {
   "cell_type": "markdown",
   "metadata": {},
   "source": [
    "## Waste generation"
   ]
  },
  {
   "cell_type": "code",
   "execution_count": 29,
   "metadata": {},
   "outputs": [
    {
     "data": {
      "text/html": [
       "<div>\n",
       "<style scoped>\n",
       "    .dataframe tbody tr th:only-of-type {\n",
       "        vertical-align: middle;\n",
       "    }\n",
       "\n",
       "    .dataframe tbody tr th {\n",
       "        vertical-align: top;\n",
       "    }\n",
       "\n",
       "    .dataframe thead th {\n",
       "        text-align: right;\n",
       "    }\n",
       "</style>\n",
       "<table border=\"1\" class=\"dataframe\">\n",
       "  <thead>\n",
       "    <tr style=\"text-align: right;\">\n",
       "      <th></th>\n",
       "      <th>Year</th>\n",
       "      <th>County</th>\n",
       "      <th>Waste Produced (Tons)</th>\n",
       "    </tr>\n",
       "  </thead>\n",
       "  <tbody>\n",
       "    <tr>\n",
       "      <td>911</td>\n",
       "      <td>2000.0</td>\n",
       "      <td>Alameda</td>\n",
       "      <td>1676429.25</td>\n",
       "    </tr>\n",
       "    <tr>\n",
       "      <td>192</td>\n",
       "      <td>2000.0</td>\n",
       "      <td>Alpine</td>\n",
       "      <td>745.00</td>\n",
       "    </tr>\n",
       "    <tr>\n",
       "      <td>392</td>\n",
       "      <td>2000.0</td>\n",
       "      <td>Amador</td>\n",
       "      <td>41059.90</td>\n",
       "    </tr>\n",
       "    <tr>\n",
       "      <td>1010</td>\n",
       "      <td>2000.0</td>\n",
       "      <td>Butte</td>\n",
       "      <td>203896.87</td>\n",
       "    </tr>\n",
       "    <tr>\n",
       "      <td>332</td>\n",
       "      <td>2000.0</td>\n",
       "      <td>Calaveras</td>\n",
       "      <td>34110.44</td>\n",
       "    </tr>\n",
       "  </tbody>\n",
       "</table>\n",
       "</div>"
      ],
      "text/plain": [
       "        Year     County  Waste Produced (Tons)\n",
       "911   2000.0    Alameda             1676429.25\n",
       "192   2000.0     Alpine                 745.00\n",
       "392   2000.0     Amador               41059.90\n",
       "1010  2000.0      Butte              203896.87\n",
       "332   2000.0  Calaveras               34110.44"
      ]
     },
     "execution_count": 29,
     "metadata": {},
     "output_type": "execute_result"
    }
   ],
   "source": [
    "complete_feature_df = pd.read_csv(DATA_PATH + \"complete_feature_df.csv\")\n",
    "complete_feature_df.sort_values([\"Year\", \"County\"], inplace=True)\n",
    "complete_feature_df = complete_feature_df[[\"Year\", \"County\", \"Waste Produced (Tons)\"]]\n",
    "complete_feature_df.head()"
   ]
  },
  {
   "cell_type": "code",
   "execution_count": 8,
   "metadata": {},
   "outputs": [
    {
     "data": {
      "application/vnd.plotly.v1+json": {
       "config": {
        "plotlyServerURL": "https://plot.ly"
       },
       "data": [
        {
         "hovertemplate": "County=Alameda<br>Year=%{x}<br>Population=%{y}<extra></extra>",
         "legendgroup": "Alameda",
         "line": {
          "color": "#636efa",
          "dash": "solid"
         },
         "mode": "lines",
         "name": "Alameda",
         "showlegend": true,
         "type": "scattergl",
         "x": [
          2000,
          2001,
          2002,
          2003,
          2004,
          2005,
          2006,
          2007,
          2008,
          2009,
          2010,
          2011,
          2012,
          2013,
          2014,
          2015,
          2016,
          2017,
          2018,
          2019
         ],
         "xaxis": "x",
         "y": [
          1443939,
          1457185,
          1467063,
          1467892,
          1466407,
          1462736,
          1462371,
          1470622,
          1484085,
          1497799,
          1510271,
          1526110,
          1545917,
          1569989,
          1590729,
          1613528,
          1632599,
          1646711,
          1655306,
          1664783
         ],
         "yaxis": "y"
        },
        {
         "hovertemplate": "County=Alpine<br>Year=%{x}<br>Population=%{y}<extra></extra>",
         "legendgroup": "Alpine",
         "line": {
          "color": "#EF553B",
          "dash": "solid"
         },
         "mode": "lines",
         "name": "Alpine",
         "showlegend": true,
         "type": "scattergl",
         "x": [
          2000,
          2001,
          2002,
          2003,
          2004,
          2005,
          2006,
          2007,
          2008,
          2009,
          2010,
          2011,
          2012,
          2013,
          2014,
          2015,
          2016,
          2017,
          2018,
          2019
         ],
         "xaxis": "x",
         "y": [
          1208,
          1220,
          1242,
          1248,
          1257,
          1237,
          1232,
          1252,
          1228,
          1194,
          1175,
          1169,
          1166,
          1164,
          1163,
          1162,
          1162,
          1161,
          1159,
          1149
         ],
         "yaxis": "y"
        },
        {
         "hovertemplate": "County=Amador<br>Year=%{x}<br>Population=%{y}<extra></extra>",
         "legendgroup": "Amador",
         "line": {
          "color": "#00cc96",
          "dash": "solid"
         },
         "mode": "lines",
         "name": "Amador",
         "showlegend": true,
         "type": "scattergl",
         "x": [
          2000,
          2001,
          2002,
          2003,
          2004,
          2005,
          2006,
          2007,
          2008,
          2009,
          2010,
          2011,
          2012,
          2013,
          2014,
          2015,
          2016,
          2017,
          2018,
          2019
         ],
         "xaxis": "x",
         "y": [
          35100,
          35495,
          36159,
          36656,
          36961,
          37434,
          37843,
          38025,
          37975,
          37884,
          38091,
          37173,
          36777,
          36267,
          36029,
          36114,
          36055,
          36928,
          37563,
          37820
         ],
         "yaxis": "y"
        },
        {
         "hovertemplate": "County=Butte<br>Year=%{x}<br>Population=%{y}<extra></extra>",
         "legendgroup": "Butte",
         "line": {
          "color": "#ab63fa",
          "dash": "solid"
         },
         "mode": "lines",
         "name": "Butte",
         "showlegend": true,
         "type": "scattergl",
         "x": [
          2000,
          2001,
          2002,
          2003,
          2004,
          2005,
          2006,
          2007,
          2008,
          2009,
          2010,
          2011,
          2012,
          2013,
          2014,
          2015,
          2016,
          2017,
          2018,
          2019
         ],
         "xaxis": "x",
         "y": [
          203171,
          204591,
          206942,
          209389,
          211419,
          212955,
          214690,
          216401,
          217801,
          218887,
          220000,
          220620,
          221340,
          222374,
          222988,
          223940,
          224096,
          225643,
          226374,
          221521
         ],
         "yaxis": "y"
        },
        {
         "hovertemplate": "County=Calaveras<br>Year=%{x}<br>Population=%{y}<extra></extra>",
         "legendgroup": "Calaveras",
         "line": {
          "color": "#FFA15A",
          "dash": "solid"
         },
         "mode": "lines",
         "name": "Calaveras",
         "showlegend": true,
         "type": "scattergl",
         "x": [
          2000,
          2001,
          2002,
          2003,
          2004,
          2005,
          2006,
          2007,
          2008,
          2009,
          2010,
          2011,
          2012,
          2013,
          2014,
          2015,
          2016,
          2017,
          2018,
          2019
         ],
         "xaxis": "x",
         "y": [
          40554,
          41042,
          41773,
          42651,
          43554,
          44348,
          45044,
          45477,
          45670,
          45632,
          45578,
          45540,
          45496,
          45424,
          45358,
          45265,
          45244,
          45170,
          45155,
          45085
         ],
         "yaxis": "y"
        },
        {
         "hovertemplate": "County=Colusa<br>Year=%{x}<br>Population=%{y}<extra></extra>",
         "legendgroup": "Colusa",
         "line": {
          "color": "#19d3f3",
          "dash": "solid"
         },
         "mode": "lines",
         "name": "Colusa",
         "showlegend": true,
         "type": "scattergl",
         "x": [
          2000,
          2001,
          2002,
          2003,
          2004,
          2005,
          2006,
          2007,
          2008,
          2009,
          2010,
          2011,
          2012,
          2013,
          2014,
          2015,
          2016,
          2017,
          2018,
          2019
         ],
         "xaxis": "x",
         "y": [
          18804,
          18974,
          19229,
          19538,
          19933,
          20374,
          20729,
          21006,
          21145,
          21221,
          21419,
          21370,
          21340,
          21480,
          21526,
          21446,
          21670,
          21941,
          22008,
          21990
         ],
         "yaxis": "y"
        },
        {
         "hovertemplate": "County=Contra Costa<br>Year=%{x}<br>Population=%{y}<extra></extra>",
         "legendgroup": "Contra Costa",
         "line": {
          "color": "#FF6692",
          "dash": "solid"
         },
         "mode": "lines",
         "name": "Contra Costa",
         "showlegend": true,
         "type": "scattergl",
         "x": [
          2000,
          2001,
          2002,
          2003,
          2004,
          2005,
          2006,
          2007,
          2008,
          2009,
          2010,
          2011,
          2012,
          2013,
          2014,
          2015,
          2016,
          2017,
          2018,
          2019
         ],
         "xaxis": "x",
         "y": [
          948816,
          962076,
          974657,
          984256,
          993958,
          1001216,
          1007169,
          1015672,
          1027264,
          1038390,
          1049025,
          1060334,
          1072470,
          1086069,
          1098959,
          1113341,
          1128405,
          1138861,
          1145141,
          1150621
         ],
         "yaxis": "y"
        },
        {
         "hovertemplate": "County=Del Norte<br>Year=%{x}<br>Population=%{y}<extra></extra>",
         "legendgroup": "Del Norte",
         "line": {
          "color": "#B6E880",
          "dash": "solid"
         },
         "mode": "lines",
         "name": "Del Norte",
         "showlegend": true,
         "type": "scattergl",
         "x": [
          2000,
          2001,
          2002,
          2003,
          2004,
          2005,
          2006,
          2007,
          2009,
          2010,
          2011,
          2012,
          2013,
          2014,
          2015,
          2016,
          2017,
          2018,
          2019
         ],
         "xaxis": "x",
         "y": [
          27507,
          27434,
          27517,
          27744,
          28029,
          28251,
          28296,
          28378,
          28565,
          28610,
          28359,
          28108,
          27619,
          27160,
          26746,
          26693,
          26852,
          26926,
          27127
         ],
         "yaxis": "y"
        },
        {
         "hovertemplate": "County=El Dorado<br>Year=%{x}<br>Population=%{y}<extra></extra>",
         "legendgroup": "El Dorado",
         "line": {
          "color": "#FF97FF",
          "dash": "solid"
         },
         "mode": "lines",
         "name": "El Dorado",
         "showlegend": true,
         "type": "scattergl",
         "x": [
          2000,
          2001,
          2002,
          2003,
          2004,
          2005,
          2006,
          2007,
          2008,
          2009,
          2010,
          2011,
          2012,
          2013,
          2014,
          2015,
          2016,
          2017,
          2018,
          2019
         ],
         "xaxis": "x",
         "y": [
          156299,
          160079,
          163300,
          166195,
          168984,
          171739,
          174218,
          176226,
          177897,
          179150,
          181058,
          181187,
          180717,
          180599,
          181408,
          182540,
          183684,
          185147,
          188185,
          190018
         ],
         "yaxis": "y"
        },
        {
         "hovertemplate": "County=Fresno<br>Year=%{x}<br>Population=%{y}<extra></extra>",
         "legendgroup": "Fresno",
         "line": {
          "color": "#FECB52",
          "dash": "solid"
         },
         "mode": "lines",
         "name": "Fresno",
         "showlegend": true,
         "type": "scattergl",
         "x": [
          2000,
          2001,
          2002,
          2003,
          2004,
          2005,
          2006,
          2007,
          2008,
          2009,
          2010,
          2011,
          2012,
          2013,
          2014,
          2015,
          2016,
          2017,
          2018,
          2019
         ],
         "xaxis": "x",
         "y": [
          799407,
          808611,
          821809,
          837256,
          853057,
          866058,
          879128,
          893088,
          906521,
          918560,
          930450,
          939226,
          948123,
          956991,
          964929,
          975169,
          984202,
          993773,
          1004260,
          1015195
         ],
         "yaxis": "y"
        },
        {
         "hovertemplate": "County=Glenn<br>Year=%{x}<br>Population=%{y}<extra></extra>",
         "legendgroup": "Glenn",
         "line": {
          "color": "#636efa",
          "dash": "solid"
         },
         "mode": "lines",
         "name": "Glenn",
         "showlegend": true,
         "type": "scattergl",
         "x": [
          2000,
          2001,
          2002,
          2003,
          2004,
          2005,
          2006,
          2007,
          2008,
          2009,
          2010,
          2011,
          2012,
          2013,
          2014,
          2015,
          2016,
          2017,
          2018,
          2019
         ],
         "xaxis": "x",
         "y": [
          26453,
          26584,
          26702,
          26974,
          27210,
          27394,
          27628,
          27872,
          28066,
          28088,
          28122,
          28313,
          28243,
          28135,
          28247,
          28350,
          28188,
          28350,
          28510,
          28695
         ],
         "yaxis": "y"
        },
        {
         "hovertemplate": "County=Humboldt<br>Year=%{x}<br>Population=%{y}<extra></extra>",
         "legendgroup": "Humboldt",
         "line": {
          "color": "#EF553B",
          "dash": "solid"
         },
         "mode": "lines",
         "name": "Humboldt",
         "showlegend": true,
         "type": "scattergl",
         "x": [
          2000,
          2001,
          2002,
          2003,
          2004,
          2005,
          2006,
          2007,
          2008,
          2009,
          2010,
          2011,
          2012,
          2013,
          2014,
          2015,
          2016,
          2017,
          2018,
          2019
         ],
         "xaxis": "x",
         "y": [
          126518,
          127011,
          128052,
          129468,
          130712,
          131467,
          131958,
          132443,
          132931,
          133484,
          134623,
          135704,
          135219,
          134758,
          134462,
          134734,
          134883,
          135567,
          135098,
          133996
         ],
         "yaxis": "y"
        },
        {
         "hovertemplate": "County=Imperial<br>Year=%{x}<br>Population=%{y}<extra></extra>",
         "legendgroup": "Imperial",
         "line": {
          "color": "#00cc96",
          "dash": "solid"
         },
         "mode": "lines",
         "name": "Imperial",
         "showlegend": true,
         "type": "scattergl",
         "x": [
          2000,
          2001,
          2002,
          2003,
          2004,
          2005,
          2006,
          2007,
          2008,
          2009,
          2010,
          2011,
          2012,
          2013,
          2014,
          2015,
          2016,
          2017,
          2018,
          2019
         ],
         "xaxis": "x",
         "y": [
          142361,
          143941,
          145954,
          149041,
          152420,
          155793,
          160088,
          164707,
          168495,
          171670,
          174528,
          176518,
          179106,
          180099,
          181699,
          183867,
          184938,
          186815,
          188273,
          188821
         ],
         "yaxis": "y"
        },
        {
         "hovertemplate": "County=Inyo<br>Year=%{x}<br>Population=%{y}<extra></extra>",
         "legendgroup": "Inyo",
         "line": {
          "color": "#ab63fa",
          "dash": "solid"
         },
         "mode": "lines",
         "name": "Inyo",
         "showlegend": true,
         "type": "scattergl",
         "x": [
          2000,
          2001,
          2002,
          2003,
          2004,
          2005,
          2006,
          2007,
          2008,
          2009,
          2010,
          2011,
          2012,
          2013,
          2014,
          2015,
          2016,
          2017,
          2018,
          2019
         ],
         "xaxis": "x",
         "y": [
          18071,
          18162,
          18311,
          18461,
          18533,
          18511,
          18442,
          18434,
          18416,
          18416,
          18546,
          18550,
          18543,
          18557,
          18613,
          18564,
          18633,
          18595,
          18579,
          18572
         ],
         "yaxis": "y"
        },
        {
         "hovertemplate": "County=Kern<br>Year=%{x}<br>Population=%{y}<extra></extra>",
         "legendgroup": "Kern",
         "line": {
          "color": "#FFA15A",
          "dash": "solid"
         },
         "mode": "lines",
         "name": "Kern",
         "showlegend": true,
         "type": "scattergl",
         "x": [
          2000,
          2001,
          2002,
          2003,
          2004,
          2005,
          2006,
          2007,
          2008,
          2009,
          2010,
          2011,
          2012,
          2013,
          2014,
          2015,
          2016,
          2017,
          2018,
          2019
         ],
         "xaxis": "x",
         "y": [
          661653,
          672004,
          688063,
          707111,
          728872,
          750969,
          774062,
          795982,
          812830,
          825503,
          839631,
          847014,
          855275,
          864605,
          870642,
          878094,
          882825,
          890784,
          899940,
          908405
         ],
         "yaxis": "y"
        },
        {
         "hovertemplate": "County=Kings<br>Year=%{x}<br>Population=%{y}<extra></extra>",
         "legendgroup": "Kings",
         "line": {
          "color": "#19d3f3",
          "dash": "solid"
         },
         "mode": "lines",
         "name": "Kings",
         "showlegend": true,
         "type": "scattergl",
         "x": [
          2000,
          2001,
          2002,
          2003,
          2004,
          2005,
          2006,
          2007,
          2008,
          2009,
          2010,
          2011,
          2012,
          2013,
          2014,
          2015,
          2016,
          2017,
          2018,
          2019
         ],
         "xaxis": "x",
         "y": [
          129461,
          131100,
          133551,
          136710,
          140688,
          143607,
          146045,
          148933,
          151106,
          151816,
          152982,
          151286,
          151411,
          150270,
          149336,
          149292,
          149107,
          148843,
          150977,
          152995
         ],
         "yaxis": "y"
        },
        {
         "hovertemplate": "County=Lake<br>Year=%{x}<br>Population=%{y}<extra></extra>",
         "legendgroup": "Lake",
         "line": {
          "color": "#FF6692",
          "dash": "solid"
         },
         "mode": "lines",
         "name": "Lake",
         "showlegend": true,
         "type": "scattergl",
         "x": [
          2000,
          2001,
          2002,
          2003,
          2004,
          2005,
          2006,
          2007,
          2008,
          2009,
          2010,
          2011,
          2012,
          2013,
          2014,
          2015,
          2016,
          2017,
          2018,
          2019
         ],
         "xaxis": "x",
         "y": [
          58325,
          59260,
          60525,
          61492,
          62307,
          62870,
          63449,
          63890,
          64178,
          64384,
          64665,
          64951,
          64829,
          64759,
          64891,
          64962,
          64580,
          64501,
          64677,
          64268
         ],
         "yaxis": "y"
        },
        {
         "hovertemplate": "County=Lassen<br>Year=%{x}<br>Population=%{y}<extra></extra>",
         "legendgroup": "Lassen",
         "line": {
          "color": "#B6E880",
          "dash": "solid"
         },
         "mode": "lines",
         "name": "Lassen",
         "showlegend": true,
         "type": "scattergl",
         "x": [
          2000,
          2001,
          2002,
          2003,
          2004,
          2005,
          2006,
          2007,
          2008,
          2009,
          2010,
          2011,
          2012,
          2013,
          2014,
          2015,
          2016,
          2017,
          2018,
          2019
         ],
         "xaxis": "x",
         "y": [
          33828,
          33763,
          33628,
          33828,
          34313,
          34552,
          34769,
          35379,
          35437,
          34947,
          34895,
          34641,
          33523,
          32466,
          31411,
          30864,
          30012,
          29786,
          29660,
          29173
         ],
         "yaxis": "y"
        },
        {
         "hovertemplate": "County=Los Angeles<br>Year=%{x}<br>Population=%{y}<extra></extra>",
         "legendgroup": "Los Angeles",
         "line": {
          "color": "#FF97FF",
          "dash": "solid"
         },
         "mode": "lines",
         "name": "Los Angeles",
         "showlegend": true,
         "type": "scattergl",
         "x": [
          2000,
          2001,
          2002,
          2003,
          2004,
          2005,
          2006,
          2007,
          2008,
          2009,
          2010,
          2011,
          2012,
          2013,
          2014,
          2015,
          2016,
          2017,
          2018,
          2019
         ],
         "xaxis": "x",
         "y": [
          9519330,
          9590080,
          9679212,
          9756914,
          9806944,
          9816153,
          9798609,
          9780808,
          9785474,
          9801096,
          9818605,
          9879298,
          9956882,
          10025712,
          10078930,
          10126423,
          10158196,
          10193753,
          10209676,
          10184378
         ],
         "yaxis": "y"
        },
        {
         "hovertemplate": "County=Madera<br>Year=%{x}<br>Population=%{y}<extra></extra>",
         "legendgroup": "Madera",
         "line": {
          "color": "#FECB52",
          "dash": "solid"
         },
         "mode": "lines",
         "name": "Madera",
         "showlegend": true,
         "type": "scattergl",
         "x": [
          2000,
          2001,
          2002,
          2003,
          2004,
          2005,
          2006,
          2007,
          2008,
          2009,
          2010,
          2011,
          2012,
          2013,
          2014,
          2015,
          2016,
          2017,
          2018,
          2019
         ],
         "xaxis": "x",
         "y": [
          123109,
          125359,
          127469,
          130641,
          134645,
          138174,
          141693,
          145163,
          147958,
          149632,
          150865,
          151440,
          151628,
          151396,
          153081,
          154221,
          154441,
          156093,
          157374,
          158216
         ],
         "yaxis": "y"
        },
        {
         "hovertemplate": "County=Marin<br>Year=%{x}<br>Population=%{y}<extra></extra>",
         "legendgroup": "Marin",
         "line": {
          "color": "#636efa",
          "dash": "solid"
         },
         "mode": "lines",
         "name": "Marin",
         "showlegend": true,
         "type": "scattergl",
         "x": [
          2000,
          2001,
          2002,
          2003,
          2004,
          2005,
          2006,
          2007,
          2008,
          2009,
          2010,
          2011,
          2012,
          2013,
          2014,
          2015,
          2016,
          2017,
          2018,
          2019
         ],
         "xaxis": "x",
         "y": [
          247289,
          247590,
          247567,
          247342,
          246990,
          246688,
          246969,
          248025,
          249546,
          250760,
          252409,
          254428,
          256662,
          258133,
          261001,
          262743,
          263327,
          263018,
          262652,
          262240
         ],
         "yaxis": "y"
        },
        {
         "hovertemplate": "County=Mariposa<br>Year=%{x}<br>Population=%{y}<extra></extra>",
         "legendgroup": "Mariposa",
         "line": {
          "color": "#EF553B",
          "dash": "solid"
         },
         "mode": "lines",
         "name": "Mariposa",
         "showlegend": true,
         "type": "scattergl",
         "x": [
          2000,
          2001,
          2002,
          2003,
          2004,
          2005,
          2006,
          2007,
          2008,
          2009,
          2010,
          2011,
          2012,
          2013,
          2014,
          2015,
          2016,
          2017,
          2018,
          2019
         ],
         "xaxis": "x",
         "y": [
          17130,
          17163,
          17365,
          17612,
          17818,
          17965,
          18150,
          18310,
          18381,
          18334,
          18251,
          18251,
          18249,
          18195,
          18218,
          18172,
          18167,
          18137,
          18128,
          18066
         ],
         "yaxis": "y"
        },
        {
         "hovertemplate": "County=Mendocino<br>Year=%{x}<br>Population=%{y}<extra></extra>",
         "legendgroup": "Mendocino",
         "line": {
          "color": "#00cc96",
          "dash": "solid"
         },
         "mode": "lines",
         "name": "Mendocino",
         "showlegend": true,
         "type": "scattergl",
         "x": [
          2000,
          2001,
          2002,
          2003,
          2004,
          2005,
          2006,
          2007,
          2008,
          2009,
          2010,
          2011,
          2012,
          2013,
          2014,
          2015,
          2016,
          2017,
          2018,
          2019
         ],
         "xaxis": "x",
         "y": [
          86265,
          86825,
          87326,
          87764,
          88130,
          88129,
          87802,
          87617,
          87715,
          87677,
          87841,
          87477,
          87696,
          88210,
          88056,
          88108,
          88484,
          88718,
          88651,
          88388
         ],
         "yaxis": "y"
        },
        {
         "hovertemplate": "County=Merced<br>Year=%{x}<br>Population=%{y}<extra></extra>",
         "legendgroup": "Merced",
         "line": {
          "color": "#ab63fa",
          "dash": "solid"
         },
         "mode": "lines",
         "name": "Merced",
         "showlegend": true,
         "type": "scattergl",
         "x": [
          2000,
          2001,
          2002,
          2003,
          2004,
          2005,
          2006,
          2007,
          2008,
          2009,
          2010,
          2011,
          2012,
          2013,
          2014,
          2015,
          2016,
          2017,
          2018,
          2019
         ],
         "xaxis": "x",
         "y": [
          210554,
          214203,
          220018,
          225946,
          232356,
          238069,
          243072,
          247542,
          250734,
          253026,
          255793,
          259045,
          262329,
          264365,
          265848,
          268244,
          270458,
          273434,
          277543,
          280735
         ],
         "yaxis": "y"
        },
        {
         "hovertemplate": "County=Modoc<br>Year=%{x}<br>Population=%{y}<extra></extra>",
         "legendgroup": "Modoc",
         "line": {
          "color": "#FFA15A",
          "dash": "solid"
         },
         "mode": "lines",
         "name": "Modoc",
         "showlegend": true,
         "type": "scattergl",
         "x": [
          2000,
          2004,
          2009,
          2011,
          2012,
          2013,
          2014,
          2015,
          2016,
          2017,
          2018,
          2019
         ],
         "xaxis": "x",
         "y": [
          9449,
          9556,
          9628,
          9718,
          9659,
          9646,
          9636,
          9622,
          9626,
          9562,
          9612,
          9637
         ],
         "yaxis": "y"
        },
        {
         "hovertemplate": "County=Mono<br>Year=%{x}<br>Population=%{y}<extra></extra>",
         "legendgroup": "Mono",
         "line": {
          "color": "#19d3f3",
          "dash": "solid"
         },
         "mode": "lines",
         "name": "Mono",
         "showlegend": true,
         "type": "scattergl",
         "x": [
          2000,
          2001,
          2002,
          2003,
          2004,
          2005,
          2006,
          2007,
          2008,
          2009,
          2010,
          2011,
          2012,
          2013,
          2014,
          2015,
          2016,
          2017,
          2018,
          2019
         ],
         "xaxis": "x",
         "y": [
          12853,
          13034,
          13298,
          13478,
          13650,
          13763,
          13975,
          14182,
          14143,
          14074,
          14202,
          14328,
          14225,
          13934,
          13806,
          13793,
          13562,
          13605,
          13530,
          13517
         ],
         "yaxis": "y"
        },
        {
         "hovertemplate": "County=Monterey<br>Year=%{x}<br>Population=%{y}<extra></extra>",
         "legendgroup": "Monterey",
         "line": {
          "color": "#FF6692",
          "dash": "solid"
         },
         "mode": "lines",
         "name": "Monterey",
         "showlegend": true,
         "type": "scattergl",
         "x": [
          2000,
          2001,
          2002,
          2003,
          2004,
          2005,
          2006,
          2007,
          2008,
          2009,
          2010,
          2011,
          2012,
          2013,
          2014,
          2015,
          2016,
          2017,
          2018,
          2019
         ],
         "xaxis": "x",
         "y": [
          401762,
          404569,
          407440,
          410276,
          411544,
          409557,
          406935,
          406890,
          409387,
          412233,
          415057,
          417276,
          422621,
          425968,
          427733,
          430310,
          435400,
          438723,
          439193,
          441304
         ],
         "yaxis": "y"
        },
        {
         "hovertemplate": "County=Napa<br>Year=%{x}<br>Population=%{y}<extra></extra>",
         "legendgroup": "Napa",
         "line": {
          "color": "#B6E880",
          "dash": "solid"
         },
         "mode": "lines",
         "name": "Napa",
         "showlegend": true,
         "type": "scattergl",
         "x": [
          2000,
          2001,
          2002,
          2003,
          2004,
          2005,
          2006,
          2007,
          2008,
          2009,
          2010,
          2011,
          2012,
          2013,
          2014,
          2015,
          2016,
          2017,
          2018,
          2019
         ],
         "xaxis": "x",
         "y": [
          124279,
          125396,
          127064,
          128683,
          129814,
          130472,
          131330,
          132537,
          133969,
          135225,
          136484,
          136904,
          138374,
          139005,
          140382,
          141010,
          141607,
          141444,
          140528,
          139970
         ],
         "yaxis": "y"
        },
        {
         "hovertemplate": "County=Nevada<br>Year=%{x}<br>Population=%{y}<extra></extra>",
         "legendgroup": "Nevada",
         "line": {
          "color": "#FF97FF",
          "dash": "solid"
         },
         "mode": "lines",
         "name": "Nevada",
         "showlegend": true,
         "type": "scattergl",
         "x": [
          2000,
          2001,
          2002,
          2003,
          2004,
          2005,
          2006,
          2007,
          2008,
          2009,
          2010,
          2011,
          2012,
          2013,
          2014,
          2015,
          2016,
          2017,
          2018,
          2019
         ],
         "xaxis": "x",
         "y": [
          92033,
          92693,
          94048,
          95277,
          96540,
          97454,
          98068,
          98408,
          98581,
          98558,
          98764,
          98671,
          98090,
          97850,
          97764,
          98162,
          98197,
          97972,
          98196,
          97820
         ],
         "yaxis": "y"
        },
        {
         "hovertemplate": "County=Orange<br>Year=%{x}<br>Population=%{y}<extra></extra>",
         "legendgroup": "Orange",
         "line": {
          "color": "#FECB52",
          "dash": "solid"
         },
         "mode": "lines",
         "name": "Orange",
         "showlegend": true,
         "type": "scattergl",
         "x": [
          2000,
          2001,
          2002,
          2003,
          2004,
          2005,
          2006,
          2007,
          2008,
          2009,
          2010,
          2011,
          2012,
          2013,
          2014,
          2015,
          2016,
          2017,
          2018,
          2019
         ],
         "xaxis": "x",
         "y": [
          2846289,
          2871926,
          2902207,
          2927118,
          2948135,
          2956847,
          2956334,
          2960659,
          2974321,
          2990805,
          3010232,
          3036412,
          3072381,
          3103018,
          3122962,
          3145029,
          3162789,
          3184229,
          3192092,
          3192987
         ],
         "yaxis": "y"
        },
        {
         "hovertemplate": "County=Placer<br>Year=%{x}<br>Population=%{y}<extra></extra>",
         "legendgroup": "Placer",
         "line": {
          "color": "#636efa",
          "dash": "solid"
         },
         "mode": "lines",
         "name": "Placer",
         "showlegend": true,
         "type": "scattergl",
         "x": [
          2000,
          2001,
          2002,
          2003,
          2004,
          2005,
          2006,
          2007,
          2008,
          2009,
          2010,
          2011,
          2012,
          2013,
          2014,
          2015,
          2016,
          2017,
          2018,
          2019
         ],
         "xaxis": "x",
         "y": [
          248399,
          258293,
          270845,
          283703,
          296712,
          307710,
          317437,
          325985,
          333805,
          340995,
          348432,
          354198,
          359648,
          363837,
          368059,
          371264,
          376508,
          383598,
          389387,
          395978
         ],
         "yaxis": "y"
        },
        {
         "hovertemplate": "County=Plumas<br>Year=%{x}<br>Population=%{y}<extra></extra>",
         "legendgroup": "Plumas",
         "line": {
          "color": "#EF553B",
          "dash": "solid"
         },
         "mode": "lines",
         "name": "Plumas",
         "showlegend": true,
         "type": "scattergl",
         "x": [
          2000,
          2001,
          2002,
          2003,
          2004,
          2005,
          2006,
          2007,
          2008,
          2009,
          2010,
          2011,
          2012,
          2013,
          2014,
          2015,
          2016,
          2017,
          2018,
          2019
         ],
         "xaxis": "x",
         "y": [
          20824,
          20681,
          20702,
          20722,
          20824,
          20880,
          20785,
          20654,
          20483,
          20216,
          20007,
          19859,
          19426,
          18915,
          18533,
          18293,
          18127,
          18324,
          18198,
          18242
         ],
         "yaxis": "y"
        },
        {
         "hovertemplate": "County=Riverside<br>Year=%{x}<br>Population=%{y}<extra></extra>",
         "legendgroup": "Riverside",
         "line": {
          "color": "#00cc96",
          "dash": "solid"
         },
         "mode": "lines",
         "name": "Riverside",
         "showlegend": true,
         "type": "scattergl",
         "x": [
          2000,
          2001,
          2002,
          2003,
          2004,
          2005,
          2006,
          2007,
          2008,
          2009,
          2010,
          2011,
          2012,
          2013,
          2014,
          2015,
          2016,
          2017,
          2018,
          2019
         ],
         "xaxis": "x",
         "y": [
          1545387,
          1589708,
          1655291,
          1730219,
          1814485,
          1895695,
          1975913,
          2049902,
          2102741,
          2140626,
          2189641,
          2216250,
          2244472,
          2268660,
          2290907,
          2315706,
          2343785,
          2376580,
          2400762,
          2422146
         ],
         "yaxis": "y"
        },
        {
         "hovertemplate": "County=Sacramento<br>Year=%{x}<br>Population=%{y}<extra></extra>",
         "legendgroup": "Sacramento",
         "line": {
          "color": "#ab63fa",
          "dash": "solid"
         },
         "mode": "lines",
         "name": "Sacramento",
         "showlegend": true,
         "type": "scattergl",
         "x": [
          2000,
          2001,
          2002,
          2003,
          2004,
          2005,
          2006,
          2007,
          2008,
          2009,
          2010,
          2011,
          2012,
          2013,
          2014,
          2015,
          2016,
          2017,
          2018,
          2019
         ],
         "xaxis": "x",
         "y": [
          1223499,
          1248072,
          1279588,
          1307189,
          1331910,
          1350523,
          1365214,
          1380172,
          1394510,
          1406168,
          1418788,
          1430031,
          1442546,
          1453969,
          1466176,
          1481751,
          1496385,
          1512721,
          1527132,
          1541301
         ],
         "yaxis": "y"
        },
        {
         "hovertemplate": "County=San Benito<br>Year=%{x}<br>Population=%{y}<extra></extra>",
         "legendgroup": "San Benito",
         "line": {
          "color": "#FFA15A",
          "dash": "solid"
         },
         "mode": "lines",
         "name": "San Benito",
         "showlegend": true,
         "type": "scattergl",
         "x": [
          2000,
          2001,
          2002,
          2003,
          2004,
          2005,
          2006,
          2007,
          2008,
          2009,
          2010,
          2011,
          2012,
          2013,
          2014,
          2015,
          2016,
          2017,
          2018,
          2019
         ],
         "xaxis": "x",
         "y": [
          53234,
          54165,
          54948,
          55330,
          55374,
          55221,
          55025,
          54948,
          55022,
          55068,
          55269,
          55730,
          56518,
          56978,
          57656,
          58138,
          58740,
          59549,
          60071,
          61513
         ],
         "yaxis": "y"
        },
        {
         "hovertemplate": "County=San Bernardino<br>Year=%{x}<br>Population=%{y}<extra></extra>",
         "legendgroup": "San Bernardino",
         "line": {
          "color": "#19d3f3",
          "dash": "solid"
         },
         "mode": "lines",
         "name": "San Bernardino",
         "showlegend": true,
         "type": "scattergl",
         "x": [
          2000,
          2001,
          2002,
          2003,
          2004,
          2005,
          2006,
          2007,
          2008,
          2009,
          2010,
          2011,
          2012,
          2013,
          2014,
          2015,
          2016,
          2017,
          2018,
          2019
         ],
         "xaxis": "x",
         "y": [
          1710139,
          1741416,
          1782268,
          1825379,
          1875063,
          1921423,
          1959715,
          1989690,
          2009594,
          2019432,
          2035210,
          2055671,
          2071326,
          2084443,
          2094951,
          2112344,
          2123677,
          2141391,
          2152845,
          2168964
         ],
         "yaxis": "y"
        },
        {
         "hovertemplate": "County=San Diego<br>Year=%{x}<br>Population=%{y}<extra></extra>",
         "legendgroup": "San Diego",
         "line": {
          "color": "#FF6692",
          "dash": "solid"
         },
         "mode": "lines",
         "name": "San Diego",
         "showlegend": true,
         "type": "scattergl",
         "x": [
          2000,
          2001,
          2002,
          2003,
          2004,
          2005,
          2006,
          2007,
          2008,
          2009,
          2010,
          2011,
          2012,
          2013,
          2014,
          2015,
          2016,
          2017,
          2018,
          2019
         ],
         "xaxis": "x",
         "y": [
          2813833,
          2849238,
          2890256,
          2927216,
          2953703,
          2966783,
          2976492,
          2998477,
          3032689,
          3064436,
          3095313,
          3125654,
          3161808,
          3199900,
          3232762,
          3265038,
          3285150,
          3306889,
          3326318,
          3340312
         ],
         "yaxis": "y"
        },
        {
         "hovertemplate": "County=San Francisco<br>Year=%{x}<br>Population=%{y}<extra></extra>",
         "legendgroup": "San Francisco",
         "line": {
          "color": "#B6E880",
          "dash": "solid"
         },
         "mode": "lines",
         "name": "San Francisco",
         "showlegend": true,
         "type": "scattergl",
         "x": [
          2000,
          2001,
          2002,
          2003,
          2004,
          2005,
          2006,
          2007,
          2008,
          2009,
          2010,
          2011,
          2012,
          2013,
          2014,
          2015,
          2016,
          2017,
          2018,
          2019
         ],
         "xaxis": "x",
         "y": [
          776733,
          780614,
          782765,
          782599,
          781308,
          780187,
          781295,
          787127,
          795002,
          800239,
          805235,
          817163,
          829289,
          844169,
          852948,
          863623,
          872723,
          880646,
          888575,
          891021
         ],
         "yaxis": "y"
        },
        {
         "hovertemplate": "County=San Joaquin<br>Year=%{x}<br>Population=%{y}<extra></extra>",
         "legendgroup": "San Joaquin",
         "line": {
          "color": "#FF97FF",
          "dash": "solid"
         },
         "mode": "lines",
         "name": "San Joaquin",
         "showlegend": true,
         "type": "scattergl",
         "x": [
          2000,
          2001,
          2002,
          2003,
          2004,
          2005,
          2006,
          2007,
          2008,
          2009,
          2010,
          2011,
          2012,
          2013,
          2014,
          2015,
          2016,
          2017,
          2018,
          2019
         ],
         "xaxis": "x",
         "y": [
          563598,
          578121,
          596039,
          612295,
          629787,
          645059,
          656247,
          665304,
          672492,
          677833,
          685306,
          691982,
          699127,
          704615,
          711119,
          722627,
          734091,
          745481,
          753934,
          765556
         ],
         "yaxis": "y"
        },
        {
         "hovertemplate": "County=San Luis Obispo<br>Year=%{x}<br>Population=%{y}<extra></extra>",
         "legendgroup": "San Luis Obispo",
         "line": {
          "color": "#FECB52",
          "dash": "solid"
         },
         "mode": "lines",
         "name": "San Luis Obispo",
         "showlegend": true,
         "type": "scattergl",
         "x": [
          2000,
          2001,
          2002,
          2003,
          2004,
          2005,
          2006,
          2007,
          2008,
          2009,
          2010,
          2011,
          2012,
          2013,
          2014,
          2015,
          2016,
          2017,
          2018,
          2019
         ],
         "xaxis": "x",
         "y": [
          246681,
          249687,
          252604,
          254583,
          257045,
          259213,
          260873,
          262982,
          265505,
          267537,
          269637,
          270251,
          271933,
          273882,
          276091,
          276880,
          277833,
          278585,
          278597,
          278355
         ],
         "yaxis": "y"
        },
        {
         "hovertemplate": "County=San Mateo<br>Year=%{x}<br>Population=%{y}<extra></extra>",
         "legendgroup": "San Mateo",
         "line": {
          "color": "#636efa",
          "dash": "solid"
         },
         "mode": "lines",
         "name": "San Mateo",
         "showlegend": true,
         "type": "scattergl",
         "x": [
          2000,
          2001,
          2002,
          2003,
          2004,
          2005,
          2006,
          2007,
          2008,
          2009,
          2010,
          2011,
          2012,
          2013,
          2014,
          2015,
          2016,
          2017,
          2018,
          2019
         ],
         "xaxis": "x",
         "y": [
          707163,
          707965,
          706213,
          704014,
          702254,
          700350,
          699347,
          701838,
          707820,
          713818,
          718451,
          726779,
          737002,
          747550,
          754234,
          761748,
          767921,
          770785,
          772984,
          774231
         ],
         "yaxis": "y"
        },
        {
         "hovertemplate": "County=Santa Barbara<br>Year=%{x}<br>Population=%{y}<extra></extra>",
         "legendgroup": "Santa Barbara",
         "line": {
          "color": "#EF553B",
          "dash": "solid"
         },
         "mode": "lines",
         "name": "Santa Barbara",
         "showlegend": true,
         "type": "scattergl",
         "x": [
          2000,
          2001,
          2002,
          2003,
          2004,
          2005,
          2006,
          2007,
          2008,
          2009,
          2010,
          2011,
          2012,
          2013,
          2014,
          2015,
          2016,
          2017,
          2018,
          2019
         ],
         "xaxis": "x",
         "y": [
          399347,
          401667,
          404794,
          407828,
          410357,
          411440,
          412271,
          414750,
          418309,
          421197,
          423895,
          424415,
          428337,
          433078,
          437875,
          441963,
          445592,
          447584,
          449663,
          450839
         ],
         "yaxis": "y"
        },
        {
         "hovertemplate": "County=Santa Clara<br>Year=%{x}<br>Population=%{y}<extra></extra>",
         "legendgroup": "Santa Clara",
         "line": {
          "color": "#00cc96",
          "dash": "solid"
         },
         "mode": "lines",
         "name": "Santa Clara",
         "showlegend": true,
         "type": "scattergl",
         "x": [
          2000,
          2001,
          2002,
          2003,
          2004,
          2005,
          2006,
          2007,
          2008,
          2009,
          2010,
          2011,
          2012,
          2013,
          2014,
          2015,
          2016,
          2017,
          2018,
          2019
         ],
         "xaxis": "x",
         "y": [
          1682585,
          1690366,
          1693230,
          1693752,
          1695602,
          1698234,
          1706676,
          1725066,
          1747912,
          1767204,
          1781642,
          1805695,
          1834926,
          1863975,
          1887079,
          1912180,
          1931565,
          1942176,
          1951088,
          1954833
         ],
         "yaxis": "y"
        },
        {
         "hovertemplate": "County=Santa Cruz<br>Year=%{x}<br>Population=%{y}<extra></extra>",
         "legendgroup": "Santa Cruz",
         "line": {
          "color": "#ab63fa",
          "dash": "solid"
         },
         "mode": "lines",
         "name": "Santa Cruz",
         "showlegend": true,
         "type": "scattergl",
         "x": [
          2000,
          2001,
          2002,
          2003,
          2004,
          2005,
          2006,
          2007,
          2008,
          2009,
          2010,
          2011,
          2012,
          2013,
          2014,
          2015,
          2016,
          2017,
          2018,
          2019
         ],
         "xaxis": "x",
         "y": [
          255602,
          256031,
          255890,
          255368,
          254986,
          254783,
          255107,
          256543,
          258737,
          260892,
          262382,
          264880,
          267332,
          269463,
          271217,
          273793,
          275250,
          275053,
          273945,
          272501
         ],
         "yaxis": "y"
        },
        {
         "hovertemplate": "County=Shasta<br>Year=%{x}<br>Population=%{y}<extra></extra>",
         "legendgroup": "Shasta",
         "line": {
          "color": "#FFA15A",
          "dash": "solid"
         },
         "mode": "lines",
         "name": "Shasta",
         "showlegend": true,
         "type": "scattergl",
         "x": [
          2000,
          2001,
          2002,
          2003,
          2004,
          2005,
          2006,
          2007,
          2008,
          2009,
          2010,
          2011,
          2012,
          2013,
          2014,
          2015,
          2016,
          2017,
          2018,
          2019
         ],
         "xaxis": "x",
         "y": [
          163256,
          165590,
          168304,
          170782,
          172729,
          173862,
          174747,
          175546,
          176240,
          176756,
          177223,
          177850,
          178076,
          178866,
          179136,
          179122,
          177878,
          177913,
          178520,
          177891
         ],
         "yaxis": "y"
        },
        {
         "hovertemplate": "County=Sierra<br>Year=%{x}<br>Population=%{y}<extra></extra>",
         "legendgroup": "Sierra",
         "line": {
          "color": "#19d3f3",
          "dash": "solid"
         },
         "mode": "lines",
         "name": "Sierra",
         "showlegend": true,
         "type": "scattergl",
         "x": [
          2000,
          2001,
          2002,
          2003,
          2004,
          2005,
          2006,
          2007,
          2008,
          2009,
          2010,
          2011,
          2012,
          2013,
          2014,
          2015,
          2016,
          2017,
          2019
         ],
         "xaxis": "x",
         "y": [
          3555,
          3603,
          3576,
          3555,
          3506,
          3449,
          3427,
          3384,
          3314,
          3264,
          3240,
          3241,
          3233,
          3215,
          3204,
          3197,
          3201,
          3212,
          3210
         ],
         "yaxis": "y"
        },
        {
         "hovertemplate": "County=Siskiyou<br>Year=%{x}<br>Population=%{y}<extra></extra>",
         "legendgroup": "Siskiyou",
         "line": {
          "color": "#FF6692",
          "dash": "solid"
         },
         "mode": "lines",
         "name": "Siskiyou",
         "showlegend": true,
         "type": "scattergl",
         "x": [
          2000,
          2001,
          2002,
          2003,
          2004,
          2005,
          2006,
          2007,
          2008,
          2009,
          2010,
          2011,
          2012,
          2013,
          2014,
          2015,
          2016,
          2017,
          2018,
          2019
         ],
         "xaxis": "x",
         "y": [
          44301,
          44331,
          44331,
          44491,
          44691,
          44865,
          44918,
          44877,
          44952,
          44996,
          44900,
          44964,
          44841,
          44825,
          44809,
          44721,
          44704,
          44621,
          44595,
          44592
         ],
         "yaxis": "y"
        },
        {
         "hovertemplate": "County=Solano<br>Year=%{x}<br>Population=%{y}<extra></extra>",
         "legendgroup": "Solano",
         "line": {
          "color": "#B6E880",
          "dash": "solid"
         },
         "mode": "lines",
         "name": "Solano",
         "showlegend": true,
         "type": "scattergl",
         "x": [
          2000,
          2001,
          2002,
          2003,
          2004,
          2005,
          2006,
          2007,
          2008,
          2009,
          2010,
          2011,
          2012,
          2013,
          2014,
          2015,
          2016,
          2017,
          2018,
          2019
         ],
         "xaxis": "x",
         "y": [
          394930,
          399476,
          404895,
          407882,
          410164,
          410985,
          410964,
          411998,
          412908,
          412832,
          413344,
          413664,
          416495,
          419493,
          423383,
          426881,
          430530,
          435546,
          437361,
          438832
         ],
         "yaxis": "y"
        },
        {
         "hovertemplate": "County=Sonoma<br>Year=%{x}<br>Population=%{y}<extra></extra>",
         "legendgroup": "Sonoma",
         "line": {
          "color": "#FF97FF",
          "dash": "solid"
         },
         "mode": "lines",
         "name": "Sonoma",
         "showlegend": true,
         "type": "scattergl",
         "x": [
          2000,
          2001,
          2002,
          2003,
          2004,
          2005,
          2006,
          2007,
          2008,
          2009,
          2010,
          2011,
          2012,
          2013,
          2014,
          2015,
          2016,
          2017,
          2018,
          2019
         ],
         "xaxis": "x",
         "y": [
          458614,
          462958,
          465726,
          467139,
          469103,
          469734,
          469751,
          471479,
          474819,
          478622,
          483878,
          486096,
          488837,
          493122,
          497121,
          500640,
          502602,
          503842,
          501129,
          496947
         ],
         "yaxis": "y"
        },
        {
         "hovertemplate": "County=Stanislaus<br>Year=%{x}<br>Population=%{y}<extra></extra>",
         "legendgroup": "Stanislaus",
         "line": {
          "color": "#FECB52",
          "dash": "solid"
         },
         "mode": "lines",
         "name": "Stanislaus",
         "showlegend": true,
         "type": "scattergl",
         "x": [
          2000,
          2001,
          2002,
          2003,
          2004,
          2005,
          2006,
          2007,
          2008,
          2009,
          2010,
          2011,
          2012,
          2013,
          2014,
          2015,
          2016,
          2017,
          2018,
          2019
         ],
         "xaxis": "x",
         "y": [
          446997,
          456423,
          468340,
          478283,
          486639,
          494144,
          500780,
          505959,
          509389,
          511226,
          514453,
          517831,
          522176,
          525886,
          529094,
          533800,
          539515,
          547357,
          550964,
          554018
         ],
         "yaxis": "y"
        },
        {
         "hovertemplate": "County=Tehama<br>Year=%{x}<br>Population=%{y}<extra></extra>",
         "legendgroup": "Tehama",
         "line": {
          "color": "#636efa",
          "dash": "solid"
         },
         "mode": "lines",
         "name": "Tehama",
         "showlegend": true,
         "type": "scattergl",
         "x": [
          2000,
          2001,
          2002,
          2003,
          2004,
          2005,
          2006,
          2007,
          2008,
          2009,
          2010,
          2011,
          2012,
          2013,
          2014,
          2015,
          2016,
          2017,
          2018,
          2019
         ],
         "xaxis": "x",
         "y": [
          56039,
          56149,
          56873,
          57847,
          58953,
          59976,
          61000,
          61777,
          62365,
          62921,
          63463,
          63300,
          63104,
          63102,
          62856,
          63142,
          63724,
          63973,
          64429,
          64643
         ],
         "yaxis": "y"
        },
        {
         "hovertemplate": "County=Trinity<br>Year=%{x}<br>Population=%{y}<extra></extra>",
         "legendgroup": "Trinity",
         "line": {
          "color": "#EF553B",
          "dash": "solid"
         },
         "mode": "lines",
         "name": "Trinity",
         "showlegend": true,
         "type": "scattergl",
         "x": [
          2000,
          2001,
          2002,
          2003,
          2004,
          2005,
          2006,
          2007,
          2008,
          2009,
          2010,
          2011,
          2012,
          2013,
          2014,
          2015,
          2016,
          2017,
          2018,
          2019
         ],
         "xaxis": "x",
         "y": [
          13022,
          12961,
          13061,
          13273,
          13453,
          13654,
          13806,
          13806,
          13759,
          13750,
          13786,
          13751,
          13740,
          13731,
          13722,
          13678,
          13650,
          13636,
          13639,
          13637
         ],
         "yaxis": "y"
        },
        {
         "hovertemplate": "County=Tulare<br>Year=%{x}<br>Population=%{y}<extra></extra>",
         "legendgroup": "Tulare",
         "line": {
          "color": "#00cc96",
          "dash": "solid"
         },
         "mode": "lines",
         "name": "Tulare",
         "showlegend": true,
         "type": "scattergl",
         "x": [
          2000,
          2001,
          2002,
          2003,
          2004,
          2005,
          2006,
          2007,
          2008,
          2009,
          2010,
          2011,
          2012,
          2013,
          2014,
          2015,
          2016,
          2017,
          2018,
          2019
         ],
         "xaxis": "x",
         "y": [
          368021,
          371479,
          377666,
          385769,
          395127,
          404148,
          412239,
          419842,
          427531,
          434933,
          442179,
          445890,
          451153,
          455525,
          458492,
          461662,
          465544,
          468735,
          472915,
          476588
         ],
         "yaxis": "y"
        },
        {
         "hovertemplate": "County=Tuolumne<br>Year=%{x}<br>Population=%{y}<extra></extra>",
         "legendgroup": "Tuolumne",
         "line": {
          "color": "#ab63fa",
          "dash": "solid"
         },
         "mode": "lines",
         "name": "Tuolumne",
         "showlegend": true,
         "type": "scattergl",
         "x": [
          2000,
          2001,
          2002,
          2003,
          2004,
          2005,
          2006,
          2007,
          2008,
          2009,
          2010,
          2011,
          2012,
          2013,
          2014,
          2015,
          2016,
          2017,
          2018,
          2019
         ],
         "xaxis": "x",
         "y": [
          54504,
          54957,
          55619,
          56177,
          56407,
          56411,
          56506,
          56347,
          56098,
          55661,
          55365,
          55259,
          54991,
          54938,
          55082,
          54662,
          54947,
          54715,
          54733,
          54532
         ],
         "yaxis": "y"
        },
        {
         "hovertemplate": "County=Ventura<br>Year=%{x}<br>Population=%{y}<extra></extra>",
         "legendgroup": "Ventura",
         "line": {
          "color": "#FFA15A",
          "dash": "solid"
         },
         "mode": "lines",
         "name": "Ventura",
         "showlegend": true,
         "type": "scattergl",
         "x": [
          2000,
          2001,
          2002,
          2003,
          2004,
          2005,
          2006,
          2007,
          2008,
          2009,
          2010,
          2011,
          2012,
          2013,
          2014,
          2015,
          2016,
          2017,
          2018,
          2019
         ],
         "xaxis": "x",
         "y": [
          753197,
          762944,
          774438,
          784632,
          792213,
          795962,
          799049,
          803572,
          808970,
          815284,
          823318,
          829790,
          834960,
          840637,
          845279,
          848532,
          849831,
          849057,
          849324,
          846050
         ],
         "yaxis": "y"
        },
        {
         "hovertemplate": "County=Yolo<br>Year=%{x}<br>Population=%{y}<extra></extra>",
         "legendgroup": "Yolo",
         "line": {
          "color": "#19d3f3",
          "dash": "solid"
         },
         "mode": "lines",
         "name": "Yolo",
         "showlegend": true,
         "type": "scattergl",
         "x": [
          2000,
          2001,
          2002,
          2003,
          2004,
          2005,
          2006,
          2007,
          2008,
          2009,
          2010,
          2011,
          2012,
          2013,
          2014,
          2015,
          2016,
          2017,
          2018,
          2019
         ],
         "xaxis": "x",
         "y": [
          168660,
          172450,
          177180,
          180798,
          184015,
          186530,
          189078,
          192826,
          196219,
          198642,
          200849,
          202778,
          204987,
          207801,
          208637,
          210801,
          215016,
          218039,
          219990,
          220896
         ],
         "yaxis": "y"
        },
        {
         "hovertemplate": "County=Yuba<br>Year=%{x}<br>Population=%{y}<extra></extra>",
         "legendgroup": "Yuba",
         "line": {
          "color": "#FF6692",
          "dash": "solid"
         },
         "mode": "lines",
         "name": "Yuba",
         "showlegend": true,
         "type": "scattergl",
         "x": [
          2000,
          2001,
          2002,
          2003,
          2004,
          2005,
          2006,
          2007,
          2008,
          2009,
          2010,
          2011,
          2012,
          2013,
          2014,
          2015,
          2016,
          2017,
          2018,
          2019
         ],
         "xaxis": "x",
         "y": [
          60219,
          60879,
          62080,
          63349,
          64604,
          66478,
          68464,
          69719,
          70820,
          71609,
          72155,
          72619,
          73029,
          73371,
          73742,
          74093,
          74720,
          75971,
          76733,
          77342
         ],
         "yaxis": "y"
        }
       ],
       "layout": {
        "legend": {
         "title": {
          "text": "County"
         },
         "tracegroupgap": 0
        },
        "margin": {
         "t": 60
        },
        "template": {
         "data": {
          "bar": [
           {
            "error_x": {
             "color": "#2a3f5f"
            },
            "error_y": {
             "color": "#2a3f5f"
            },
            "marker": {
             "line": {
              "color": "#E5ECF6",
              "width": 0.5
             }
            },
            "type": "bar"
           }
          ],
          "barpolar": [
           {
            "marker": {
             "line": {
              "color": "#E5ECF6",
              "width": 0.5
             }
            },
            "type": "barpolar"
           }
          ],
          "carpet": [
           {
            "aaxis": {
             "endlinecolor": "#2a3f5f",
             "gridcolor": "white",
             "linecolor": "white",
             "minorgridcolor": "white",
             "startlinecolor": "#2a3f5f"
            },
            "baxis": {
             "endlinecolor": "#2a3f5f",
             "gridcolor": "white",
             "linecolor": "white",
             "minorgridcolor": "white",
             "startlinecolor": "#2a3f5f"
            },
            "type": "carpet"
           }
          ],
          "choropleth": [
           {
            "colorbar": {
             "outlinewidth": 0,
             "ticks": ""
            },
            "type": "choropleth"
           }
          ],
          "contour": [
           {
            "colorbar": {
             "outlinewidth": 0,
             "ticks": ""
            },
            "colorscale": [
             [
              0,
              "#0d0887"
             ],
             [
              0.1111111111111111,
              "#46039f"
             ],
             [
              0.2222222222222222,
              "#7201a8"
             ],
             [
              0.3333333333333333,
              "#9c179e"
             ],
             [
              0.4444444444444444,
              "#bd3786"
             ],
             [
              0.5555555555555556,
              "#d8576b"
             ],
             [
              0.6666666666666666,
              "#ed7953"
             ],
             [
              0.7777777777777778,
              "#fb9f3a"
             ],
             [
              0.8888888888888888,
              "#fdca26"
             ],
             [
              1,
              "#f0f921"
             ]
            ],
            "type": "contour"
           }
          ],
          "contourcarpet": [
           {
            "colorbar": {
             "outlinewidth": 0,
             "ticks": ""
            },
            "type": "contourcarpet"
           }
          ],
          "heatmap": [
           {
            "colorbar": {
             "outlinewidth": 0,
             "ticks": ""
            },
            "colorscale": [
             [
              0,
              "#0d0887"
             ],
             [
              0.1111111111111111,
              "#46039f"
             ],
             [
              0.2222222222222222,
              "#7201a8"
             ],
             [
              0.3333333333333333,
              "#9c179e"
             ],
             [
              0.4444444444444444,
              "#bd3786"
             ],
             [
              0.5555555555555556,
              "#d8576b"
             ],
             [
              0.6666666666666666,
              "#ed7953"
             ],
             [
              0.7777777777777778,
              "#fb9f3a"
             ],
             [
              0.8888888888888888,
              "#fdca26"
             ],
             [
              1,
              "#f0f921"
             ]
            ],
            "type": "heatmap"
           }
          ],
          "heatmapgl": [
           {
            "colorbar": {
             "outlinewidth": 0,
             "ticks": ""
            },
            "colorscale": [
             [
              0,
              "#0d0887"
             ],
             [
              0.1111111111111111,
              "#46039f"
             ],
             [
              0.2222222222222222,
              "#7201a8"
             ],
             [
              0.3333333333333333,
              "#9c179e"
             ],
             [
              0.4444444444444444,
              "#bd3786"
             ],
             [
              0.5555555555555556,
              "#d8576b"
             ],
             [
              0.6666666666666666,
              "#ed7953"
             ],
             [
              0.7777777777777778,
              "#fb9f3a"
             ],
             [
              0.8888888888888888,
              "#fdca26"
             ],
             [
              1,
              "#f0f921"
             ]
            ],
            "type": "heatmapgl"
           }
          ],
          "histogram": [
           {
            "marker": {
             "colorbar": {
              "outlinewidth": 0,
              "ticks": ""
             }
            },
            "type": "histogram"
           }
          ],
          "histogram2d": [
           {
            "colorbar": {
             "outlinewidth": 0,
             "ticks": ""
            },
            "colorscale": [
             [
              0,
              "#0d0887"
             ],
             [
              0.1111111111111111,
              "#46039f"
             ],
             [
              0.2222222222222222,
              "#7201a8"
             ],
             [
              0.3333333333333333,
              "#9c179e"
             ],
             [
              0.4444444444444444,
              "#bd3786"
             ],
             [
              0.5555555555555556,
              "#d8576b"
             ],
             [
              0.6666666666666666,
              "#ed7953"
             ],
             [
              0.7777777777777778,
              "#fb9f3a"
             ],
             [
              0.8888888888888888,
              "#fdca26"
             ],
             [
              1,
              "#f0f921"
             ]
            ],
            "type": "histogram2d"
           }
          ],
          "histogram2dcontour": [
           {
            "colorbar": {
             "outlinewidth": 0,
             "ticks": ""
            },
            "colorscale": [
             [
              0,
              "#0d0887"
             ],
             [
              0.1111111111111111,
              "#46039f"
             ],
             [
              0.2222222222222222,
              "#7201a8"
             ],
             [
              0.3333333333333333,
              "#9c179e"
             ],
             [
              0.4444444444444444,
              "#bd3786"
             ],
             [
              0.5555555555555556,
              "#d8576b"
             ],
             [
              0.6666666666666666,
              "#ed7953"
             ],
             [
              0.7777777777777778,
              "#fb9f3a"
             ],
             [
              0.8888888888888888,
              "#fdca26"
             ],
             [
              1,
              "#f0f921"
             ]
            ],
            "type": "histogram2dcontour"
           }
          ],
          "mesh3d": [
           {
            "colorbar": {
             "outlinewidth": 0,
             "ticks": ""
            },
            "type": "mesh3d"
           }
          ],
          "parcoords": [
           {
            "line": {
             "colorbar": {
              "outlinewidth": 0,
              "ticks": ""
             }
            },
            "type": "parcoords"
           }
          ],
          "pie": [
           {
            "automargin": true,
            "type": "pie"
           }
          ],
          "scatter": [
           {
            "marker": {
             "colorbar": {
              "outlinewidth": 0,
              "ticks": ""
             }
            },
            "type": "scatter"
           }
          ],
          "scatter3d": [
           {
            "line": {
             "colorbar": {
              "outlinewidth": 0,
              "ticks": ""
             }
            },
            "marker": {
             "colorbar": {
              "outlinewidth": 0,
              "ticks": ""
             }
            },
            "type": "scatter3d"
           }
          ],
          "scattercarpet": [
           {
            "marker": {
             "colorbar": {
              "outlinewidth": 0,
              "ticks": ""
             }
            },
            "type": "scattercarpet"
           }
          ],
          "scattergeo": [
           {
            "marker": {
             "colorbar": {
              "outlinewidth": 0,
              "ticks": ""
             }
            },
            "type": "scattergeo"
           }
          ],
          "scattergl": [
           {
            "marker": {
             "colorbar": {
              "outlinewidth": 0,
              "ticks": ""
             }
            },
            "type": "scattergl"
           }
          ],
          "scattermapbox": [
           {
            "marker": {
             "colorbar": {
              "outlinewidth": 0,
              "ticks": ""
             }
            },
            "type": "scattermapbox"
           }
          ],
          "scatterpolar": [
           {
            "marker": {
             "colorbar": {
              "outlinewidth": 0,
              "ticks": ""
             }
            },
            "type": "scatterpolar"
           }
          ],
          "scatterpolargl": [
           {
            "marker": {
             "colorbar": {
              "outlinewidth": 0,
              "ticks": ""
             }
            },
            "type": "scatterpolargl"
           }
          ],
          "scatterternary": [
           {
            "marker": {
             "colorbar": {
              "outlinewidth": 0,
              "ticks": ""
             }
            },
            "type": "scatterternary"
           }
          ],
          "surface": [
           {
            "colorbar": {
             "outlinewidth": 0,
             "ticks": ""
            },
            "colorscale": [
             [
              0,
              "#0d0887"
             ],
             [
              0.1111111111111111,
              "#46039f"
             ],
             [
              0.2222222222222222,
              "#7201a8"
             ],
             [
              0.3333333333333333,
              "#9c179e"
             ],
             [
              0.4444444444444444,
              "#bd3786"
             ],
             [
              0.5555555555555556,
              "#d8576b"
             ],
             [
              0.6666666666666666,
              "#ed7953"
             ],
             [
              0.7777777777777778,
              "#fb9f3a"
             ],
             [
              0.8888888888888888,
              "#fdca26"
             ],
             [
              1,
              "#f0f921"
             ]
            ],
            "type": "surface"
           }
          ],
          "table": [
           {
            "cells": {
             "fill": {
              "color": "#EBF0F8"
             },
             "line": {
              "color": "white"
             }
            },
            "header": {
             "fill": {
              "color": "#C8D4E3"
             },
             "line": {
              "color": "white"
             }
            },
            "type": "table"
           }
          ]
         },
         "layout": {
          "annotationdefaults": {
           "arrowcolor": "#2a3f5f",
           "arrowhead": 0,
           "arrowwidth": 1
          },
          "coloraxis": {
           "colorbar": {
            "outlinewidth": 0,
            "ticks": ""
           }
          },
          "colorscale": {
           "diverging": [
            [
             0,
             "#8e0152"
            ],
            [
             0.1,
             "#c51b7d"
            ],
            [
             0.2,
             "#de77ae"
            ],
            [
             0.3,
             "#f1b6da"
            ],
            [
             0.4,
             "#fde0ef"
            ],
            [
             0.5,
             "#f7f7f7"
            ],
            [
             0.6,
             "#e6f5d0"
            ],
            [
             0.7,
             "#b8e186"
            ],
            [
             0.8,
             "#7fbc41"
            ],
            [
             0.9,
             "#4d9221"
            ],
            [
             1,
             "#276419"
            ]
           ],
           "sequential": [
            [
             0,
             "#0d0887"
            ],
            [
             0.1111111111111111,
             "#46039f"
            ],
            [
             0.2222222222222222,
             "#7201a8"
            ],
            [
             0.3333333333333333,
             "#9c179e"
            ],
            [
             0.4444444444444444,
             "#bd3786"
            ],
            [
             0.5555555555555556,
             "#d8576b"
            ],
            [
             0.6666666666666666,
             "#ed7953"
            ],
            [
             0.7777777777777778,
             "#fb9f3a"
            ],
            [
             0.8888888888888888,
             "#fdca26"
            ],
            [
             1,
             "#f0f921"
            ]
           ],
           "sequentialminus": [
            [
             0,
             "#0d0887"
            ],
            [
             0.1111111111111111,
             "#46039f"
            ],
            [
             0.2222222222222222,
             "#7201a8"
            ],
            [
             0.3333333333333333,
             "#9c179e"
            ],
            [
             0.4444444444444444,
             "#bd3786"
            ],
            [
             0.5555555555555556,
             "#d8576b"
            ],
            [
             0.6666666666666666,
             "#ed7953"
            ],
            [
             0.7777777777777778,
             "#fb9f3a"
            ],
            [
             0.8888888888888888,
             "#fdca26"
            ],
            [
             1,
             "#f0f921"
            ]
           ]
          },
          "colorway": [
           "#636efa",
           "#EF553B",
           "#00cc96",
           "#ab63fa",
           "#FFA15A",
           "#19d3f3",
           "#FF6692",
           "#B6E880",
           "#FF97FF",
           "#FECB52"
          ],
          "font": {
           "color": "#2a3f5f"
          },
          "geo": {
           "bgcolor": "white",
           "lakecolor": "white",
           "landcolor": "#E5ECF6",
           "showlakes": true,
           "showland": true,
           "subunitcolor": "white"
          },
          "hoverlabel": {
           "align": "left"
          },
          "hovermode": "closest",
          "mapbox": {
           "style": "light"
          },
          "paper_bgcolor": "white",
          "plot_bgcolor": "#E5ECF6",
          "polar": {
           "angularaxis": {
            "gridcolor": "white",
            "linecolor": "white",
            "ticks": ""
           },
           "bgcolor": "#E5ECF6",
           "radialaxis": {
            "gridcolor": "white",
            "linecolor": "white",
            "ticks": ""
           }
          },
          "scene": {
           "xaxis": {
            "backgroundcolor": "#E5ECF6",
            "gridcolor": "white",
            "gridwidth": 2,
            "linecolor": "white",
            "showbackground": true,
            "ticks": "",
            "zerolinecolor": "white"
           },
           "yaxis": {
            "backgroundcolor": "#E5ECF6",
            "gridcolor": "white",
            "gridwidth": 2,
            "linecolor": "white",
            "showbackground": true,
            "ticks": "",
            "zerolinecolor": "white"
           },
           "zaxis": {
            "backgroundcolor": "#E5ECF6",
            "gridcolor": "white",
            "gridwidth": 2,
            "linecolor": "white",
            "showbackground": true,
            "ticks": "",
            "zerolinecolor": "white"
           }
          },
          "shapedefaults": {
           "line": {
            "color": "#2a3f5f"
           }
          },
          "ternary": {
           "aaxis": {
            "gridcolor": "white",
            "linecolor": "white",
            "ticks": ""
           },
           "baxis": {
            "gridcolor": "white",
            "linecolor": "white",
            "ticks": ""
           },
           "bgcolor": "#E5ECF6",
           "caxis": {
            "gridcolor": "white",
            "linecolor": "white",
            "ticks": ""
           }
          },
          "title": {
           "x": 0.05
          },
          "xaxis": {
           "automargin": true,
           "gridcolor": "white",
           "linecolor": "white",
           "ticks": "",
           "title": {
            "standoff": 15
           },
           "zerolinecolor": "white",
           "zerolinewidth": 2
          },
          "yaxis": {
           "automargin": true,
           "gridcolor": "white",
           "linecolor": "white",
           "ticks": "",
           "title": {
            "standoff": 15
           },
           "zerolinecolor": "white",
           "zerolinewidth": 2
          }
         }
        },
        "xaxis": {
         "anchor": "y",
         "domain": [
          0,
          1
         ],
         "title": {
          "text": "Year"
         }
        },
        "yaxis": {
         "anchor": "x",
         "domain": [
          0,
          1
         ],
         "title": {
          "text": "Population"
         }
        }
       }
      },
      "text/html": [
       "<div>                            <div id=\"6e0002ae-0c61-4d9d-a6ca-f18d61c3b16e\" class=\"plotly-graph-div\" style=\"height:525px; width:100%;\"></div>            <script type=\"text/javascript\">                require([\"plotly\"], function(Plotly) {                    window.PLOTLYENV=window.PLOTLYENV || {};                                    if (document.getElementById(\"6e0002ae-0c61-4d9d-a6ca-f18d61c3b16e\")) {                    Plotly.newPlot(                        \"6e0002ae-0c61-4d9d-a6ca-f18d61c3b16e\",                        [{\"hovertemplate\": \"County=Alameda<br>Year=%{x}<br>Population=%{y}<extra></extra>\", \"legendgroup\": \"Alameda\", \"line\": {\"color\": \"#636efa\", \"dash\": \"solid\"}, \"mode\": \"lines\", \"name\": \"Alameda\", \"showlegend\": true, \"type\": \"scattergl\", \"x\": [2000.0, 2001.0, 2002.0, 2003.0, 2004.0, 2005.0, 2006.0, 2007.0, 2008.0, 2009.0, 2010.0, 2011.0, 2012.0, 2013.0, 2014.0, 2015.0, 2016.0, 2017.0, 2018.0, 2019.0], \"xaxis\": \"x\", \"y\": [1443939.0, 1457185.0, 1467063.0, 1467892.0, 1466407.0, 1462736.0, 1462371.0, 1470622.0, 1484085.0, 1497799.0, 1510271.0, 1526110.0, 1545917.0, 1569989.0, 1590729.0, 1613528.0, 1632599.0, 1646711.0, 1655306.0, 1664783.0], \"yaxis\": \"y\"}, {\"hovertemplate\": \"County=Alpine<br>Year=%{x}<br>Population=%{y}<extra></extra>\", \"legendgroup\": \"Alpine\", \"line\": {\"color\": \"#EF553B\", \"dash\": \"solid\"}, \"mode\": \"lines\", \"name\": \"Alpine\", \"showlegend\": true, \"type\": \"scattergl\", \"x\": [2000.0, 2001.0, 2002.0, 2003.0, 2004.0, 2005.0, 2006.0, 2007.0, 2008.0, 2009.0, 2010.0, 2011.0, 2012.0, 2013.0, 2014.0, 2015.0, 2016.0, 2017.0, 2018.0, 2019.0], \"xaxis\": \"x\", \"y\": [1208.0, 1220.0, 1242.0, 1248.0, 1257.0, 1237.0, 1232.0, 1252.0, 1228.0, 1194.0, 1175.0, 1169.0, 1166.0, 1164.0, 1163.0, 1162.0, 1162.0, 1161.0, 1159.0, 1149.0], \"yaxis\": \"y\"}, {\"hovertemplate\": \"County=Amador<br>Year=%{x}<br>Population=%{y}<extra></extra>\", \"legendgroup\": \"Amador\", \"line\": {\"color\": \"#00cc96\", \"dash\": \"solid\"}, \"mode\": \"lines\", \"name\": \"Amador\", \"showlegend\": true, \"type\": \"scattergl\", \"x\": [2000.0, 2001.0, 2002.0, 2003.0, 2004.0, 2005.0, 2006.0, 2007.0, 2008.0, 2009.0, 2010.0, 2011.0, 2012.0, 2013.0, 2014.0, 2015.0, 2016.0, 2017.0, 2018.0, 2019.0], \"xaxis\": \"x\", \"y\": [35100.0, 35495.0, 36159.0, 36656.0, 36961.0, 37434.0, 37843.0, 38025.0, 37975.0, 37884.0, 38091.0, 37173.0, 36777.0, 36267.0, 36029.0, 36114.0, 36055.0, 36928.0, 37563.0, 37820.0], \"yaxis\": \"y\"}, {\"hovertemplate\": \"County=Butte<br>Year=%{x}<br>Population=%{y}<extra></extra>\", \"legendgroup\": \"Butte\", \"line\": {\"color\": \"#ab63fa\", \"dash\": \"solid\"}, \"mode\": \"lines\", \"name\": \"Butte\", \"showlegend\": true, \"type\": \"scattergl\", \"x\": [2000.0, 2001.0, 2002.0, 2003.0, 2004.0, 2005.0, 2006.0, 2007.0, 2008.0, 2009.0, 2010.0, 2011.0, 2012.0, 2013.0, 2014.0, 2015.0, 2016.0, 2017.0, 2018.0, 2019.0], \"xaxis\": \"x\", \"y\": [203171.0, 204591.0, 206942.0, 209389.0, 211419.0, 212955.0, 214690.0, 216401.0, 217801.0, 218887.0, 220000.0, 220620.0, 221340.0, 222374.0, 222988.0, 223940.0, 224096.0, 225643.0, 226374.0, 221521.0], \"yaxis\": \"y\"}, {\"hovertemplate\": \"County=Calaveras<br>Year=%{x}<br>Population=%{y}<extra></extra>\", \"legendgroup\": \"Calaveras\", \"line\": {\"color\": \"#FFA15A\", \"dash\": \"solid\"}, \"mode\": \"lines\", \"name\": \"Calaveras\", \"showlegend\": true, \"type\": \"scattergl\", \"x\": [2000.0, 2001.0, 2002.0, 2003.0, 2004.0, 2005.0, 2006.0, 2007.0, 2008.0, 2009.0, 2010.0, 2011.0, 2012.0, 2013.0, 2014.0, 2015.0, 2016.0, 2017.0, 2018.0, 2019.0], \"xaxis\": \"x\", \"y\": [40554.0, 41042.0, 41773.0, 42651.0, 43554.0, 44348.0, 45044.0, 45477.0, 45670.0, 45632.0, 45578.0, 45540.0, 45496.0, 45424.0, 45358.0, 45265.0, 45244.0, 45170.0, 45155.0, 45085.0], \"yaxis\": \"y\"}, {\"hovertemplate\": \"County=Colusa<br>Year=%{x}<br>Population=%{y}<extra></extra>\", \"legendgroup\": \"Colusa\", \"line\": {\"color\": \"#19d3f3\", \"dash\": \"solid\"}, \"mode\": \"lines\", \"name\": \"Colusa\", \"showlegend\": true, \"type\": \"scattergl\", \"x\": [2000.0, 2001.0, 2002.0, 2003.0, 2004.0, 2005.0, 2006.0, 2007.0, 2008.0, 2009.0, 2010.0, 2011.0, 2012.0, 2013.0, 2014.0, 2015.0, 2016.0, 2017.0, 2018.0, 2019.0], \"xaxis\": \"x\", \"y\": [18804.0, 18974.0, 19229.0, 19538.0, 19933.0, 20374.0, 20729.0, 21006.0, 21145.0, 21221.0, 21419.0, 21370.0, 21340.0, 21480.0, 21526.0, 21446.0, 21670.0, 21941.0, 22008.0, 21990.0], \"yaxis\": \"y\"}, {\"hovertemplate\": \"County=Contra Costa<br>Year=%{x}<br>Population=%{y}<extra></extra>\", \"legendgroup\": \"Contra Costa\", \"line\": {\"color\": \"#FF6692\", \"dash\": \"solid\"}, \"mode\": \"lines\", \"name\": \"Contra Costa\", \"showlegend\": true, \"type\": \"scattergl\", \"x\": [2000.0, 2001.0, 2002.0, 2003.0, 2004.0, 2005.0, 2006.0, 2007.0, 2008.0, 2009.0, 2010.0, 2011.0, 2012.0, 2013.0, 2014.0, 2015.0, 2016.0, 2017.0, 2018.0, 2019.0], \"xaxis\": \"x\", \"y\": [948816.0, 962076.0, 974657.0, 984256.0, 993958.0, 1001216.0, 1007169.0, 1015672.0, 1027264.0, 1038390.0, 1049025.0, 1060334.0, 1072470.0, 1086069.0, 1098959.0, 1113341.0, 1128405.0, 1138861.0, 1145141.0, 1150621.0], \"yaxis\": \"y\"}, {\"hovertemplate\": \"County=Del Norte<br>Year=%{x}<br>Population=%{y}<extra></extra>\", \"legendgroup\": \"Del Norte\", \"line\": {\"color\": \"#B6E880\", \"dash\": \"solid\"}, \"mode\": \"lines\", \"name\": \"Del Norte\", \"showlegend\": true, \"type\": \"scattergl\", \"x\": [2000.0, 2001.0, 2002.0, 2003.0, 2004.0, 2005.0, 2006.0, 2007.0, 2009.0, 2010.0, 2011.0, 2012.0, 2013.0, 2014.0, 2015.0, 2016.0, 2017.0, 2018.0, 2019.0], \"xaxis\": \"x\", \"y\": [27507.0, 27434.0, 27517.0, 27744.0, 28029.0, 28251.0, 28296.0, 28378.0, 28565.0, 28610.0, 28359.0, 28108.0, 27619.0, 27160.0, 26746.0, 26693.0, 26852.0, 26926.0, 27127.0], \"yaxis\": \"y\"}, {\"hovertemplate\": \"County=El Dorado<br>Year=%{x}<br>Population=%{y}<extra></extra>\", \"legendgroup\": \"El Dorado\", \"line\": {\"color\": \"#FF97FF\", \"dash\": \"solid\"}, \"mode\": \"lines\", \"name\": \"El Dorado\", \"showlegend\": true, \"type\": \"scattergl\", \"x\": [2000.0, 2001.0, 2002.0, 2003.0, 2004.0, 2005.0, 2006.0, 2007.0, 2008.0, 2009.0, 2010.0, 2011.0, 2012.0, 2013.0, 2014.0, 2015.0, 2016.0, 2017.0, 2018.0, 2019.0], \"xaxis\": \"x\", \"y\": [156299.0, 160079.0, 163300.0, 166195.0, 168984.0, 171739.0, 174218.0, 176226.0, 177897.0, 179150.0, 181058.0, 181187.0, 180717.0, 180599.0, 181408.0, 182540.0, 183684.0, 185147.0, 188185.0, 190018.0], \"yaxis\": \"y\"}, {\"hovertemplate\": \"County=Fresno<br>Year=%{x}<br>Population=%{y}<extra></extra>\", \"legendgroup\": \"Fresno\", \"line\": {\"color\": \"#FECB52\", \"dash\": \"solid\"}, \"mode\": \"lines\", \"name\": \"Fresno\", \"showlegend\": true, \"type\": \"scattergl\", \"x\": [2000.0, 2001.0, 2002.0, 2003.0, 2004.0, 2005.0, 2006.0, 2007.0, 2008.0, 2009.0, 2010.0, 2011.0, 2012.0, 2013.0, 2014.0, 2015.0, 2016.0, 2017.0, 2018.0, 2019.0], \"xaxis\": \"x\", \"y\": [799407.0, 808611.0, 821809.0, 837256.0, 853057.0, 866058.0, 879128.0, 893088.0, 906521.0, 918560.0, 930450.0, 939226.0, 948123.0, 956991.0, 964929.0, 975169.0, 984202.0, 993773.0, 1004260.0, 1015195.0], \"yaxis\": \"y\"}, {\"hovertemplate\": \"County=Glenn<br>Year=%{x}<br>Population=%{y}<extra></extra>\", \"legendgroup\": \"Glenn\", \"line\": {\"color\": \"#636efa\", \"dash\": \"solid\"}, \"mode\": \"lines\", \"name\": \"Glenn\", \"showlegend\": true, \"type\": \"scattergl\", \"x\": [2000.0, 2001.0, 2002.0, 2003.0, 2004.0, 2005.0, 2006.0, 2007.0, 2008.0, 2009.0, 2010.0, 2011.0, 2012.0, 2013.0, 2014.0, 2015.0, 2016.0, 2017.0, 2018.0, 2019.0], \"xaxis\": \"x\", \"y\": [26453.0, 26584.0, 26702.0, 26974.0, 27210.0, 27394.0, 27628.0, 27872.0, 28066.0, 28088.0, 28122.0, 28313.0, 28243.0, 28135.0, 28247.0, 28350.0, 28188.0, 28350.0, 28510.0, 28695.0], \"yaxis\": \"y\"}, {\"hovertemplate\": \"County=Humboldt<br>Year=%{x}<br>Population=%{y}<extra></extra>\", \"legendgroup\": \"Humboldt\", \"line\": {\"color\": \"#EF553B\", \"dash\": \"solid\"}, \"mode\": \"lines\", \"name\": \"Humboldt\", \"showlegend\": true, \"type\": \"scattergl\", \"x\": [2000.0, 2001.0, 2002.0, 2003.0, 2004.0, 2005.0, 2006.0, 2007.0, 2008.0, 2009.0, 2010.0, 2011.0, 2012.0, 2013.0, 2014.0, 2015.0, 2016.0, 2017.0, 2018.0, 2019.0], \"xaxis\": \"x\", \"y\": [126518.0, 127011.0, 128052.0, 129468.0, 130712.0, 131467.0, 131958.0, 132443.0, 132931.0, 133484.0, 134623.0, 135704.0, 135219.0, 134758.0, 134462.0, 134734.0, 134883.0, 135567.0, 135098.0, 133996.0], \"yaxis\": \"y\"}, {\"hovertemplate\": \"County=Imperial<br>Year=%{x}<br>Population=%{y}<extra></extra>\", \"legendgroup\": \"Imperial\", \"line\": {\"color\": \"#00cc96\", \"dash\": \"solid\"}, \"mode\": \"lines\", \"name\": \"Imperial\", \"showlegend\": true, \"type\": \"scattergl\", \"x\": [2000.0, 2001.0, 2002.0, 2003.0, 2004.0, 2005.0, 2006.0, 2007.0, 2008.0, 2009.0, 2010.0, 2011.0, 2012.0, 2013.0, 2014.0, 2015.0, 2016.0, 2017.0, 2018.0, 2019.0], \"xaxis\": \"x\", \"y\": [142361.0, 143941.0, 145954.0, 149041.0, 152420.0, 155793.0, 160088.0, 164707.0, 168495.0, 171670.0, 174528.0, 176518.0, 179106.0, 180099.0, 181699.0, 183867.0, 184938.0, 186815.0, 188273.0, 188821.0], \"yaxis\": \"y\"}, {\"hovertemplate\": \"County=Inyo<br>Year=%{x}<br>Population=%{y}<extra></extra>\", \"legendgroup\": \"Inyo\", \"line\": {\"color\": \"#ab63fa\", \"dash\": \"solid\"}, \"mode\": \"lines\", \"name\": \"Inyo\", \"showlegend\": true, \"type\": \"scattergl\", \"x\": [2000.0, 2001.0, 2002.0, 2003.0, 2004.0, 2005.0, 2006.0, 2007.0, 2008.0, 2009.0, 2010.0, 2011.0, 2012.0, 2013.0, 2014.0, 2015.0, 2016.0, 2017.0, 2018.0, 2019.0], \"xaxis\": \"x\", \"y\": [18071.0, 18162.0, 18311.0, 18461.0, 18533.0, 18511.0, 18442.0, 18434.0, 18416.0, 18416.0, 18546.0, 18550.0, 18543.0, 18557.0, 18613.0, 18564.0, 18633.0, 18595.0, 18579.0, 18572.0], \"yaxis\": \"y\"}, {\"hovertemplate\": \"County=Kern<br>Year=%{x}<br>Population=%{y}<extra></extra>\", \"legendgroup\": \"Kern\", \"line\": {\"color\": \"#FFA15A\", \"dash\": \"solid\"}, \"mode\": \"lines\", \"name\": \"Kern\", \"showlegend\": true, \"type\": \"scattergl\", \"x\": [2000.0, 2001.0, 2002.0, 2003.0, 2004.0, 2005.0, 2006.0, 2007.0, 2008.0, 2009.0, 2010.0, 2011.0, 2012.0, 2013.0, 2014.0, 2015.0, 2016.0, 2017.0, 2018.0, 2019.0], \"xaxis\": \"x\", \"y\": [661653.0, 672004.0, 688063.0, 707111.0, 728872.0, 750969.0, 774062.0, 795982.0, 812830.0, 825503.0, 839631.0, 847014.0, 855275.0, 864605.0, 870642.0, 878094.0, 882825.0, 890784.0, 899940.0, 908405.0], \"yaxis\": \"y\"}, {\"hovertemplate\": \"County=Kings<br>Year=%{x}<br>Population=%{y}<extra></extra>\", \"legendgroup\": \"Kings\", \"line\": {\"color\": \"#19d3f3\", \"dash\": \"solid\"}, \"mode\": \"lines\", \"name\": \"Kings\", \"showlegend\": true, \"type\": \"scattergl\", \"x\": [2000.0, 2001.0, 2002.0, 2003.0, 2004.0, 2005.0, 2006.0, 2007.0, 2008.0, 2009.0, 2010.0, 2011.0, 2012.0, 2013.0, 2014.0, 2015.0, 2016.0, 2017.0, 2018.0, 2019.0], \"xaxis\": \"x\", \"y\": [129461.0, 131100.0, 133551.0, 136710.0, 140688.0, 143607.0, 146045.0, 148933.0, 151106.0, 151816.0, 152982.0, 151286.0, 151411.0, 150270.0, 149336.0, 149292.0, 149107.0, 148843.0, 150977.0, 152995.0], \"yaxis\": \"y\"}, {\"hovertemplate\": \"County=Lake<br>Year=%{x}<br>Population=%{y}<extra></extra>\", \"legendgroup\": \"Lake\", \"line\": {\"color\": \"#FF6692\", \"dash\": \"solid\"}, \"mode\": \"lines\", \"name\": \"Lake\", \"showlegend\": true, \"type\": \"scattergl\", \"x\": [2000.0, 2001.0, 2002.0, 2003.0, 2004.0, 2005.0, 2006.0, 2007.0, 2008.0, 2009.0, 2010.0, 2011.0, 2012.0, 2013.0, 2014.0, 2015.0, 2016.0, 2017.0, 2018.0, 2019.0], \"xaxis\": \"x\", \"y\": [58325.0, 59260.0, 60525.0, 61492.0, 62307.0, 62870.0, 63449.0, 63890.0, 64178.0, 64384.0, 64665.0, 64951.0, 64829.0, 64759.0, 64891.0, 64962.0, 64580.0, 64501.0, 64677.0, 64268.0], \"yaxis\": \"y\"}, {\"hovertemplate\": \"County=Lassen<br>Year=%{x}<br>Population=%{y}<extra></extra>\", \"legendgroup\": \"Lassen\", \"line\": {\"color\": \"#B6E880\", \"dash\": \"solid\"}, \"mode\": \"lines\", \"name\": \"Lassen\", \"showlegend\": true, \"type\": \"scattergl\", \"x\": [2000.0, 2001.0, 2002.0, 2003.0, 2004.0, 2005.0, 2006.0, 2007.0, 2008.0, 2009.0, 2010.0, 2011.0, 2012.0, 2013.0, 2014.0, 2015.0, 2016.0, 2017.0, 2018.0, 2019.0], \"xaxis\": \"x\", \"y\": [33828.0, 33763.0, 33628.0, 33828.0, 34313.0, 34552.0, 34769.0, 35379.0, 35437.0, 34947.0, 34895.0, 34641.0, 33523.0, 32466.0, 31411.0, 30864.0, 30012.0, 29786.0, 29660.0, 29173.0], \"yaxis\": \"y\"}, {\"hovertemplate\": \"County=Los Angeles<br>Year=%{x}<br>Population=%{y}<extra></extra>\", \"legendgroup\": \"Los Angeles\", \"line\": {\"color\": \"#FF97FF\", \"dash\": \"solid\"}, \"mode\": \"lines\", \"name\": \"Los Angeles\", \"showlegend\": true, \"type\": \"scattergl\", \"x\": [2000.0, 2001.0, 2002.0, 2003.0, 2004.0, 2005.0, 2006.0, 2007.0, 2008.0, 2009.0, 2010.0, 2011.0, 2012.0, 2013.0, 2014.0, 2015.0, 2016.0, 2017.0, 2018.0, 2019.0], \"xaxis\": \"x\", \"y\": [9519330.0, 9590080.0, 9679212.0, 9756914.0, 9806944.0, 9816153.0, 9798609.0, 9780808.0, 9785474.0, 9801096.0, 9818605.0, 9879298.0, 9956882.0, 10025712.0, 10078930.0, 10126423.0, 10158196.0, 10193753.0, 10209676.0, 10184378.0], \"yaxis\": \"y\"}, {\"hovertemplate\": \"County=Madera<br>Year=%{x}<br>Population=%{y}<extra></extra>\", \"legendgroup\": \"Madera\", \"line\": {\"color\": \"#FECB52\", \"dash\": \"solid\"}, \"mode\": \"lines\", \"name\": \"Madera\", \"showlegend\": true, \"type\": \"scattergl\", \"x\": [2000.0, 2001.0, 2002.0, 2003.0, 2004.0, 2005.0, 2006.0, 2007.0, 2008.0, 2009.0, 2010.0, 2011.0, 2012.0, 2013.0, 2014.0, 2015.0, 2016.0, 2017.0, 2018.0, 2019.0], \"xaxis\": \"x\", \"y\": [123109.0, 125359.0, 127469.0, 130641.0, 134645.0, 138174.0, 141693.0, 145163.0, 147958.0, 149632.0, 150865.0, 151440.0, 151628.0, 151396.0, 153081.0, 154221.0, 154441.0, 156093.0, 157374.0, 158216.0], \"yaxis\": \"y\"}, {\"hovertemplate\": \"County=Marin<br>Year=%{x}<br>Population=%{y}<extra></extra>\", \"legendgroup\": \"Marin\", \"line\": {\"color\": \"#636efa\", \"dash\": \"solid\"}, \"mode\": \"lines\", \"name\": \"Marin\", \"showlegend\": true, \"type\": \"scattergl\", \"x\": [2000.0, 2001.0, 2002.0, 2003.0, 2004.0, 2005.0, 2006.0, 2007.0, 2008.0, 2009.0, 2010.0, 2011.0, 2012.0, 2013.0, 2014.0, 2015.0, 2016.0, 2017.0, 2018.0, 2019.0], \"xaxis\": \"x\", \"y\": [247289.0, 247590.0, 247567.0, 247342.0, 246990.0, 246688.0, 246969.0, 248025.0, 249546.0, 250760.0, 252409.0, 254428.0, 256662.0, 258133.0, 261001.0, 262743.0, 263327.0, 263018.0, 262652.0, 262240.0], \"yaxis\": \"y\"}, {\"hovertemplate\": \"County=Mariposa<br>Year=%{x}<br>Population=%{y}<extra></extra>\", \"legendgroup\": \"Mariposa\", \"line\": {\"color\": \"#EF553B\", \"dash\": \"solid\"}, \"mode\": \"lines\", \"name\": \"Mariposa\", \"showlegend\": true, \"type\": \"scattergl\", \"x\": [2000.0, 2001.0, 2002.0, 2003.0, 2004.0, 2005.0, 2006.0, 2007.0, 2008.0, 2009.0, 2010.0, 2011.0, 2012.0, 2013.0, 2014.0, 2015.0, 2016.0, 2017.0, 2018.0, 2019.0], \"xaxis\": \"x\", \"y\": [17130.0, 17163.0, 17365.0, 17612.0, 17818.0, 17965.0, 18150.0, 18310.0, 18381.0, 18334.0, 18251.0, 18251.0, 18249.0, 18195.0, 18218.0, 18172.0, 18167.0, 18137.0, 18128.0, 18066.0], \"yaxis\": \"y\"}, {\"hovertemplate\": \"County=Mendocino<br>Year=%{x}<br>Population=%{y}<extra></extra>\", \"legendgroup\": \"Mendocino\", \"line\": {\"color\": \"#00cc96\", \"dash\": \"solid\"}, \"mode\": \"lines\", \"name\": \"Mendocino\", \"showlegend\": true, \"type\": \"scattergl\", \"x\": [2000.0, 2001.0, 2002.0, 2003.0, 2004.0, 2005.0, 2006.0, 2007.0, 2008.0, 2009.0, 2010.0, 2011.0, 2012.0, 2013.0, 2014.0, 2015.0, 2016.0, 2017.0, 2018.0, 2019.0], \"xaxis\": \"x\", \"y\": [86265.0, 86825.0, 87326.0, 87764.0, 88130.0, 88129.0, 87802.0, 87617.0, 87715.0, 87677.0, 87841.0, 87477.0, 87696.0, 88210.0, 88056.0, 88108.0, 88484.0, 88718.0, 88651.0, 88388.0], \"yaxis\": \"y\"}, {\"hovertemplate\": \"County=Merced<br>Year=%{x}<br>Population=%{y}<extra></extra>\", \"legendgroup\": \"Merced\", \"line\": {\"color\": \"#ab63fa\", \"dash\": \"solid\"}, \"mode\": \"lines\", \"name\": \"Merced\", \"showlegend\": true, \"type\": \"scattergl\", \"x\": [2000.0, 2001.0, 2002.0, 2003.0, 2004.0, 2005.0, 2006.0, 2007.0, 2008.0, 2009.0, 2010.0, 2011.0, 2012.0, 2013.0, 2014.0, 2015.0, 2016.0, 2017.0, 2018.0, 2019.0], \"xaxis\": \"x\", \"y\": [210554.0, 214203.0, 220018.0, 225946.0, 232356.0, 238069.0, 243072.0, 247542.0, 250734.0, 253026.0, 255793.0, 259045.0, 262329.0, 264365.0, 265848.0, 268244.0, 270458.0, 273434.0, 277543.0, 280735.0], \"yaxis\": \"y\"}, {\"hovertemplate\": \"County=Modoc<br>Year=%{x}<br>Population=%{y}<extra></extra>\", \"legendgroup\": \"Modoc\", \"line\": {\"color\": \"#FFA15A\", \"dash\": \"solid\"}, \"mode\": \"lines\", \"name\": \"Modoc\", \"showlegend\": true, \"type\": \"scattergl\", \"x\": [2000.0, 2004.0, 2009.0, 2011.0, 2012.0, 2013.0, 2014.0, 2015.0, 2016.0, 2017.0, 2018.0, 2019.0], \"xaxis\": \"x\", \"y\": [9449.0, 9556.0, 9628.0, 9718.0, 9659.0, 9646.0, 9636.0, 9622.0, 9626.0, 9562.0, 9612.0, 9637.0], \"yaxis\": \"y\"}, {\"hovertemplate\": \"County=Mono<br>Year=%{x}<br>Population=%{y}<extra></extra>\", \"legendgroup\": \"Mono\", \"line\": {\"color\": \"#19d3f3\", \"dash\": \"solid\"}, \"mode\": \"lines\", \"name\": \"Mono\", \"showlegend\": true, \"type\": \"scattergl\", \"x\": [2000.0, 2001.0, 2002.0, 2003.0, 2004.0, 2005.0, 2006.0, 2007.0, 2008.0, 2009.0, 2010.0, 2011.0, 2012.0, 2013.0, 2014.0, 2015.0, 2016.0, 2017.0, 2018.0, 2019.0], \"xaxis\": \"x\", \"y\": [12853.0, 13034.0, 13298.0, 13478.0, 13650.0, 13763.0, 13975.0, 14182.0, 14143.0, 14074.0, 14202.0, 14328.0, 14225.0, 13934.0, 13806.0, 13793.0, 13562.0, 13605.0, 13530.0, 13517.0], \"yaxis\": \"y\"}, {\"hovertemplate\": \"County=Monterey<br>Year=%{x}<br>Population=%{y}<extra></extra>\", \"legendgroup\": \"Monterey\", \"line\": {\"color\": \"#FF6692\", \"dash\": \"solid\"}, \"mode\": \"lines\", \"name\": \"Monterey\", \"showlegend\": true, \"type\": \"scattergl\", \"x\": [2000.0, 2001.0, 2002.0, 2003.0, 2004.0, 2005.0, 2006.0, 2007.0, 2008.0, 2009.0, 2010.0, 2011.0, 2012.0, 2013.0, 2014.0, 2015.0, 2016.0, 2017.0, 2018.0, 2019.0], \"xaxis\": \"x\", \"y\": [401762.0, 404569.0, 407440.0, 410276.0, 411544.0, 409557.0, 406935.0, 406890.0, 409387.0, 412233.0, 415057.0, 417276.0, 422621.0, 425968.0, 427733.0, 430310.0, 435400.0, 438723.0, 439193.0, 441304.0], \"yaxis\": \"y\"}, {\"hovertemplate\": \"County=Napa<br>Year=%{x}<br>Population=%{y}<extra></extra>\", \"legendgroup\": \"Napa\", \"line\": {\"color\": \"#B6E880\", \"dash\": \"solid\"}, \"mode\": \"lines\", \"name\": \"Napa\", \"showlegend\": true, \"type\": \"scattergl\", \"x\": [2000.0, 2001.0, 2002.0, 2003.0, 2004.0, 2005.0, 2006.0, 2007.0, 2008.0, 2009.0, 2010.0, 2011.0, 2012.0, 2013.0, 2014.0, 2015.0, 2016.0, 2017.0, 2018.0, 2019.0], \"xaxis\": \"x\", \"y\": [124279.0, 125396.0, 127064.0, 128683.0, 129814.0, 130472.0, 131330.0, 132537.0, 133969.0, 135225.0, 136484.0, 136904.0, 138374.0, 139005.0, 140382.0, 141010.0, 141607.0, 141444.0, 140528.0, 139970.0], \"yaxis\": \"y\"}, {\"hovertemplate\": \"County=Nevada<br>Year=%{x}<br>Population=%{y}<extra></extra>\", \"legendgroup\": \"Nevada\", \"line\": {\"color\": \"#FF97FF\", \"dash\": \"solid\"}, \"mode\": \"lines\", \"name\": \"Nevada\", \"showlegend\": true, \"type\": \"scattergl\", \"x\": [2000.0, 2001.0, 2002.0, 2003.0, 2004.0, 2005.0, 2006.0, 2007.0, 2008.0, 2009.0, 2010.0, 2011.0, 2012.0, 2013.0, 2014.0, 2015.0, 2016.0, 2017.0, 2018.0, 2019.0], \"xaxis\": \"x\", \"y\": [92033.0, 92693.0, 94048.0, 95277.0, 96540.0, 97454.0, 98068.0, 98408.0, 98581.0, 98558.0, 98764.0, 98671.0, 98090.0, 97850.0, 97764.0, 98162.0, 98197.0, 97972.0, 98196.0, 97820.0], \"yaxis\": \"y\"}, {\"hovertemplate\": \"County=Orange<br>Year=%{x}<br>Population=%{y}<extra></extra>\", \"legendgroup\": \"Orange\", \"line\": {\"color\": \"#FECB52\", \"dash\": \"solid\"}, \"mode\": \"lines\", \"name\": \"Orange\", \"showlegend\": true, \"type\": \"scattergl\", \"x\": [2000.0, 2001.0, 2002.0, 2003.0, 2004.0, 2005.0, 2006.0, 2007.0, 2008.0, 2009.0, 2010.0, 2011.0, 2012.0, 2013.0, 2014.0, 2015.0, 2016.0, 2017.0, 2018.0, 2019.0], \"xaxis\": \"x\", \"y\": [2846289.0, 2871926.0, 2902207.0, 2927118.0, 2948135.0, 2956847.0, 2956334.0, 2960659.0, 2974321.0, 2990805.0, 3010232.0, 3036412.0, 3072381.0, 3103018.0, 3122962.0, 3145029.0, 3162789.0, 3184229.0, 3192092.0, 3192987.0], \"yaxis\": \"y\"}, {\"hovertemplate\": \"County=Placer<br>Year=%{x}<br>Population=%{y}<extra></extra>\", \"legendgroup\": \"Placer\", \"line\": {\"color\": \"#636efa\", \"dash\": \"solid\"}, \"mode\": \"lines\", \"name\": \"Placer\", \"showlegend\": true, \"type\": \"scattergl\", \"x\": [2000.0, 2001.0, 2002.0, 2003.0, 2004.0, 2005.0, 2006.0, 2007.0, 2008.0, 2009.0, 2010.0, 2011.0, 2012.0, 2013.0, 2014.0, 2015.0, 2016.0, 2017.0, 2018.0, 2019.0], \"xaxis\": \"x\", \"y\": [248399.0, 258293.0, 270845.0, 283703.0, 296712.0, 307710.0, 317437.0, 325985.0, 333805.0, 340995.0, 348432.0, 354198.0, 359648.0, 363837.0, 368059.0, 371264.0, 376508.0, 383598.0, 389387.0, 395978.0], \"yaxis\": \"y\"}, {\"hovertemplate\": \"County=Plumas<br>Year=%{x}<br>Population=%{y}<extra></extra>\", \"legendgroup\": \"Plumas\", \"line\": {\"color\": \"#EF553B\", \"dash\": \"solid\"}, \"mode\": \"lines\", \"name\": \"Plumas\", \"showlegend\": true, \"type\": \"scattergl\", \"x\": [2000.0, 2001.0, 2002.0, 2003.0, 2004.0, 2005.0, 2006.0, 2007.0, 2008.0, 2009.0, 2010.0, 2011.0, 2012.0, 2013.0, 2014.0, 2015.0, 2016.0, 2017.0, 2018.0, 2019.0], \"xaxis\": \"x\", \"y\": [20824.0, 20681.0, 20702.0, 20722.0, 20824.0, 20880.0, 20785.0, 20654.0, 20483.0, 20216.0, 20007.0, 19859.0, 19426.0, 18915.0, 18533.0, 18293.0, 18127.0, 18324.0, 18198.0, 18242.0], \"yaxis\": \"y\"}, {\"hovertemplate\": \"County=Riverside<br>Year=%{x}<br>Population=%{y}<extra></extra>\", \"legendgroup\": \"Riverside\", \"line\": {\"color\": \"#00cc96\", \"dash\": \"solid\"}, \"mode\": \"lines\", \"name\": \"Riverside\", \"showlegend\": true, \"type\": \"scattergl\", \"x\": [2000.0, 2001.0, 2002.0, 2003.0, 2004.0, 2005.0, 2006.0, 2007.0, 2008.0, 2009.0, 2010.0, 2011.0, 2012.0, 2013.0, 2014.0, 2015.0, 2016.0, 2017.0, 2018.0, 2019.0], \"xaxis\": \"x\", \"y\": [1545387.0, 1589708.0, 1655291.0, 1730219.0, 1814485.0, 1895695.0, 1975913.0, 2049902.0, 2102741.0, 2140626.0, 2189641.0, 2216250.0, 2244472.0, 2268660.0, 2290907.0, 2315706.0, 2343785.0, 2376580.0, 2400762.0, 2422146.0], \"yaxis\": \"y\"}, {\"hovertemplate\": \"County=Sacramento<br>Year=%{x}<br>Population=%{y}<extra></extra>\", \"legendgroup\": \"Sacramento\", \"line\": {\"color\": \"#ab63fa\", \"dash\": \"solid\"}, \"mode\": \"lines\", \"name\": \"Sacramento\", \"showlegend\": true, \"type\": \"scattergl\", \"x\": [2000.0, 2001.0, 2002.0, 2003.0, 2004.0, 2005.0, 2006.0, 2007.0, 2008.0, 2009.0, 2010.0, 2011.0, 2012.0, 2013.0, 2014.0, 2015.0, 2016.0, 2017.0, 2018.0, 2019.0], \"xaxis\": \"x\", \"y\": [1223499.0, 1248072.0, 1279588.0, 1307189.0, 1331910.0, 1350523.0, 1365214.0, 1380172.0, 1394510.0, 1406168.0, 1418788.0, 1430031.0, 1442546.0, 1453969.0, 1466176.0, 1481751.0, 1496385.0, 1512721.0, 1527132.0, 1541301.0], \"yaxis\": \"y\"}, {\"hovertemplate\": \"County=San Benito<br>Year=%{x}<br>Population=%{y}<extra></extra>\", \"legendgroup\": \"San Benito\", \"line\": {\"color\": \"#FFA15A\", \"dash\": \"solid\"}, \"mode\": \"lines\", \"name\": \"San Benito\", \"showlegend\": true, \"type\": \"scattergl\", \"x\": [2000.0, 2001.0, 2002.0, 2003.0, 2004.0, 2005.0, 2006.0, 2007.0, 2008.0, 2009.0, 2010.0, 2011.0, 2012.0, 2013.0, 2014.0, 2015.0, 2016.0, 2017.0, 2018.0, 2019.0], \"xaxis\": \"x\", \"y\": [53234.0, 54165.0, 54948.0, 55330.0, 55374.0, 55221.0, 55025.0, 54948.0, 55022.0, 55068.0, 55269.0, 55730.0, 56518.0, 56978.0, 57656.0, 58138.0, 58740.0, 59549.0, 60071.0, 61513.0], \"yaxis\": \"y\"}, {\"hovertemplate\": \"County=San Bernardino<br>Year=%{x}<br>Population=%{y}<extra></extra>\", \"legendgroup\": \"San Bernardino\", \"line\": {\"color\": \"#19d3f3\", \"dash\": \"solid\"}, \"mode\": \"lines\", \"name\": \"San Bernardino\", \"showlegend\": true, \"type\": \"scattergl\", \"x\": [2000.0, 2001.0, 2002.0, 2003.0, 2004.0, 2005.0, 2006.0, 2007.0, 2008.0, 2009.0, 2010.0, 2011.0, 2012.0, 2013.0, 2014.0, 2015.0, 2016.0, 2017.0, 2018.0, 2019.0], \"xaxis\": \"x\", \"y\": [1710139.0, 1741416.0, 1782268.0, 1825379.0, 1875063.0, 1921423.0, 1959715.0, 1989690.0, 2009594.0, 2019432.0, 2035210.0, 2055671.0, 2071326.0, 2084443.0, 2094951.0, 2112344.0, 2123677.0, 2141391.0, 2152845.0, 2168964.0], \"yaxis\": \"y\"}, {\"hovertemplate\": \"County=San Diego<br>Year=%{x}<br>Population=%{y}<extra></extra>\", \"legendgroup\": \"San Diego\", \"line\": {\"color\": \"#FF6692\", \"dash\": \"solid\"}, \"mode\": \"lines\", \"name\": \"San Diego\", \"showlegend\": true, \"type\": \"scattergl\", \"x\": [2000.0, 2001.0, 2002.0, 2003.0, 2004.0, 2005.0, 2006.0, 2007.0, 2008.0, 2009.0, 2010.0, 2011.0, 2012.0, 2013.0, 2014.0, 2015.0, 2016.0, 2017.0, 2018.0, 2019.0], \"xaxis\": \"x\", \"y\": [2813833.0, 2849238.0, 2890256.0, 2927216.0, 2953703.0, 2966783.0, 2976492.0, 2998477.0, 3032689.0, 3064436.0, 3095313.0, 3125654.0, 3161808.0, 3199900.0, 3232762.0, 3265038.0, 3285150.0, 3306889.0, 3326318.0, 3340312.0], \"yaxis\": \"y\"}, {\"hovertemplate\": \"County=San Francisco<br>Year=%{x}<br>Population=%{y}<extra></extra>\", \"legendgroup\": \"San Francisco\", \"line\": {\"color\": \"#B6E880\", \"dash\": \"solid\"}, \"mode\": \"lines\", \"name\": \"San Francisco\", \"showlegend\": true, \"type\": \"scattergl\", \"x\": [2000.0, 2001.0, 2002.0, 2003.0, 2004.0, 2005.0, 2006.0, 2007.0, 2008.0, 2009.0, 2010.0, 2011.0, 2012.0, 2013.0, 2014.0, 2015.0, 2016.0, 2017.0, 2018.0, 2019.0], \"xaxis\": \"x\", \"y\": [776733.0, 780614.0, 782765.0, 782599.0, 781308.0, 780187.0, 781295.0, 787127.0, 795002.0, 800239.0, 805235.0, 817163.0, 829289.0, 844169.0, 852948.0, 863623.0, 872723.0, 880646.0, 888575.0, 891021.0], \"yaxis\": \"y\"}, {\"hovertemplate\": \"County=San Joaquin<br>Year=%{x}<br>Population=%{y}<extra></extra>\", \"legendgroup\": \"San Joaquin\", \"line\": {\"color\": \"#FF97FF\", \"dash\": \"solid\"}, \"mode\": \"lines\", \"name\": \"San Joaquin\", \"showlegend\": true, \"type\": \"scattergl\", \"x\": [2000.0, 2001.0, 2002.0, 2003.0, 2004.0, 2005.0, 2006.0, 2007.0, 2008.0, 2009.0, 2010.0, 2011.0, 2012.0, 2013.0, 2014.0, 2015.0, 2016.0, 2017.0, 2018.0, 2019.0], \"xaxis\": \"x\", \"y\": [563598.0, 578121.0, 596039.0, 612295.0, 629787.0, 645059.0, 656247.0, 665304.0, 672492.0, 677833.0, 685306.0, 691982.0, 699127.0, 704615.0, 711119.0, 722627.0, 734091.0, 745481.0, 753934.0, 765556.0], \"yaxis\": \"y\"}, {\"hovertemplate\": \"County=San Luis Obispo<br>Year=%{x}<br>Population=%{y}<extra></extra>\", \"legendgroup\": \"San Luis Obispo\", \"line\": {\"color\": \"#FECB52\", \"dash\": \"solid\"}, \"mode\": \"lines\", \"name\": \"San Luis Obispo\", \"showlegend\": true, \"type\": \"scattergl\", \"x\": [2000.0, 2001.0, 2002.0, 2003.0, 2004.0, 2005.0, 2006.0, 2007.0, 2008.0, 2009.0, 2010.0, 2011.0, 2012.0, 2013.0, 2014.0, 2015.0, 2016.0, 2017.0, 2018.0, 2019.0], \"xaxis\": \"x\", \"y\": [246681.0, 249687.0, 252604.0, 254583.0, 257045.0, 259213.0, 260873.0, 262982.0, 265505.0, 267537.0, 269637.0, 270251.0, 271933.0, 273882.0, 276091.0, 276880.0, 277833.0, 278585.0, 278597.0, 278355.0], \"yaxis\": \"y\"}, {\"hovertemplate\": \"County=San Mateo<br>Year=%{x}<br>Population=%{y}<extra></extra>\", \"legendgroup\": \"San Mateo\", \"line\": {\"color\": \"#636efa\", \"dash\": \"solid\"}, \"mode\": \"lines\", \"name\": \"San Mateo\", \"showlegend\": true, \"type\": \"scattergl\", \"x\": [2000.0, 2001.0, 2002.0, 2003.0, 2004.0, 2005.0, 2006.0, 2007.0, 2008.0, 2009.0, 2010.0, 2011.0, 2012.0, 2013.0, 2014.0, 2015.0, 2016.0, 2017.0, 2018.0, 2019.0], \"xaxis\": \"x\", \"y\": [707163.0, 707965.0, 706213.0, 704014.0, 702254.0, 700350.0, 699347.0, 701838.0, 707820.0, 713818.0, 718451.0, 726779.0, 737002.0, 747550.0, 754234.0, 761748.0, 767921.0, 770785.0, 772984.0, 774231.0], \"yaxis\": \"y\"}, {\"hovertemplate\": \"County=Santa Barbara<br>Year=%{x}<br>Population=%{y}<extra></extra>\", \"legendgroup\": \"Santa Barbara\", \"line\": {\"color\": \"#EF553B\", \"dash\": \"solid\"}, \"mode\": \"lines\", \"name\": \"Santa Barbara\", \"showlegend\": true, \"type\": \"scattergl\", \"x\": [2000.0, 2001.0, 2002.0, 2003.0, 2004.0, 2005.0, 2006.0, 2007.0, 2008.0, 2009.0, 2010.0, 2011.0, 2012.0, 2013.0, 2014.0, 2015.0, 2016.0, 2017.0, 2018.0, 2019.0], \"xaxis\": \"x\", \"y\": [399347.0, 401667.0, 404794.0, 407828.0, 410357.0, 411440.0, 412271.0, 414750.0, 418309.0, 421197.0, 423895.0, 424415.0, 428337.0, 433078.0, 437875.0, 441963.0, 445592.0, 447584.0, 449663.0, 450839.0], \"yaxis\": \"y\"}, {\"hovertemplate\": \"County=Santa Clara<br>Year=%{x}<br>Population=%{y}<extra></extra>\", \"legendgroup\": \"Santa Clara\", \"line\": {\"color\": \"#00cc96\", \"dash\": \"solid\"}, \"mode\": \"lines\", \"name\": \"Santa Clara\", \"showlegend\": true, \"type\": \"scattergl\", \"x\": [2000.0, 2001.0, 2002.0, 2003.0, 2004.0, 2005.0, 2006.0, 2007.0, 2008.0, 2009.0, 2010.0, 2011.0, 2012.0, 2013.0, 2014.0, 2015.0, 2016.0, 2017.0, 2018.0, 2019.0], \"xaxis\": \"x\", \"y\": [1682585.0, 1690366.0, 1693230.0, 1693752.0, 1695602.0, 1698234.0, 1706676.0, 1725066.0, 1747912.0, 1767204.0, 1781642.0, 1805695.0, 1834926.0, 1863975.0, 1887079.0, 1912180.0, 1931565.0, 1942176.0, 1951088.0, 1954833.0], \"yaxis\": \"y\"}, {\"hovertemplate\": \"County=Santa Cruz<br>Year=%{x}<br>Population=%{y}<extra></extra>\", \"legendgroup\": \"Santa Cruz\", \"line\": {\"color\": \"#ab63fa\", \"dash\": \"solid\"}, \"mode\": \"lines\", \"name\": \"Santa Cruz\", \"showlegend\": true, \"type\": \"scattergl\", \"x\": [2000.0, 2001.0, 2002.0, 2003.0, 2004.0, 2005.0, 2006.0, 2007.0, 2008.0, 2009.0, 2010.0, 2011.0, 2012.0, 2013.0, 2014.0, 2015.0, 2016.0, 2017.0, 2018.0, 2019.0], \"xaxis\": \"x\", \"y\": [255602.0, 256031.0, 255890.0, 255368.0, 254986.0, 254783.0, 255107.0, 256543.0, 258737.0, 260892.0, 262382.0, 264880.0, 267332.0, 269463.0, 271217.0, 273793.0, 275250.0, 275053.0, 273945.0, 272501.0], \"yaxis\": \"y\"}, {\"hovertemplate\": \"County=Shasta<br>Year=%{x}<br>Population=%{y}<extra></extra>\", \"legendgroup\": \"Shasta\", \"line\": {\"color\": \"#FFA15A\", \"dash\": \"solid\"}, \"mode\": \"lines\", \"name\": \"Shasta\", \"showlegend\": true, \"type\": \"scattergl\", \"x\": [2000.0, 2001.0, 2002.0, 2003.0, 2004.0, 2005.0, 2006.0, 2007.0, 2008.0, 2009.0, 2010.0, 2011.0, 2012.0, 2013.0, 2014.0, 2015.0, 2016.0, 2017.0, 2018.0, 2019.0], \"xaxis\": \"x\", \"y\": [163256.0, 165590.0, 168304.0, 170782.0, 172729.0, 173862.0, 174747.0, 175546.0, 176240.0, 176756.0, 177223.0, 177850.0, 178076.0, 178866.0, 179136.0, 179122.0, 177878.0, 177913.0, 178520.0, 177891.0], \"yaxis\": \"y\"}, {\"hovertemplate\": \"County=Sierra<br>Year=%{x}<br>Population=%{y}<extra></extra>\", \"legendgroup\": \"Sierra\", \"line\": {\"color\": \"#19d3f3\", \"dash\": \"solid\"}, \"mode\": \"lines\", \"name\": \"Sierra\", \"showlegend\": true, \"type\": \"scattergl\", \"x\": [2000.0, 2001.0, 2002.0, 2003.0, 2004.0, 2005.0, 2006.0, 2007.0, 2008.0, 2009.0, 2010.0, 2011.0, 2012.0, 2013.0, 2014.0, 2015.0, 2016.0, 2017.0, 2019.0], \"xaxis\": \"x\", \"y\": [3555.0, 3603.0, 3576.0, 3555.0, 3506.0, 3449.0, 3427.0, 3384.0, 3314.0, 3264.0, 3240.0, 3241.0, 3233.0, 3215.0, 3204.0, 3197.0, 3201.0, 3212.0, 3210.0], \"yaxis\": \"y\"}, {\"hovertemplate\": \"County=Siskiyou<br>Year=%{x}<br>Population=%{y}<extra></extra>\", \"legendgroup\": \"Siskiyou\", \"line\": {\"color\": \"#FF6692\", \"dash\": \"solid\"}, \"mode\": \"lines\", \"name\": \"Siskiyou\", \"showlegend\": true, \"type\": \"scattergl\", \"x\": [2000.0, 2001.0, 2002.0, 2003.0, 2004.0, 2005.0, 2006.0, 2007.0, 2008.0, 2009.0, 2010.0, 2011.0, 2012.0, 2013.0, 2014.0, 2015.0, 2016.0, 2017.0, 2018.0, 2019.0], \"xaxis\": \"x\", \"y\": [44301.0, 44331.0, 44331.0, 44491.0, 44691.0, 44865.0, 44918.0, 44877.0, 44952.0, 44996.0, 44900.0, 44964.0, 44841.0, 44825.0, 44809.0, 44721.0, 44704.0, 44621.0, 44595.0, 44592.0], \"yaxis\": \"y\"}, {\"hovertemplate\": \"County=Solano<br>Year=%{x}<br>Population=%{y}<extra></extra>\", \"legendgroup\": \"Solano\", \"line\": {\"color\": \"#B6E880\", \"dash\": \"solid\"}, \"mode\": \"lines\", \"name\": \"Solano\", \"showlegend\": true, \"type\": \"scattergl\", \"x\": [2000.0, 2001.0, 2002.0, 2003.0, 2004.0, 2005.0, 2006.0, 2007.0, 2008.0, 2009.0, 2010.0, 2011.0, 2012.0, 2013.0, 2014.0, 2015.0, 2016.0, 2017.0, 2018.0, 2019.0], \"xaxis\": \"x\", \"y\": [394930.0, 399476.0, 404895.0, 407882.0, 410164.0, 410985.0, 410964.0, 411998.0, 412908.0, 412832.0, 413344.0, 413664.0, 416495.0, 419493.0, 423383.0, 426881.0, 430530.0, 435546.0, 437361.0, 438832.0], \"yaxis\": \"y\"}, {\"hovertemplate\": \"County=Sonoma<br>Year=%{x}<br>Population=%{y}<extra></extra>\", \"legendgroup\": \"Sonoma\", \"line\": {\"color\": \"#FF97FF\", \"dash\": \"solid\"}, \"mode\": \"lines\", \"name\": \"Sonoma\", \"showlegend\": true, \"type\": \"scattergl\", \"x\": [2000.0, 2001.0, 2002.0, 2003.0, 2004.0, 2005.0, 2006.0, 2007.0, 2008.0, 2009.0, 2010.0, 2011.0, 2012.0, 2013.0, 2014.0, 2015.0, 2016.0, 2017.0, 2018.0, 2019.0], \"xaxis\": \"x\", \"y\": [458614.0, 462958.0, 465726.0, 467139.0, 469103.0, 469734.0, 469751.0, 471479.0, 474819.0, 478622.0, 483878.0, 486096.0, 488837.0, 493122.0, 497121.0, 500640.0, 502602.0, 503842.0, 501129.0, 496947.0], \"yaxis\": \"y\"}, {\"hovertemplate\": \"County=Stanislaus<br>Year=%{x}<br>Population=%{y}<extra></extra>\", \"legendgroup\": \"Stanislaus\", \"line\": {\"color\": \"#FECB52\", \"dash\": \"solid\"}, \"mode\": \"lines\", \"name\": \"Stanislaus\", \"showlegend\": true, \"type\": \"scattergl\", \"x\": [2000.0, 2001.0, 2002.0, 2003.0, 2004.0, 2005.0, 2006.0, 2007.0, 2008.0, 2009.0, 2010.0, 2011.0, 2012.0, 2013.0, 2014.0, 2015.0, 2016.0, 2017.0, 2018.0, 2019.0], \"xaxis\": \"x\", \"y\": [446997.0, 456423.0, 468340.0, 478283.0, 486639.0, 494144.0, 500780.0, 505959.0, 509389.0, 511226.0, 514453.0, 517831.0, 522176.0, 525886.0, 529094.0, 533800.0, 539515.0, 547357.0, 550964.0, 554018.0], \"yaxis\": \"y\"}, {\"hovertemplate\": \"County=Tehama<br>Year=%{x}<br>Population=%{y}<extra></extra>\", \"legendgroup\": \"Tehama\", \"line\": {\"color\": \"#636efa\", \"dash\": \"solid\"}, \"mode\": \"lines\", \"name\": \"Tehama\", \"showlegend\": true, \"type\": \"scattergl\", \"x\": [2000.0, 2001.0, 2002.0, 2003.0, 2004.0, 2005.0, 2006.0, 2007.0, 2008.0, 2009.0, 2010.0, 2011.0, 2012.0, 2013.0, 2014.0, 2015.0, 2016.0, 2017.0, 2018.0, 2019.0], \"xaxis\": \"x\", \"y\": [56039.0, 56149.0, 56873.0, 57847.0, 58953.0, 59976.0, 61000.0, 61777.0, 62365.0, 62921.0, 63463.0, 63300.0, 63104.0, 63102.0, 62856.0, 63142.0, 63724.0, 63973.0, 64429.0, 64643.0], \"yaxis\": \"y\"}, {\"hovertemplate\": \"County=Trinity<br>Year=%{x}<br>Population=%{y}<extra></extra>\", \"legendgroup\": \"Trinity\", \"line\": {\"color\": \"#EF553B\", \"dash\": \"solid\"}, \"mode\": \"lines\", \"name\": \"Trinity\", \"showlegend\": true, \"type\": \"scattergl\", \"x\": [2000.0, 2001.0, 2002.0, 2003.0, 2004.0, 2005.0, 2006.0, 2007.0, 2008.0, 2009.0, 2010.0, 2011.0, 2012.0, 2013.0, 2014.0, 2015.0, 2016.0, 2017.0, 2018.0, 2019.0], \"xaxis\": \"x\", \"y\": [13022.0, 12961.0, 13061.0, 13273.0, 13453.0, 13654.0, 13806.0, 13806.0, 13759.0, 13750.0, 13786.0, 13751.0, 13740.0, 13731.0, 13722.0, 13678.0, 13650.0, 13636.0, 13639.0, 13637.0], \"yaxis\": \"y\"}, {\"hovertemplate\": \"County=Tulare<br>Year=%{x}<br>Population=%{y}<extra></extra>\", \"legendgroup\": \"Tulare\", \"line\": {\"color\": \"#00cc96\", \"dash\": \"solid\"}, \"mode\": \"lines\", \"name\": \"Tulare\", \"showlegend\": true, \"type\": \"scattergl\", \"x\": [2000.0, 2001.0, 2002.0, 2003.0, 2004.0, 2005.0, 2006.0, 2007.0, 2008.0, 2009.0, 2010.0, 2011.0, 2012.0, 2013.0, 2014.0, 2015.0, 2016.0, 2017.0, 2018.0, 2019.0], \"xaxis\": \"x\", \"y\": [368021.0, 371479.0, 377666.0, 385769.0, 395127.0, 404148.0, 412239.0, 419842.0, 427531.0, 434933.0, 442179.0, 445890.0, 451153.0, 455525.0, 458492.0, 461662.0, 465544.0, 468735.0, 472915.0, 476588.0], \"yaxis\": \"y\"}, {\"hovertemplate\": \"County=Tuolumne<br>Year=%{x}<br>Population=%{y}<extra></extra>\", \"legendgroup\": \"Tuolumne\", \"line\": {\"color\": \"#ab63fa\", \"dash\": \"solid\"}, \"mode\": \"lines\", \"name\": \"Tuolumne\", \"showlegend\": true, \"type\": \"scattergl\", \"x\": [2000.0, 2001.0, 2002.0, 2003.0, 2004.0, 2005.0, 2006.0, 2007.0, 2008.0, 2009.0, 2010.0, 2011.0, 2012.0, 2013.0, 2014.0, 2015.0, 2016.0, 2017.0, 2018.0, 2019.0], \"xaxis\": \"x\", \"y\": [54504.0, 54957.0, 55619.0, 56177.0, 56407.0, 56411.0, 56506.0, 56347.0, 56098.0, 55661.0, 55365.0, 55259.0, 54991.0, 54938.0, 55082.0, 54662.0, 54947.0, 54715.0, 54733.0, 54532.0], \"yaxis\": \"y\"}, {\"hovertemplate\": \"County=Ventura<br>Year=%{x}<br>Population=%{y}<extra></extra>\", \"legendgroup\": \"Ventura\", \"line\": {\"color\": \"#FFA15A\", \"dash\": \"solid\"}, \"mode\": \"lines\", \"name\": \"Ventura\", \"showlegend\": true, \"type\": \"scattergl\", \"x\": [2000.0, 2001.0, 2002.0, 2003.0, 2004.0, 2005.0, 2006.0, 2007.0, 2008.0, 2009.0, 2010.0, 2011.0, 2012.0, 2013.0, 2014.0, 2015.0, 2016.0, 2017.0, 2018.0, 2019.0], \"xaxis\": \"x\", \"y\": [753197.0, 762944.0, 774438.0, 784632.0, 792213.0, 795962.0, 799049.0, 803572.0, 808970.0, 815284.0, 823318.0, 829790.0, 834960.0, 840637.0, 845279.0, 848532.0, 849831.0, 849057.0, 849324.0, 846050.0], \"yaxis\": \"y\"}, {\"hovertemplate\": \"County=Yolo<br>Year=%{x}<br>Population=%{y}<extra></extra>\", \"legendgroup\": \"Yolo\", \"line\": {\"color\": \"#19d3f3\", \"dash\": \"solid\"}, \"mode\": \"lines\", \"name\": \"Yolo\", \"showlegend\": true, \"type\": \"scattergl\", \"x\": [2000.0, 2001.0, 2002.0, 2003.0, 2004.0, 2005.0, 2006.0, 2007.0, 2008.0, 2009.0, 2010.0, 2011.0, 2012.0, 2013.0, 2014.0, 2015.0, 2016.0, 2017.0, 2018.0, 2019.0], \"xaxis\": \"x\", \"y\": [168660.0, 172450.0, 177180.0, 180798.0, 184015.0, 186530.0, 189078.0, 192826.0, 196219.0, 198642.0, 200849.0, 202778.0, 204987.0, 207801.0, 208637.0, 210801.0, 215016.0, 218039.0, 219990.0, 220896.0], \"yaxis\": \"y\"}, {\"hovertemplate\": \"County=Yuba<br>Year=%{x}<br>Population=%{y}<extra></extra>\", \"legendgroup\": \"Yuba\", \"line\": {\"color\": \"#FF6692\", \"dash\": \"solid\"}, \"mode\": \"lines\", \"name\": \"Yuba\", \"showlegend\": true, \"type\": \"scattergl\", \"x\": [2000.0, 2001.0, 2002.0, 2003.0, 2004.0, 2005.0, 2006.0, 2007.0, 2008.0, 2009.0, 2010.0, 2011.0, 2012.0, 2013.0, 2014.0, 2015.0, 2016.0, 2017.0, 2018.0, 2019.0], \"xaxis\": \"x\", \"y\": [60219.0, 60879.0, 62080.0, 63349.0, 64604.0, 66478.0, 68464.0, 69719.0, 70820.0, 71609.0, 72155.0, 72619.0, 73029.0, 73371.0, 73742.0, 74093.0, 74720.0, 75971.0, 76733.0, 77342.0], \"yaxis\": \"y\"}],                        {\"legend\": {\"title\": {\"text\": \"County\"}, \"tracegroupgap\": 0}, \"margin\": {\"t\": 60}, \"template\": {\"data\": {\"bar\": [{\"error_x\": {\"color\": \"#2a3f5f\"}, \"error_y\": {\"color\": \"#2a3f5f\"}, \"marker\": {\"line\": {\"color\": \"#E5ECF6\", \"width\": 0.5}}, \"type\": \"bar\"}], \"barpolar\": [{\"marker\": {\"line\": {\"color\": \"#E5ECF6\", \"width\": 0.5}}, \"type\": \"barpolar\"}], \"carpet\": [{\"aaxis\": {\"endlinecolor\": \"#2a3f5f\", \"gridcolor\": \"white\", \"linecolor\": \"white\", \"minorgridcolor\": \"white\", \"startlinecolor\": \"#2a3f5f\"}, \"baxis\": {\"endlinecolor\": \"#2a3f5f\", \"gridcolor\": \"white\", \"linecolor\": \"white\", \"minorgridcolor\": \"white\", \"startlinecolor\": \"#2a3f5f\"}, \"type\": \"carpet\"}], \"choropleth\": [{\"colorbar\": {\"outlinewidth\": 0, \"ticks\": \"\"}, \"type\": \"choropleth\"}], \"contour\": [{\"colorbar\": {\"outlinewidth\": 0, \"ticks\": \"\"}, \"colorscale\": [[0.0, \"#0d0887\"], [0.1111111111111111, \"#46039f\"], [0.2222222222222222, \"#7201a8\"], [0.3333333333333333, \"#9c179e\"], [0.4444444444444444, \"#bd3786\"], [0.5555555555555556, \"#d8576b\"], [0.6666666666666666, \"#ed7953\"], [0.7777777777777778, \"#fb9f3a\"], [0.8888888888888888, \"#fdca26\"], [1.0, \"#f0f921\"]], \"type\": \"contour\"}], \"contourcarpet\": [{\"colorbar\": {\"outlinewidth\": 0, \"ticks\": \"\"}, \"type\": \"contourcarpet\"}], \"heatmap\": [{\"colorbar\": {\"outlinewidth\": 0, \"ticks\": \"\"}, \"colorscale\": [[0.0, \"#0d0887\"], [0.1111111111111111, \"#46039f\"], [0.2222222222222222, \"#7201a8\"], [0.3333333333333333, \"#9c179e\"], [0.4444444444444444, \"#bd3786\"], [0.5555555555555556, \"#d8576b\"], [0.6666666666666666, \"#ed7953\"], [0.7777777777777778, \"#fb9f3a\"], [0.8888888888888888, \"#fdca26\"], [1.0, \"#f0f921\"]], \"type\": \"heatmap\"}], \"heatmapgl\": [{\"colorbar\": {\"outlinewidth\": 0, \"ticks\": \"\"}, \"colorscale\": [[0.0, \"#0d0887\"], [0.1111111111111111, \"#46039f\"], [0.2222222222222222, \"#7201a8\"], [0.3333333333333333, \"#9c179e\"], [0.4444444444444444, \"#bd3786\"], [0.5555555555555556, \"#d8576b\"], [0.6666666666666666, \"#ed7953\"], [0.7777777777777778, \"#fb9f3a\"], [0.8888888888888888, \"#fdca26\"], [1.0, \"#f0f921\"]], \"type\": \"heatmapgl\"}], \"histogram\": [{\"marker\": {\"colorbar\": {\"outlinewidth\": 0, \"ticks\": \"\"}}, \"type\": \"histogram\"}], \"histogram2d\": [{\"colorbar\": {\"outlinewidth\": 0, \"ticks\": \"\"}, \"colorscale\": [[0.0, \"#0d0887\"], [0.1111111111111111, \"#46039f\"], [0.2222222222222222, \"#7201a8\"], [0.3333333333333333, \"#9c179e\"], [0.4444444444444444, \"#bd3786\"], [0.5555555555555556, \"#d8576b\"], [0.6666666666666666, \"#ed7953\"], [0.7777777777777778, \"#fb9f3a\"], [0.8888888888888888, \"#fdca26\"], [1.0, \"#f0f921\"]], \"type\": \"histogram2d\"}], \"histogram2dcontour\": [{\"colorbar\": {\"outlinewidth\": 0, \"ticks\": \"\"}, \"colorscale\": [[0.0, \"#0d0887\"], [0.1111111111111111, \"#46039f\"], [0.2222222222222222, \"#7201a8\"], [0.3333333333333333, \"#9c179e\"], [0.4444444444444444, \"#bd3786\"], [0.5555555555555556, \"#d8576b\"], [0.6666666666666666, \"#ed7953\"], [0.7777777777777778, \"#fb9f3a\"], [0.8888888888888888, \"#fdca26\"], [1.0, \"#f0f921\"]], \"type\": \"histogram2dcontour\"}], \"mesh3d\": [{\"colorbar\": {\"outlinewidth\": 0, \"ticks\": \"\"}, \"type\": \"mesh3d\"}], \"parcoords\": [{\"line\": {\"colorbar\": {\"outlinewidth\": 0, \"ticks\": \"\"}}, \"type\": \"parcoords\"}], \"pie\": [{\"automargin\": true, \"type\": \"pie\"}], \"scatter\": [{\"marker\": {\"colorbar\": {\"outlinewidth\": 0, \"ticks\": \"\"}}, \"type\": \"scatter\"}], \"scatter3d\": [{\"line\": {\"colorbar\": {\"outlinewidth\": 0, \"ticks\": \"\"}}, \"marker\": {\"colorbar\": {\"outlinewidth\": 0, \"ticks\": \"\"}}, \"type\": \"scatter3d\"}], \"scattercarpet\": [{\"marker\": {\"colorbar\": {\"outlinewidth\": 0, \"ticks\": \"\"}}, \"type\": \"scattercarpet\"}], \"scattergeo\": [{\"marker\": {\"colorbar\": {\"outlinewidth\": 0, \"ticks\": \"\"}}, \"type\": \"scattergeo\"}], \"scattergl\": [{\"marker\": {\"colorbar\": {\"outlinewidth\": 0, \"ticks\": \"\"}}, \"type\": \"scattergl\"}], \"scattermapbox\": [{\"marker\": {\"colorbar\": {\"outlinewidth\": 0, \"ticks\": \"\"}}, \"type\": \"scattermapbox\"}], \"scatterpolar\": [{\"marker\": {\"colorbar\": {\"outlinewidth\": 0, \"ticks\": \"\"}}, \"type\": \"scatterpolar\"}], \"scatterpolargl\": [{\"marker\": {\"colorbar\": {\"outlinewidth\": 0, \"ticks\": \"\"}}, \"type\": \"scatterpolargl\"}], \"scatterternary\": [{\"marker\": {\"colorbar\": {\"outlinewidth\": 0, \"ticks\": \"\"}}, \"type\": \"scatterternary\"}], \"surface\": [{\"colorbar\": {\"outlinewidth\": 0, \"ticks\": \"\"}, \"colorscale\": [[0.0, \"#0d0887\"], [0.1111111111111111, \"#46039f\"], [0.2222222222222222, \"#7201a8\"], [0.3333333333333333, \"#9c179e\"], [0.4444444444444444, \"#bd3786\"], [0.5555555555555556, \"#d8576b\"], [0.6666666666666666, \"#ed7953\"], [0.7777777777777778, \"#fb9f3a\"], [0.8888888888888888, \"#fdca26\"], [1.0, \"#f0f921\"]], \"type\": \"surface\"}], \"table\": [{\"cells\": {\"fill\": {\"color\": \"#EBF0F8\"}, \"line\": {\"color\": \"white\"}}, \"header\": {\"fill\": {\"color\": \"#C8D4E3\"}, \"line\": {\"color\": \"white\"}}, \"type\": \"table\"}]}, \"layout\": {\"annotationdefaults\": {\"arrowcolor\": \"#2a3f5f\", \"arrowhead\": 0, \"arrowwidth\": 1}, \"coloraxis\": {\"colorbar\": {\"outlinewidth\": 0, \"ticks\": \"\"}}, \"colorscale\": {\"diverging\": [[0, \"#8e0152\"], [0.1, \"#c51b7d\"], [0.2, \"#de77ae\"], [0.3, \"#f1b6da\"], [0.4, \"#fde0ef\"], [0.5, \"#f7f7f7\"], [0.6, \"#e6f5d0\"], [0.7, \"#b8e186\"], [0.8, \"#7fbc41\"], [0.9, \"#4d9221\"], [1, \"#276419\"]], \"sequential\": [[0.0, \"#0d0887\"], [0.1111111111111111, \"#46039f\"], [0.2222222222222222, \"#7201a8\"], [0.3333333333333333, \"#9c179e\"], [0.4444444444444444, \"#bd3786\"], [0.5555555555555556, \"#d8576b\"], [0.6666666666666666, \"#ed7953\"], [0.7777777777777778, \"#fb9f3a\"], [0.8888888888888888, \"#fdca26\"], [1.0, \"#f0f921\"]], \"sequentialminus\": [[0.0, \"#0d0887\"], [0.1111111111111111, \"#46039f\"], [0.2222222222222222, \"#7201a8\"], [0.3333333333333333, \"#9c179e\"], [0.4444444444444444, \"#bd3786\"], [0.5555555555555556, \"#d8576b\"], [0.6666666666666666, \"#ed7953\"], [0.7777777777777778, \"#fb9f3a\"], [0.8888888888888888, \"#fdca26\"], [1.0, \"#f0f921\"]]}, \"colorway\": [\"#636efa\", \"#EF553B\", \"#00cc96\", \"#ab63fa\", \"#FFA15A\", \"#19d3f3\", \"#FF6692\", \"#B6E880\", \"#FF97FF\", \"#FECB52\"], \"font\": {\"color\": \"#2a3f5f\"}, \"geo\": {\"bgcolor\": \"white\", \"lakecolor\": \"white\", \"landcolor\": \"#E5ECF6\", \"showlakes\": true, \"showland\": true, \"subunitcolor\": \"white\"}, \"hoverlabel\": {\"align\": \"left\"}, \"hovermode\": \"closest\", \"mapbox\": {\"style\": \"light\"}, \"paper_bgcolor\": \"white\", \"plot_bgcolor\": \"#E5ECF6\", \"polar\": {\"angularaxis\": {\"gridcolor\": \"white\", \"linecolor\": \"white\", \"ticks\": \"\"}, \"bgcolor\": \"#E5ECF6\", \"radialaxis\": {\"gridcolor\": \"white\", \"linecolor\": \"white\", \"ticks\": \"\"}}, \"scene\": {\"xaxis\": {\"backgroundcolor\": \"#E5ECF6\", \"gridcolor\": \"white\", \"gridwidth\": 2, \"linecolor\": \"white\", \"showbackground\": true, \"ticks\": \"\", \"zerolinecolor\": \"white\"}, \"yaxis\": {\"backgroundcolor\": \"#E5ECF6\", \"gridcolor\": \"white\", \"gridwidth\": 2, \"linecolor\": \"white\", \"showbackground\": true, \"ticks\": \"\", \"zerolinecolor\": \"white\"}, \"zaxis\": {\"backgroundcolor\": \"#E5ECF6\", \"gridcolor\": \"white\", \"gridwidth\": 2, \"linecolor\": \"white\", \"showbackground\": true, \"ticks\": \"\", \"zerolinecolor\": \"white\"}}, \"shapedefaults\": {\"line\": {\"color\": \"#2a3f5f\"}}, \"ternary\": {\"aaxis\": {\"gridcolor\": \"white\", \"linecolor\": \"white\", \"ticks\": \"\"}, \"baxis\": {\"gridcolor\": \"white\", \"linecolor\": \"white\", \"ticks\": \"\"}, \"bgcolor\": \"#E5ECF6\", \"caxis\": {\"gridcolor\": \"white\", \"linecolor\": \"white\", \"ticks\": \"\"}}, \"title\": {\"x\": 0.05}, \"xaxis\": {\"automargin\": true, \"gridcolor\": \"white\", \"linecolor\": \"white\", \"ticks\": \"\", \"title\": {\"standoff\": 15}, \"zerolinecolor\": \"white\", \"zerolinewidth\": 2}, \"yaxis\": {\"automargin\": true, \"gridcolor\": \"white\", \"linecolor\": \"white\", \"ticks\": \"\", \"title\": {\"standoff\": 15}, \"zerolinecolor\": \"white\", \"zerolinewidth\": 2}}}, \"xaxis\": {\"anchor\": \"y\", \"domain\": [0.0, 1.0], \"title\": {\"text\": \"Year\"}}, \"yaxis\": {\"anchor\": \"x\", \"domain\": [0.0, 1.0], \"title\": {\"text\": \"Population\"}}},                        {\"responsive\": true}                    ).then(function(){\n",
       "                            \n",
       "var gd = document.getElementById('6e0002ae-0c61-4d9d-a6ca-f18d61c3b16e');\n",
       "var x = new MutationObserver(function (mutations, observer) {{\n",
       "        var display = window.getComputedStyle(gd).display;\n",
       "        if (!display || display === 'none') {{\n",
       "            console.log([gd, 'removed!']);\n",
       "            Plotly.purge(gd);\n",
       "            observer.disconnect();\n",
       "        }}\n",
       "}});\n",
       "\n",
       "// Listen for the removal of the full notebook cells\n",
       "var notebookContainer = gd.closest('#notebook-container');\n",
       "if (notebookContainer) {{\n",
       "    x.observe(notebookContainer, {childList: true});\n",
       "}}\n",
       "\n",
       "// Listen for the clearing of the current output cell\n",
       "var outputEl = gd.closest('.output');\n",
       "if (outputEl) {{\n",
       "    x.observe(outputEl, {childList: true});\n",
       "}}\n",
       "\n",
       "                        })                };                });            </script>        </div>"
      ]
     },
     "metadata": {},
     "output_type": "display_data"
    }
   ],
   "source": [
    "fig = px.line(complete_feature_df, x=\"Year\", y=\"Population\", color='County')\n",
    "fig.show()"
   ]
  },
  {
   "cell_type": "code",
   "execution_count": 9,
   "metadata": {},
   "outputs": [
    {
     "data": {
      "application/vnd.plotly.v1+json": {
       "config": {
        "plotlyServerURL": "https://plot.ly"
       },
       "data": [
        {
         "hovertemplate": "County=Alameda<br>Year=%{x}<br>Waste Produced (Tons)=%{y}<extra></extra>",
         "legendgroup": "Alameda",
         "line": {
          "color": "#636efa",
          "dash": "solid"
         },
         "mode": "lines",
         "name": "Alameda",
         "showlegend": true,
         "type": "scattergl",
         "x": [
          2000,
          2001,
          2002,
          2003,
          2004,
          2005,
          2006,
          2007,
          2008,
          2009,
          2010,
          2011,
          2012,
          2013,
          2014,
          2015,
          2016,
          2017,
          2018,
          2019
         ],
         "xaxis": "x",
         "y": [
          1676429.25,
          1629208.38,
          1596803,
          1585190.61,
          1692478.59,
          1659523.24,
          1656037.42,
          1551102.75,
          1337915.56,
          1246311.26,
          1152323.9,
          1090342.95,
          1147859.1,
          1143318.37,
          1106585.54,
          1130785.92,
          1188438.89,
          1381330.35,
          1342490.34,
          1465263.51
         ],
         "yaxis": "y"
        },
        {
         "hovertemplate": "County=Alpine<br>Year=%{x}<br>Waste Produced (Tons)=%{y}<extra></extra>",
         "legendgroup": "Alpine",
         "line": {
          "color": "#EF553B",
          "dash": "solid"
         },
         "mode": "lines",
         "name": "Alpine",
         "showlegend": true,
         "type": "scattergl",
         "x": [
          2000,
          2001,
          2002,
          2003,
          2004,
          2005,
          2006,
          2007,
          2008,
          2009,
          2010,
          2011,
          2012,
          2013,
          2014,
          2015,
          2016,
          2017,
          2018,
          2019
         ],
         "xaxis": "x",
         "y": [
          745,
          728,
          1155.29,
          2742.1,
          1940.48,
          1911.5,
          2280.43,
          2503.8,
          2146.22,
          1301.4,
          1190.93,
          1356.18,
          1268.69,
          1239.15,
          1061.34,
          909.33,
          750.57,
          386.71,
          566.91,
          566.18
         ],
         "yaxis": "y"
        },
        {
         "hovertemplate": "County=Amador<br>Year=%{x}<br>Waste Produced (Tons)=%{y}<extra></extra>",
         "legendgroup": "Amador",
         "line": {
          "color": "#00cc96",
          "dash": "solid"
         },
         "mode": "lines",
         "name": "Amador",
         "showlegend": true,
         "type": "scattergl",
         "x": [
          2000,
          2001,
          2002,
          2003,
          2004,
          2005,
          2006,
          2007,
          2008,
          2009,
          2010,
          2011,
          2012,
          2013,
          2014,
          2015,
          2016,
          2017,
          2018,
          2019
         ],
         "xaxis": "x",
         "y": [
          41059.9,
          38798.99,
          39287.99,
          43420.22,
          40005.59,
          53650.79,
          47717.35,
          41209.97,
          35694.95,
          35134.5,
          32010.01,
          30471.43,
          27455.56,
          28787.17,
          27624.29,
          31240.35,
          31807.79,
          37132.06,
          37919.99,
          35768.39
         ],
         "yaxis": "y"
        },
        {
         "hovertemplate": "County=Butte<br>Year=%{x}<br>Waste Produced (Tons)=%{y}<extra></extra>",
         "legendgroup": "Butte",
         "line": {
          "color": "#ab63fa",
          "dash": "solid"
         },
         "mode": "lines",
         "name": "Butte",
         "showlegend": true,
         "type": "scattergl",
         "x": [
          2000,
          2001,
          2002,
          2003,
          2004,
          2005,
          2006,
          2007,
          2008,
          2009,
          2010,
          2011,
          2012,
          2013,
          2014,
          2015,
          2016,
          2017,
          2018,
          2019
         ],
         "xaxis": "x",
         "y": [
          203896.87,
          206093.63,
          208188.81,
          221103.3,
          227864.73,
          220515.29,
          209180.07,
          216901.74,
          200763.27,
          174646.05,
          184965.59,
          186185.5,
          196630.71,
          175327.17,
          177142.17,
          181432.62,
          196732.68,
          223223.53,
          206845.92,
          1818063.23
         ],
         "yaxis": "y"
        },
        {
         "hovertemplate": "County=Calaveras<br>Year=%{x}<br>Waste Produced (Tons)=%{y}<extra></extra>",
         "legendgroup": "Calaveras",
         "line": {
          "color": "#FFA15A",
          "dash": "solid"
         },
         "mode": "lines",
         "name": "Calaveras",
         "showlegend": true,
         "type": "scattergl",
         "x": [
          2000,
          2001,
          2002,
          2003,
          2004,
          2005,
          2006,
          2007,
          2008,
          2009,
          2010,
          2011,
          2012,
          2013,
          2014,
          2015,
          2016,
          2017,
          2018,
          2019
         ],
         "xaxis": "x",
         "y": [
          34110.44,
          35812.22,
          39106.35,
          45337.4,
          48831.29,
          53195.31,
          49476.53,
          49488.57,
          39706.27,
          34121.28,
          36446.62,
          35423.59,
          32695.09,
          32025.87,
          31741.23,
          57038.54,
          142755.94,
          37393.33,
          39863.54,
          35660.9
         ],
         "yaxis": "y"
        },
        {
         "hovertemplate": "County=Colusa<br>Year=%{x}<br>Waste Produced (Tons)=%{y}<extra></extra>",
         "legendgroup": "Colusa",
         "line": {
          "color": "#19d3f3",
          "dash": "solid"
         },
         "mode": "lines",
         "name": "Colusa",
         "showlegend": true,
         "type": "scattergl",
         "x": [
          2000,
          2001,
          2002,
          2003,
          2004,
          2005,
          2006,
          2007,
          2008,
          2009,
          2010,
          2011,
          2012,
          2013,
          2014,
          2015,
          2016,
          2017,
          2018,
          2019
         ],
         "xaxis": "x",
         "y": [
          21296.16,
          19379.1,
          20187.93,
          20373.2,
          21234.19,
          24059.57,
          22395.07,
          22833.38,
          23746.21,
          20896.41,
          22462.21,
          21237.98,
          22037.04,
          17464.65,
          20434.8,
          20587.23,
          23515.26,
          24597.39,
          23694.38,
          23744.31
         ],
         "yaxis": "y"
        },
        {
         "hovertemplate": "County=Contra Costa<br>Year=%{x}<br>Waste Produced (Tons)=%{y}<extra></extra>",
         "legendgroup": "Contra Costa",
         "line": {
          "color": "#FF6692",
          "dash": "solid"
         },
         "mode": "lines",
         "name": "Contra Costa",
         "showlegend": true,
         "type": "scattergl",
         "x": [
          2000,
          2001,
          2002,
          2003,
          2004,
          2005,
          2006,
          2007,
          2008,
          2009,
          2010,
          2011,
          2012,
          2013,
          2014,
          2015,
          2016,
          2017,
          2018,
          2019
         ],
         "xaxis": "x",
         "y": [
          864091.82,
          950434.93,
          981267.81,
          977551.33,
          1048201.57,
          1086527.49,
          1000202.99,
          918530.47,
          854936.55,
          726077.11,
          718862.2,
          673905.37,
          667929.88,
          672004.34,
          686132.71,
          719149.18,
          767644.05,
          801279.7,
          875888.03,
          794518.98
         ],
         "yaxis": "y"
        },
        {
         "hovertemplate": "County=Del Norte<br>Year=%{x}<br>Waste Produced (Tons)=%{y}<extra></extra>",
         "legendgroup": "Del Norte",
         "line": {
          "color": "#B6E880",
          "dash": "solid"
         },
         "mode": "lines",
         "name": "Del Norte",
         "showlegend": true,
         "type": "scattergl",
         "x": [
          2000,
          2001,
          2002,
          2003,
          2004,
          2005,
          2006,
          2007,
          2009,
          2010,
          2011,
          2012,
          2013,
          2014,
          2015,
          2016,
          2017,
          2018,
          2019
         ],
         "xaxis": "x",
         "y": [
          18652.39,
          18769.1,
          19136.84,
          20334.13,
          22994.68,
          5759.25,
          4.67,
          3.68,
          22.48,
          112.47,
          23.51,
          79.7,
          169.07,
          118.9,
          47.33,
          73.44,
          193.98,
          203.33,
          88.71
         ],
         "yaxis": "y"
        },
        {
         "hovertemplate": "County=El Dorado<br>Year=%{x}<br>Waste Produced (Tons)=%{y}<extra></extra>",
         "legendgroup": "El Dorado",
         "line": {
          "color": "#FF97FF",
          "dash": "solid"
         },
         "mode": "lines",
         "name": "El Dorado",
         "showlegend": true,
         "type": "scattergl",
         "x": [
          2000,
          2001,
          2002,
          2003,
          2004,
          2005,
          2006,
          2007,
          2008,
          2009,
          2010,
          2011,
          2012,
          2013,
          2014,
          2015,
          2016,
          2017,
          2018,
          2019
         ],
         "xaxis": "x",
         "y": [
          5319.03,
          6828.16,
          10513.59,
          17139.21,
          37985.31,
          61386.17,
          85060.11,
          104112.36,
          116471.87,
          96471.59,
          87374.28,
          91100.75,
          91232.53,
          94553.21,
          97785.72,
          91685.93,
          109932.55,
          101875.61,
          121330.43,
          121490.25
         ],
         "yaxis": "y"
        },
        {
         "hovertemplate": "County=Fresno<br>Year=%{x}<br>Waste Produced (Tons)=%{y}<extra></extra>",
         "legendgroup": "Fresno",
         "line": {
          "color": "#FECB52",
          "dash": "solid"
         },
         "mode": "lines",
         "name": "Fresno",
         "showlegend": true,
         "type": "scattergl",
         "x": [
          2000,
          2001,
          2002,
          2003,
          2004,
          2005,
          2006,
          2007,
          2008,
          2009,
          2010,
          2011,
          2012,
          2013,
          2014,
          2015,
          2016,
          2017,
          2018,
          2019
         ],
         "xaxis": "x",
         "y": [
          763968.5,
          733055.43,
          773230.19,
          945195.61,
          877489.51,
          873200.31,
          877836.43,
          1101638.4,
          859223.52,
          678890.74,
          684548.02,
          677032.37,
          654835.82,
          689001.35,
          718490.89,
          765405.56,
          835765.63,
          854067.62,
          879889.39,
          964982.11
         ],
         "yaxis": "y"
        },
        {
         "hovertemplate": "County=Glenn<br>Year=%{x}<br>Waste Produced (Tons)=%{y}<extra></extra>",
         "legendgroup": "Glenn",
         "line": {
          "color": "#636efa",
          "dash": "solid"
         },
         "mode": "lines",
         "name": "Glenn",
         "showlegend": true,
         "type": "scattergl",
         "x": [
          2000,
          2001,
          2002,
          2003,
          2004,
          2005,
          2006,
          2007,
          2008,
          2009,
          2010,
          2011,
          2012,
          2013,
          2014,
          2015,
          2016,
          2017,
          2018,
          2019
         ],
         "xaxis": "x",
         "y": [
          19557.07,
          18911.44,
          20282.57,
          21914.13,
          23391.71,
          23288.67,
          22623.12,
          20404.14,
          21188.04,
          20878.98,
          19708.39,
          18770.37,
          19116.67,
          20682.58,
          20236.34,
          20038.12,
          21724.37,
          19998.98,
          22908.18,
          81573.78
         ],
         "yaxis": "y"
        },
        {
         "hovertemplate": "County=Humboldt<br>Year=%{x}<br>Waste Produced (Tons)=%{y}<extra></extra>",
         "legendgroup": "Humboldt",
         "line": {
          "color": "#EF553B",
          "dash": "solid"
         },
         "mode": "lines",
         "name": "Humboldt",
         "showlegend": true,
         "type": "scattergl",
         "x": [
          2000,
          2001,
          2002,
          2003,
          2004,
          2005,
          2006,
          2007,
          2008,
          2009,
          2010,
          2011,
          2012,
          2013,
          2014,
          2015,
          2016,
          2017,
          2018,
          2019
         ],
         "xaxis": "x",
         "y": [
          12577.48,
          9428.74,
          16776.21,
          50636.17,
          67266.52,
          80493.55,
          79730.56,
          77741.59,
          69300.78,
          72032.76,
          64615.59,
          62924.24,
          58629.6,
          58983.29,
          54381.8,
          61044.27,
          72498.15,
          65795.21,
          27242.27,
          23039.6
         ],
         "yaxis": "y"
        },
        {
         "hovertemplate": "County=Imperial<br>Year=%{x}<br>Waste Produced (Tons)=%{y}<extra></extra>",
         "legendgroup": "Imperial",
         "line": {
          "color": "#00cc96",
          "dash": "solid"
         },
         "mode": "lines",
         "name": "Imperial",
         "showlegend": true,
         "type": "scattergl",
         "x": [
          2000,
          2001,
          2002,
          2003,
          2004,
          2005,
          2006,
          2007,
          2008,
          2009,
          2010,
          2011,
          2012,
          2013,
          2014,
          2015,
          2016,
          2017,
          2018,
          2019
         ],
         "xaxis": "x",
         "y": [
          181627.5,
          182587.28,
          198479.37,
          229565.95,
          243789.32,
          272995.86,
          279427.12,
          261322.34,
          238781.7,
          206589.27,
          242204.21,
          213687.88,
          178914.89,
          204137.64,
          186888.14,
          174754.22,
          215913.1,
          172875.44,
          152344.85,
          135092.23
         ],
         "yaxis": "y"
        },
        {
         "hovertemplate": "County=Inyo<br>Year=%{x}<br>Waste Produced (Tons)=%{y}<extra></extra>",
         "legendgroup": "Inyo",
         "line": {
          "color": "#ab63fa",
          "dash": "solid"
         },
         "mode": "lines",
         "name": "Inyo",
         "showlegend": true,
         "type": "scattergl",
         "x": [
          2000,
          2001,
          2002,
          2003,
          2004,
          2005,
          2006,
          2007,
          2008,
          2009,
          2010,
          2011,
          2012,
          2013,
          2014,
          2015,
          2016,
          2017,
          2018,
          2019
         ],
         "xaxis": "x",
         "y": [
          16279.46,
          17632.01,
          18978.72,
          15034.06,
          13158.82,
          19973.61,
          18596.58,
          18567.76,
          16126.6,
          17607.38,
          24661.15,
          25627.42,
          20397.11,
          19426.51,
          16994.08,
          16816.15,
          19636.89,
          20815.9,
          20887.42,
          18035.53
         ],
         "yaxis": "y"
        },
        {
         "hovertemplate": "County=Kern<br>Year=%{x}<br>Waste Produced (Tons)=%{y}<extra></extra>",
         "legendgroup": "Kern",
         "line": {
          "color": "#FFA15A",
          "dash": "solid"
         },
         "mode": "lines",
         "name": "Kern",
         "showlegend": true,
         "type": "scattergl",
         "x": [
          2000,
          2001,
          2002,
          2003,
          2004,
          2005,
          2006,
          2007,
          2008,
          2009,
          2010,
          2011,
          2012,
          2013,
          2014,
          2015,
          2016,
          2017,
          2018,
          2019
         ],
         "xaxis": "x",
         "y": [
          669585.71,
          689430.43,
          705725.7,
          858946.03,
          831363.23,
          859324.29,
          880027.39,
          865305.61,
          794911.34,
          752752.16,
          753447.27,
          757014.43,
          777434.08,
          759117.23,
          787137.62,
          858872.99,
          938463.36,
          985249.96,
          1036037.57,
          1086243.73
         ],
         "yaxis": "y"
        },
        {
         "hovertemplate": "County=Kings<br>Year=%{x}<br>Waste Produced (Tons)=%{y}<extra></extra>",
         "legendgroup": "Kings",
         "line": {
          "color": "#19d3f3",
          "dash": "solid"
         },
         "mode": "lines",
         "name": "Kings",
         "showlegend": true,
         "type": "scattergl",
         "x": [
          2000,
          2001,
          2002,
          2003,
          2004,
          2005,
          2006,
          2007,
          2008,
          2009,
          2010,
          2011,
          2012,
          2013,
          2014,
          2015,
          2016,
          2017,
          2018,
          2019
         ],
         "xaxis": "x",
         "y": [
          93873.35,
          97316.36,
          101497.68,
          106237.72,
          109198.2,
          127358.08,
          123428.2,
          120655.37,
          108334.92,
          98501.63,
          96728.43,
          101081.8,
          94750.33,
          81871.38,
          95219.91,
          95858.73,
          100253.25,
          107610.53,
          108805.04,
          115397.98
         ],
         "yaxis": "y"
        },
        {
         "hovertemplate": "County=Lake<br>Year=%{x}<br>Waste Produced (Tons)=%{y}<extra></extra>",
         "legendgroup": "Lake",
         "line": {
          "color": "#FF6692",
          "dash": "solid"
         },
         "mode": "lines",
         "name": "Lake",
         "showlegend": true,
         "type": "scattergl",
         "x": [
          2000,
          2001,
          2002,
          2003,
          2004,
          2005,
          2006,
          2007,
          2008,
          2009,
          2010,
          2011,
          2012,
          2013,
          2014,
          2015,
          2016,
          2017,
          2018,
          2019
         ],
         "xaxis": "x",
         "y": [
          46778.52,
          47231.51,
          48421.68,
          46425.2,
          48181.03,
          50447.73,
          56646.47,
          53671.66,
          48804.55,
          42824.32,
          41147.98,
          40844.84,
          35627.91,
          38644.11,
          37416.9,
          189645.23,
          133316.01,
          98386.84,
          92765.92,
          53244.27
         ],
         "yaxis": "y"
        },
        {
         "hovertemplate": "County=Lassen<br>Year=%{x}<br>Waste Produced (Tons)=%{y}<extra></extra>",
         "legendgroup": "Lassen",
         "line": {
          "color": "#B6E880",
          "dash": "solid"
         },
         "mode": "lines",
         "name": "Lassen",
         "showlegend": true,
         "type": "scattergl",
         "x": [
          2000,
          2001,
          2002,
          2003,
          2004,
          2005,
          2006,
          2007,
          2008,
          2009,
          2010,
          2011,
          2012,
          2013,
          2014,
          2015,
          2016,
          2017,
          2018,
          2019
         ],
         "xaxis": "x",
         "y": [
          11491.16,
          12699.22,
          20993.16,
          24451.9,
          24618.68,
          24382.81,
          25152.27,
          21404.4,
          22155.09,
          20609.03,
          19887.42,
          19815.53,
          17978.85,
          18116.18,
          19859.51,
          20780.86,
          19875.82,
          21098.71,
          20759.04,
          22338.23
         ],
         "yaxis": "y"
        },
        {
         "hovertemplate": "County=Los Angeles<br>Year=%{x}<br>Waste Produced (Tons)=%{y}<extra></extra>",
         "legendgroup": "Los Angeles",
         "line": {
          "color": "#FF97FF",
          "dash": "solid"
         },
         "mode": "lines",
         "name": "Los Angeles",
         "showlegend": true,
         "type": "scattergl",
         "x": [
          2000,
          2001,
          2002,
          2003,
          2004,
          2005,
          2006,
          2007,
          2008,
          2009,
          2010,
          2011,
          2012,
          2013,
          2014,
          2015,
          2016,
          2017,
          2018,
          2019
         ],
         "xaxis": "x",
         "y": [
          12237445.21,
          12263807.08,
          12023878.4,
          12312500.12,
          12140163.62,
          13227651.14,
          11471878.22,
          10944053.47,
          9926639.39,
          8688818.26,
          8264268.73,
          8233623.28,
          8141712.49,
          8266414.53,
          8506648.68,
          9050134.96,
          9625184.38,
          10170204.87,
          10417283.86,
          11141950.72
         ],
         "yaxis": "y"
        },
        {
         "hovertemplate": "County=Madera<br>Year=%{x}<br>Waste Produced (Tons)=%{y}<extra></extra>",
         "legendgroup": "Madera",
         "line": {
          "color": "#FECB52",
          "dash": "solid"
         },
         "mode": "lines",
         "name": "Madera",
         "showlegend": true,
         "type": "scattergl",
         "x": [
          2000,
          2001,
          2002,
          2003,
          2004,
          2005,
          2006,
          2007,
          2008,
          2009,
          2010,
          2011,
          2012,
          2013,
          2014,
          2015,
          2016,
          2017,
          2018,
          2019
         ],
         "xaxis": "x",
         "y": [
          98321.12,
          103606.47,
          106891.38,
          116390.88,
          126617.9,
          144117.73,
          160801.17,
          137693.46,
          129800.35,
          120676.23,
          118507.7,
          111497.17,
          117353.94,
          114475.64,
          110732.89,
          122948.37,
          138479.25,
          136635.62,
          143714.94,
          158630.22
         ],
         "yaxis": "y"
        },
        {
         "hovertemplate": "County=Marin<br>Year=%{x}<br>Waste Produced (Tons)=%{y}<extra></extra>",
         "legendgroup": "Marin",
         "line": {
          "color": "#636efa",
          "dash": "solid"
         },
         "mode": "lines",
         "name": "Marin",
         "showlegend": true,
         "type": "scattergl",
         "x": [
          2000,
          2001,
          2002,
          2003,
          2004,
          2005,
          2006,
          2007,
          2008,
          2009,
          2010,
          2011,
          2012,
          2013,
          2014,
          2015,
          2016,
          2017,
          2018,
          2019
         ],
         "xaxis": "x",
         "y": [
          216211.18,
          236557.6,
          227375.04,
          228782.87,
          225028.46,
          237145.85,
          243037.75,
          229271.18,
          210849.43,
          179919.32,
          180106.09,
          174514.28,
          180704.22,
          184470.54,
          177022.31,
          188106.43,
          223071.2,
          231661.88,
          250465.71,
          241254.45
         ],
         "yaxis": "y"
        },
        {
         "hovertemplate": "County=Mariposa<br>Year=%{x}<br>Waste Produced (Tons)=%{y}<extra></extra>",
         "legendgroup": "Mariposa",
         "line": {
          "color": "#EF553B",
          "dash": "solid"
         },
         "mode": "lines",
         "name": "Mariposa",
         "showlegend": true,
         "type": "scattergl",
         "x": [
          2000,
          2001,
          2002,
          2003,
          2004,
          2005,
          2006,
          2007,
          2008,
          2009,
          2010,
          2011,
          2012,
          2013,
          2014,
          2015,
          2016,
          2017,
          2018,
          2019
         ],
         "xaxis": "x",
         "y": [
          12684.09,
          11729.12,
          12654.9,
          10531.67,
          11581.26,
          15567.52,
          16419.47,
          14151.33,
          12830.46,
          11330.11,
          12009.73,
          13129.64,
          11362.37,
          15418.69,
          12486.86,
          12084,
          14394.18,
          34559.43,
          13706.04,
          27390.23
         ],
         "yaxis": "y"
        },
        {
         "hovertemplate": "County=Mendocino<br>Year=%{x}<br>Waste Produced (Tons)=%{y}<extra></extra>",
         "legendgroup": "Mendocino",
         "line": {
          "color": "#00cc96",
          "dash": "solid"
         },
         "mode": "lines",
         "name": "Mendocino",
         "showlegend": true,
         "type": "scattergl",
         "x": [
          2000,
          2001,
          2002,
          2003,
          2004,
          2005,
          2006,
          2007,
          2008,
          2009,
          2010,
          2011,
          2012,
          2013,
          2014,
          2015,
          2016,
          2017,
          2018,
          2019
         ],
         "xaxis": "x",
         "y": [
          59580.17,
          60053.43,
          67604.11,
          72256.08,
          78924.95,
          73069.75,
          82144.35,
          72550.56,
          65401.13,
          52476.78,
          48519.59,
          50934.01,
          51224.14,
          56428.99,
          55097.79,
          65688.07,
          62372.16,
          91985.27,
          122166.7,
          48914.65
         ],
         "yaxis": "y"
        },
        {
         "hovertemplate": "County=Merced<br>Year=%{x}<br>Waste Produced (Tons)=%{y}<extra></extra>",
         "legendgroup": "Merced",
         "line": {
          "color": "#ab63fa",
          "dash": "solid"
         },
         "mode": "lines",
         "name": "Merced",
         "showlegend": true,
         "type": "scattergl",
         "x": [
          2000,
          2001,
          2002,
          2003,
          2004,
          2005,
          2006,
          2007,
          2008,
          2009,
          2010,
          2011,
          2012,
          2013,
          2014,
          2015,
          2016,
          2017,
          2018,
          2019
         ],
         "xaxis": "x",
         "y": [
          206467.26,
          213647.28,
          229705.69,
          249482.13,
          265342.11,
          290656.37,
          278392.93,
          257332.11,
          238882.52,
          224097.99,
          212516.51,
          209846.95,
          201860.63,
          207821.74,
          234381.52,
          233899.07,
          249437.25,
          268648.65,
          264643.71,
          277454.07
         ],
         "yaxis": "y"
        },
        {
         "hovertemplate": "County=Modoc<br>Year=%{x}<br>Waste Produced (Tons)=%{y}<extra></extra>",
         "legendgroup": "Modoc",
         "line": {
          "color": "#FFA15A",
          "dash": "solid"
         },
         "mode": "lines",
         "name": "Modoc",
         "showlegend": true,
         "type": "scattergl",
         "x": [
          2000,
          2004,
          2009,
          2011,
          2012,
          2013,
          2014,
          2015,
          2016,
          2017,
          2018,
          2019
         ],
         "xaxis": "x",
         "y": [
          72,
          2.27,
          18.58,
          15.19,
          107.91,
          17.14,
          4.23,
          2.4,
          5.26,
          18.29,
          60.61,
          11537.13
         ],
         "yaxis": "y"
        },
        {
         "hovertemplate": "County=Mono<br>Year=%{x}<br>Waste Produced (Tons)=%{y}<extra></extra>",
         "legendgroup": "Mono",
         "line": {
          "color": "#19d3f3",
          "dash": "solid"
         },
         "mode": "lines",
         "name": "Mono",
         "showlegend": true,
         "type": "scattergl",
         "x": [
          2000,
          2001,
          2002,
          2003,
          2004,
          2005,
          2006,
          2007,
          2008,
          2009,
          2010,
          2011,
          2012,
          2013,
          2014,
          2015,
          2016,
          2017,
          2018,
          2019
         ],
         "xaxis": "x",
         "y": [
          27233.44,
          30785.25,
          27370.09,
          30225.59,
          27862.46,
          34241.55,
          38758.03,
          33536.81,
          28014.93,
          22171.11,
          20649.36,
          21420.69,
          21364.37,
          19781.73,
          18770.43,
          22026.03,
          22223.79,
          23814.65,
          23082.11,
          27669.37
         ],
         "yaxis": "y"
        },
        {
         "hovertemplate": "County=Monterey<br>Year=%{x}<br>Waste Produced (Tons)=%{y}<extra></extra>",
         "legendgroup": "Monterey",
         "line": {
          "color": "#FF6692",
          "dash": "solid"
         },
         "mode": "lines",
         "name": "Monterey",
         "showlegend": true,
         "type": "scattergl",
         "x": [
          2000,
          2001,
          2002,
          2003,
          2004,
          2005,
          2006,
          2007,
          2008,
          2009,
          2010,
          2011,
          2012,
          2013,
          2014,
          2015,
          2016,
          2017,
          2018,
          2019
         ],
         "xaxis": "x",
         "y": [
          422302.12,
          421176.42,
          424477.27,
          426125.77,
          447085.97,
          468708.26,
          448090.95,
          416300.49,
          387386.57,
          351205,
          344983.14,
          326933.83,
          326003.19,
          339611.11,
          348283.01,
          365031.05,
          406045.04,
          445145.77,
          454561.78,
          516537.48
         ],
         "yaxis": "y"
        },
        {
         "hovertemplate": "County=Napa<br>Year=%{x}<br>Waste Produced (Tons)=%{y}<extra></extra>",
         "legendgroup": "Napa",
         "line": {
          "color": "#B6E880",
          "dash": "solid"
         },
         "mode": "lines",
         "name": "Napa",
         "showlegend": true,
         "type": "scattergl",
         "x": [
          2000,
          2001,
          2002,
          2003,
          2004,
          2005,
          2006,
          2007,
          2008,
          2009,
          2010,
          2011,
          2012,
          2013,
          2014,
          2015,
          2016,
          2017,
          2018,
          2019
         ],
         "xaxis": "x",
         "y": [
          133847.31,
          160401.75,
          184994.82,
          200465.63,
          192344.82,
          178357.53,
          176033.93,
          153655.92,
          135517.62,
          101233.35,
          114851.1,
          106196.24,
          99518.12,
          106555.83,
          120497.74,
          124258.7,
          129346.34,
          188270.06,
          231472.15,
          180694.75
         ],
         "yaxis": "y"
        },
        {
         "hovertemplate": "County=Nevada<br>Year=%{x}<br>Waste Produced (Tons)=%{y}<extra></extra>",
         "legendgroup": "Nevada",
         "line": {
          "color": "#FF97FF",
          "dash": "solid"
         },
         "mode": "lines",
         "name": "Nevada",
         "showlegend": true,
         "type": "scattergl",
         "x": [
          2000,
          2001,
          2002,
          2003,
          2004,
          2005,
          2006,
          2007,
          2008,
          2009,
          2010,
          2011,
          2012,
          2013,
          2014,
          2015,
          2016,
          2017,
          2018,
          2019
         ],
         "xaxis": "x",
         "y": [
          17350.02,
          18078.37,
          22322.39,
          61530.43,
          64259.42,
          67255.71,
          66843.63,
          60370.69,
          56210.8,
          53534.04,
          53225.73,
          50581.11,
          33834.64,
          4416.24,
          6054.23,
          7813.22,
          4353.64,
          19861.38,
          6487.96,
          9022.35
         ],
         "yaxis": "y"
        },
        {
         "hovertemplate": "County=Orange<br>Year=%{x}<br>Waste Produced (Tons)=%{y}<extra></extra>",
         "legendgroup": "Orange",
         "line": {
          "color": "#FECB52",
          "dash": "solid"
         },
         "mode": "lines",
         "name": "Orange",
         "showlegend": true,
         "type": "scattergl",
         "x": [
          2000,
          2001,
          2002,
          2003,
          2004,
          2005,
          2006,
          2007,
          2008,
          2009,
          2010,
          2011,
          2012,
          2013,
          2014,
          2015,
          2016,
          2017,
          2018,
          2019
         ],
         "xaxis": "x",
         "y": [
          3803041.49,
          3848148.08,
          3796608.31,
          3998052.11,
          4196808.89,
          4290785.15,
          3862255.02,
          3548339.71,
          3202870.04,
          2855407.1,
          2803813.17,
          2719237.41,
          2695717.76,
          2757702.88,
          2893518.08,
          3013489.3,
          3087161.18,
          3262162.12,
          3351214.16,
          3373309.25
         ],
         "yaxis": "y"
        },
        {
         "hovertemplate": "County=Placer<br>Year=%{x}<br>Waste Produced (Tons)=%{y}<extra></extra>",
         "legendgroup": "Placer",
         "line": {
          "color": "#636efa",
          "dash": "solid"
         },
         "mode": "lines",
         "name": "Placer",
         "showlegend": true,
         "type": "scattergl",
         "x": [
          2000,
          2001,
          2002,
          2003,
          2004,
          2005,
          2006,
          2007,
          2008,
          2009,
          2010,
          2011,
          2012,
          2013,
          2014,
          2015,
          2016,
          2017,
          2018,
          2019
         ],
         "xaxis": "x",
         "y": [
          213410.5,
          246004.95,
          263783.24,
          292039.76,
          303304.35,
          305694.06,
          310750.26,
          290955.72,
          251583.13,
          223401.68,
          218358.1,
          211007.34,
          208360.03,
          223489.86,
          227722.65,
          244973.64,
          266427.85,
          291106.66,
          303921.17,
          281556.39
         ],
         "yaxis": "y"
        },
        {
         "hovertemplate": "County=Plumas<br>Year=%{x}<br>Waste Produced (Tons)=%{y}<extra></extra>",
         "legendgroup": "Plumas",
         "line": {
          "color": "#EF553B",
          "dash": "solid"
         },
         "mode": "lines",
         "name": "Plumas",
         "showlegend": true,
         "type": "scattergl",
         "x": [
          2000,
          2001,
          2002,
          2003,
          2004,
          2005,
          2006,
          2007,
          2008,
          2009,
          2010,
          2011,
          2012,
          2013,
          2014,
          2015,
          2016,
          2017,
          2018,
          2019
         ],
         "xaxis": "x",
         "y": [
          1310.57,
          1249.2,
          1043.45,
          822.55,
          253.84,
          147.45,
          137.97,
          623.04,
          56.41,
          93.59,
          36.27,
          157.98,
          140.87,
          217.58,
          367.28,
          740.39,
          173.77,
          263.56,
          261,
          173.99
         ],
         "yaxis": "y"
        },
        {
         "hovertemplate": "County=Riverside<br>Year=%{x}<br>Waste Produced (Tons)=%{y}<extra></extra>",
         "legendgroup": "Riverside",
         "line": {
          "color": "#00cc96",
          "dash": "solid"
         },
         "mode": "lines",
         "name": "Riverside",
         "showlegend": true,
         "type": "scattergl",
         "x": [
          2000,
          2001,
          2002,
          2003,
          2004,
          2005,
          2006,
          2007,
          2008,
          2009,
          2010,
          2011,
          2012,
          2013,
          2014,
          2015,
          2016,
          2017,
          2018,
          2019
         ],
         "xaxis": "x",
         "y": [
          1649413.37,
          1739298.57,
          1845054.81,
          2033106.79,
          2293982.84,
          2525910.5,
          2525589.34,
          2356738.91,
          2075923.75,
          1755725.42,
          1782985.78,
          1747413.67,
          1744578.5,
          1843028.07,
          1897263.69,
          2037162.81,
          2158648.41,
          2322650.95,
          2442097.02,
          2515629.02
         ],
         "yaxis": "y"
        },
        {
         "hovertemplate": "County=Sacramento<br>Year=%{x}<br>Waste Produced (Tons)=%{y}<extra></extra>",
         "legendgroup": "Sacramento",
         "line": {
          "color": "#ab63fa",
          "dash": "solid"
         },
         "mode": "lines",
         "name": "Sacramento",
         "showlegend": true,
         "type": "scattergl",
         "x": [
          2000,
          2001,
          2002,
          2003,
          2004,
          2005,
          2006,
          2007,
          2008,
          2009,
          2010,
          2011,
          2012,
          2013,
          2014,
          2015,
          2016,
          2017,
          2018,
          2019
         ],
         "xaxis": "x",
         "y": [
          941057.65,
          1002216.48,
          1132062.37,
          1346924.28,
          1393964.46,
          1466809.2,
          1414023.86,
          1236456.41,
          1117330.59,
          955088,
          954053.07,
          991936.12,
          957194.03,
          1043908.12,
          1056532.55,
          1121085.93,
          1205624.42,
          1359861.76,
          1362828.22,
          1406241.62
         ],
         "yaxis": "y"
        },
        {
         "hovertemplate": "County=San Benito<br>Year=%{x}<br>Waste Produced (Tons)=%{y}<extra></extra>",
         "legendgroup": "San Benito",
         "line": {
          "color": "#FFA15A",
          "dash": "solid"
         },
         "mode": "lines",
         "name": "San Benito",
         "showlegend": true,
         "type": "scattergl",
         "x": [
          2000,
          2001,
          2002,
          2003,
          2004,
          2005,
          2006,
          2007,
          2008,
          2009,
          2010,
          2011,
          2012,
          2013,
          2014,
          2015,
          2016,
          2017,
          2018,
          2019
         ],
         "xaxis": "x",
         "y": [
          66434.16,
          64537.44,
          60232.15,
          65500.81,
          62117.58,
          59804.25,
          59444.48,
          55684.12,
          48794.94,
          49909.49,
          52729.01,
          52459.01,
          55803.38,
          54190.84,
          50505.18,
          72448.88,
          74475.25,
          80251.56,
          86457.14,
          88184.37
         ],
         "yaxis": "y"
        },
        {
         "hovertemplate": "County=San Bernardino<br>Year=%{x}<br>Waste Produced (Tons)=%{y}<extra></extra>",
         "legendgroup": "San Bernardino",
         "line": {
          "color": "#19d3f3",
          "dash": "solid"
         },
         "mode": "lines",
         "name": "San Bernardino",
         "showlegend": true,
         "type": "scattergl",
         "x": [
          2000,
          2001,
          2002,
          2003,
          2004,
          2005,
          2006,
          2007,
          2008,
          2009,
          2010,
          2011,
          2012,
          2013,
          2014,
          2015,
          2016,
          2017,
          2018,
          2019
         ],
         "xaxis": "x",
         "y": [
          1762385.98,
          1888556.78,
          1931424.51,
          2107128.88,
          2235251.83,
          2349002.83,
          2292245.48,
          2171711.06,
          1943398.93,
          1609726.05,
          1591512.22,
          1555110.15,
          1492333.67,
          1571158.05,
          1589490.38,
          1670832.88,
          1728326.52,
          1850456.16,
          1938900.18,
          1978070.48
         ],
         "yaxis": "y"
        },
        {
         "hovertemplate": "County=San Diego<br>Year=%{x}<br>Waste Produced (Tons)=%{y}<extra></extra>",
         "legendgroup": "San Diego",
         "line": {
          "color": "#FF6692",
          "dash": "solid"
         },
         "mode": "lines",
         "name": "San Diego",
         "showlegend": true,
         "type": "scattergl",
         "x": [
          2000,
          2001,
          2002,
          2003,
          2004,
          2005,
          2006,
          2007,
          2008,
          2009,
          2010,
          2011,
          2012,
          2013,
          2014,
          2015,
          2016,
          2017,
          2018,
          2019
         ],
         "xaxis": "x",
         "y": [
          3408059.62,
          3739143.1,
          3767567.27,
          4000781.99,
          4098640.55,
          4181732.39,
          3969057.94,
          3730448.58,
          3413957.15,
          3081141.78,
          2987483.79,
          3045133.39,
          2875287.88,
          3007350.6,
          3131969.45,
          3296372.52,
          3317215.85,
          3424269.04,
          3548653.61,
          3200806.27
         ],
         "yaxis": "y"
        },
        {
         "hovertemplate": "County=San Francisco<br>Year=%{x}<br>Waste Produced (Tons)=%{y}<extra></extra>",
         "legendgroup": "San Francisco",
         "line": {
          "color": "#B6E880",
          "dash": "solid"
         },
         "mode": "lines",
         "name": "San Francisco",
         "showlegend": true,
         "type": "scattergl",
         "x": [
          2000,
          2001,
          2002,
          2003,
          2004,
          2005,
          2006,
          2007,
          2008,
          2009,
          2010,
          2011,
          2012,
          2013,
          2014,
          2015,
          2016,
          2017,
          2018,
          2019
         ],
         "xaxis": "x",
         "y": [
          872707.49,
          856063.8,
          758701.1,
          718863.26,
          691626.15,
          675278.4,
          695573.82,
          628864.02,
          594660.37,
          484812.04,
          455331.84,
          446634.73,
          454570.16,
          476423.83,
          529474.27,
          590100,
          600231.49,
          626997.05,
          739690.89,
          713009.58
         ],
         "yaxis": "y"
        },
        {
         "hovertemplate": "County=San Joaquin<br>Year=%{x}<br>Waste Produced (Tons)=%{y}<extra></extra>",
         "legendgroup": "San Joaquin",
         "line": {
          "color": "#FF97FF",
          "dash": "solid"
         },
         "mode": "lines",
         "name": "San Joaquin",
         "showlegend": true,
         "type": "scattergl",
         "x": [
          2000,
          2001,
          2002,
          2003,
          2004,
          2005,
          2006,
          2007,
          2008,
          2009,
          2010,
          2011,
          2012,
          2013,
          2014,
          2015,
          2016,
          2017,
          2018,
          2019
         ],
         "xaxis": "x",
         "y": [
          677344.35,
          721085.63,
          775174.59,
          804404.96,
          776938.85,
          784407.78,
          785097.76,
          776150.09,
          699621.14,
          592075.35,
          601819.62,
          596701.01,
          580940.63,
          614665.98,
          639175.86,
          684297.79,
          746048.6,
          824601.15,
          903737.21,
          880241.79
         ],
         "yaxis": "y"
        },
        {
         "hovertemplate": "County=San Luis Obispo<br>Year=%{x}<br>Waste Produced (Tons)=%{y}<extra></extra>",
         "legendgroup": "San Luis Obispo",
         "line": {
          "color": "#FECB52",
          "dash": "solid"
         },
         "mode": "lines",
         "name": "San Luis Obispo",
         "showlegend": true,
         "type": "scattergl",
         "x": [
          2000,
          2001,
          2002,
          2003,
          2004,
          2005,
          2006,
          2007,
          2008,
          2009,
          2010,
          2011,
          2012,
          2013,
          2014,
          2015,
          2016,
          2017,
          2018,
          2019
         ],
         "xaxis": "x",
         "y": [
          257335.62,
          293688.22,
          271239.39,
          284651.36,
          287765.77,
          289226.93,
          274419.76,
          263871.57,
          236892,
          231439.04,
          226987.06,
          228975.65,
          215344.52,
          234917.78,
          243378.01,
          255724.73,
          299713.14,
          310405.29,
          290200.69,
          288432.48
         ],
         "yaxis": "y"
        },
        {
         "hovertemplate": "County=San Mateo<br>Year=%{x}<br>Waste Produced (Tons)=%{y}<extra></extra>",
         "legendgroup": "San Mateo",
         "line": {
          "color": "#636efa",
          "dash": "solid"
         },
         "mode": "lines",
         "name": "San Mateo",
         "showlegend": true,
         "type": "scattergl",
         "x": [
          2000,
          2001,
          2002,
          2003,
          2004,
          2005,
          2006,
          2007,
          2008,
          2009,
          2010,
          2011,
          2012,
          2013,
          2014,
          2015,
          2016,
          2017,
          2018,
          2019
         ],
         "xaxis": "x",
         "y": [
          911601.44,
          883177.28,
          808867.04,
          747374.02,
          744158.28,
          760943.5,
          722542.79,
          677036.66,
          655537.5,
          586003.27,
          557625.81,
          518257.97,
          530811.86,
          543722.63,
          550663.05,
          583989.7,
          597070.92,
          612396.85,
          598840.14,
          623371.35
         ],
         "yaxis": "y"
        },
        {
         "hovertemplate": "County=Santa Barbara<br>Year=%{x}<br>Waste Produced (Tons)=%{y}<extra></extra>",
         "legendgroup": "Santa Barbara",
         "line": {
          "color": "#EF553B",
          "dash": "solid"
         },
         "mode": "lines",
         "name": "Santa Barbara",
         "showlegend": true,
         "type": "scattergl",
         "x": [
          2000,
          2001,
          2002,
          2003,
          2004,
          2005,
          2006,
          2007,
          2008,
          2009,
          2010,
          2011,
          2012,
          2013,
          2014,
          2015,
          2016,
          2017,
          2018,
          2019
         ],
         "xaxis": "x",
         "y": [
          446328.88,
          622868.1,
          505393.35,
          541545.8,
          559084.38,
          493219.95,
          442103.02,
          427429.73,
          422605.03,
          362935.47,
          339739.77,
          329227.2,
          335185.84,
          362229.03,
          353131.21,
          388220.85,
          415705.68,
          417420.87,
          455075.02,
          435073.91
         ],
         "yaxis": "y"
        },
        {
         "hovertemplate": "County=Santa Clara<br>Year=%{x}<br>Waste Produced (Tons)=%{y}<extra></extra>",
         "legendgroup": "Santa Clara",
         "line": {
          "color": "#00cc96",
          "dash": "solid"
         },
         "mode": "lines",
         "name": "Santa Clara",
         "showlegend": true,
         "type": "scattergl",
         "x": [
          2000,
          2001,
          2002,
          2003,
          2004,
          2005,
          2006,
          2007,
          2008,
          2009,
          2010,
          2011,
          2012,
          2013,
          2014,
          2015,
          2016,
          2017,
          2018,
          2019
         ],
         "xaxis": "x",
         "y": [
          1640208.36,
          1545436.62,
          1416202.52,
          1412047.82,
          1394112.14,
          1443168.33,
          1505661.26,
          1417237.78,
          1363751.11,
          1189285.92,
          1170683.29,
          1126235.41,
          1108511.62,
          1133189.22,
          1244464.37,
          1335115.88,
          1366218.25,
          1475585.74,
          1513136.01,
          1452222.43
         ],
         "yaxis": "y"
        },
        {
         "hovertemplate": "County=Santa Cruz<br>Year=%{x}<br>Waste Produced (Tons)=%{y}<extra></extra>",
         "legendgroup": "Santa Cruz",
         "line": {
          "color": "#ab63fa",
          "dash": "solid"
         },
         "mode": "lines",
         "name": "Santa Cruz",
         "showlegend": true,
         "type": "scattergl",
         "x": [
          2000,
          2001,
          2002,
          2003,
          2004,
          2005,
          2006,
          2007,
          2008,
          2009,
          2010,
          2011,
          2012,
          2013,
          2014,
          2015,
          2016,
          2017,
          2018,
          2019
         ],
         "xaxis": "x",
         "y": [
          269697.59,
          246954.49,
          240506.58,
          242172.75,
          248200.17,
          242151.18,
          221000.23,
          206971.52,
          186303.52,
          168341.91,
          169540.46,
          164883.37,
          163579.27,
          161813.83,
          171722.01,
          191746.24,
          210993.77,
          213359.01,
          225452.04,
          234708.67
         ],
         "yaxis": "y"
        },
        {
         "hovertemplate": "County=Shasta<br>Year=%{x}<br>Waste Produced (Tons)=%{y}<extra></extra>",
         "legendgroup": "Shasta",
         "line": {
          "color": "#FFA15A",
          "dash": "solid"
         },
         "mode": "lines",
         "name": "Shasta",
         "showlegend": true,
         "type": "scattergl",
         "x": [
          2000,
          2001,
          2002,
          2003,
          2004,
          2005,
          2006,
          2007,
          2008,
          2009,
          2010,
          2011,
          2012,
          2013,
          2014,
          2015,
          2016,
          2017,
          2018,
          2019
         ],
         "xaxis": "x",
         "y": [
          171144.66,
          164453.1,
          168947.74,
          177741.52,
          188978.5,
          186569.17,
          187909.09,
          186170.23,
          167685.25,
          151137.51,
          147126.52,
          153079.06,
          145029.86,
          163217.23,
          155573.8,
          164822.98,
          177336.64,
          197638.43,
          623720.2,
          200160.07
         ],
         "yaxis": "y"
        },
        {
         "hovertemplate": "County=Sierra<br>Year=%{x}<br>Waste Produced (Tons)=%{y}<extra></extra>",
         "legendgroup": "Sierra",
         "line": {
          "color": "#19d3f3",
          "dash": "solid"
         },
         "mode": "lines",
         "name": "Sierra",
         "showlegend": true,
         "type": "scattergl",
         "x": [
          2000,
          2001,
          2002,
          2003,
          2004,
          2005,
          2006,
          2007,
          2008,
          2009,
          2010,
          2011,
          2012,
          2013,
          2014,
          2015,
          2016,
          2017,
          2019
         ],
         "xaxis": "x",
         "y": [
          2820,
          2721.23,
          2382.39,
          2808,
          2387.9,
          3553.26,
          3461.03,
          3925.29,
          2759,
          2102.08,
          2559,
          2122.53,
          2136.47,
          2461,
          2907.29,
          2244.39,
          2674.81,
          1288.07,
          15.34
         ],
         "yaxis": "y"
        },
        {
         "hovertemplate": "County=Siskiyou<br>Year=%{x}<br>Waste Produced (Tons)=%{y}<extra></extra>",
         "legendgroup": "Siskiyou",
         "line": {
          "color": "#FF6692",
          "dash": "solid"
         },
         "mode": "lines",
         "name": "Siskiyou",
         "showlegend": true,
         "type": "scattergl",
         "x": [
          2000,
          2001,
          2002,
          2003,
          2004,
          2005,
          2006,
          2007,
          2008,
          2009,
          2010,
          2011,
          2012,
          2013,
          2014,
          2015,
          2016,
          2017,
          2018,
          2019
         ],
         "xaxis": "x",
         "y": [
          15336.5,
          15770,
          14672,
          13160.47,
          21480,
          31496.7,
          34447.03,
          33790.46,
          32440.3,
          29197.87,
          29321.42,
          29548.55,
          28318.43,
          26778.62,
          22660.44,
          101.15,
          335.36,
          305.48,
          3439.56,
          951.74
         ],
         "yaxis": "y"
        },
        {
         "hovertemplate": "County=Solano<br>Year=%{x}<br>Waste Produced (Tons)=%{y}<extra></extra>",
         "legendgroup": "Solano",
         "line": {
          "color": "#B6E880",
          "dash": "solid"
         },
         "mode": "lines",
         "name": "Solano",
         "showlegend": true,
         "type": "scattergl",
         "x": [
          2000,
          2001,
          2002,
          2003,
          2004,
          2005,
          2006,
          2007,
          2008,
          2009,
          2010,
          2011,
          2012,
          2013,
          2014,
          2015,
          2016,
          2017,
          2018,
          2019
         ],
         "xaxis": "x",
         "y": [
          353832.4,
          412885.1,
          424597.5,
          456710.49,
          464464.21,
          456150.6,
          465661.79,
          421837.87,
          388312.79,
          339322.32,
          327992.23,
          312759.52,
          307847.84,
          323276.45,
          331940.8,
          351731.47,
          430608.57,
          472685.59,
          442008.48,
          437553.11
         ],
         "yaxis": "y"
        },
        {
         "hovertemplate": "County=Sonoma<br>Year=%{x}<br>Waste Produced (Tons)=%{y}<extra></extra>",
         "legendgroup": "Sonoma",
         "line": {
          "color": "#FF97FF",
          "dash": "solid"
         },
         "mode": "lines",
         "name": "Sonoma",
         "showlegend": true,
         "type": "scattergl",
         "x": [
          2000,
          2001,
          2002,
          2003,
          2004,
          2005,
          2006,
          2007,
          2008,
          2009,
          2010,
          2011,
          2012,
          2013,
          2014,
          2015,
          2016,
          2017,
          2018,
          2019
         ],
         "xaxis": "x",
         "y": [
          531409.29,
          543029.49,
          538144.06,
          544756.34,
          545535.79,
          532281.19,
          499060.77,
          445428.21,
          400310.63,
          351715.35,
          362763.18,
          326937.19,
          307763.99,
          322066.71,
          326267.14,
          388362.5,
          427352.92,
          948776.88,
          1245678.97,
          472841.01
         ],
         "yaxis": "y"
        },
        {
         "hovertemplate": "County=Stanislaus<br>Year=%{x}<br>Waste Produced (Tons)=%{y}<extra></extra>",
         "legendgroup": "Stanislaus",
         "line": {
          "color": "#FECB52",
          "dash": "solid"
         },
         "mode": "lines",
         "name": "Stanislaus",
         "showlegend": true,
         "type": "scattergl",
         "x": [
          2000,
          2001,
          2002,
          2003,
          2004,
          2005,
          2006,
          2007,
          2008,
          2009,
          2010,
          2011,
          2012,
          2013,
          2014,
          2015,
          2016,
          2017,
          2018,
          2019
         ],
         "xaxis": "x",
         "y": [
          207878.35,
          238902.94,
          225866.28,
          246186.61,
          297695.39,
          334500.68,
          379150.14,
          302650.81,
          287700.06,
          189607.58,
          217738.02,
          207355,
          214240.84,
          226461.64,
          243275.64,
          308928.95,
          340413.58,
          336099.58,
          391722.74,
          365579.18
         ],
         "yaxis": "y"
        },
        {
         "hovertemplate": "County=Tehama<br>Year=%{x}<br>Waste Produced (Tons)=%{y}<extra></extra>",
         "legendgroup": "Tehama",
         "line": {
          "color": "#636efa",
          "dash": "solid"
         },
         "mode": "lines",
         "name": "Tehama",
         "showlegend": true,
         "type": "scattergl",
         "x": [
          2000,
          2001,
          2002,
          2003,
          2004,
          2005,
          2006,
          2007,
          2008,
          2009,
          2010,
          2011,
          2012,
          2013,
          2014,
          2015,
          2016,
          2017,
          2018,
          2019
         ],
         "xaxis": "x",
         "y": [
          44538.78,
          44892.98,
          48853.16,
          52666.53,
          51670.35,
          55546.41,
          54648.64,
          48038.81,
          44438.3,
          41593.54,
          67376.14,
          204634.17,
          41905.92,
          45324.38,
          47692.02,
          50252.25,
          61476.21,
          61808.91,
          59132.46,
          66278.44
         ],
         "yaxis": "y"
        },
        {
         "hovertemplate": "County=Trinity<br>Year=%{x}<br>Waste Produced (Tons)=%{y}<extra></extra>",
         "legendgroup": "Trinity",
         "line": {
          "color": "#EF553B",
          "dash": "solid"
         },
         "mode": "lines",
         "name": "Trinity",
         "showlegend": true,
         "type": "scattergl",
         "x": [
          2000,
          2001,
          2002,
          2003,
          2004,
          2005,
          2006,
          2007,
          2008,
          2009,
          2010,
          2011,
          2012,
          2013,
          2014,
          2015,
          2016,
          2017,
          2018,
          2019
         ],
         "xaxis": "x",
         "y": [
          5979.43,
          6120.83,
          6892.05,
          7247.18,
          7389,
          7663,
          8370.53,
          8060.22,
          8016.73,
          7683,
          7383.6,
          7741.88,
          7473.19,
          8294.18,
          7515.39,
          9529.34,
          9751.49,
          28012.22,
          7633,
          8752.43
         ],
         "yaxis": "y"
        },
        {
         "hovertemplate": "County=Tulare<br>Year=%{x}<br>Waste Produced (Tons)=%{y}<extra></extra>",
         "legendgroup": "Tulare",
         "line": {
          "color": "#00cc96",
          "dash": "solid"
         },
         "mode": "lines",
         "name": "Tulare",
         "showlegend": true,
         "type": "scattergl",
         "x": [
          2000,
          2001,
          2002,
          2003,
          2004,
          2005,
          2006,
          2007,
          2008,
          2009,
          2010,
          2011,
          2012,
          2013,
          2014,
          2015,
          2016,
          2017,
          2018,
          2019
         ],
         "xaxis": "x",
         "y": [
          324877.46,
          321266.8,
          334878.36,
          361310.1,
          384676.32,
          436935.69,
          432089.02,
          395371.85,
          354404.17,
          319190.04,
          311870.94,
          311982.44,
          307910.38,
          314520.55,
          330722.3,
          345785.53,
          374898.1,
          439237.04,
          423906.9,
          446633.6
         ],
         "yaxis": "y"
        },
        {
         "hovertemplate": "County=Tuolumne<br>Year=%{x}<br>Waste Produced (Tons)=%{y}<extra></extra>",
         "legendgroup": "Tuolumne",
         "line": {
          "color": "#ab63fa",
          "dash": "solid"
         },
         "mode": "lines",
         "name": "Tuolumne",
         "showlegend": true,
         "type": "scattergl",
         "x": [
          2000,
          2001,
          2002,
          2003,
          2004,
          2005,
          2006,
          2007,
          2008,
          2009,
          2010,
          2011,
          2012,
          2013,
          2014,
          2015,
          2016,
          2017,
          2018,
          2019
         ],
         "xaxis": "x",
         "y": [
          1404.87,
          2375.61,
          9137.96,
          43176.43,
          49845.23,
          49302.83,
          49027.1,
          48453.02,
          43291.76,
          40617.06,
          40055.71,
          37695.26,
          35480.65,
          37167.14,
          35498.64,
          37022.26,
          42223.46,
          45119.88,
          45826.26,
          46559.93
         ],
         "yaxis": "y"
        },
        {
         "hovertemplate": "County=Ventura<br>Year=%{x}<br>Waste Produced (Tons)=%{y}<extra></extra>",
         "legendgroup": "Ventura",
         "line": {
          "color": "#FFA15A",
          "dash": "solid"
         },
         "mode": "lines",
         "name": "Ventura",
         "showlegend": true,
         "type": "scattergl",
         "x": [
          2000,
          2001,
          2002,
          2003,
          2004,
          2005,
          2006,
          2007,
          2008,
          2009,
          2010,
          2011,
          2012,
          2013,
          2014,
          2015,
          2016,
          2017,
          2018,
          2019
         ],
         "xaxis": "x",
         "y": [
          892546.33,
          901154.1,
          924045.94,
          972890.08,
          1038354.71,
          1077746.64,
          1030471.45,
          959962.59,
          869250.02,
          783285.17,
          778313.49,
          769624.5,
          774173.26,
          793453.88,
          804930.55,
          851242.59,
          866500.73,
          922012.68,
          1195379.71,
          1003051.31
         ],
         "yaxis": "y"
        },
        {
         "hovertemplate": "County=Yolo<br>Year=%{x}<br>Waste Produced (Tons)=%{y}<extra></extra>",
         "legendgroup": "Yolo",
         "line": {
          "color": "#19d3f3",
          "dash": "solid"
         },
         "mode": "lines",
         "name": "Yolo",
         "showlegend": true,
         "type": "scattergl",
         "x": [
          2000,
          2001,
          2002,
          2003,
          2004,
          2005,
          2006,
          2007,
          2008,
          2009,
          2010,
          2011,
          2012,
          2013,
          2014,
          2015,
          2016,
          2017,
          2018,
          2019
         ],
         "xaxis": "x",
         "y": [
          174755.11,
          185412.5,
          187667.02,
          201403.25,
          211737.46,
          220110.81,
          208364.11,
          198429.53,
          185050.31,
          160955.81,
          159845.53,
          148232.59,
          152387.1,
          156528.51,
          170524.89,
          169242.78,
          178641.2,
          188960.55,
          195258.12,
          192255.23
         ],
         "yaxis": "y"
        },
        {
         "hovertemplate": "County=Yuba<br>Year=%{x}<br>Waste Produced (Tons)=%{y}<extra></extra>",
         "legendgroup": "Yuba",
         "line": {
          "color": "#FF6692",
          "dash": "solid"
         },
         "mode": "lines",
         "name": "Yuba",
         "showlegend": true,
         "type": "scattergl",
         "x": [
          2000,
          2001,
          2002,
          2003,
          2004,
          2005,
          2006,
          2007,
          2008,
          2009,
          2010,
          2011,
          2012,
          2013,
          2014,
          2015,
          2016,
          2017,
          2018,
          2019
         ],
         "xaxis": "x",
         "y": [
          134134.2,
          137442.43,
          125448.74,
          128904.85,
          126818.31,
          146772,
          139649.21,
          145878.15,
          136830.69,
          127629.07,
          127258.24,
          128421.59,
          125012.45,
          129117.49,
          137785.73,
          129424.37,
          135728.66,
          171346.24,
          153207.89,
          169463.51
         ],
         "yaxis": "y"
        }
       ],
       "layout": {
        "legend": {
         "title": {
          "text": "County"
         },
         "tracegroupgap": 0
        },
        "margin": {
         "t": 60
        },
        "template": {
         "data": {
          "bar": [
           {
            "error_x": {
             "color": "#2a3f5f"
            },
            "error_y": {
             "color": "#2a3f5f"
            },
            "marker": {
             "line": {
              "color": "#E5ECF6",
              "width": 0.5
             }
            },
            "type": "bar"
           }
          ],
          "barpolar": [
           {
            "marker": {
             "line": {
              "color": "#E5ECF6",
              "width": 0.5
             }
            },
            "type": "barpolar"
           }
          ],
          "carpet": [
           {
            "aaxis": {
             "endlinecolor": "#2a3f5f",
             "gridcolor": "white",
             "linecolor": "white",
             "minorgridcolor": "white",
             "startlinecolor": "#2a3f5f"
            },
            "baxis": {
             "endlinecolor": "#2a3f5f",
             "gridcolor": "white",
             "linecolor": "white",
             "minorgridcolor": "white",
             "startlinecolor": "#2a3f5f"
            },
            "type": "carpet"
           }
          ],
          "choropleth": [
           {
            "colorbar": {
             "outlinewidth": 0,
             "ticks": ""
            },
            "type": "choropleth"
           }
          ],
          "contour": [
           {
            "colorbar": {
             "outlinewidth": 0,
             "ticks": ""
            },
            "colorscale": [
             [
              0,
              "#0d0887"
             ],
             [
              0.1111111111111111,
              "#46039f"
             ],
             [
              0.2222222222222222,
              "#7201a8"
             ],
             [
              0.3333333333333333,
              "#9c179e"
             ],
             [
              0.4444444444444444,
              "#bd3786"
             ],
             [
              0.5555555555555556,
              "#d8576b"
             ],
             [
              0.6666666666666666,
              "#ed7953"
             ],
             [
              0.7777777777777778,
              "#fb9f3a"
             ],
             [
              0.8888888888888888,
              "#fdca26"
             ],
             [
              1,
              "#f0f921"
             ]
            ],
            "type": "contour"
           }
          ],
          "contourcarpet": [
           {
            "colorbar": {
             "outlinewidth": 0,
             "ticks": ""
            },
            "type": "contourcarpet"
           }
          ],
          "heatmap": [
           {
            "colorbar": {
             "outlinewidth": 0,
             "ticks": ""
            },
            "colorscale": [
             [
              0,
              "#0d0887"
             ],
             [
              0.1111111111111111,
              "#46039f"
             ],
             [
              0.2222222222222222,
              "#7201a8"
             ],
             [
              0.3333333333333333,
              "#9c179e"
             ],
             [
              0.4444444444444444,
              "#bd3786"
             ],
             [
              0.5555555555555556,
              "#d8576b"
             ],
             [
              0.6666666666666666,
              "#ed7953"
             ],
             [
              0.7777777777777778,
              "#fb9f3a"
             ],
             [
              0.8888888888888888,
              "#fdca26"
             ],
             [
              1,
              "#f0f921"
             ]
            ],
            "type": "heatmap"
           }
          ],
          "heatmapgl": [
           {
            "colorbar": {
             "outlinewidth": 0,
             "ticks": ""
            },
            "colorscale": [
             [
              0,
              "#0d0887"
             ],
             [
              0.1111111111111111,
              "#46039f"
             ],
             [
              0.2222222222222222,
              "#7201a8"
             ],
             [
              0.3333333333333333,
              "#9c179e"
             ],
             [
              0.4444444444444444,
              "#bd3786"
             ],
             [
              0.5555555555555556,
              "#d8576b"
             ],
             [
              0.6666666666666666,
              "#ed7953"
             ],
             [
              0.7777777777777778,
              "#fb9f3a"
             ],
             [
              0.8888888888888888,
              "#fdca26"
             ],
             [
              1,
              "#f0f921"
             ]
            ],
            "type": "heatmapgl"
           }
          ],
          "histogram": [
           {
            "marker": {
             "colorbar": {
              "outlinewidth": 0,
              "ticks": ""
             }
            },
            "type": "histogram"
           }
          ],
          "histogram2d": [
           {
            "colorbar": {
             "outlinewidth": 0,
             "ticks": ""
            },
            "colorscale": [
             [
              0,
              "#0d0887"
             ],
             [
              0.1111111111111111,
              "#46039f"
             ],
             [
              0.2222222222222222,
              "#7201a8"
             ],
             [
              0.3333333333333333,
              "#9c179e"
             ],
             [
              0.4444444444444444,
              "#bd3786"
             ],
             [
              0.5555555555555556,
              "#d8576b"
             ],
             [
              0.6666666666666666,
              "#ed7953"
             ],
             [
              0.7777777777777778,
              "#fb9f3a"
             ],
             [
              0.8888888888888888,
              "#fdca26"
             ],
             [
              1,
              "#f0f921"
             ]
            ],
            "type": "histogram2d"
           }
          ],
          "histogram2dcontour": [
           {
            "colorbar": {
             "outlinewidth": 0,
             "ticks": ""
            },
            "colorscale": [
             [
              0,
              "#0d0887"
             ],
             [
              0.1111111111111111,
              "#46039f"
             ],
             [
              0.2222222222222222,
              "#7201a8"
             ],
             [
              0.3333333333333333,
              "#9c179e"
             ],
             [
              0.4444444444444444,
              "#bd3786"
             ],
             [
              0.5555555555555556,
              "#d8576b"
             ],
             [
              0.6666666666666666,
              "#ed7953"
             ],
             [
              0.7777777777777778,
              "#fb9f3a"
             ],
             [
              0.8888888888888888,
              "#fdca26"
             ],
             [
              1,
              "#f0f921"
             ]
            ],
            "type": "histogram2dcontour"
           }
          ],
          "mesh3d": [
           {
            "colorbar": {
             "outlinewidth": 0,
             "ticks": ""
            },
            "type": "mesh3d"
           }
          ],
          "parcoords": [
           {
            "line": {
             "colorbar": {
              "outlinewidth": 0,
              "ticks": ""
             }
            },
            "type": "parcoords"
           }
          ],
          "pie": [
           {
            "automargin": true,
            "type": "pie"
           }
          ],
          "scatter": [
           {
            "marker": {
             "colorbar": {
              "outlinewidth": 0,
              "ticks": ""
             }
            },
            "type": "scatter"
           }
          ],
          "scatter3d": [
           {
            "line": {
             "colorbar": {
              "outlinewidth": 0,
              "ticks": ""
             }
            },
            "marker": {
             "colorbar": {
              "outlinewidth": 0,
              "ticks": ""
             }
            },
            "type": "scatter3d"
           }
          ],
          "scattercarpet": [
           {
            "marker": {
             "colorbar": {
              "outlinewidth": 0,
              "ticks": ""
             }
            },
            "type": "scattercarpet"
           }
          ],
          "scattergeo": [
           {
            "marker": {
             "colorbar": {
              "outlinewidth": 0,
              "ticks": ""
             }
            },
            "type": "scattergeo"
           }
          ],
          "scattergl": [
           {
            "marker": {
             "colorbar": {
              "outlinewidth": 0,
              "ticks": ""
             }
            },
            "type": "scattergl"
           }
          ],
          "scattermapbox": [
           {
            "marker": {
             "colorbar": {
              "outlinewidth": 0,
              "ticks": ""
             }
            },
            "type": "scattermapbox"
           }
          ],
          "scatterpolar": [
           {
            "marker": {
             "colorbar": {
              "outlinewidth": 0,
              "ticks": ""
             }
            },
            "type": "scatterpolar"
           }
          ],
          "scatterpolargl": [
           {
            "marker": {
             "colorbar": {
              "outlinewidth": 0,
              "ticks": ""
             }
            },
            "type": "scatterpolargl"
           }
          ],
          "scatterternary": [
           {
            "marker": {
             "colorbar": {
              "outlinewidth": 0,
              "ticks": ""
             }
            },
            "type": "scatterternary"
           }
          ],
          "surface": [
           {
            "colorbar": {
             "outlinewidth": 0,
             "ticks": ""
            },
            "colorscale": [
             [
              0,
              "#0d0887"
             ],
             [
              0.1111111111111111,
              "#46039f"
             ],
             [
              0.2222222222222222,
              "#7201a8"
             ],
             [
              0.3333333333333333,
              "#9c179e"
             ],
             [
              0.4444444444444444,
              "#bd3786"
             ],
             [
              0.5555555555555556,
              "#d8576b"
             ],
             [
              0.6666666666666666,
              "#ed7953"
             ],
             [
              0.7777777777777778,
              "#fb9f3a"
             ],
             [
              0.8888888888888888,
              "#fdca26"
             ],
             [
              1,
              "#f0f921"
             ]
            ],
            "type": "surface"
           }
          ],
          "table": [
           {
            "cells": {
             "fill": {
              "color": "#EBF0F8"
             },
             "line": {
              "color": "white"
             }
            },
            "header": {
             "fill": {
              "color": "#C8D4E3"
             },
             "line": {
              "color": "white"
             }
            },
            "type": "table"
           }
          ]
         },
         "layout": {
          "annotationdefaults": {
           "arrowcolor": "#2a3f5f",
           "arrowhead": 0,
           "arrowwidth": 1
          },
          "coloraxis": {
           "colorbar": {
            "outlinewidth": 0,
            "ticks": ""
           }
          },
          "colorscale": {
           "diverging": [
            [
             0,
             "#8e0152"
            ],
            [
             0.1,
             "#c51b7d"
            ],
            [
             0.2,
             "#de77ae"
            ],
            [
             0.3,
             "#f1b6da"
            ],
            [
             0.4,
             "#fde0ef"
            ],
            [
             0.5,
             "#f7f7f7"
            ],
            [
             0.6,
             "#e6f5d0"
            ],
            [
             0.7,
             "#b8e186"
            ],
            [
             0.8,
             "#7fbc41"
            ],
            [
             0.9,
             "#4d9221"
            ],
            [
             1,
             "#276419"
            ]
           ],
           "sequential": [
            [
             0,
             "#0d0887"
            ],
            [
             0.1111111111111111,
             "#46039f"
            ],
            [
             0.2222222222222222,
             "#7201a8"
            ],
            [
             0.3333333333333333,
             "#9c179e"
            ],
            [
             0.4444444444444444,
             "#bd3786"
            ],
            [
             0.5555555555555556,
             "#d8576b"
            ],
            [
             0.6666666666666666,
             "#ed7953"
            ],
            [
             0.7777777777777778,
             "#fb9f3a"
            ],
            [
             0.8888888888888888,
             "#fdca26"
            ],
            [
             1,
             "#f0f921"
            ]
           ],
           "sequentialminus": [
            [
             0,
             "#0d0887"
            ],
            [
             0.1111111111111111,
             "#46039f"
            ],
            [
             0.2222222222222222,
             "#7201a8"
            ],
            [
             0.3333333333333333,
             "#9c179e"
            ],
            [
             0.4444444444444444,
             "#bd3786"
            ],
            [
             0.5555555555555556,
             "#d8576b"
            ],
            [
             0.6666666666666666,
             "#ed7953"
            ],
            [
             0.7777777777777778,
             "#fb9f3a"
            ],
            [
             0.8888888888888888,
             "#fdca26"
            ],
            [
             1,
             "#f0f921"
            ]
           ]
          },
          "colorway": [
           "#636efa",
           "#EF553B",
           "#00cc96",
           "#ab63fa",
           "#FFA15A",
           "#19d3f3",
           "#FF6692",
           "#B6E880",
           "#FF97FF",
           "#FECB52"
          ],
          "font": {
           "color": "#2a3f5f"
          },
          "geo": {
           "bgcolor": "white",
           "lakecolor": "white",
           "landcolor": "#E5ECF6",
           "showlakes": true,
           "showland": true,
           "subunitcolor": "white"
          },
          "hoverlabel": {
           "align": "left"
          },
          "hovermode": "closest",
          "mapbox": {
           "style": "light"
          },
          "paper_bgcolor": "white",
          "plot_bgcolor": "#E5ECF6",
          "polar": {
           "angularaxis": {
            "gridcolor": "white",
            "linecolor": "white",
            "ticks": ""
           },
           "bgcolor": "#E5ECF6",
           "radialaxis": {
            "gridcolor": "white",
            "linecolor": "white",
            "ticks": ""
           }
          },
          "scene": {
           "xaxis": {
            "backgroundcolor": "#E5ECF6",
            "gridcolor": "white",
            "gridwidth": 2,
            "linecolor": "white",
            "showbackground": true,
            "ticks": "",
            "zerolinecolor": "white"
           },
           "yaxis": {
            "backgroundcolor": "#E5ECF6",
            "gridcolor": "white",
            "gridwidth": 2,
            "linecolor": "white",
            "showbackground": true,
            "ticks": "",
            "zerolinecolor": "white"
           },
           "zaxis": {
            "backgroundcolor": "#E5ECF6",
            "gridcolor": "white",
            "gridwidth": 2,
            "linecolor": "white",
            "showbackground": true,
            "ticks": "",
            "zerolinecolor": "white"
           }
          },
          "shapedefaults": {
           "line": {
            "color": "#2a3f5f"
           }
          },
          "ternary": {
           "aaxis": {
            "gridcolor": "white",
            "linecolor": "white",
            "ticks": ""
           },
           "baxis": {
            "gridcolor": "white",
            "linecolor": "white",
            "ticks": ""
           },
           "bgcolor": "#E5ECF6",
           "caxis": {
            "gridcolor": "white",
            "linecolor": "white",
            "ticks": ""
           }
          },
          "title": {
           "x": 0.05
          },
          "xaxis": {
           "automargin": true,
           "gridcolor": "white",
           "linecolor": "white",
           "ticks": "",
           "title": {
            "standoff": 15
           },
           "zerolinecolor": "white",
           "zerolinewidth": 2
          },
          "yaxis": {
           "automargin": true,
           "gridcolor": "white",
           "linecolor": "white",
           "ticks": "",
           "title": {
            "standoff": 15
           },
           "zerolinecolor": "white",
           "zerolinewidth": 2
          }
         }
        },
        "xaxis": {
         "anchor": "y",
         "domain": [
          0,
          1
         ],
         "title": {
          "text": "Year"
         }
        },
        "yaxis": {
         "anchor": "x",
         "domain": [
          0,
          1
         ],
         "title": {
          "text": "Waste Produced (Tons)"
         }
        }
       }
      },
      "text/html": [
       "<div>                            <div id=\"30883d92-a408-41d0-b185-821ec7618c32\" class=\"plotly-graph-div\" style=\"height:525px; width:100%;\"></div>            <script type=\"text/javascript\">                require([\"plotly\"], function(Plotly) {                    window.PLOTLYENV=window.PLOTLYENV || {};                                    if (document.getElementById(\"30883d92-a408-41d0-b185-821ec7618c32\")) {                    Plotly.newPlot(                        \"30883d92-a408-41d0-b185-821ec7618c32\",                        [{\"hovertemplate\": \"County=Alameda<br>Year=%{x}<br>Waste Produced (Tons)=%{y}<extra></extra>\", \"legendgroup\": \"Alameda\", \"line\": {\"color\": \"#636efa\", \"dash\": \"solid\"}, \"mode\": \"lines\", \"name\": \"Alameda\", \"showlegend\": true, \"type\": \"scattergl\", \"x\": [2000.0, 2001.0, 2002.0, 2003.0, 2004.0, 2005.0, 2006.0, 2007.0, 2008.0, 2009.0, 2010.0, 2011.0, 2012.0, 2013.0, 2014.0, 2015.0, 2016.0, 2017.0, 2018.0, 2019.0], \"xaxis\": \"x\", \"y\": [1676429.25, 1629208.38, 1596803.0, 1585190.61, 1692478.59, 1659523.24, 1656037.42, 1551102.75, 1337915.56, 1246311.26, 1152323.9, 1090342.95, 1147859.1, 1143318.37, 1106585.54, 1130785.92, 1188438.89, 1381330.35, 1342490.34, 1465263.51], \"yaxis\": \"y\"}, {\"hovertemplate\": \"County=Alpine<br>Year=%{x}<br>Waste Produced (Tons)=%{y}<extra></extra>\", \"legendgroup\": \"Alpine\", \"line\": {\"color\": \"#EF553B\", \"dash\": \"solid\"}, \"mode\": \"lines\", \"name\": \"Alpine\", \"showlegend\": true, \"type\": \"scattergl\", \"x\": [2000.0, 2001.0, 2002.0, 2003.0, 2004.0, 2005.0, 2006.0, 2007.0, 2008.0, 2009.0, 2010.0, 2011.0, 2012.0, 2013.0, 2014.0, 2015.0, 2016.0, 2017.0, 2018.0, 2019.0], \"xaxis\": \"x\", \"y\": [745.0, 728.0, 1155.29, 2742.1, 1940.48, 1911.5, 2280.43, 2503.8, 2146.22, 1301.4, 1190.93, 1356.18, 1268.69, 1239.15, 1061.34, 909.33, 750.57, 386.71, 566.91, 566.18], \"yaxis\": \"y\"}, {\"hovertemplate\": \"County=Amador<br>Year=%{x}<br>Waste Produced (Tons)=%{y}<extra></extra>\", \"legendgroup\": \"Amador\", \"line\": {\"color\": \"#00cc96\", \"dash\": \"solid\"}, \"mode\": \"lines\", \"name\": \"Amador\", \"showlegend\": true, \"type\": \"scattergl\", \"x\": [2000.0, 2001.0, 2002.0, 2003.0, 2004.0, 2005.0, 2006.0, 2007.0, 2008.0, 2009.0, 2010.0, 2011.0, 2012.0, 2013.0, 2014.0, 2015.0, 2016.0, 2017.0, 2018.0, 2019.0], \"xaxis\": \"x\", \"y\": [41059.9, 38798.99, 39287.99, 43420.22, 40005.59, 53650.79, 47717.35, 41209.97, 35694.95, 35134.5, 32010.01, 30471.43, 27455.56, 28787.17, 27624.29, 31240.35, 31807.79, 37132.06, 37919.99, 35768.39], \"yaxis\": \"y\"}, {\"hovertemplate\": \"County=Butte<br>Year=%{x}<br>Waste Produced (Tons)=%{y}<extra></extra>\", \"legendgroup\": \"Butte\", \"line\": {\"color\": \"#ab63fa\", \"dash\": \"solid\"}, \"mode\": \"lines\", \"name\": \"Butte\", \"showlegend\": true, \"type\": \"scattergl\", \"x\": [2000.0, 2001.0, 2002.0, 2003.0, 2004.0, 2005.0, 2006.0, 2007.0, 2008.0, 2009.0, 2010.0, 2011.0, 2012.0, 2013.0, 2014.0, 2015.0, 2016.0, 2017.0, 2018.0, 2019.0], \"xaxis\": \"x\", \"y\": [203896.87, 206093.63, 208188.81, 221103.3, 227864.73, 220515.29, 209180.07, 216901.74, 200763.27, 174646.05, 184965.59, 186185.5, 196630.71, 175327.17, 177142.17, 181432.62, 196732.68, 223223.53, 206845.92, 1818063.23], \"yaxis\": \"y\"}, {\"hovertemplate\": \"County=Calaveras<br>Year=%{x}<br>Waste Produced (Tons)=%{y}<extra></extra>\", \"legendgroup\": \"Calaveras\", \"line\": {\"color\": \"#FFA15A\", \"dash\": \"solid\"}, \"mode\": \"lines\", \"name\": \"Calaveras\", \"showlegend\": true, \"type\": \"scattergl\", \"x\": [2000.0, 2001.0, 2002.0, 2003.0, 2004.0, 2005.0, 2006.0, 2007.0, 2008.0, 2009.0, 2010.0, 2011.0, 2012.0, 2013.0, 2014.0, 2015.0, 2016.0, 2017.0, 2018.0, 2019.0], \"xaxis\": \"x\", \"y\": [34110.44, 35812.22, 39106.35, 45337.4, 48831.29, 53195.31, 49476.53, 49488.57, 39706.27, 34121.28, 36446.62, 35423.59, 32695.09, 32025.87, 31741.23, 57038.54, 142755.94, 37393.33, 39863.54, 35660.9], \"yaxis\": \"y\"}, {\"hovertemplate\": \"County=Colusa<br>Year=%{x}<br>Waste Produced (Tons)=%{y}<extra></extra>\", \"legendgroup\": \"Colusa\", \"line\": {\"color\": \"#19d3f3\", \"dash\": \"solid\"}, \"mode\": \"lines\", \"name\": \"Colusa\", \"showlegend\": true, \"type\": \"scattergl\", \"x\": [2000.0, 2001.0, 2002.0, 2003.0, 2004.0, 2005.0, 2006.0, 2007.0, 2008.0, 2009.0, 2010.0, 2011.0, 2012.0, 2013.0, 2014.0, 2015.0, 2016.0, 2017.0, 2018.0, 2019.0], \"xaxis\": \"x\", \"y\": [21296.16, 19379.1, 20187.93, 20373.2, 21234.19, 24059.57, 22395.07, 22833.38, 23746.21, 20896.41, 22462.21, 21237.98, 22037.04, 17464.65, 20434.8, 20587.23, 23515.26, 24597.39, 23694.38, 23744.31], \"yaxis\": \"y\"}, {\"hovertemplate\": \"County=Contra Costa<br>Year=%{x}<br>Waste Produced (Tons)=%{y}<extra></extra>\", \"legendgroup\": \"Contra Costa\", \"line\": {\"color\": \"#FF6692\", \"dash\": \"solid\"}, \"mode\": \"lines\", \"name\": \"Contra Costa\", \"showlegend\": true, \"type\": \"scattergl\", \"x\": [2000.0, 2001.0, 2002.0, 2003.0, 2004.0, 2005.0, 2006.0, 2007.0, 2008.0, 2009.0, 2010.0, 2011.0, 2012.0, 2013.0, 2014.0, 2015.0, 2016.0, 2017.0, 2018.0, 2019.0], \"xaxis\": \"x\", \"y\": [864091.82, 950434.93, 981267.81, 977551.33, 1048201.57, 1086527.49, 1000202.99, 918530.47, 854936.55, 726077.11, 718862.2, 673905.37, 667929.88, 672004.34, 686132.71, 719149.18, 767644.05, 801279.7, 875888.03, 794518.98], \"yaxis\": \"y\"}, {\"hovertemplate\": \"County=Del Norte<br>Year=%{x}<br>Waste Produced (Tons)=%{y}<extra></extra>\", \"legendgroup\": \"Del Norte\", \"line\": {\"color\": \"#B6E880\", \"dash\": \"solid\"}, \"mode\": \"lines\", \"name\": \"Del Norte\", \"showlegend\": true, \"type\": \"scattergl\", \"x\": [2000.0, 2001.0, 2002.0, 2003.0, 2004.0, 2005.0, 2006.0, 2007.0, 2009.0, 2010.0, 2011.0, 2012.0, 2013.0, 2014.0, 2015.0, 2016.0, 2017.0, 2018.0, 2019.0], \"xaxis\": \"x\", \"y\": [18652.39, 18769.1, 19136.84, 20334.13, 22994.68, 5759.25, 4.67, 3.68, 22.48, 112.47, 23.51, 79.7, 169.07, 118.9, 47.33, 73.44, 193.98, 203.33, 88.71], \"yaxis\": \"y\"}, {\"hovertemplate\": \"County=El Dorado<br>Year=%{x}<br>Waste Produced (Tons)=%{y}<extra></extra>\", \"legendgroup\": \"El Dorado\", \"line\": {\"color\": \"#FF97FF\", \"dash\": \"solid\"}, \"mode\": \"lines\", \"name\": \"El Dorado\", \"showlegend\": true, \"type\": \"scattergl\", \"x\": [2000.0, 2001.0, 2002.0, 2003.0, 2004.0, 2005.0, 2006.0, 2007.0, 2008.0, 2009.0, 2010.0, 2011.0, 2012.0, 2013.0, 2014.0, 2015.0, 2016.0, 2017.0, 2018.0, 2019.0], \"xaxis\": \"x\", \"y\": [5319.03, 6828.16, 10513.59, 17139.21, 37985.31, 61386.17, 85060.11, 104112.36, 116471.87, 96471.59, 87374.28, 91100.75, 91232.53, 94553.21, 97785.72, 91685.93, 109932.55, 101875.61, 121330.43, 121490.25], \"yaxis\": \"y\"}, {\"hovertemplate\": \"County=Fresno<br>Year=%{x}<br>Waste Produced (Tons)=%{y}<extra></extra>\", \"legendgroup\": \"Fresno\", \"line\": {\"color\": \"#FECB52\", \"dash\": \"solid\"}, \"mode\": \"lines\", \"name\": \"Fresno\", \"showlegend\": true, \"type\": \"scattergl\", \"x\": [2000.0, 2001.0, 2002.0, 2003.0, 2004.0, 2005.0, 2006.0, 2007.0, 2008.0, 2009.0, 2010.0, 2011.0, 2012.0, 2013.0, 2014.0, 2015.0, 2016.0, 2017.0, 2018.0, 2019.0], \"xaxis\": \"x\", \"y\": [763968.5, 733055.43, 773230.19, 945195.61, 877489.51, 873200.31, 877836.43, 1101638.4, 859223.52, 678890.74, 684548.02, 677032.37, 654835.82, 689001.35, 718490.89, 765405.56, 835765.63, 854067.62, 879889.39, 964982.11], \"yaxis\": \"y\"}, {\"hovertemplate\": \"County=Glenn<br>Year=%{x}<br>Waste Produced (Tons)=%{y}<extra></extra>\", \"legendgroup\": \"Glenn\", \"line\": {\"color\": \"#636efa\", \"dash\": \"solid\"}, \"mode\": \"lines\", \"name\": \"Glenn\", \"showlegend\": true, \"type\": \"scattergl\", \"x\": [2000.0, 2001.0, 2002.0, 2003.0, 2004.0, 2005.0, 2006.0, 2007.0, 2008.0, 2009.0, 2010.0, 2011.0, 2012.0, 2013.0, 2014.0, 2015.0, 2016.0, 2017.0, 2018.0, 2019.0], \"xaxis\": \"x\", \"y\": [19557.07, 18911.44, 20282.57, 21914.13, 23391.71, 23288.67, 22623.12, 20404.14, 21188.04, 20878.98, 19708.39, 18770.37, 19116.67, 20682.58, 20236.34, 20038.12, 21724.37, 19998.98, 22908.18, 81573.78], \"yaxis\": \"y\"}, {\"hovertemplate\": \"County=Humboldt<br>Year=%{x}<br>Waste Produced (Tons)=%{y}<extra></extra>\", \"legendgroup\": \"Humboldt\", \"line\": {\"color\": \"#EF553B\", \"dash\": \"solid\"}, \"mode\": \"lines\", \"name\": \"Humboldt\", \"showlegend\": true, \"type\": \"scattergl\", \"x\": [2000.0, 2001.0, 2002.0, 2003.0, 2004.0, 2005.0, 2006.0, 2007.0, 2008.0, 2009.0, 2010.0, 2011.0, 2012.0, 2013.0, 2014.0, 2015.0, 2016.0, 2017.0, 2018.0, 2019.0], \"xaxis\": \"x\", \"y\": [12577.48, 9428.74, 16776.21, 50636.17, 67266.52, 80493.55, 79730.56, 77741.59, 69300.78, 72032.76, 64615.59, 62924.24, 58629.6, 58983.29, 54381.8, 61044.27, 72498.15, 65795.21, 27242.27, 23039.6], \"yaxis\": \"y\"}, {\"hovertemplate\": \"County=Imperial<br>Year=%{x}<br>Waste Produced (Tons)=%{y}<extra></extra>\", \"legendgroup\": \"Imperial\", \"line\": {\"color\": \"#00cc96\", \"dash\": \"solid\"}, \"mode\": \"lines\", \"name\": \"Imperial\", \"showlegend\": true, \"type\": \"scattergl\", \"x\": [2000.0, 2001.0, 2002.0, 2003.0, 2004.0, 2005.0, 2006.0, 2007.0, 2008.0, 2009.0, 2010.0, 2011.0, 2012.0, 2013.0, 2014.0, 2015.0, 2016.0, 2017.0, 2018.0, 2019.0], \"xaxis\": \"x\", \"y\": [181627.5, 182587.28, 198479.37, 229565.95, 243789.32, 272995.86, 279427.12, 261322.34, 238781.7, 206589.27, 242204.21, 213687.88, 178914.89, 204137.64, 186888.14, 174754.22, 215913.1, 172875.44, 152344.85, 135092.23], \"yaxis\": \"y\"}, {\"hovertemplate\": \"County=Inyo<br>Year=%{x}<br>Waste Produced (Tons)=%{y}<extra></extra>\", \"legendgroup\": \"Inyo\", \"line\": {\"color\": \"#ab63fa\", \"dash\": \"solid\"}, \"mode\": \"lines\", \"name\": \"Inyo\", \"showlegend\": true, \"type\": \"scattergl\", \"x\": [2000.0, 2001.0, 2002.0, 2003.0, 2004.0, 2005.0, 2006.0, 2007.0, 2008.0, 2009.0, 2010.0, 2011.0, 2012.0, 2013.0, 2014.0, 2015.0, 2016.0, 2017.0, 2018.0, 2019.0], \"xaxis\": \"x\", \"y\": [16279.46, 17632.01, 18978.72, 15034.06, 13158.82, 19973.61, 18596.58, 18567.76, 16126.6, 17607.38, 24661.15, 25627.42, 20397.11, 19426.51, 16994.08, 16816.15, 19636.89, 20815.9, 20887.42, 18035.53], \"yaxis\": \"y\"}, {\"hovertemplate\": \"County=Kern<br>Year=%{x}<br>Waste Produced (Tons)=%{y}<extra></extra>\", \"legendgroup\": \"Kern\", \"line\": {\"color\": \"#FFA15A\", \"dash\": \"solid\"}, \"mode\": \"lines\", \"name\": \"Kern\", \"showlegend\": true, \"type\": \"scattergl\", \"x\": [2000.0, 2001.0, 2002.0, 2003.0, 2004.0, 2005.0, 2006.0, 2007.0, 2008.0, 2009.0, 2010.0, 2011.0, 2012.0, 2013.0, 2014.0, 2015.0, 2016.0, 2017.0, 2018.0, 2019.0], \"xaxis\": \"x\", \"y\": [669585.71, 689430.43, 705725.7, 858946.03, 831363.23, 859324.29, 880027.39, 865305.61, 794911.34, 752752.16, 753447.27, 757014.43, 777434.08, 759117.23, 787137.62, 858872.99, 938463.36, 985249.96, 1036037.57, 1086243.73], \"yaxis\": \"y\"}, {\"hovertemplate\": \"County=Kings<br>Year=%{x}<br>Waste Produced (Tons)=%{y}<extra></extra>\", \"legendgroup\": \"Kings\", \"line\": {\"color\": \"#19d3f3\", \"dash\": \"solid\"}, \"mode\": \"lines\", \"name\": \"Kings\", \"showlegend\": true, \"type\": \"scattergl\", \"x\": [2000.0, 2001.0, 2002.0, 2003.0, 2004.0, 2005.0, 2006.0, 2007.0, 2008.0, 2009.0, 2010.0, 2011.0, 2012.0, 2013.0, 2014.0, 2015.0, 2016.0, 2017.0, 2018.0, 2019.0], \"xaxis\": \"x\", \"y\": [93873.35, 97316.36, 101497.68, 106237.72, 109198.2, 127358.08, 123428.2, 120655.37, 108334.92, 98501.63, 96728.43, 101081.8, 94750.33, 81871.38, 95219.91, 95858.73, 100253.25, 107610.53, 108805.04, 115397.98], \"yaxis\": \"y\"}, {\"hovertemplate\": \"County=Lake<br>Year=%{x}<br>Waste Produced (Tons)=%{y}<extra></extra>\", \"legendgroup\": \"Lake\", \"line\": {\"color\": \"#FF6692\", \"dash\": \"solid\"}, \"mode\": \"lines\", \"name\": \"Lake\", \"showlegend\": true, \"type\": \"scattergl\", \"x\": [2000.0, 2001.0, 2002.0, 2003.0, 2004.0, 2005.0, 2006.0, 2007.0, 2008.0, 2009.0, 2010.0, 2011.0, 2012.0, 2013.0, 2014.0, 2015.0, 2016.0, 2017.0, 2018.0, 2019.0], \"xaxis\": \"x\", \"y\": [46778.52, 47231.51, 48421.68, 46425.2, 48181.03, 50447.73, 56646.47, 53671.66, 48804.55, 42824.32, 41147.98, 40844.84, 35627.91, 38644.11, 37416.9, 189645.23, 133316.01, 98386.84, 92765.92, 53244.27], \"yaxis\": \"y\"}, {\"hovertemplate\": \"County=Lassen<br>Year=%{x}<br>Waste Produced (Tons)=%{y}<extra></extra>\", \"legendgroup\": \"Lassen\", \"line\": {\"color\": \"#B6E880\", \"dash\": \"solid\"}, \"mode\": \"lines\", \"name\": \"Lassen\", \"showlegend\": true, \"type\": \"scattergl\", \"x\": [2000.0, 2001.0, 2002.0, 2003.0, 2004.0, 2005.0, 2006.0, 2007.0, 2008.0, 2009.0, 2010.0, 2011.0, 2012.0, 2013.0, 2014.0, 2015.0, 2016.0, 2017.0, 2018.0, 2019.0], \"xaxis\": \"x\", \"y\": [11491.16, 12699.22, 20993.16, 24451.9, 24618.68, 24382.81, 25152.27, 21404.4, 22155.09, 20609.03, 19887.42, 19815.53, 17978.85, 18116.18, 19859.51, 20780.86, 19875.82, 21098.71, 20759.04, 22338.23], \"yaxis\": \"y\"}, {\"hovertemplate\": \"County=Los Angeles<br>Year=%{x}<br>Waste Produced (Tons)=%{y}<extra></extra>\", \"legendgroup\": \"Los Angeles\", \"line\": {\"color\": \"#FF97FF\", \"dash\": \"solid\"}, \"mode\": \"lines\", \"name\": \"Los Angeles\", \"showlegend\": true, \"type\": \"scattergl\", \"x\": [2000.0, 2001.0, 2002.0, 2003.0, 2004.0, 2005.0, 2006.0, 2007.0, 2008.0, 2009.0, 2010.0, 2011.0, 2012.0, 2013.0, 2014.0, 2015.0, 2016.0, 2017.0, 2018.0, 2019.0], \"xaxis\": \"x\", \"y\": [12237445.21, 12263807.08, 12023878.4, 12312500.12, 12140163.62, 13227651.14, 11471878.22, 10944053.47, 9926639.39, 8688818.26, 8264268.73, 8233623.28, 8141712.49, 8266414.53, 8506648.68, 9050134.96, 9625184.38, 10170204.87, 10417283.86, 11141950.72], \"yaxis\": \"y\"}, {\"hovertemplate\": \"County=Madera<br>Year=%{x}<br>Waste Produced (Tons)=%{y}<extra></extra>\", \"legendgroup\": \"Madera\", \"line\": {\"color\": \"#FECB52\", \"dash\": \"solid\"}, \"mode\": \"lines\", \"name\": \"Madera\", \"showlegend\": true, \"type\": \"scattergl\", \"x\": [2000.0, 2001.0, 2002.0, 2003.0, 2004.0, 2005.0, 2006.0, 2007.0, 2008.0, 2009.0, 2010.0, 2011.0, 2012.0, 2013.0, 2014.0, 2015.0, 2016.0, 2017.0, 2018.0, 2019.0], \"xaxis\": \"x\", \"y\": [98321.12, 103606.47, 106891.38, 116390.88, 126617.9, 144117.73, 160801.17, 137693.46, 129800.35, 120676.23, 118507.7, 111497.17, 117353.94, 114475.64, 110732.89, 122948.37, 138479.25, 136635.62, 143714.94, 158630.22], \"yaxis\": \"y\"}, {\"hovertemplate\": \"County=Marin<br>Year=%{x}<br>Waste Produced (Tons)=%{y}<extra></extra>\", \"legendgroup\": \"Marin\", \"line\": {\"color\": \"#636efa\", \"dash\": \"solid\"}, \"mode\": \"lines\", \"name\": \"Marin\", \"showlegend\": true, \"type\": \"scattergl\", \"x\": [2000.0, 2001.0, 2002.0, 2003.0, 2004.0, 2005.0, 2006.0, 2007.0, 2008.0, 2009.0, 2010.0, 2011.0, 2012.0, 2013.0, 2014.0, 2015.0, 2016.0, 2017.0, 2018.0, 2019.0], \"xaxis\": \"x\", \"y\": [216211.18, 236557.6, 227375.04, 228782.87, 225028.46, 237145.85, 243037.75, 229271.18, 210849.43, 179919.32, 180106.09, 174514.28, 180704.22, 184470.54, 177022.31, 188106.43, 223071.2, 231661.88, 250465.71, 241254.45], \"yaxis\": \"y\"}, {\"hovertemplate\": \"County=Mariposa<br>Year=%{x}<br>Waste Produced (Tons)=%{y}<extra></extra>\", \"legendgroup\": \"Mariposa\", \"line\": {\"color\": \"#EF553B\", \"dash\": \"solid\"}, \"mode\": \"lines\", \"name\": \"Mariposa\", \"showlegend\": true, \"type\": \"scattergl\", \"x\": [2000.0, 2001.0, 2002.0, 2003.0, 2004.0, 2005.0, 2006.0, 2007.0, 2008.0, 2009.0, 2010.0, 2011.0, 2012.0, 2013.0, 2014.0, 2015.0, 2016.0, 2017.0, 2018.0, 2019.0], \"xaxis\": \"x\", \"y\": [12684.09, 11729.12, 12654.9, 10531.67, 11581.26, 15567.52, 16419.47, 14151.33, 12830.46, 11330.11, 12009.73, 13129.64, 11362.37, 15418.69, 12486.86, 12084.0, 14394.18, 34559.43, 13706.04, 27390.23], \"yaxis\": \"y\"}, {\"hovertemplate\": \"County=Mendocino<br>Year=%{x}<br>Waste Produced (Tons)=%{y}<extra></extra>\", \"legendgroup\": \"Mendocino\", \"line\": {\"color\": \"#00cc96\", \"dash\": \"solid\"}, \"mode\": \"lines\", \"name\": \"Mendocino\", \"showlegend\": true, \"type\": \"scattergl\", \"x\": [2000.0, 2001.0, 2002.0, 2003.0, 2004.0, 2005.0, 2006.0, 2007.0, 2008.0, 2009.0, 2010.0, 2011.0, 2012.0, 2013.0, 2014.0, 2015.0, 2016.0, 2017.0, 2018.0, 2019.0], \"xaxis\": \"x\", \"y\": [59580.17, 60053.43, 67604.11, 72256.08, 78924.95, 73069.75, 82144.35, 72550.56, 65401.13, 52476.78, 48519.59, 50934.01, 51224.14, 56428.99, 55097.79, 65688.07, 62372.16, 91985.27, 122166.7, 48914.65], \"yaxis\": \"y\"}, {\"hovertemplate\": \"County=Merced<br>Year=%{x}<br>Waste Produced (Tons)=%{y}<extra></extra>\", \"legendgroup\": \"Merced\", \"line\": {\"color\": \"#ab63fa\", \"dash\": \"solid\"}, \"mode\": \"lines\", \"name\": \"Merced\", \"showlegend\": true, \"type\": \"scattergl\", \"x\": [2000.0, 2001.0, 2002.0, 2003.0, 2004.0, 2005.0, 2006.0, 2007.0, 2008.0, 2009.0, 2010.0, 2011.0, 2012.0, 2013.0, 2014.0, 2015.0, 2016.0, 2017.0, 2018.0, 2019.0], \"xaxis\": \"x\", \"y\": [206467.26, 213647.28, 229705.69, 249482.13, 265342.11, 290656.37, 278392.93, 257332.11, 238882.52, 224097.99, 212516.51, 209846.95, 201860.63, 207821.74, 234381.52, 233899.07, 249437.25, 268648.65, 264643.71, 277454.07], \"yaxis\": \"y\"}, {\"hovertemplate\": \"County=Modoc<br>Year=%{x}<br>Waste Produced (Tons)=%{y}<extra></extra>\", \"legendgroup\": \"Modoc\", \"line\": {\"color\": \"#FFA15A\", \"dash\": \"solid\"}, \"mode\": \"lines\", \"name\": \"Modoc\", \"showlegend\": true, \"type\": \"scattergl\", \"x\": [2000.0, 2004.0, 2009.0, 2011.0, 2012.0, 2013.0, 2014.0, 2015.0, 2016.0, 2017.0, 2018.0, 2019.0], \"xaxis\": \"x\", \"y\": [72.0, 2.27, 18.58, 15.19, 107.91, 17.14, 4.23, 2.4, 5.26, 18.29, 60.61, 11537.13], \"yaxis\": \"y\"}, {\"hovertemplate\": \"County=Mono<br>Year=%{x}<br>Waste Produced (Tons)=%{y}<extra></extra>\", \"legendgroup\": \"Mono\", \"line\": {\"color\": \"#19d3f3\", \"dash\": \"solid\"}, \"mode\": \"lines\", \"name\": \"Mono\", \"showlegend\": true, \"type\": \"scattergl\", \"x\": [2000.0, 2001.0, 2002.0, 2003.0, 2004.0, 2005.0, 2006.0, 2007.0, 2008.0, 2009.0, 2010.0, 2011.0, 2012.0, 2013.0, 2014.0, 2015.0, 2016.0, 2017.0, 2018.0, 2019.0], \"xaxis\": \"x\", \"y\": [27233.44, 30785.25, 27370.09, 30225.59, 27862.46, 34241.55, 38758.03, 33536.81, 28014.93, 22171.11, 20649.36, 21420.69, 21364.37, 19781.73, 18770.43, 22026.03, 22223.79, 23814.65, 23082.11, 27669.37], \"yaxis\": \"y\"}, {\"hovertemplate\": \"County=Monterey<br>Year=%{x}<br>Waste Produced (Tons)=%{y}<extra></extra>\", \"legendgroup\": \"Monterey\", \"line\": {\"color\": \"#FF6692\", \"dash\": \"solid\"}, \"mode\": \"lines\", \"name\": \"Monterey\", \"showlegend\": true, \"type\": \"scattergl\", \"x\": [2000.0, 2001.0, 2002.0, 2003.0, 2004.0, 2005.0, 2006.0, 2007.0, 2008.0, 2009.0, 2010.0, 2011.0, 2012.0, 2013.0, 2014.0, 2015.0, 2016.0, 2017.0, 2018.0, 2019.0], \"xaxis\": \"x\", \"y\": [422302.12, 421176.42, 424477.27, 426125.77, 447085.97, 468708.26, 448090.95, 416300.49, 387386.57, 351205.0, 344983.14, 326933.83, 326003.19, 339611.11, 348283.01, 365031.05, 406045.04, 445145.77, 454561.78, 516537.48], \"yaxis\": \"y\"}, {\"hovertemplate\": \"County=Napa<br>Year=%{x}<br>Waste Produced (Tons)=%{y}<extra></extra>\", \"legendgroup\": \"Napa\", \"line\": {\"color\": \"#B6E880\", \"dash\": \"solid\"}, \"mode\": \"lines\", \"name\": \"Napa\", \"showlegend\": true, \"type\": \"scattergl\", \"x\": [2000.0, 2001.0, 2002.0, 2003.0, 2004.0, 2005.0, 2006.0, 2007.0, 2008.0, 2009.0, 2010.0, 2011.0, 2012.0, 2013.0, 2014.0, 2015.0, 2016.0, 2017.0, 2018.0, 2019.0], \"xaxis\": \"x\", \"y\": [133847.31, 160401.75, 184994.82, 200465.63, 192344.82, 178357.53, 176033.93, 153655.92, 135517.62, 101233.35, 114851.1, 106196.24, 99518.12, 106555.83, 120497.74, 124258.7, 129346.34, 188270.06, 231472.15, 180694.75], \"yaxis\": \"y\"}, {\"hovertemplate\": \"County=Nevada<br>Year=%{x}<br>Waste Produced (Tons)=%{y}<extra></extra>\", \"legendgroup\": \"Nevada\", \"line\": {\"color\": \"#FF97FF\", \"dash\": \"solid\"}, \"mode\": \"lines\", \"name\": \"Nevada\", \"showlegend\": true, \"type\": \"scattergl\", \"x\": [2000.0, 2001.0, 2002.0, 2003.0, 2004.0, 2005.0, 2006.0, 2007.0, 2008.0, 2009.0, 2010.0, 2011.0, 2012.0, 2013.0, 2014.0, 2015.0, 2016.0, 2017.0, 2018.0, 2019.0], \"xaxis\": \"x\", \"y\": [17350.02, 18078.37, 22322.39, 61530.43, 64259.42, 67255.71, 66843.63, 60370.69, 56210.8, 53534.04, 53225.73, 50581.11, 33834.64, 4416.24, 6054.23, 7813.22, 4353.64, 19861.38, 6487.96, 9022.35], \"yaxis\": \"y\"}, {\"hovertemplate\": \"County=Orange<br>Year=%{x}<br>Waste Produced (Tons)=%{y}<extra></extra>\", \"legendgroup\": \"Orange\", \"line\": {\"color\": \"#FECB52\", \"dash\": \"solid\"}, \"mode\": \"lines\", \"name\": \"Orange\", \"showlegend\": true, \"type\": \"scattergl\", \"x\": [2000.0, 2001.0, 2002.0, 2003.0, 2004.0, 2005.0, 2006.0, 2007.0, 2008.0, 2009.0, 2010.0, 2011.0, 2012.0, 2013.0, 2014.0, 2015.0, 2016.0, 2017.0, 2018.0, 2019.0], \"xaxis\": \"x\", \"y\": [3803041.49, 3848148.08, 3796608.31, 3998052.11, 4196808.89, 4290785.15, 3862255.02, 3548339.71, 3202870.04, 2855407.1, 2803813.17, 2719237.41, 2695717.76, 2757702.88, 2893518.08, 3013489.3, 3087161.18, 3262162.12, 3351214.16, 3373309.25], \"yaxis\": \"y\"}, {\"hovertemplate\": \"County=Placer<br>Year=%{x}<br>Waste Produced (Tons)=%{y}<extra></extra>\", \"legendgroup\": \"Placer\", \"line\": {\"color\": \"#636efa\", \"dash\": \"solid\"}, \"mode\": \"lines\", \"name\": \"Placer\", \"showlegend\": true, \"type\": \"scattergl\", \"x\": [2000.0, 2001.0, 2002.0, 2003.0, 2004.0, 2005.0, 2006.0, 2007.0, 2008.0, 2009.0, 2010.0, 2011.0, 2012.0, 2013.0, 2014.0, 2015.0, 2016.0, 2017.0, 2018.0, 2019.0], \"xaxis\": \"x\", \"y\": [213410.5, 246004.95, 263783.24, 292039.76, 303304.35, 305694.06, 310750.26, 290955.72, 251583.13, 223401.68, 218358.1, 211007.34, 208360.03, 223489.86, 227722.65, 244973.64, 266427.85, 291106.66, 303921.17, 281556.39], \"yaxis\": \"y\"}, {\"hovertemplate\": \"County=Plumas<br>Year=%{x}<br>Waste Produced (Tons)=%{y}<extra></extra>\", \"legendgroup\": \"Plumas\", \"line\": {\"color\": \"#EF553B\", \"dash\": \"solid\"}, \"mode\": \"lines\", \"name\": \"Plumas\", \"showlegend\": true, \"type\": \"scattergl\", \"x\": [2000.0, 2001.0, 2002.0, 2003.0, 2004.0, 2005.0, 2006.0, 2007.0, 2008.0, 2009.0, 2010.0, 2011.0, 2012.0, 2013.0, 2014.0, 2015.0, 2016.0, 2017.0, 2018.0, 2019.0], \"xaxis\": \"x\", \"y\": [1310.57, 1249.2, 1043.45, 822.55, 253.84, 147.45, 137.97, 623.04, 56.41, 93.59, 36.27, 157.98, 140.87, 217.58, 367.28, 740.39, 173.77, 263.56, 261.0, 173.99], \"yaxis\": \"y\"}, {\"hovertemplate\": \"County=Riverside<br>Year=%{x}<br>Waste Produced (Tons)=%{y}<extra></extra>\", \"legendgroup\": \"Riverside\", \"line\": {\"color\": \"#00cc96\", \"dash\": \"solid\"}, \"mode\": \"lines\", \"name\": \"Riverside\", \"showlegend\": true, \"type\": \"scattergl\", \"x\": [2000.0, 2001.0, 2002.0, 2003.0, 2004.0, 2005.0, 2006.0, 2007.0, 2008.0, 2009.0, 2010.0, 2011.0, 2012.0, 2013.0, 2014.0, 2015.0, 2016.0, 2017.0, 2018.0, 2019.0], \"xaxis\": \"x\", \"y\": [1649413.37, 1739298.57, 1845054.81, 2033106.79, 2293982.84, 2525910.5, 2525589.34, 2356738.91, 2075923.75, 1755725.42, 1782985.78, 1747413.67, 1744578.5, 1843028.07, 1897263.69, 2037162.81, 2158648.41, 2322650.95, 2442097.02, 2515629.02], \"yaxis\": \"y\"}, {\"hovertemplate\": \"County=Sacramento<br>Year=%{x}<br>Waste Produced (Tons)=%{y}<extra></extra>\", \"legendgroup\": \"Sacramento\", \"line\": {\"color\": \"#ab63fa\", \"dash\": \"solid\"}, \"mode\": \"lines\", \"name\": \"Sacramento\", \"showlegend\": true, \"type\": \"scattergl\", \"x\": [2000.0, 2001.0, 2002.0, 2003.0, 2004.0, 2005.0, 2006.0, 2007.0, 2008.0, 2009.0, 2010.0, 2011.0, 2012.0, 2013.0, 2014.0, 2015.0, 2016.0, 2017.0, 2018.0, 2019.0], \"xaxis\": \"x\", \"y\": [941057.65, 1002216.48, 1132062.37, 1346924.28, 1393964.46, 1466809.2, 1414023.86, 1236456.41, 1117330.59, 955088.0, 954053.07, 991936.12, 957194.03, 1043908.12, 1056532.55, 1121085.93, 1205624.42, 1359861.76, 1362828.22, 1406241.62], \"yaxis\": \"y\"}, {\"hovertemplate\": \"County=San Benito<br>Year=%{x}<br>Waste Produced (Tons)=%{y}<extra></extra>\", \"legendgroup\": \"San Benito\", \"line\": {\"color\": \"#FFA15A\", \"dash\": \"solid\"}, \"mode\": \"lines\", \"name\": \"San Benito\", \"showlegend\": true, \"type\": \"scattergl\", \"x\": [2000.0, 2001.0, 2002.0, 2003.0, 2004.0, 2005.0, 2006.0, 2007.0, 2008.0, 2009.0, 2010.0, 2011.0, 2012.0, 2013.0, 2014.0, 2015.0, 2016.0, 2017.0, 2018.0, 2019.0], \"xaxis\": \"x\", \"y\": [66434.16, 64537.44, 60232.15, 65500.81, 62117.58, 59804.25, 59444.48, 55684.12, 48794.94, 49909.49, 52729.01, 52459.01, 55803.38, 54190.84, 50505.18, 72448.88, 74475.25, 80251.56, 86457.14, 88184.37], \"yaxis\": \"y\"}, {\"hovertemplate\": \"County=San Bernardino<br>Year=%{x}<br>Waste Produced (Tons)=%{y}<extra></extra>\", \"legendgroup\": \"San Bernardino\", \"line\": {\"color\": \"#19d3f3\", \"dash\": \"solid\"}, \"mode\": \"lines\", \"name\": \"San Bernardino\", \"showlegend\": true, \"type\": \"scattergl\", \"x\": [2000.0, 2001.0, 2002.0, 2003.0, 2004.0, 2005.0, 2006.0, 2007.0, 2008.0, 2009.0, 2010.0, 2011.0, 2012.0, 2013.0, 2014.0, 2015.0, 2016.0, 2017.0, 2018.0, 2019.0], \"xaxis\": \"x\", \"y\": [1762385.98, 1888556.78, 1931424.51, 2107128.88, 2235251.83, 2349002.83, 2292245.48, 2171711.06, 1943398.93, 1609726.05, 1591512.22, 1555110.15, 1492333.67, 1571158.05, 1589490.38, 1670832.88, 1728326.52, 1850456.16, 1938900.18, 1978070.48], \"yaxis\": \"y\"}, {\"hovertemplate\": \"County=San Diego<br>Year=%{x}<br>Waste Produced (Tons)=%{y}<extra></extra>\", \"legendgroup\": \"San Diego\", \"line\": {\"color\": \"#FF6692\", \"dash\": \"solid\"}, \"mode\": \"lines\", \"name\": \"San Diego\", \"showlegend\": true, \"type\": \"scattergl\", \"x\": [2000.0, 2001.0, 2002.0, 2003.0, 2004.0, 2005.0, 2006.0, 2007.0, 2008.0, 2009.0, 2010.0, 2011.0, 2012.0, 2013.0, 2014.0, 2015.0, 2016.0, 2017.0, 2018.0, 2019.0], \"xaxis\": \"x\", \"y\": [3408059.62, 3739143.1, 3767567.27, 4000781.99, 4098640.55, 4181732.39, 3969057.94, 3730448.58, 3413957.15, 3081141.78, 2987483.79, 3045133.39, 2875287.88, 3007350.6, 3131969.45, 3296372.52, 3317215.85, 3424269.04, 3548653.61, 3200806.27], \"yaxis\": \"y\"}, {\"hovertemplate\": \"County=San Francisco<br>Year=%{x}<br>Waste Produced (Tons)=%{y}<extra></extra>\", \"legendgroup\": \"San Francisco\", \"line\": {\"color\": \"#B6E880\", \"dash\": \"solid\"}, \"mode\": \"lines\", \"name\": \"San Francisco\", \"showlegend\": true, \"type\": \"scattergl\", \"x\": [2000.0, 2001.0, 2002.0, 2003.0, 2004.0, 2005.0, 2006.0, 2007.0, 2008.0, 2009.0, 2010.0, 2011.0, 2012.0, 2013.0, 2014.0, 2015.0, 2016.0, 2017.0, 2018.0, 2019.0], \"xaxis\": \"x\", \"y\": [872707.49, 856063.8, 758701.1, 718863.26, 691626.15, 675278.4, 695573.82, 628864.02, 594660.37, 484812.04, 455331.84, 446634.73, 454570.16, 476423.83, 529474.27, 590100.0, 600231.49, 626997.05, 739690.89, 713009.58], \"yaxis\": \"y\"}, {\"hovertemplate\": \"County=San Joaquin<br>Year=%{x}<br>Waste Produced (Tons)=%{y}<extra></extra>\", \"legendgroup\": \"San Joaquin\", \"line\": {\"color\": \"#FF97FF\", \"dash\": \"solid\"}, \"mode\": \"lines\", \"name\": \"San Joaquin\", \"showlegend\": true, \"type\": \"scattergl\", \"x\": [2000.0, 2001.0, 2002.0, 2003.0, 2004.0, 2005.0, 2006.0, 2007.0, 2008.0, 2009.0, 2010.0, 2011.0, 2012.0, 2013.0, 2014.0, 2015.0, 2016.0, 2017.0, 2018.0, 2019.0], \"xaxis\": \"x\", \"y\": [677344.35, 721085.63, 775174.59, 804404.96, 776938.85, 784407.78, 785097.76, 776150.09, 699621.14, 592075.35, 601819.62, 596701.01, 580940.63, 614665.98, 639175.86, 684297.79, 746048.6, 824601.15, 903737.21, 880241.79], \"yaxis\": \"y\"}, {\"hovertemplate\": \"County=San Luis Obispo<br>Year=%{x}<br>Waste Produced (Tons)=%{y}<extra></extra>\", \"legendgroup\": \"San Luis Obispo\", \"line\": {\"color\": \"#FECB52\", \"dash\": \"solid\"}, \"mode\": \"lines\", \"name\": \"San Luis Obispo\", \"showlegend\": true, \"type\": \"scattergl\", \"x\": [2000.0, 2001.0, 2002.0, 2003.0, 2004.0, 2005.0, 2006.0, 2007.0, 2008.0, 2009.0, 2010.0, 2011.0, 2012.0, 2013.0, 2014.0, 2015.0, 2016.0, 2017.0, 2018.0, 2019.0], \"xaxis\": \"x\", \"y\": [257335.62, 293688.22, 271239.39, 284651.36, 287765.77, 289226.93, 274419.76, 263871.57, 236892.0, 231439.04, 226987.06, 228975.65, 215344.52, 234917.78, 243378.01, 255724.73, 299713.14, 310405.29, 290200.69, 288432.48], \"yaxis\": \"y\"}, {\"hovertemplate\": \"County=San Mateo<br>Year=%{x}<br>Waste Produced (Tons)=%{y}<extra></extra>\", \"legendgroup\": \"San Mateo\", \"line\": {\"color\": \"#636efa\", \"dash\": \"solid\"}, \"mode\": \"lines\", \"name\": \"San Mateo\", \"showlegend\": true, \"type\": \"scattergl\", \"x\": [2000.0, 2001.0, 2002.0, 2003.0, 2004.0, 2005.0, 2006.0, 2007.0, 2008.0, 2009.0, 2010.0, 2011.0, 2012.0, 2013.0, 2014.0, 2015.0, 2016.0, 2017.0, 2018.0, 2019.0], \"xaxis\": \"x\", \"y\": [911601.44, 883177.28, 808867.04, 747374.02, 744158.28, 760943.5, 722542.79, 677036.66, 655537.5, 586003.27, 557625.81, 518257.97, 530811.86, 543722.63, 550663.05, 583989.7, 597070.92, 612396.85, 598840.14, 623371.35], \"yaxis\": \"y\"}, {\"hovertemplate\": \"County=Santa Barbara<br>Year=%{x}<br>Waste Produced (Tons)=%{y}<extra></extra>\", \"legendgroup\": \"Santa Barbara\", \"line\": {\"color\": \"#EF553B\", \"dash\": \"solid\"}, \"mode\": \"lines\", \"name\": \"Santa Barbara\", \"showlegend\": true, \"type\": \"scattergl\", \"x\": [2000.0, 2001.0, 2002.0, 2003.0, 2004.0, 2005.0, 2006.0, 2007.0, 2008.0, 2009.0, 2010.0, 2011.0, 2012.0, 2013.0, 2014.0, 2015.0, 2016.0, 2017.0, 2018.0, 2019.0], \"xaxis\": \"x\", \"y\": [446328.88, 622868.1, 505393.35, 541545.8, 559084.38, 493219.95, 442103.02, 427429.73, 422605.03, 362935.47, 339739.77, 329227.2, 335185.84, 362229.03, 353131.21, 388220.85, 415705.68, 417420.87, 455075.02, 435073.91], \"yaxis\": \"y\"}, {\"hovertemplate\": \"County=Santa Clara<br>Year=%{x}<br>Waste Produced (Tons)=%{y}<extra></extra>\", \"legendgroup\": \"Santa Clara\", \"line\": {\"color\": \"#00cc96\", \"dash\": \"solid\"}, \"mode\": \"lines\", \"name\": \"Santa Clara\", \"showlegend\": true, \"type\": \"scattergl\", \"x\": [2000.0, 2001.0, 2002.0, 2003.0, 2004.0, 2005.0, 2006.0, 2007.0, 2008.0, 2009.0, 2010.0, 2011.0, 2012.0, 2013.0, 2014.0, 2015.0, 2016.0, 2017.0, 2018.0, 2019.0], \"xaxis\": \"x\", \"y\": [1640208.36, 1545436.62, 1416202.52, 1412047.82, 1394112.14, 1443168.33, 1505661.26, 1417237.78, 1363751.11, 1189285.92, 1170683.29, 1126235.41, 1108511.62, 1133189.22, 1244464.37, 1335115.88, 1366218.25, 1475585.74, 1513136.01, 1452222.43], \"yaxis\": \"y\"}, {\"hovertemplate\": \"County=Santa Cruz<br>Year=%{x}<br>Waste Produced (Tons)=%{y}<extra></extra>\", \"legendgroup\": \"Santa Cruz\", \"line\": {\"color\": \"#ab63fa\", \"dash\": \"solid\"}, \"mode\": \"lines\", \"name\": \"Santa Cruz\", \"showlegend\": true, \"type\": \"scattergl\", \"x\": [2000.0, 2001.0, 2002.0, 2003.0, 2004.0, 2005.0, 2006.0, 2007.0, 2008.0, 2009.0, 2010.0, 2011.0, 2012.0, 2013.0, 2014.0, 2015.0, 2016.0, 2017.0, 2018.0, 2019.0], \"xaxis\": \"x\", \"y\": [269697.59, 246954.49, 240506.58, 242172.75, 248200.17, 242151.18, 221000.23, 206971.52, 186303.52, 168341.91, 169540.46, 164883.37, 163579.27, 161813.83, 171722.01, 191746.24, 210993.77, 213359.01, 225452.04, 234708.67], \"yaxis\": \"y\"}, {\"hovertemplate\": \"County=Shasta<br>Year=%{x}<br>Waste Produced (Tons)=%{y}<extra></extra>\", \"legendgroup\": \"Shasta\", \"line\": {\"color\": \"#FFA15A\", \"dash\": \"solid\"}, \"mode\": \"lines\", \"name\": \"Shasta\", \"showlegend\": true, \"type\": \"scattergl\", \"x\": [2000.0, 2001.0, 2002.0, 2003.0, 2004.0, 2005.0, 2006.0, 2007.0, 2008.0, 2009.0, 2010.0, 2011.0, 2012.0, 2013.0, 2014.0, 2015.0, 2016.0, 2017.0, 2018.0, 2019.0], \"xaxis\": \"x\", \"y\": [171144.66, 164453.1, 168947.74, 177741.52, 188978.5, 186569.17, 187909.09, 186170.23, 167685.25, 151137.51, 147126.52, 153079.06, 145029.86, 163217.23, 155573.8, 164822.98, 177336.64, 197638.43, 623720.2, 200160.07], \"yaxis\": \"y\"}, {\"hovertemplate\": \"County=Sierra<br>Year=%{x}<br>Waste Produced (Tons)=%{y}<extra></extra>\", \"legendgroup\": \"Sierra\", \"line\": {\"color\": \"#19d3f3\", \"dash\": \"solid\"}, \"mode\": \"lines\", \"name\": \"Sierra\", \"showlegend\": true, \"type\": \"scattergl\", \"x\": [2000.0, 2001.0, 2002.0, 2003.0, 2004.0, 2005.0, 2006.0, 2007.0, 2008.0, 2009.0, 2010.0, 2011.0, 2012.0, 2013.0, 2014.0, 2015.0, 2016.0, 2017.0, 2019.0], \"xaxis\": \"x\", \"y\": [2820.0, 2721.23, 2382.39, 2808.0, 2387.9, 3553.26, 3461.03, 3925.29, 2759.0, 2102.08, 2559.0, 2122.53, 2136.47, 2461.0, 2907.29, 2244.39, 2674.81, 1288.07, 15.34], \"yaxis\": \"y\"}, {\"hovertemplate\": \"County=Siskiyou<br>Year=%{x}<br>Waste Produced (Tons)=%{y}<extra></extra>\", \"legendgroup\": \"Siskiyou\", \"line\": {\"color\": \"#FF6692\", \"dash\": \"solid\"}, \"mode\": \"lines\", \"name\": \"Siskiyou\", \"showlegend\": true, \"type\": \"scattergl\", \"x\": [2000.0, 2001.0, 2002.0, 2003.0, 2004.0, 2005.0, 2006.0, 2007.0, 2008.0, 2009.0, 2010.0, 2011.0, 2012.0, 2013.0, 2014.0, 2015.0, 2016.0, 2017.0, 2018.0, 2019.0], \"xaxis\": \"x\", \"y\": [15336.5, 15770.0, 14672.0, 13160.47, 21480.0, 31496.7, 34447.03, 33790.46, 32440.3, 29197.87, 29321.42, 29548.55, 28318.43, 26778.62, 22660.44, 101.15, 335.36, 305.48, 3439.56, 951.74], \"yaxis\": \"y\"}, {\"hovertemplate\": \"County=Solano<br>Year=%{x}<br>Waste Produced (Tons)=%{y}<extra></extra>\", \"legendgroup\": \"Solano\", \"line\": {\"color\": \"#B6E880\", \"dash\": \"solid\"}, \"mode\": \"lines\", \"name\": \"Solano\", \"showlegend\": true, \"type\": \"scattergl\", \"x\": [2000.0, 2001.0, 2002.0, 2003.0, 2004.0, 2005.0, 2006.0, 2007.0, 2008.0, 2009.0, 2010.0, 2011.0, 2012.0, 2013.0, 2014.0, 2015.0, 2016.0, 2017.0, 2018.0, 2019.0], \"xaxis\": \"x\", \"y\": [353832.4, 412885.1, 424597.5, 456710.49, 464464.21, 456150.6, 465661.79, 421837.87, 388312.79, 339322.32, 327992.23, 312759.52, 307847.84, 323276.45, 331940.8, 351731.47, 430608.57, 472685.59, 442008.48, 437553.11], \"yaxis\": \"y\"}, {\"hovertemplate\": \"County=Sonoma<br>Year=%{x}<br>Waste Produced (Tons)=%{y}<extra></extra>\", \"legendgroup\": \"Sonoma\", \"line\": {\"color\": \"#FF97FF\", \"dash\": \"solid\"}, \"mode\": \"lines\", \"name\": \"Sonoma\", \"showlegend\": true, \"type\": \"scattergl\", \"x\": [2000.0, 2001.0, 2002.0, 2003.0, 2004.0, 2005.0, 2006.0, 2007.0, 2008.0, 2009.0, 2010.0, 2011.0, 2012.0, 2013.0, 2014.0, 2015.0, 2016.0, 2017.0, 2018.0, 2019.0], \"xaxis\": \"x\", \"y\": [531409.29, 543029.49, 538144.06, 544756.34, 545535.79, 532281.19, 499060.77, 445428.21, 400310.63, 351715.35, 362763.18, 326937.19, 307763.99, 322066.71, 326267.14, 388362.5, 427352.92, 948776.88, 1245678.97, 472841.01], \"yaxis\": \"y\"}, {\"hovertemplate\": \"County=Stanislaus<br>Year=%{x}<br>Waste Produced (Tons)=%{y}<extra></extra>\", \"legendgroup\": \"Stanislaus\", \"line\": {\"color\": \"#FECB52\", \"dash\": \"solid\"}, \"mode\": \"lines\", \"name\": \"Stanislaus\", \"showlegend\": true, \"type\": \"scattergl\", \"x\": [2000.0, 2001.0, 2002.0, 2003.0, 2004.0, 2005.0, 2006.0, 2007.0, 2008.0, 2009.0, 2010.0, 2011.0, 2012.0, 2013.0, 2014.0, 2015.0, 2016.0, 2017.0, 2018.0, 2019.0], \"xaxis\": \"x\", \"y\": [207878.35, 238902.94, 225866.28, 246186.61, 297695.39, 334500.68, 379150.14, 302650.81, 287700.06, 189607.58, 217738.02, 207355.0, 214240.84, 226461.64, 243275.64, 308928.95, 340413.58, 336099.58, 391722.74, 365579.18], \"yaxis\": \"y\"}, {\"hovertemplate\": \"County=Tehama<br>Year=%{x}<br>Waste Produced (Tons)=%{y}<extra></extra>\", \"legendgroup\": \"Tehama\", \"line\": {\"color\": \"#636efa\", \"dash\": \"solid\"}, \"mode\": \"lines\", \"name\": \"Tehama\", \"showlegend\": true, \"type\": \"scattergl\", \"x\": [2000.0, 2001.0, 2002.0, 2003.0, 2004.0, 2005.0, 2006.0, 2007.0, 2008.0, 2009.0, 2010.0, 2011.0, 2012.0, 2013.0, 2014.0, 2015.0, 2016.0, 2017.0, 2018.0, 2019.0], \"xaxis\": \"x\", \"y\": [44538.78, 44892.98, 48853.16, 52666.53, 51670.35, 55546.41, 54648.64, 48038.81, 44438.3, 41593.54, 67376.14, 204634.17, 41905.92, 45324.38, 47692.02, 50252.25, 61476.21, 61808.91, 59132.46, 66278.44], \"yaxis\": \"y\"}, {\"hovertemplate\": \"County=Trinity<br>Year=%{x}<br>Waste Produced (Tons)=%{y}<extra></extra>\", \"legendgroup\": \"Trinity\", \"line\": {\"color\": \"#EF553B\", \"dash\": \"solid\"}, \"mode\": \"lines\", \"name\": \"Trinity\", \"showlegend\": true, \"type\": \"scattergl\", \"x\": [2000.0, 2001.0, 2002.0, 2003.0, 2004.0, 2005.0, 2006.0, 2007.0, 2008.0, 2009.0, 2010.0, 2011.0, 2012.0, 2013.0, 2014.0, 2015.0, 2016.0, 2017.0, 2018.0, 2019.0], \"xaxis\": \"x\", \"y\": [5979.43, 6120.83, 6892.05, 7247.18, 7389.0, 7663.0, 8370.53, 8060.22, 8016.73, 7683.0, 7383.6, 7741.88, 7473.19, 8294.18, 7515.39, 9529.34, 9751.49, 28012.22, 7633.0, 8752.43], \"yaxis\": \"y\"}, {\"hovertemplate\": \"County=Tulare<br>Year=%{x}<br>Waste Produced (Tons)=%{y}<extra></extra>\", \"legendgroup\": \"Tulare\", \"line\": {\"color\": \"#00cc96\", \"dash\": \"solid\"}, \"mode\": \"lines\", \"name\": \"Tulare\", \"showlegend\": true, \"type\": \"scattergl\", \"x\": [2000.0, 2001.0, 2002.0, 2003.0, 2004.0, 2005.0, 2006.0, 2007.0, 2008.0, 2009.0, 2010.0, 2011.0, 2012.0, 2013.0, 2014.0, 2015.0, 2016.0, 2017.0, 2018.0, 2019.0], \"xaxis\": \"x\", \"y\": [324877.46, 321266.8, 334878.36, 361310.1, 384676.32, 436935.69, 432089.02, 395371.85, 354404.17, 319190.04, 311870.94, 311982.44, 307910.38, 314520.55, 330722.3, 345785.53, 374898.1, 439237.04, 423906.9, 446633.6], \"yaxis\": \"y\"}, {\"hovertemplate\": \"County=Tuolumne<br>Year=%{x}<br>Waste Produced (Tons)=%{y}<extra></extra>\", \"legendgroup\": \"Tuolumne\", \"line\": {\"color\": \"#ab63fa\", \"dash\": \"solid\"}, \"mode\": \"lines\", \"name\": \"Tuolumne\", \"showlegend\": true, \"type\": \"scattergl\", \"x\": [2000.0, 2001.0, 2002.0, 2003.0, 2004.0, 2005.0, 2006.0, 2007.0, 2008.0, 2009.0, 2010.0, 2011.0, 2012.0, 2013.0, 2014.0, 2015.0, 2016.0, 2017.0, 2018.0, 2019.0], \"xaxis\": \"x\", \"y\": [1404.87, 2375.61, 9137.96, 43176.43, 49845.23, 49302.83, 49027.1, 48453.02, 43291.76, 40617.06, 40055.71, 37695.26, 35480.65, 37167.14, 35498.64, 37022.26, 42223.46, 45119.88, 45826.26, 46559.93], \"yaxis\": \"y\"}, {\"hovertemplate\": \"County=Ventura<br>Year=%{x}<br>Waste Produced (Tons)=%{y}<extra></extra>\", \"legendgroup\": \"Ventura\", \"line\": {\"color\": \"#FFA15A\", \"dash\": \"solid\"}, \"mode\": \"lines\", \"name\": \"Ventura\", \"showlegend\": true, \"type\": \"scattergl\", \"x\": [2000.0, 2001.0, 2002.0, 2003.0, 2004.0, 2005.0, 2006.0, 2007.0, 2008.0, 2009.0, 2010.0, 2011.0, 2012.0, 2013.0, 2014.0, 2015.0, 2016.0, 2017.0, 2018.0, 2019.0], \"xaxis\": \"x\", \"y\": [892546.33, 901154.1, 924045.94, 972890.08, 1038354.71, 1077746.64, 1030471.45, 959962.59, 869250.02, 783285.17, 778313.49, 769624.5, 774173.26, 793453.88, 804930.55, 851242.59, 866500.73, 922012.68, 1195379.71, 1003051.31], \"yaxis\": \"y\"}, {\"hovertemplate\": \"County=Yolo<br>Year=%{x}<br>Waste Produced (Tons)=%{y}<extra></extra>\", \"legendgroup\": \"Yolo\", \"line\": {\"color\": \"#19d3f3\", \"dash\": \"solid\"}, \"mode\": \"lines\", \"name\": \"Yolo\", \"showlegend\": true, \"type\": \"scattergl\", \"x\": [2000.0, 2001.0, 2002.0, 2003.0, 2004.0, 2005.0, 2006.0, 2007.0, 2008.0, 2009.0, 2010.0, 2011.0, 2012.0, 2013.0, 2014.0, 2015.0, 2016.0, 2017.0, 2018.0, 2019.0], \"xaxis\": \"x\", \"y\": [174755.11, 185412.5, 187667.02, 201403.25, 211737.46, 220110.81, 208364.11, 198429.53, 185050.31, 160955.81, 159845.53, 148232.59, 152387.1, 156528.51, 170524.89, 169242.78, 178641.2, 188960.55, 195258.12, 192255.23], \"yaxis\": \"y\"}, {\"hovertemplate\": \"County=Yuba<br>Year=%{x}<br>Waste Produced (Tons)=%{y}<extra></extra>\", \"legendgroup\": \"Yuba\", \"line\": {\"color\": \"#FF6692\", \"dash\": \"solid\"}, \"mode\": \"lines\", \"name\": \"Yuba\", \"showlegend\": true, \"type\": \"scattergl\", \"x\": [2000.0, 2001.0, 2002.0, 2003.0, 2004.0, 2005.0, 2006.0, 2007.0, 2008.0, 2009.0, 2010.0, 2011.0, 2012.0, 2013.0, 2014.0, 2015.0, 2016.0, 2017.0, 2018.0, 2019.0], \"xaxis\": \"x\", \"y\": [134134.2, 137442.43, 125448.74, 128904.85, 126818.31, 146772.0, 139649.21, 145878.15, 136830.69, 127629.07, 127258.24, 128421.59, 125012.45, 129117.49, 137785.73, 129424.37, 135728.66, 171346.24, 153207.89, 169463.51], \"yaxis\": \"y\"}],                        {\"legend\": {\"title\": {\"text\": \"County\"}, \"tracegroupgap\": 0}, \"margin\": {\"t\": 60}, \"template\": {\"data\": {\"bar\": [{\"error_x\": {\"color\": \"#2a3f5f\"}, \"error_y\": {\"color\": \"#2a3f5f\"}, \"marker\": {\"line\": {\"color\": \"#E5ECF6\", \"width\": 0.5}}, \"type\": \"bar\"}], \"barpolar\": [{\"marker\": {\"line\": {\"color\": \"#E5ECF6\", \"width\": 0.5}}, \"type\": \"barpolar\"}], \"carpet\": [{\"aaxis\": {\"endlinecolor\": \"#2a3f5f\", \"gridcolor\": \"white\", \"linecolor\": \"white\", \"minorgridcolor\": \"white\", \"startlinecolor\": \"#2a3f5f\"}, \"baxis\": {\"endlinecolor\": \"#2a3f5f\", \"gridcolor\": \"white\", \"linecolor\": \"white\", \"minorgridcolor\": \"white\", \"startlinecolor\": \"#2a3f5f\"}, \"type\": \"carpet\"}], \"choropleth\": [{\"colorbar\": {\"outlinewidth\": 0, \"ticks\": \"\"}, \"type\": \"choropleth\"}], \"contour\": [{\"colorbar\": {\"outlinewidth\": 0, \"ticks\": \"\"}, \"colorscale\": [[0.0, \"#0d0887\"], [0.1111111111111111, \"#46039f\"], [0.2222222222222222, \"#7201a8\"], [0.3333333333333333, \"#9c179e\"], [0.4444444444444444, \"#bd3786\"], [0.5555555555555556, \"#d8576b\"], [0.6666666666666666, \"#ed7953\"], [0.7777777777777778, \"#fb9f3a\"], [0.8888888888888888, \"#fdca26\"], [1.0, \"#f0f921\"]], \"type\": \"contour\"}], \"contourcarpet\": [{\"colorbar\": {\"outlinewidth\": 0, \"ticks\": \"\"}, \"type\": \"contourcarpet\"}], \"heatmap\": [{\"colorbar\": {\"outlinewidth\": 0, \"ticks\": \"\"}, \"colorscale\": [[0.0, \"#0d0887\"], [0.1111111111111111, \"#46039f\"], [0.2222222222222222, \"#7201a8\"], [0.3333333333333333, \"#9c179e\"], [0.4444444444444444, \"#bd3786\"], [0.5555555555555556, \"#d8576b\"], [0.6666666666666666, \"#ed7953\"], [0.7777777777777778, \"#fb9f3a\"], [0.8888888888888888, \"#fdca26\"], [1.0, \"#f0f921\"]], \"type\": \"heatmap\"}], \"heatmapgl\": [{\"colorbar\": {\"outlinewidth\": 0, \"ticks\": \"\"}, \"colorscale\": [[0.0, \"#0d0887\"], [0.1111111111111111, \"#46039f\"], [0.2222222222222222, \"#7201a8\"], [0.3333333333333333, \"#9c179e\"], [0.4444444444444444, \"#bd3786\"], [0.5555555555555556, \"#d8576b\"], [0.6666666666666666, \"#ed7953\"], [0.7777777777777778, \"#fb9f3a\"], [0.8888888888888888, \"#fdca26\"], [1.0, \"#f0f921\"]], \"type\": \"heatmapgl\"}], \"histogram\": [{\"marker\": {\"colorbar\": {\"outlinewidth\": 0, \"ticks\": \"\"}}, \"type\": \"histogram\"}], \"histogram2d\": [{\"colorbar\": {\"outlinewidth\": 0, \"ticks\": \"\"}, \"colorscale\": [[0.0, \"#0d0887\"], [0.1111111111111111, \"#46039f\"], [0.2222222222222222, \"#7201a8\"], [0.3333333333333333, \"#9c179e\"], [0.4444444444444444, \"#bd3786\"], [0.5555555555555556, \"#d8576b\"], [0.6666666666666666, \"#ed7953\"], [0.7777777777777778, \"#fb9f3a\"], [0.8888888888888888, \"#fdca26\"], [1.0, \"#f0f921\"]], \"type\": \"histogram2d\"}], \"histogram2dcontour\": [{\"colorbar\": {\"outlinewidth\": 0, \"ticks\": \"\"}, \"colorscale\": [[0.0, \"#0d0887\"], [0.1111111111111111, \"#46039f\"], [0.2222222222222222, \"#7201a8\"], [0.3333333333333333, \"#9c179e\"], [0.4444444444444444, \"#bd3786\"], [0.5555555555555556, \"#d8576b\"], [0.6666666666666666, \"#ed7953\"], [0.7777777777777778, \"#fb9f3a\"], [0.8888888888888888, \"#fdca26\"], [1.0, \"#f0f921\"]], \"type\": \"histogram2dcontour\"}], \"mesh3d\": [{\"colorbar\": {\"outlinewidth\": 0, \"ticks\": \"\"}, \"type\": \"mesh3d\"}], \"parcoords\": [{\"line\": {\"colorbar\": {\"outlinewidth\": 0, \"ticks\": \"\"}}, \"type\": \"parcoords\"}], \"pie\": [{\"automargin\": true, \"type\": \"pie\"}], \"scatter\": [{\"marker\": {\"colorbar\": {\"outlinewidth\": 0, \"ticks\": \"\"}}, \"type\": \"scatter\"}], \"scatter3d\": [{\"line\": {\"colorbar\": {\"outlinewidth\": 0, \"ticks\": \"\"}}, \"marker\": {\"colorbar\": {\"outlinewidth\": 0, \"ticks\": \"\"}}, \"type\": \"scatter3d\"}], \"scattercarpet\": [{\"marker\": {\"colorbar\": {\"outlinewidth\": 0, \"ticks\": \"\"}}, \"type\": \"scattercarpet\"}], \"scattergeo\": [{\"marker\": {\"colorbar\": {\"outlinewidth\": 0, \"ticks\": \"\"}}, \"type\": \"scattergeo\"}], \"scattergl\": [{\"marker\": {\"colorbar\": {\"outlinewidth\": 0, \"ticks\": \"\"}}, \"type\": \"scattergl\"}], \"scattermapbox\": [{\"marker\": {\"colorbar\": {\"outlinewidth\": 0, \"ticks\": \"\"}}, \"type\": \"scattermapbox\"}], \"scatterpolar\": [{\"marker\": {\"colorbar\": {\"outlinewidth\": 0, \"ticks\": \"\"}}, \"type\": \"scatterpolar\"}], \"scatterpolargl\": [{\"marker\": {\"colorbar\": {\"outlinewidth\": 0, \"ticks\": \"\"}}, \"type\": \"scatterpolargl\"}], \"scatterternary\": [{\"marker\": {\"colorbar\": {\"outlinewidth\": 0, \"ticks\": \"\"}}, \"type\": \"scatterternary\"}], \"surface\": [{\"colorbar\": {\"outlinewidth\": 0, \"ticks\": \"\"}, \"colorscale\": [[0.0, \"#0d0887\"], [0.1111111111111111, \"#46039f\"], [0.2222222222222222, \"#7201a8\"], [0.3333333333333333, \"#9c179e\"], [0.4444444444444444, \"#bd3786\"], [0.5555555555555556, \"#d8576b\"], [0.6666666666666666, \"#ed7953\"], [0.7777777777777778, \"#fb9f3a\"], [0.8888888888888888, \"#fdca26\"], [1.0, \"#f0f921\"]], \"type\": \"surface\"}], \"table\": [{\"cells\": {\"fill\": {\"color\": \"#EBF0F8\"}, \"line\": {\"color\": \"white\"}}, \"header\": {\"fill\": {\"color\": \"#C8D4E3\"}, \"line\": {\"color\": \"white\"}}, \"type\": \"table\"}]}, \"layout\": {\"annotationdefaults\": {\"arrowcolor\": \"#2a3f5f\", \"arrowhead\": 0, \"arrowwidth\": 1}, \"coloraxis\": {\"colorbar\": {\"outlinewidth\": 0, \"ticks\": \"\"}}, \"colorscale\": {\"diverging\": [[0, \"#8e0152\"], [0.1, \"#c51b7d\"], [0.2, \"#de77ae\"], [0.3, \"#f1b6da\"], [0.4, \"#fde0ef\"], [0.5, \"#f7f7f7\"], [0.6, \"#e6f5d0\"], [0.7, \"#b8e186\"], [0.8, \"#7fbc41\"], [0.9, \"#4d9221\"], [1, \"#276419\"]], \"sequential\": [[0.0, \"#0d0887\"], [0.1111111111111111, \"#46039f\"], [0.2222222222222222, \"#7201a8\"], [0.3333333333333333, \"#9c179e\"], [0.4444444444444444, \"#bd3786\"], [0.5555555555555556, \"#d8576b\"], [0.6666666666666666, \"#ed7953\"], [0.7777777777777778, \"#fb9f3a\"], [0.8888888888888888, \"#fdca26\"], [1.0, \"#f0f921\"]], \"sequentialminus\": [[0.0, \"#0d0887\"], [0.1111111111111111, \"#46039f\"], [0.2222222222222222, \"#7201a8\"], [0.3333333333333333, \"#9c179e\"], [0.4444444444444444, \"#bd3786\"], [0.5555555555555556, \"#d8576b\"], [0.6666666666666666, \"#ed7953\"], [0.7777777777777778, \"#fb9f3a\"], [0.8888888888888888, \"#fdca26\"], [1.0, \"#f0f921\"]]}, \"colorway\": [\"#636efa\", \"#EF553B\", \"#00cc96\", \"#ab63fa\", \"#FFA15A\", \"#19d3f3\", \"#FF6692\", \"#B6E880\", \"#FF97FF\", \"#FECB52\"], \"font\": {\"color\": \"#2a3f5f\"}, \"geo\": {\"bgcolor\": \"white\", \"lakecolor\": \"white\", \"landcolor\": \"#E5ECF6\", \"showlakes\": true, \"showland\": true, \"subunitcolor\": \"white\"}, \"hoverlabel\": {\"align\": \"left\"}, \"hovermode\": \"closest\", \"mapbox\": {\"style\": \"light\"}, \"paper_bgcolor\": \"white\", \"plot_bgcolor\": \"#E5ECF6\", \"polar\": {\"angularaxis\": {\"gridcolor\": \"white\", \"linecolor\": \"white\", \"ticks\": \"\"}, \"bgcolor\": \"#E5ECF6\", \"radialaxis\": {\"gridcolor\": \"white\", \"linecolor\": \"white\", \"ticks\": \"\"}}, \"scene\": {\"xaxis\": {\"backgroundcolor\": \"#E5ECF6\", \"gridcolor\": \"white\", \"gridwidth\": 2, \"linecolor\": \"white\", \"showbackground\": true, \"ticks\": \"\", \"zerolinecolor\": \"white\"}, \"yaxis\": {\"backgroundcolor\": \"#E5ECF6\", \"gridcolor\": \"white\", \"gridwidth\": 2, \"linecolor\": \"white\", \"showbackground\": true, \"ticks\": \"\", \"zerolinecolor\": \"white\"}, \"zaxis\": {\"backgroundcolor\": \"#E5ECF6\", \"gridcolor\": \"white\", \"gridwidth\": 2, \"linecolor\": \"white\", \"showbackground\": true, \"ticks\": \"\", \"zerolinecolor\": \"white\"}}, \"shapedefaults\": {\"line\": {\"color\": \"#2a3f5f\"}}, \"ternary\": {\"aaxis\": {\"gridcolor\": \"white\", \"linecolor\": \"white\", \"ticks\": \"\"}, \"baxis\": {\"gridcolor\": \"white\", \"linecolor\": \"white\", \"ticks\": \"\"}, \"bgcolor\": \"#E5ECF6\", \"caxis\": {\"gridcolor\": \"white\", \"linecolor\": \"white\", \"ticks\": \"\"}}, \"title\": {\"x\": 0.05}, \"xaxis\": {\"automargin\": true, \"gridcolor\": \"white\", \"linecolor\": \"white\", \"ticks\": \"\", \"title\": {\"standoff\": 15}, \"zerolinecolor\": \"white\", \"zerolinewidth\": 2}, \"yaxis\": {\"automargin\": true, \"gridcolor\": \"white\", \"linecolor\": \"white\", \"ticks\": \"\", \"title\": {\"standoff\": 15}, \"zerolinecolor\": \"white\", \"zerolinewidth\": 2}}}, \"xaxis\": {\"anchor\": \"y\", \"domain\": [0.0, 1.0], \"title\": {\"text\": \"Year\"}}, \"yaxis\": {\"anchor\": \"x\", \"domain\": [0.0, 1.0], \"title\": {\"text\": \"Waste Produced (Tons)\"}}},                        {\"responsive\": true}                    ).then(function(){\n",
       "                            \n",
       "var gd = document.getElementById('30883d92-a408-41d0-b185-821ec7618c32');\n",
       "var x = new MutationObserver(function (mutations, observer) {{\n",
       "        var display = window.getComputedStyle(gd).display;\n",
       "        if (!display || display === 'none') {{\n",
       "            console.log([gd, 'removed!']);\n",
       "            Plotly.purge(gd);\n",
       "            observer.disconnect();\n",
       "        }}\n",
       "}});\n",
       "\n",
       "// Listen for the removal of the full notebook cells\n",
       "var notebookContainer = gd.closest('#notebook-container');\n",
       "if (notebookContainer) {{\n",
       "    x.observe(notebookContainer, {childList: true});\n",
       "}}\n",
       "\n",
       "// Listen for the clearing of the current output cell\n",
       "var outputEl = gd.closest('.output');\n",
       "if (outputEl) {{\n",
       "    x.observe(outputEl, {childList: true});\n",
       "}}\n",
       "\n",
       "                        })                };                });            </script>        </div>"
      ]
     },
     "metadata": {},
     "output_type": "display_data"
    }
   ],
   "source": [
    "fig = px.line(complete_feature_df, x=\"Year\", y=\"Waste Produced (Tons)\", color='County')\n",
    "fig.show()"
   ]
  },
  {
   "cell_type": "code",
   "execution_count": 33,
   "metadata": {},
   "outputs": [
    {
     "data": {
      "text/html": [
       "<div>\n",
       "<style scoped>\n",
       "    .dataframe tbody tr th:only-of-type {\n",
       "        vertical-align: middle;\n",
       "    }\n",
       "\n",
       "    .dataframe tbody tr th {\n",
       "        vertical-align: top;\n",
       "    }\n",
       "\n",
       "    .dataframe thead th {\n",
       "        text-align: right;\n",
       "    }\n",
       "</style>\n",
       "<table border=\"1\" class=\"dataframe\">\n",
       "  <thead>\n",
       "    <tr style=\"text-align: right;\">\n",
       "      <th></th>\n",
       "      <th>Waste Produced (Tons)</th>\n",
       "    </tr>\n",
       "    <tr>\n",
       "      <th>County</th>\n",
       "      <th></th>\n",
       "    </tr>\n",
       "  </thead>\n",
       "  <tbody>\n",
       "    <tr>\n",
       "      <td>Alameda</td>\n",
       "      <td>1.388987e+06</td>\n",
       "    </tr>\n",
       "    <tr>\n",
       "      <td>Alpine</td>\n",
       "      <td>1.337510e+03</td>\n",
       "    </tr>\n",
       "    <tr>\n",
       "      <td>Amador</td>\n",
       "      <td>3.680986e+04</td>\n",
       "    </tr>\n",
       "    <tr>\n",
       "      <td>Butte</td>\n",
       "      <td>2.817851e+05</td>\n",
       "    </tr>\n",
       "    <tr>\n",
       "      <td>Calaveras</td>\n",
       "      <td>4.551152e+04</td>\n",
       "    </tr>\n",
       "  </tbody>\n",
       "</table>\n",
       "</div>"
      ],
      "text/plain": [
       "           Waste Produced (Tons)\n",
       "County                          \n",
       "Alameda             1.388987e+06\n",
       "Alpine              1.337510e+03\n",
       "Amador              3.680986e+04\n",
       "Butte               2.817851e+05\n",
       "Calaveras           4.551152e+04"
      ]
     },
     "execution_count": 33,
     "metadata": {},
     "output_type": "execute_result"
    }
   ],
   "source": [
    "average_waste_produced_county = complete_feature_df.groupby(\"County\").agg(np.mean)[[\"Waste Produced (Tons)\"]]\n",
    "average_waste_produced_county.head()"
   ]
  },
  {
   "cell_type": "code",
   "execution_count": 38,
   "metadata": {},
   "outputs": [],
   "source": [
    "years_to_predict = np.arange(2020, 2030)\n",
    "for county in average_waste_produced_county.index:\n",
    "    average_waste_produced = average_waste_produced_county.loc[county, \"Waste Produced (Tons)\"]\n",
    "    county_name = np.repeat(county, len(years_to_predict))\n",
    "    predictions = np.repeat(average_waste_produced, len(years_to_predict))\n",
    "    df = pd.DataFrame({\"Year\": years_to_predict, \n",
    "                       \"County\": county_name,\n",
    "                       \"Waste Produced (Tons)\": predictions\n",
    "                      })\n",
    "    complete_feature_df = complete_feature_df.append(df)"
   ]
  },
  {
   "cell_type": "code",
   "execution_count": 42,
   "metadata": {},
   "outputs": [],
   "source": [
    "assert complete_feature_df.Year.max() == 2029"
   ]
  },
  {
   "cell_type": "code",
   "execution_count": 58,
   "metadata": {},
   "outputs": [],
   "source": [
    "complete_feature_df.to_csv(DATA_PATH + \"predictions_observations_df.csv\", index=False)"
   ]
  },
  {
   "cell_type": "code",
   "execution_count": 46,
   "metadata": {},
   "outputs": [
    {
     "data": {
      "text/html": [
       "<div>\n",
       "<style scoped>\n",
       "    .dataframe tbody tr th:only-of-type {\n",
       "        vertical-align: middle;\n",
       "    }\n",
       "\n",
       "    .dataframe tbody tr th {\n",
       "        vertical-align: top;\n",
       "    }\n",
       "\n",
       "    .dataframe thead th {\n",
       "        text-align: right;\n",
       "    }\n",
       "</style>\n",
       "<table border=\"1\" class=\"dataframe\">\n",
       "  <thead>\n",
       "    <tr style=\"text-align: right;\">\n",
       "      <th></th>\n",
       "      <th>Year</th>\n",
       "      <th>County</th>\n",
       "      <th>Waste Produced (Tons)</th>\n",
       "    </tr>\n",
       "  </thead>\n",
       "  <tbody>\n",
       "    <tr>\n",
       "      <td>0</td>\n",
       "      <td>2020.0</td>\n",
       "      <td>Alameda</td>\n",
       "      <td>1.388987e+06</td>\n",
       "    </tr>\n",
       "    <tr>\n",
       "      <td>1</td>\n",
       "      <td>2021.0</td>\n",
       "      <td>Alameda</td>\n",
       "      <td>1.388987e+06</td>\n",
       "    </tr>\n",
       "    <tr>\n",
       "      <td>2</td>\n",
       "      <td>2022.0</td>\n",
       "      <td>Alameda</td>\n",
       "      <td>1.388987e+06</td>\n",
       "    </tr>\n",
       "    <tr>\n",
       "      <td>3</td>\n",
       "      <td>2023.0</td>\n",
       "      <td>Alameda</td>\n",
       "      <td>1.388987e+06</td>\n",
       "    </tr>\n",
       "    <tr>\n",
       "      <td>4</td>\n",
       "      <td>2024.0</td>\n",
       "      <td>Alameda</td>\n",
       "      <td>1.388987e+06</td>\n",
       "    </tr>\n",
       "  </tbody>\n",
       "</table>\n",
       "</div>"
      ],
      "text/plain": [
       "     Year   County  Waste Produced (Tons)\n",
       "0  2020.0  Alameda           1.388987e+06\n",
       "1  2021.0  Alameda           1.388987e+06\n",
       "2  2022.0  Alameda           1.388987e+06\n",
       "3  2023.0  Alameda           1.388987e+06\n",
       "4  2024.0  Alameda           1.388987e+06"
      ]
     },
     "execution_count": 46,
     "metadata": {},
     "output_type": "execute_result"
    }
   ],
   "source": [
    "alameda = complete_feature_df[complete_feature_df.County == \"Alameda\"]\n",
    "observations = alameda[alameda.Year <= 2019]\n",
    "predictions = alameda[alameda.Year > 2019]\n",
    "predictions.head()"
   ]
  },
  {
   "cell_type": "code",
   "execution_count": 53,
   "metadata": {},
   "outputs": [
    {
     "data": {
      "application/vnd.jupyter.widget-view+json": {
       "model_id": "ae80eabc54bf42a9b18f28bafb1f9b58",
       "version_major": 2,
       "version_minor": 0
      },
      "text/plain": [
       "FigureWidget({\n",
       "    'data': [{'line': {'dash': 'solid'},\n",
       "              'mode': 'lines',\n",
       "              'name': '…"
      ]
     },
     "metadata": {},
     "output_type": "display_data"
    }
   ],
   "source": [
    "fig = go.FigureWidget(data=[\n",
    "    go.Scatter(x=observations.Year, y=observations[\"Waste Produced (Tons)\"], \n",
    "               mode='lines', line={'dash': 'solid'}, name=\"Observations\"),\n",
    "    go.Scatter(x=predictions.Year, y=predictions[\"Waste Produced (Tons)\"], \n",
    "               mode='lines', line={'dash': 'dash'}, name=\"Predictions\")\n",
    "])\n",
    "fig"
   ]
  },
  {
   "cell_type": "code",
   "execution_count": 57,
   "metadata": {},
   "outputs": [
    {
     "data": {
      "text/plain": [
       "'63/'"
      ]
     },
     "execution_count": 57,
     "metadata": {},
     "output_type": "execute_result"
    }
   ],
   "source": [
    "url = py.plot(fig, filename = 'Alameda_preds', auto_open=False)\n",
    "url[-3:]"
   ]
  },
  {
   "cell_type": "markdown",
   "metadata": {},
   "source": [
    "## Waste characterization"
   ]
  },
  {
   "cell_type": "code",
   "execution_count": 2,
   "metadata": {},
   "outputs": [
    {
     "data": {
      "text/html": [
       "<div>\n",
       "<style scoped>\n",
       "    .dataframe tbody tr th:only-of-type {\n",
       "        vertical-align: middle;\n",
       "    }\n",
       "\n",
       "    .dataframe tbody tr th {\n",
       "        vertical-align: top;\n",
       "    }\n",
       "\n",
       "    .dataframe thead th {\n",
       "        text-align: right;\n",
       "    }\n",
       "</style>\n",
       "<table border=\"1\" class=\"dataframe\">\n",
       "  <thead>\n",
       "    <tr style=\"text-align: right;\">\n",
       "      <th></th>\n",
       "      <th>County</th>\n",
       "      <th>Total Residential Tons</th>\n",
       "      <th>Electricity Usage_2014</th>\n",
       "      <th>Population_2014</th>\n",
       "    </tr>\n",
       "  </thead>\n",
       "  <tbody>\n",
       "    <tr>\n",
       "      <td>0</td>\n",
       "      <td>ALAMEDA</td>\n",
       "      <td>405147</td>\n",
       "      <td>2891.232325</td>\n",
       "      <td>1607792.0</td>\n",
       "    </tr>\n",
       "    <tr>\n",
       "      <td>1</td>\n",
       "      <td>ALPINE</td>\n",
       "      <td>291</td>\n",
       "      <td>11.974975</td>\n",
       "      <td>1080.0</td>\n",
       "    </tr>\n",
       "    <tr>\n",
       "      <td>2</td>\n",
       "      <td>AMADOR</td>\n",
       "      <td>8799</td>\n",
       "      <td>134.744387</td>\n",
       "      <td>36726.0</td>\n",
       "    </tr>\n",
       "    <tr>\n",
       "      <td>3</td>\n",
       "      <td>BUTTE</td>\n",
       "      <td>55883</td>\n",
       "      <td>718.947064</td>\n",
       "      <td>223516.0</td>\n",
       "    </tr>\n",
       "    <tr>\n",
       "      <td>4</td>\n",
       "      <td>CALAVERAS</td>\n",
       "      <td>11400</td>\n",
       "      <td>192.543967</td>\n",
       "      <td>44671.0</td>\n",
       "    </tr>\n",
       "  </tbody>\n",
       "</table>\n",
       "</div>"
      ],
      "text/plain": [
       "      County  Total Residential Tons  Electricity Usage_2014  Population_2014\n",
       "0    ALAMEDA                  405147             2891.232325        1607792.0\n",
       "1     ALPINE                     291               11.974975           1080.0\n",
       "2     AMADOR                    8799              134.744387          36726.0\n",
       "3      BUTTE                   55883              718.947064         223516.0\n",
       "4  CALAVERAS                   11400              192.543967          44671.0"
      ]
     },
     "execution_count": 2,
     "metadata": {},
     "output_type": "execute_result"
    }
   ],
   "source": [
    "calrecycle_waste_characterization_per_county = pd.read_csv(\"../data/calrecycle_waste_characterization_per_county.csv\")\n",
    "calrecycle_waste_characterization_per_county.head()"
   ]
  },
  {
   "cell_type": "code",
   "execution_count": 3,
   "metadata": {},
   "outputs": [
    {
     "data": {
      "text/html": [
       "<div>\n",
       "<style scoped>\n",
       "    .dataframe tbody tr th:only-of-type {\n",
       "        vertical-align: middle;\n",
       "    }\n",
       "\n",
       "    .dataframe tbody tr th {\n",
       "        vertical-align: top;\n",
       "    }\n",
       "\n",
       "    .dataframe thead th {\n",
       "        text-align: right;\n",
       "    }\n",
       "</style>\n",
       "<table border=\"1\" class=\"dataframe\">\n",
       "  <thead>\n",
       "    <tr style=\"text-align: right;\">\n",
       "      <th></th>\n",
       "      <th>Total Residential Tons</th>\n",
       "      <th>Electricity Usage_2014</th>\n",
       "      <th>Population_2014</th>\n",
       "    </tr>\n",
       "    <tr>\n",
       "      <th>County</th>\n",
       "      <th></th>\n",
       "      <th></th>\n",
       "      <th></th>\n",
       "    </tr>\n",
       "  </thead>\n",
       "  <tbody>\n",
       "    <tr>\n",
       "      <td>ALAMEDA</td>\n",
       "      <td>405147</td>\n",
       "      <td>2891.232325</td>\n",
       "      <td>1607792.0</td>\n",
       "    </tr>\n",
       "    <tr>\n",
       "      <td>ALPINE</td>\n",
       "      <td>291</td>\n",
       "      <td>11.974975</td>\n",
       "      <td>1080.0</td>\n",
       "    </tr>\n",
       "    <tr>\n",
       "      <td>AMADOR</td>\n",
       "      <td>8799</td>\n",
       "      <td>134.744387</td>\n",
       "      <td>36726.0</td>\n",
       "    </tr>\n",
       "    <tr>\n",
       "      <td>BUTTE</td>\n",
       "      <td>55883</td>\n",
       "      <td>718.947064</td>\n",
       "      <td>223516.0</td>\n",
       "    </tr>\n",
       "    <tr>\n",
       "      <td>CALAVERAS</td>\n",
       "      <td>11400</td>\n",
       "      <td>192.543967</td>\n",
       "      <td>44671.0</td>\n",
       "    </tr>\n",
       "  </tbody>\n",
       "</table>\n",
       "</div>"
      ],
      "text/plain": [
       "           Total Residential Tons  Electricity Usage_2014  Population_2014\n",
       "County                                                                    \n",
       "ALAMEDA                    405147             2891.232325        1607792.0\n",
       "ALPINE                        291               11.974975           1080.0\n",
       "AMADOR                       8799              134.744387          36726.0\n",
       "BUTTE                       55883              718.947064         223516.0\n",
       "CALAVERAS                   11400              192.543967          44671.0"
      ]
     },
     "execution_count": 3,
     "metadata": {},
     "output_type": "execute_result"
    }
   ],
   "source": [
    "calrecycle_waste_characterization_per_county.groupby(\"County\").agg(\"mean\").head()"
   ]
  },
  {
   "cell_type": "code",
   "execution_count": 21,
   "metadata": {},
   "outputs": [
    {
     "data": {
      "application/vnd.plotly.v1+json": {
       "config": {
        "plotlyServerURL": "https://plot.ly"
       },
       "data": [
        {
         "customdata": [
          [
           "ALAMEDA"
          ]
         ],
         "hovertemplate": "County=%{customdata[0]}<br>Electricity Usage (gWh)=%{x}<br>Total Residential Waste (Tons)=%{y}<br>Population=%{marker.size}<extra></extra>",
         "legendgroup": "ALAMEDA",
         "marker": {
          "color": "#636efa",
          "size": [
           1607792
          ],
          "sizemode": "area",
          "sizeref": 25100.18,
          "symbol": "circle"
         },
         "mode": "markers",
         "name": "ALAMEDA",
         "orientation": "v",
         "showlegend": true,
         "type": "scatter",
         "x": [
          2891.232325
         ],
         "xaxis": "x",
         "y": [
          405147
         ],
         "yaxis": "y"
        },
        {
         "customdata": [
          [
           "ALPINE"
          ]
         ],
         "hovertemplate": "County=%{customdata[0]}<br>Electricity Usage (gWh)=%{x}<br>Total Residential Waste (Tons)=%{y}<br>Population=%{marker.size}<extra></extra>",
         "legendgroup": "ALPINE",
         "marker": {
          "color": "#EF553B",
          "size": [
           1080
          ],
          "sizemode": "area",
          "sizeref": 25100.18,
          "symbol": "circle"
         },
         "mode": "markers",
         "name": "ALPINE",
         "orientation": "v",
         "showlegend": true,
         "type": "scatter",
         "x": [
          11.974975
         ],
         "xaxis": "x",
         "y": [
          291
         ],
         "yaxis": "y"
        },
        {
         "customdata": [
          [
           "AMADOR"
          ]
         ],
         "hovertemplate": "County=%{customdata[0]}<br>Electricity Usage (gWh)=%{x}<br>Total Residential Waste (Tons)=%{y}<br>Population=%{marker.size}<extra></extra>",
         "legendgroup": "AMADOR",
         "marker": {
          "color": "#00cc96",
          "size": [
           36726
          ],
          "sizemode": "area",
          "sizeref": 25100.18,
          "symbol": "circle"
         },
         "mode": "markers",
         "name": "AMADOR",
         "orientation": "v",
         "showlegend": true,
         "type": "scatter",
         "x": [
          134.74438700000002
         ],
         "xaxis": "x",
         "y": [
          8799
         ],
         "yaxis": "y"
        },
        {
         "customdata": [
          [
           "BUTTE"
          ]
         ],
         "hovertemplate": "County=%{customdata[0]}<br>Electricity Usage (gWh)=%{x}<br>Total Residential Waste (Tons)=%{y}<br>Population=%{marker.size}<extra></extra>",
         "legendgroup": "BUTTE",
         "marker": {
          "color": "#ab63fa",
          "size": [
           223516
          ],
          "sizemode": "area",
          "sizeref": 25100.18,
          "symbol": "circle"
         },
         "mode": "markers",
         "name": "BUTTE",
         "orientation": "v",
         "showlegend": true,
         "type": "scatter",
         "x": [
          718.947064
         ],
         "xaxis": "x",
         "y": [
          55883
         ],
         "yaxis": "y"
        },
        {
         "customdata": [
          [
           "CALAVERAS"
          ]
         ],
         "hovertemplate": "County=%{customdata[0]}<br>Electricity Usage (gWh)=%{x}<br>Total Residential Waste (Tons)=%{y}<br>Population=%{marker.size}<extra></extra>",
         "legendgroup": "CALAVERAS",
         "marker": {
          "color": "#FFA15A",
          "size": [
           44671
          ],
          "sizemode": "area",
          "sizeref": 25100.18,
          "symbol": "circle"
         },
         "mode": "markers",
         "name": "CALAVERAS",
         "orientation": "v",
         "showlegend": true,
         "type": "scatter",
         "x": [
          192.543967
         ],
         "xaxis": "x",
         "y": [
          11400
         ],
         "yaxis": "y"
        },
        {
         "customdata": [
          [
           "COLUSA"
          ]
         ],
         "hovertemplate": "County=%{customdata[0]}<br>Electricity Usage (gWh)=%{x}<br>Total Residential Waste (Tons)=%{y}<br>Population=%{marker.size}<extra></extra>",
         "legendgroup": "COLUSA",
         "marker": {
          "color": "#19d3f3",
          "size": [
           21176
          ],
          "sizemode": "area",
          "sizeref": 25100.18,
          "symbol": "circle"
         },
         "mode": "markers",
         "name": "COLUSA",
         "orientation": "v",
         "showlegend": true,
         "type": "scatter",
         "x": [
          64.72284499999999
         ],
         "xaxis": "x",
         "y": [
          5532
         ],
         "yaxis": "y"
        },
        {
         "customdata": [
          [
           "CONTRA COSTA"
          ]
         ],
         "hovertemplate": "County=%{customdata[0]}<br>Electricity Usage (gWh)=%{x}<br>Total Residential Waste (Tons)=%{y}<br>Population=%{marker.size}<extra></extra>",
         "legendgroup": "CONTRA COSTA",
         "marker": {
          "color": "#FF6692",
          "size": [
           1108876
          ],
          "sizemode": "area",
          "sizeref": 25100.18,
          "symbol": "circle"
         },
         "mode": "markers",
         "name": "CONTRA COSTA",
         "orientation": "v",
         "showlegend": true,
         "type": "scatter",
         "x": [
          2731.309642
         ],
         "xaxis": "x",
         "y": [
          283772
         ],
         "yaxis": "y"
        },
        {
         "customdata": [
          [
           "DEL NORTE"
          ]
         ],
         "hovertemplate": "County=%{customdata[0]}<br>Electricity Usage (gWh)=%{x}<br>Total Residential Waste (Tons)=%{y}<br>Population=%{marker.size}<extra></extra>",
         "legendgroup": "DEL NORTE",
         "marker": {
          "color": "#B6E880",
          "size": [
           27175
          ],
          "sizemode": "area",
          "sizeref": 25100.18,
          "symbol": "circle"
         },
         "mode": "markers",
         "name": "DEL NORTE",
         "orientation": "v",
         "showlegend": true,
         "type": "scatter",
         "x": [
          110.109643
         ],
         "xaxis": "x",
         "y": [
          6106
         ],
         "yaxis": "y"
        },
        {
         "customdata": [
          [
           "EL DORADO"
          ]
         ],
         "hovertemplate": "County=%{customdata[0]}<br>Electricity Usage (gWh)=%{x}<br>Total Residential Waste (Tons)=%{y}<br>Population=%{marker.size}<extra></extra>",
         "legendgroup": "EL DORADO",
         "marker": {
          "color": "#FF97FF",
          "size": [
           183108
          ],
          "sizemode": "area",
          "sizeref": 25100.18,
          "symbol": "circle"
         },
         "mode": "markers",
         "name": "EL DORADO",
         "orientation": "v",
         "showlegend": true,
         "type": "scatter",
         "x": [
          721.053363
         ],
         "xaxis": "x",
         "y": [
          46432
         ],
         "yaxis": "y"
        },
        {
         "customdata": [
          [
           "FRESNO"
          ]
         ],
         "hovertemplate": "County=%{customdata[0]}<br>Electricity Usage (gWh)=%{x}<br>Total Residential Waste (Tons)=%{y}<br>Population=%{marker.size}<extra></extra>",
         "legendgroup": "FRESNO",
         "marker": {
          "color": "#FECB52",
          "size": [
           960567
          ],
          "sizemode": "area",
          "sizeref": 25100.18,
          "symbol": "circle"
         },
         "mode": "markers",
         "name": "FRESNO",
         "orientation": "v",
         "showlegend": true,
         "type": "scatter",
         "x": [
          2692.471908
         ],
         "xaxis": "x",
         "y": [
          246630
         ],
         "yaxis": "y"
        },
        {
         "customdata": [
          [
           "GLENN"
          ]
         ],
         "hovertemplate": "County=%{customdata[0]}<br>Electricity Usage (gWh)=%{x}<br>Total Residential Waste (Tons)=%{y}<br>Population=%{marker.size}<extra></extra>",
         "legendgroup": "GLENN",
         "marker": {
          "color": "#636efa",
          "size": [
           27831
          ],
          "sizemode": "area",
          "sizeref": 25100.18,
          "symbol": "circle"
         },
         "mode": "markers",
         "name": "GLENN",
         "orientation": "v",
         "showlegend": true,
         "type": "scatter",
         "x": [
          91.392872
         ],
         "xaxis": "x",
         "y": [
          7232
         ],
         "yaxis": "y"
        },
        {
         "customdata": [
          [
           "HUMBOLDT"
          ]
         ],
         "hovertemplate": "County=%{customdata[0]}<br>Electricity Usage (gWh)=%{x}<br>Total Residential Waste (Tons)=%{y}<br>Population=%{marker.size}<extra></extra>",
         "legendgroup": "HUMBOLDT",
         "marker": {
          "color": "#EF553B",
          "size": [
           134494
          ],
          "sizemode": "area",
          "sizeref": 25100.18,
          "symbol": "circle"
         },
         "mode": "markers",
         "name": "HUMBOLDT",
         "orientation": "v",
         "showlegend": true,
         "type": "scatter",
         "x": [
          395.915896
         ],
         "xaxis": "x",
         "y": [
          33039
         ],
         "yaxis": "y"
        },
        {
         "customdata": [
          [
           "IMPERIAL"
          ]
         ],
         "hovertemplate": "County=%{customdata[0]}<br>Electricity Usage (gWh)=%{x}<br>Total Residential Waste (Tons)=%{y}<br>Population=%{marker.size}<extra></extra>",
         "legendgroup": "IMPERIAL",
         "marker": {
          "color": "#00cc96",
          "size": [
           177974
          ],
          "sizemode": "area",
          "sizeref": 25100.18,
          "symbol": "circle"
         },
         "mode": "markers",
         "name": "IMPERIAL",
         "orientation": "v",
         "showlegend": true,
         "type": "scatter",
         "x": [
          536.1185009999998
         ],
         "xaxis": "x",
         "y": [
          45159
         ],
         "yaxis": "y"
        },
        {
         "customdata": [
          [
           "INYO"
          ]
         ],
         "hovertemplate": "County=%{customdata[0]}<br>Electricity Usage (gWh)=%{x}<br>Total Residential Waste (Tons)=%{y}<br>Population=%{marker.size}<extra></extra>",
         "legendgroup": "INYO",
         "marker": {
          "color": "#ab63fa",
          "size": [
           18292
          ],
          "sizemode": "area",
          "sizeref": 25100.18,
          "symbol": "circle"
         },
         "mode": "markers",
         "name": "INYO",
         "orientation": "v",
         "showlegend": true,
         "type": "scatter",
         "x": [
          60.788615
         ],
         "xaxis": "x",
         "y": [
          4648
         ],
         "yaxis": "y"
        },
        {
         "customdata": [
          [
           "KERN"
          ]
         ],
         "hovertemplate": "County=%{customdata[0]}<br>Electricity Usage (gWh)=%{x}<br>Total Residential Waste (Tons)=%{y}<br>Population=%{marker.size}<extra></extra>",
         "legendgroup": "KERN",
         "marker": {
          "color": "#FFA15A",
          "size": [
           869176
          ],
          "sizemode": "area",
          "sizeref": 25100.18,
          "symbol": "circle"
         },
         "mode": "markers",
         "name": "KERN",
         "orientation": "v",
         "showlegend": true,
         "type": "scatter",
         "x": [
          2294.846631
         ],
         "xaxis": "x",
         "y": [
          217883
         ],
         "yaxis": "y"
        },
        {
         "customdata": [
          [
           "KINGS"
          ]
         ],
         "hovertemplate": "County=%{customdata[0]}<br>Electricity Usage (gWh)=%{x}<br>Total Residential Waste (Tons)=%{y}<br>Population=%{marker.size}<extra></extra>",
         "legendgroup": "KINGS",
         "marker": {
          "color": "#19d3f3",
          "size": [
           149495
          ],
          "sizemode": "area",
          "sizeref": 25100.18,
          "symbol": "circle"
         },
         "mode": "markers",
         "name": "KINGS",
         "orientation": "v",
         "showlegend": true,
         "type": "scatter",
         "x": [
          376.278996
         ],
         "xaxis": "x",
         "y": [
          34263
         ],
         "yaxis": "y"
        },
        {
         "customdata": [
          [
           "LAKE"
          ]
         ],
         "hovertemplate": "County=%{customdata[0]}<br>Electricity Usage (gWh)=%{x}<br>Total Residential Waste (Tons)=%{y}<br>Population=%{marker.size}<extra></extra>",
         "legendgroup": "LAKE",
         "marker": {
          "color": "#FF6692",
          "size": [
           64044
          ],
          "sizemode": "area",
          "sizeref": 25100.18,
          "symbol": "circle"
         },
         "mode": "markers",
         "name": "LAKE",
         "orientation": "v",
         "showlegend": true,
         "type": "scatter",
         "x": [
          285.2773509999999
         ],
         "xaxis": "x",
         "y": [
          16105
         ],
         "yaxis": "y"
        },
        {
         "customdata": [
          [
           "LASSEN"
          ]
         ],
         "hovertemplate": "County=%{customdata[0]}<br>Electricity Usage (gWh)=%{x}<br>Total Residential Waste (Tons)=%{y}<br>Population=%{marker.size}<extra></extra>",
         "legendgroup": "LASSEN",
         "marker": {
          "color": "#B6E880",
          "size": [
           31664
          ],
          "sizemode": "area",
          "sizeref": 25100.18,
          "symbol": "circle"
         },
         "mode": "markers",
         "name": "LASSEN",
         "orientation": "v",
         "showlegend": true,
         "type": "scatter",
         "x": [
          94.366525
         ],
         "xaxis": "x",
         "y": [
          5904
         ],
         "yaxis": "y"
        },
        {
         "customdata": [
          [
           "LOS ANGELES"
          ]
         ],
         "hovertemplate": "County=%{customdata[0]}<br>Electricity Usage (gWh)=%{x}<br>Total Residential Waste (Tons)=%{y}<br>Population=%{marker.size}<extra></extra>",
         "legendgroup": "LOS ANGELES",
         "marker": {
          "color": "#FF97FF",
          "size": [
           10040072
          ],
          "sizemode": "area",
          "sizeref": 25100.18,
          "symbol": "circle"
         },
         "mode": "markers",
         "name": "LOS ANGELES",
         "orientation": "v",
         "showlegend": true,
         "type": "scatter",
         "x": [
          20742.773777
         ],
         "xaxis": "x",
         "y": [
          2565550
         ],
         "yaxis": "y"
        },
        {
         "customdata": [
          [
           "MADERA"
          ]
         ],
         "hovertemplate": "County=%{customdata[0]}<br>Electricity Usage (gWh)=%{x}<br>Total Residential Waste (Tons)=%{y}<br>Population=%{marker.size}<extra></extra>",
         "legendgroup": "MADERA",
         "marker": {
          "color": "#FECB52",
          "size": [
           153456
          ],
          "sizemode": "area",
          "sizeref": 25100.18,
          "symbol": "circle"
         },
         "mode": "markers",
         "name": "MADERA",
         "orientation": "v",
         "showlegend": true,
         "type": "scatter",
         "x": [
          424.63294800000006
         ],
         "xaxis": "x",
         "y": [
          37707
         ],
         "yaxis": "y"
        },
        {
         "customdata": [
          [
           "MARIN"
          ]
         ],
         "hovertemplate": "County=%{customdata[0]}<br>Electricity Usage (gWh)=%{x}<br>Total Residential Waste (Tons)=%{y}<br>Population=%{marker.size}<extra></extra>",
         "legendgroup": "MARIN",
         "marker": {
          "color": "#636efa",
          "size": [
           260359
          ],
          "sizemode": "area",
          "sizeref": 25100.18,
          "symbol": "circle"
         },
         "mode": "markers",
         "name": "MARIN",
         "orientation": "v",
         "showlegend": true,
         "type": "scatter",
         "x": [
          652.468169
         ],
         "xaxis": "x",
         "y": [
          64859
         ],
         "yaxis": "y"
        },
        {
         "customdata": [
          [
           "MARIPOSA"
          ]
         ],
         "hovertemplate": "County=%{customdata[0]}<br>Electricity Usage (gWh)=%{x}<br>Total Residential Waste (Tons)=%{y}<br>Population=%{marker.size}<extra></extra>",
         "legendgroup": "MARIPOSA",
         "marker": {
          "color": "#EF553B",
          "size": [
           17714
          ],
          "sizemode": "area",
          "sizeref": 25100.18,
          "symbol": "circle"
         },
         "mode": "markers",
         "name": "MARIPOSA",
         "orientation": "v",
         "showlegend": true,
         "type": "scatter",
         "x": [
          68.51898299999999
         ],
         "xaxis": "x",
         "y": [
          4448
         ],
         "yaxis": "y"
        },
        {
         "customdata": [
          [
           "MENDOCINO"
          ]
         ],
         "hovertemplate": "County=%{customdata[0]}<br>Electricity Usage (gWh)=%{x}<br>Total Residential Waste (Tons)=%{y}<br>Population=%{marker.size}<extra></extra>",
         "legendgroup": "MENDOCINO",
         "marker": {
          "color": "#00cc96",
          "size": [
           87225
          ],
          "sizemode": "area",
          "sizeref": 25100.18,
          "symbol": "circle"
         },
         "mode": "markers",
         "name": "MENDOCINO",
         "orientation": "v",
         "showlegend": true,
         "type": "scatter",
         "x": [
          295.1787970000001
         ],
         "xaxis": "x",
         "y": [
          22032
         ],
         "yaxis": "y"
        },
        {
         "customdata": [
          [
           "MERCED"
          ]
         ],
         "hovertemplate": "County=%{customdata[0]}<br>Electricity Usage (gWh)=%{x}<br>Total Residential Waste (Tons)=%{y}<br>Population=%{marker.size}<extra></extra>",
         "legendgroup": "MERCED",
         "marker": {
          "color": "#ab63fa",
          "size": [
           264419
          ],
          "sizemode": "area",
          "sizeref": 25100.18,
          "symbol": "circle"
         },
         "mode": "markers",
         "name": "MERCED",
         "orientation": "v",
         "showlegend": true,
         "type": "scatter",
         "x": [
          718.4812820000002
         ],
         "xaxis": "x",
         "y": [
          67789
         ],
         "yaxis": "y"
        },
        {
         "customdata": [
          [
           "MODOC"
          ]
         ],
         "hovertemplate": "County=%{customdata[0]}<br>Electricity Usage (gWh)=%{x}<br>Total Residential Waste (Tons)=%{y}<br>Population=%{marker.size}<extra></extra>",
         "legendgroup": "MODOC",
         "marker": {
          "color": "#FFA15A",
          "size": [
           9068
          ],
          "sizemode": "area",
          "sizeref": 25100.18,
          "symbol": "circle"
         },
         "mode": "markers",
         "name": "MODOC",
         "orientation": "v",
         "showlegend": true,
         "type": "scatter",
         "x": [
          53.515557
         ],
         "xaxis": "x",
         "y": [
          2369
         ],
         "yaxis": "y"
        },
        {
         "customdata": [
          [
           "MONO"
          ]
         ],
         "hovertemplate": "County=%{customdata[0]}<br>Electricity Usage (gWh)=%{x}<br>Total Residential Waste (Tons)=%{y}<br>Population=%{marker.size}<extra></extra>",
         "legendgroup": "MONO",
         "marker": {
          "color": "#19d3f3",
          "size": [
           14134
          ],
          "sizemode": "area",
          "sizeref": 25100.18,
          "symbol": "circle"
         },
         "mode": "markers",
         "name": "MONO",
         "orientation": "v",
         "showlegend": true,
         "type": "scatter",
         "x": [
          87.69288399999998
         ],
         "xaxis": "x",
         "y": [
          3416
         ],
         "yaxis": "y"
        },
        {
         "customdata": [
          [
           "MONTEREY"
          ]
         ],
         "hovertemplate": "County=%{customdata[0]}<br>Electricity Usage (gWh)=%{x}<br>Total Residential Waste (Tons)=%{y}<br>Population=%{marker.size}<extra></extra>",
         "legendgroup": "MONTEREY",
         "marker": {
          "color": "#FF6692",
          "size": [
           428475
          ],
          "sizemode": "area",
          "sizeref": 25100.18,
          "symbol": "circle"
         },
         "mode": "markers",
         "name": "MONTEREY",
         "orientation": "v",
         "showlegend": true,
         "type": "scatter",
         "x": [
          684.290192
         ],
         "xaxis": "x",
         "y": [
          106232
         ],
         "yaxis": "y"
        },
        {
         "customdata": [
          [
           "NAPA"
          ]
         ],
         "hovertemplate": "County=%{customdata[0]}<br>Electricity Usage (gWh)=%{x}<br>Total Residential Waste (Tons)=%{y}<br>Population=%{marker.size}<extra></extra>",
         "legendgroup": "NAPA",
         "marker": {
          "color": "#B6E880",
          "size": [
           140405
          ],
          "sizemode": "area",
          "sizeref": 25100.18,
          "symbol": "circle"
         },
         "mode": "markers",
         "name": "NAPA",
         "orientation": "v",
         "showlegend": true,
         "type": "scatter",
         "x": [
          364.662282
         ],
         "xaxis": "x",
         "y": [
          34961
         ],
         "yaxis": "y"
        },
        {
         "customdata": [
          [
           "NEVADA"
          ]
         ],
         "hovertemplate": "County=%{customdata[0]}<br>Electricity Usage (gWh)=%{x}<br>Total Residential Waste (Tons)=%{y}<br>Population=%{marker.size}<extra></extra>",
         "legendgroup": "NEVADA",
         "marker": {
          "color": "#FF97FF",
          "size": [
           98572
          ],
          "sizemode": "area",
          "sizeref": 25100.18,
          "symbol": "circle"
         },
         "mode": "markers",
         "name": "NEVADA",
         "orientation": "v",
         "showlegend": true,
         "type": "scatter",
         "x": [
          407.094148
         ],
         "xaxis": "x",
         "y": [
          24706
         ],
         "yaxis": "y"
        },
        {
         "customdata": [
          [
           "ORANGE"
          ]
         ],
         "hovertemplate": "County=%{customdata[0]}<br>Electricity Usage (gWh)=%{x}<br>Total Residential Waste (Tons)=%{y}<br>Population=%{marker.size}<extra></extra>",
         "legendgroup": "ORANGE",
         "marker": {
          "color": "#FECB52",
          "size": [
           3126537
          ],
          "sizemode": "area",
          "sizeref": 25100.18,
          "symbol": "circle"
         },
         "mode": "markers",
         "name": "ORANGE",
         "orientation": "v",
         "showlegend": true,
         "type": "scatter",
         "x": [
          7032.734696
         ],
         "xaxis": "x",
         "y": [
          798973
         ],
         "yaxis": "y"
        },
        {
         "customdata": [
          [
           "PLACER"
          ]
         ],
         "hovertemplate": "County=%{customdata[0]}<br>Electricity Usage (gWh)=%{x}<br>Total Residential Waste (Tons)=%{y}<br>Population=%{marker.size}<extra></extra>",
         "legendgroup": "PLACER",
         "marker": {
          "color": "#636efa",
          "size": [
           369217
          ],
          "sizemode": "area",
          "sizeref": 25100.18,
          "symbol": "circle"
         },
         "mode": "markers",
         "name": "PLACER",
         "orientation": "v",
         "showlegend": true,
         "type": "scatter",
         "x": [
          1370.790232
         ],
         "xaxis": "x",
         "y": [
          94361
         ],
         "yaxis": "y"
        },
        {
         "customdata": [
          [
           "PLUMAS"
          ]
         ],
         "hovertemplate": "County=%{customdata[0]}<br>Electricity Usage (gWh)=%{x}<br>Total Residential Waste (Tons)=%{y}<br>Population=%{marker.size}<extra></extra>",
         "legendgroup": "PLUMAS",
         "marker": {
          "color": "#EF553B",
          "size": [
           18622
          ],
          "sizemode": "area",
          "sizeref": 25100.18,
          "symbol": "circle"
         },
         "mode": "markers",
         "name": "PLUMAS",
         "orientation": "v",
         "showlegend": true,
         "type": "scatter",
         "x": [
          98.122899
         ],
         "xaxis": "x",
         "y": [
          5000
         ],
         "yaxis": "y"
        },
        {
         "customdata": [
          [
           "RIVERSIDE"
          ]
         ],
         "hovertemplate": "County=%{customdata[0]}<br>Electricity Usage (gWh)=%{x}<br>Total Residential Waste (Tons)=%{y}<br>Population=%{marker.size}<extra></extra>",
         "legendgroup": "RIVERSIDE",
         "marker": {
          "color": "#00cc96",
          "size": [
           2316162
          ],
          "sizemode": "area",
          "sizeref": 25100.18,
          "symbol": "circle"
         },
         "mode": "markers",
         "name": "RIVERSIDE",
         "orientation": "v",
         "showlegend": true,
         "type": "scatter",
         "x": [
          6763.139781
         ],
         "xaxis": "x",
         "y": [
          590028
         ],
         "yaxis": "y"
        },
        {
         "customdata": [
          [
           "SACRAMENTO"
          ]
         ],
         "hovertemplate": "County=%{customdata[0]}<br>Electricity Usage (gWh)=%{x}<br>Total Residential Waste (Tons)=%{y}<br>Population=%{marker.size}<extra></extra>",
         "legendgroup": "SACRAMENTO",
         "marker": {
          "color": "#ab63fa",
          "size": [
           1474917
          ],
          "sizemode": "area",
          "sizeref": 25100.18,
          "symbol": "circle"
         },
         "mode": "markers",
         "name": "SACRAMENTO",
         "orientation": "v",
         "showlegend": true,
         "type": "scatter",
         "x": [
          4708.098133
         ],
         "xaxis": "x",
         "y": [
          375574
         ],
         "yaxis": "y"
        },
        {
         "customdata": [
          [
           "SAN BENITO"
          ]
         ],
         "hovertemplate": "County=%{customdata[0]}<br>Electricity Usage (gWh)=%{x}<br>Total Residential Waste (Tons)=%{y}<br>Population=%{marker.size}<extra></extra>",
         "legendgroup": "SAN BENITO",
         "marker": {
          "color": "#FFA15A",
          "size": [
           57825
          ],
          "sizemode": "area",
          "sizeref": 25100.18,
          "symbol": "circle"
         },
         "mode": "markers",
         "name": "SAN BENITO",
         "orientation": "v",
         "showlegend": true,
         "type": "scatter",
         "x": [
          115.497509
         ],
         "xaxis": "x",
         "y": [
          14341
         ],
         "yaxis": "y"
        },
        {
         "customdata": [
          [
           "SAN BERNARDINO"
          ]
         ],
         "hovertemplate": "County=%{customdata[0]}<br>Electricity Usage (gWh)=%{x}<br>Total Residential Waste (Tons)=%{y}<br>Population=%{marker.size}<extra></extra>",
         "legendgroup": "SAN BERNARDINO",
         "marker": {
          "color": "#19d3f3",
          "size": [
           2099181
          ],
          "sizemode": "area",
          "sizeref": 25100.18,
          "symbol": "circle"
         },
         "mode": "markers",
         "name": "SAN BERNARDINO",
         "orientation": "v",
         "showlegend": true,
         "type": "scatter",
         "x": [
          4749.693015999998
         ],
         "xaxis": "x",
         "y": [
          536080
         ],
         "yaxis": "y"
        },
        {
         "customdata": [
          [
           "SAN DIEGO"
          ]
         ],
         "hovertemplate": "County=%{customdata[0]}<br>Electricity Usage (gWh)=%{x}<br>Total Residential Waste (Tons)=%{y}<br>Population=%{marker.size}<extra></extra>",
         "legendgroup": "SAN DIEGO",
         "marker": {
          "color": "#FF6692",
          "size": [
           3248877
          ],
          "sizemode": "area",
          "sizeref": 25100.18,
          "symbol": "circle"
         },
         "mode": "markers",
         "name": "SAN DIEGO",
         "orientation": "v",
         "showlegend": true,
         "type": "scatter",
         "x": [
          6855.540414
         ],
         "xaxis": "x",
         "y": [
          811199
         ],
         "yaxis": "y"
        },
        {
         "customdata": [
          [
           "SAN FRANCISCO"
          ]
         ],
         "hovertemplate": "County=%{customdata[0]}<br>Electricity Usage (gWh)=%{x}<br>Total Residential Waste (Tons)=%{y}<br>Population=%{marker.size}<extra></extra>",
         "legendgroup": "SAN FRANCISCO",
         "marker": {
          "color": "#B6E880",
          "size": [
           850750
          ],
          "sizemode": "area",
          "sizeref": 25100.18,
          "symbol": "circle"
         },
         "mode": "markers",
         "name": "SAN FRANCISCO",
         "orientation": "v",
         "showlegend": true,
         "type": "scatter",
         "x": [
          1436.097607
         ],
         "xaxis": "x",
         "y": [
          214592
         ],
         "yaxis": "y"
        },
        {
         "customdata": [
          [
           "SAN JOAQUIN"
          ]
         ],
         "hovertemplate": "County=%{customdata[0]}<br>Electricity Usage (gWh)=%{x}<br>Total Residential Waste (Tons)=%{y}<br>Population=%{marker.size}<extra></extra>",
         "legendgroup": "SAN JOAQUIN",
         "marker": {
          "color": "#FF97FF",
          "size": [
           711579
          ],
          "sizemode": "area",
          "sizeref": 25100.18,
          "symbol": "circle"
         },
         "mode": "markers",
         "name": "SAN JOAQUIN",
         "orientation": "v",
         "showlegend": true,
         "type": "scatter",
         "x": [
          1762.8874879999996
         ],
         "xaxis": "x",
         "y": [
          183159
         ],
         "yaxis": "y"
        },
        {
         "customdata": [
          [
           "SAN LUIS OBISPO"
          ]
         ],
         "hovertemplate": "County=%{customdata[0]}<br>Electricity Usage (gWh)=%{x}<br>Total Residential Waste (Tons)=%{y}<br>Population=%{marker.size}<extra></extra>",
         "legendgroup": "SAN LUIS OBISPO",
         "marker": {
          "color": "#FECB52",
          "size": [
           278227
          ],
          "sizemode": "area",
          "sizeref": 25100.18,
          "symbol": "circle"
         },
         "mode": "markers",
         "name": "SAN LUIS OBISPO",
         "orientation": "v",
         "showlegend": true,
         "type": "scatter",
         "x": [
          629.9200089999998
         ],
         "xaxis": "x",
         "y": [
          66835
         ],
         "yaxis": "y"
        },
        {
         "customdata": [
          [
           "SAN MATEO"
          ]
         ],
         "hovertemplate": "County=%{customdata[0]}<br>Electricity Usage (gWh)=%{x}<br>Total Residential Waste (Tons)=%{y}<br>Population=%{marker.size}<extra></extra>",
         "legendgroup": "SAN MATEO",
         "marker": {
          "color": "#636efa",
          "size": [
           757204
          ],
          "sizemode": "area",
          "sizeref": 25100.18,
          "symbol": "circle"
         },
         "mode": "markers",
         "name": "SAN MATEO",
         "orientation": "v",
         "showlegend": true,
         "type": "scatter",
         "x": [
          1505.269862
         ],
         "xaxis": "x",
         "y": [
          193000
         ],
         "yaxis": "y"
        },
        {
         "customdata": [
          [
           "SANTA BARBARA"
          ]
         ],
         "hovertemplate": "County=%{customdata[0]}<br>Electricity Usage (gWh)=%{x}<br>Total Residential Waste (Tons)=%{y}<br>Population=%{marker.size}<extra></extra>",
         "legendgroup": "SANTA BARBARA",
         "marker": {
          "color": "#EF553B",
          "size": [
           439045
          ],
          "sizemode": "area",
          "sizeref": 25100.18,
          "symbol": "circle"
         },
         "mode": "markers",
         "name": "SANTA BARBARA",
         "orientation": "v",
         "showlegend": true,
         "type": "scatter",
         "x": [
          804.131553
         ],
         "xaxis": "x",
         "y": [
          109099
         ],
         "yaxis": "y"
        },
        {
         "customdata": [
          [
           "SANTA CLARA"
          ]
         ],
         "hovertemplate": "County=%{customdata[0]}<br>Electricity Usage (gWh)=%{x}<br>Total Residential Waste (Tons)=%{y}<br>Population=%{marker.size}<extra></extra>",
         "legendgroup": "SANTA CLARA",
         "marker": {
          "color": "#00cc96",
          "size": [
           1891753
          ],
          "sizemode": "area",
          "sizeref": 25100.18,
          "symbol": "circle"
         },
         "mode": "markers",
         "name": "SANTA CLARA",
         "orientation": "v",
         "showlegend": true,
         "type": "scatter",
         "x": [
          3844.162094
         ],
         "xaxis": "x",
         "y": [
          483851
         ],
         "yaxis": "y"
        },
        {
         "customdata": [
          [
           "SANTA CRUZ"
          ]
         ],
         "hovertemplate": "County=%{customdata[0]}<br>Electricity Usage (gWh)=%{x}<br>Total Residential Waste (Tons)=%{y}<br>Population=%{marker.size}<extra></extra>",
         "legendgroup": "SANTA CRUZ",
         "marker": {
          "color": "#ab63fa",
          "size": [
           270861
          ],
          "sizemode": "area",
          "sizeref": 25100.18,
          "symbol": "circle"
         },
         "mode": "markers",
         "name": "SANTA CRUZ",
         "orientation": "v",
         "showlegend": true,
         "type": "scatter",
         "x": [
          558.75025
         ],
         "xaxis": "x",
         "y": [
          66826
         ],
         "yaxis": "y"
        },
        {
         "customdata": [
          [
           "SHASTA"
          ]
         ],
         "hovertemplate": "County=%{customdata[0]}<br>Electricity Usage (gWh)=%{x}<br>Total Residential Waste (Tons)=%{y}<br>Population=%{marker.size}<extra></extra>",
         "legendgroup": "SHASTA",
         "marker": {
          "color": "#FFA15A",
          "size": [
           178844
          ],
          "sizemode": "area",
          "sizeref": 25100.18,
          "symbol": "circle"
         },
         "mode": "markers",
         "name": "SHASTA",
         "orientation": "v",
         "showlegend": true,
         "type": "scatter",
         "x": [
          724.0686910000002
         ],
         "xaxis": "x",
         "y": [
          44812
         ],
         "yaxis": "y"
        },
        {
         "customdata": [
          [
           "SIERRA"
          ]
         ],
         "hovertemplate": "County=%{customdata[0]}<br>Electricity Usage (gWh)=%{x}<br>Total Residential Waste (Tons)=%{y}<br>Population=%{marker.size}<extra></extra>",
         "legendgroup": "SIERRA",
         "marker": {
          "color": "#19d3f3",
          "size": [
           2972
          ],
          "sizemode": "area",
          "sizeref": 25100.18,
          "symbol": "circle"
         },
         "mode": "markers",
         "name": "SIERRA",
         "orientation": "v",
         "showlegend": true,
         "type": "scatter",
         "x": [
          13.27525
         ],
         "xaxis": "x",
         "y": [
          813
         ],
         "yaxis": "y"
        },
        {
         "customdata": [
          [
           "SISKIYOU"
          ]
         ],
         "hovertemplate": "County=%{customdata[0]}<br>Electricity Usage (gWh)=%{x}<br>Total Residential Waste (Tons)=%{y}<br>Population=%{marker.size}<extra></extra>",
         "legendgroup": "SISKIYOU",
         "marker": {
          "color": "#FF6692",
          "size": [
           43338
          ],
          "sizemode": "area",
          "sizeref": 25100.18,
          "symbol": "circle"
         },
         "mode": "markers",
         "name": "SISKIYOU",
         "orientation": "v",
         "showlegend": true,
         "type": "scatter",
         "x": [
          215.407966
         ],
         "xaxis": "x",
         "y": [
          11265
         ],
         "yaxis": "y"
        },
        {
         "customdata": [
          [
           "SOLANO"
          ]
         ],
         "hovertemplate": "County=%{customdata[0]}<br>Electricity Usage (gWh)=%{x}<br>Total Residential Waste (Tons)=%{y}<br>Population=%{marker.size}<extra></extra>",
         "legendgroup": "SOLANO",
         "marker": {
          "color": "#B6E880",
          "size": [
           429006
          ],
          "sizemode": "area",
          "sizeref": 25100.18,
          "symbol": "circle"
         },
         "mode": "markers",
         "name": "SOLANO",
         "orientation": "v",
         "showlegend": true,
         "type": "scatter",
         "x": [
          1007.803874
         ],
         "xaxis": "x",
         "y": [
          107166
         ],
         "yaxis": "y"
        },
        {
         "customdata": [
          [
           "SONOMA"
          ]
         ],
         "hovertemplate": "County=%{customdata[0]}<br>Electricity Usage (gWh)=%{x}<br>Total Residential Waste (Tons)=%{y}<br>Population=%{marker.size}<extra></extra>",
         "legendgroup": "SONOMA",
         "marker": {
          "color": "#FF97FF",
          "size": [
           498560
          ],
          "sizemode": "area",
          "sizeref": 25100.18,
          "symbol": "circle"
         },
         "mode": "markers",
         "name": "SONOMA",
         "orientation": "v",
         "showlegend": true,
         "type": "scatter",
         "x": [
          1286.568562
         ],
         "xaxis": "x",
         "y": [
          125350
         ],
         "yaxis": "y"
        },
        {
         "customdata": [
          [
           "STANISLAUS"
          ]
         ],
         "hovertemplate": "County=%{customdata[0]}<br>Electricity Usage (gWh)=%{x}<br>Total Residential Waste (Tons)=%{y}<br>Population=%{marker.size}<extra></extra>",
         "legendgroup": "STANISLAUS",
         "marker": {
          "color": "#FECB52",
          "size": [
           528015
          ],
          "sizemode": "area",
          "sizeref": 25100.18,
          "symbol": "circle"
         },
         "mode": "markers",
         "name": "STANISLAUS",
         "orientation": "v",
         "showlegend": true,
         "type": "scatter",
         "x": [
          1716.5681600000007
         ],
         "xaxis": "x",
         "y": [
          136114
         ],
         "yaxis": "y"
        },
        {
         "customdata": [
          [
           "SUTTER"
          ]
         ],
         "hovertemplate": "County=%{customdata[0]}<br>Electricity Usage (gWh)=%{x}<br>Total Residential Waste (Tons)=%{y}<br>Population=%{marker.size}<extra></extra>",
         "legendgroup": "SUTTER",
         "marker": {
          "color": "#636efa",
          "size": [
           94778
          ],
          "sizemode": "area",
          "sizeref": 25100.18,
          "symbol": "circle"
         },
         "mode": "markers",
         "name": "SUTTER",
         "orientation": "v",
         "showlegend": true,
         "type": "scatter",
         "x": [
          276.569295
         ],
         "xaxis": "x",
         "y": [
          24617
         ],
         "yaxis": "y"
        },
        {
         "customdata": [
          [
           "TEHAMA"
          ]
         ],
         "hovertemplate": "County=%{customdata[0]}<br>Electricity Usage (gWh)=%{x}<br>Total Residential Waste (Tons)=%{y}<br>Population=%{marker.size}<extra></extra>",
         "legendgroup": "TEHAMA",
         "marker": {
          "color": "#EF553B",
          "size": [
           62801
          ],
          "sizemode": "area",
          "sizeref": 25100.18,
          "symbol": "circle"
         },
         "mode": "markers",
         "name": "TEHAMA",
         "orientation": "v",
         "showlegend": true,
         "type": "scatter",
         "x": [
          231.001181
         ],
         "xaxis": "x",
         "y": [
          16080
         ],
         "yaxis": "y"
        },
        {
         "customdata": [
          [
           "TRINITY"
          ]
         ],
         "hovertemplate": "County=%{customdata[0]}<br>Electricity Usage (gWh)=%{x}<br>Total Residential Waste (Tons)=%{y}<br>Population=%{marker.size}<extra></extra>",
         "legendgroup": "TRINITY",
         "marker": {
          "color": "#00cc96",
          "size": [
           13128
          ],
          "sizemode": "area",
          "sizeref": 25100.18,
          "symbol": "circle"
         },
         "mode": "markers",
         "name": "TRINITY",
         "orientation": "v",
         "showlegend": true,
         "type": "scatter",
         "x": [
          10.266434
         ],
         "xaxis": "x",
         "y": [
          3388
         ],
         "yaxis": "y"
        },
        {
         "customdata": [
          [
           "TULARE"
          ]
         ],
         "hovertemplate": "County=%{customdata[0]}<br>Electricity Usage (gWh)=%{x}<br>Total Residential Waste (Tons)=%{y}<br>Population=%{marker.size}<extra></extra>",
         "legendgroup": "TULARE",
         "marker": {
          "color": "#ab63fa",
          "size": [
           455138
          ],
          "sizemode": "area",
          "sizeref": 25100.18,
          "symbol": "circle"
         },
         "mode": "markers",
         "name": "TULARE",
         "orientation": "v",
         "showlegend": true,
         "type": "scatter",
         "x": [
          1221.371347
         ],
         "xaxis": "x",
         "y": [
          117688
         ],
         "yaxis": "y"
        },
        {
         "customdata": [
          [
           "TUOLUMNE"
          ]
         ],
         "hovertemplate": "County=%{customdata[0]}<br>Electricity Usage (gWh)=%{x}<br>Total Residential Waste (Tons)=%{y}<br>Population=%{marker.size}<extra></extra>",
         "legendgroup": "TUOLUMNE",
         "marker": {
          "color": "#FFA15A",
          "size": [
           53851
          ],
          "sizemode": "area",
          "sizeref": 25100.18,
          "symbol": "circle"
         },
         "mode": "markers",
         "name": "TUOLUMNE",
         "orientation": "v",
         "showlegend": true,
         "type": "scatter",
         "x": [
          206.254682
         ],
         "xaxis": "x",
         "y": [
          13092
         ],
         "yaxis": "y"
        },
        {
         "customdata": [
          [
           "VENTURA"
          ]
         ],
         "hovertemplate": "County=%{customdata[0]}<br>Electricity Usage (gWh)=%{x}<br>Total Residential Waste (Tons)=%{y}<br>Population=%{marker.size}<extra></extra>",
         "legendgroup": "VENTURA",
         "marker": {
          "color": "#19d3f3",
          "size": [
           842297
          ],
          "sizemode": "area",
          "sizeref": 25100.18,
          "symbol": "circle"
         },
         "mode": "markers",
         "name": "VENTURA",
         "orientation": "v",
         "showlegend": true,
         "type": "scatter",
         "x": [
          1904.791753
         ],
         "xaxis": "x",
         "y": [
          215568
         ],
         "yaxis": "y"
        },
        {
         "customdata": [
          [
           "YOLO"
          ]
         ],
         "hovertemplate": "County=%{customdata[0]}<br>Electricity Usage (gWh)=%{x}<br>Total Residential Waste (Tons)=%{y}<br>Population=%{marker.size}<extra></extra>",
         "legendgroup": "YOLO",
         "marker": {
          "color": "#FF6692",
          "size": [
           208398
          ],
          "sizemode": "area",
          "sizeref": 25100.18,
          "symbol": "circle"
         },
         "mode": "markers",
         "name": "YOLO",
         "orientation": "v",
         "showlegend": true,
         "type": "scatter",
         "x": [
          507.245608
         ],
         "xaxis": "x",
         "y": [
          51697
         ],
         "yaxis": "y"
        },
        {
         "customdata": [
          [
           "YUBA"
          ]
         ],
         "hovertemplate": "County=%{customdata[0]}<br>Electricity Usage (gWh)=%{x}<br>Total Residential Waste (Tons)=%{y}<br>Population=%{marker.size}<extra></extra>",
         "legendgroup": "YUBA",
         "marker": {
          "color": "#B6E880",
          "size": [
           73533
          ],
          "sizemode": "area",
          "sizeref": 25100.18,
          "symbol": "circle"
         },
         "mode": "markers",
         "name": "YUBA",
         "orientation": "v",
         "showlegend": true,
         "type": "scatter",
         "x": [
          214.329404
         ],
         "xaxis": "x",
         "y": [
          18632
         ],
         "yaxis": "y"
        }
       ],
       "layout": {
        "legend": {
         "itemsizing": "constant",
         "title": {
          "text": "County"
         },
         "tracegroupgap": 0
        },
        "template": {
         "data": {
          "bar": [
           {
            "error_x": {
             "color": "#2a3f5f"
            },
            "error_y": {
             "color": "#2a3f5f"
            },
            "marker": {
             "line": {
              "color": "#E5ECF6",
              "width": 0.5
             }
            },
            "type": "bar"
           }
          ],
          "barpolar": [
           {
            "marker": {
             "line": {
              "color": "#E5ECF6",
              "width": 0.5
             }
            },
            "type": "barpolar"
           }
          ],
          "carpet": [
           {
            "aaxis": {
             "endlinecolor": "#2a3f5f",
             "gridcolor": "white",
             "linecolor": "white",
             "minorgridcolor": "white",
             "startlinecolor": "#2a3f5f"
            },
            "baxis": {
             "endlinecolor": "#2a3f5f",
             "gridcolor": "white",
             "linecolor": "white",
             "minorgridcolor": "white",
             "startlinecolor": "#2a3f5f"
            },
            "type": "carpet"
           }
          ],
          "choropleth": [
           {
            "colorbar": {
             "outlinewidth": 0,
             "ticks": ""
            },
            "type": "choropleth"
           }
          ],
          "contour": [
           {
            "colorbar": {
             "outlinewidth": 0,
             "ticks": ""
            },
            "colorscale": [
             [
              0,
              "#0d0887"
             ],
             [
              0.1111111111111111,
              "#46039f"
             ],
             [
              0.2222222222222222,
              "#7201a8"
             ],
             [
              0.3333333333333333,
              "#9c179e"
             ],
             [
              0.4444444444444444,
              "#bd3786"
             ],
             [
              0.5555555555555556,
              "#d8576b"
             ],
             [
              0.6666666666666666,
              "#ed7953"
             ],
             [
              0.7777777777777778,
              "#fb9f3a"
             ],
             [
              0.8888888888888888,
              "#fdca26"
             ],
             [
              1,
              "#f0f921"
             ]
            ],
            "type": "contour"
           }
          ],
          "contourcarpet": [
           {
            "colorbar": {
             "outlinewidth": 0,
             "ticks": ""
            },
            "type": "contourcarpet"
           }
          ],
          "heatmap": [
           {
            "colorbar": {
             "outlinewidth": 0,
             "ticks": ""
            },
            "colorscale": [
             [
              0,
              "#0d0887"
             ],
             [
              0.1111111111111111,
              "#46039f"
             ],
             [
              0.2222222222222222,
              "#7201a8"
             ],
             [
              0.3333333333333333,
              "#9c179e"
             ],
             [
              0.4444444444444444,
              "#bd3786"
             ],
             [
              0.5555555555555556,
              "#d8576b"
             ],
             [
              0.6666666666666666,
              "#ed7953"
             ],
             [
              0.7777777777777778,
              "#fb9f3a"
             ],
             [
              0.8888888888888888,
              "#fdca26"
             ],
             [
              1,
              "#f0f921"
             ]
            ],
            "type": "heatmap"
           }
          ],
          "heatmapgl": [
           {
            "colorbar": {
             "outlinewidth": 0,
             "ticks": ""
            },
            "colorscale": [
             [
              0,
              "#0d0887"
             ],
             [
              0.1111111111111111,
              "#46039f"
             ],
             [
              0.2222222222222222,
              "#7201a8"
             ],
             [
              0.3333333333333333,
              "#9c179e"
             ],
             [
              0.4444444444444444,
              "#bd3786"
             ],
             [
              0.5555555555555556,
              "#d8576b"
             ],
             [
              0.6666666666666666,
              "#ed7953"
             ],
             [
              0.7777777777777778,
              "#fb9f3a"
             ],
             [
              0.8888888888888888,
              "#fdca26"
             ],
             [
              1,
              "#f0f921"
             ]
            ],
            "type": "heatmapgl"
           }
          ],
          "histogram": [
           {
            "marker": {
             "colorbar": {
              "outlinewidth": 0,
              "ticks": ""
             }
            },
            "type": "histogram"
           }
          ],
          "histogram2d": [
           {
            "colorbar": {
             "outlinewidth": 0,
             "ticks": ""
            },
            "colorscale": [
             [
              0,
              "#0d0887"
             ],
             [
              0.1111111111111111,
              "#46039f"
             ],
             [
              0.2222222222222222,
              "#7201a8"
             ],
             [
              0.3333333333333333,
              "#9c179e"
             ],
             [
              0.4444444444444444,
              "#bd3786"
             ],
             [
              0.5555555555555556,
              "#d8576b"
             ],
             [
              0.6666666666666666,
              "#ed7953"
             ],
             [
              0.7777777777777778,
              "#fb9f3a"
             ],
             [
              0.8888888888888888,
              "#fdca26"
             ],
             [
              1,
              "#f0f921"
             ]
            ],
            "type": "histogram2d"
           }
          ],
          "histogram2dcontour": [
           {
            "colorbar": {
             "outlinewidth": 0,
             "ticks": ""
            },
            "colorscale": [
             [
              0,
              "#0d0887"
             ],
             [
              0.1111111111111111,
              "#46039f"
             ],
             [
              0.2222222222222222,
              "#7201a8"
             ],
             [
              0.3333333333333333,
              "#9c179e"
             ],
             [
              0.4444444444444444,
              "#bd3786"
             ],
             [
              0.5555555555555556,
              "#d8576b"
             ],
             [
              0.6666666666666666,
              "#ed7953"
             ],
             [
              0.7777777777777778,
              "#fb9f3a"
             ],
             [
              0.8888888888888888,
              "#fdca26"
             ],
             [
              1,
              "#f0f921"
             ]
            ],
            "type": "histogram2dcontour"
           }
          ],
          "mesh3d": [
           {
            "colorbar": {
             "outlinewidth": 0,
             "ticks": ""
            },
            "type": "mesh3d"
           }
          ],
          "parcoords": [
           {
            "line": {
             "colorbar": {
              "outlinewidth": 0,
              "ticks": ""
             }
            },
            "type": "parcoords"
           }
          ],
          "pie": [
           {
            "automargin": true,
            "type": "pie"
           }
          ],
          "scatter": [
           {
            "marker": {
             "colorbar": {
              "outlinewidth": 0,
              "ticks": ""
             }
            },
            "type": "scatter"
           }
          ],
          "scatter3d": [
           {
            "line": {
             "colorbar": {
              "outlinewidth": 0,
              "ticks": ""
             }
            },
            "marker": {
             "colorbar": {
              "outlinewidth": 0,
              "ticks": ""
             }
            },
            "type": "scatter3d"
           }
          ],
          "scattercarpet": [
           {
            "marker": {
             "colorbar": {
              "outlinewidth": 0,
              "ticks": ""
             }
            },
            "type": "scattercarpet"
           }
          ],
          "scattergeo": [
           {
            "marker": {
             "colorbar": {
              "outlinewidth": 0,
              "ticks": ""
             }
            },
            "type": "scattergeo"
           }
          ],
          "scattergl": [
           {
            "marker": {
             "colorbar": {
              "outlinewidth": 0,
              "ticks": ""
             }
            },
            "type": "scattergl"
           }
          ],
          "scattermapbox": [
           {
            "marker": {
             "colorbar": {
              "outlinewidth": 0,
              "ticks": ""
             }
            },
            "type": "scattermapbox"
           }
          ],
          "scatterpolar": [
           {
            "marker": {
             "colorbar": {
              "outlinewidth": 0,
              "ticks": ""
             }
            },
            "type": "scatterpolar"
           }
          ],
          "scatterpolargl": [
           {
            "marker": {
             "colorbar": {
              "outlinewidth": 0,
              "ticks": ""
             }
            },
            "type": "scatterpolargl"
           }
          ],
          "scatterternary": [
           {
            "marker": {
             "colorbar": {
              "outlinewidth": 0,
              "ticks": ""
             }
            },
            "type": "scatterternary"
           }
          ],
          "surface": [
           {
            "colorbar": {
             "outlinewidth": 0,
             "ticks": ""
            },
            "colorscale": [
             [
              0,
              "#0d0887"
             ],
             [
              0.1111111111111111,
              "#46039f"
             ],
             [
              0.2222222222222222,
              "#7201a8"
             ],
             [
              0.3333333333333333,
              "#9c179e"
             ],
             [
              0.4444444444444444,
              "#bd3786"
             ],
             [
              0.5555555555555556,
              "#d8576b"
             ],
             [
              0.6666666666666666,
              "#ed7953"
             ],
             [
              0.7777777777777778,
              "#fb9f3a"
             ],
             [
              0.8888888888888888,
              "#fdca26"
             ],
             [
              1,
              "#f0f921"
             ]
            ],
            "type": "surface"
           }
          ],
          "table": [
           {
            "cells": {
             "fill": {
              "color": "#EBF0F8"
             },
             "line": {
              "color": "white"
             }
            },
            "header": {
             "fill": {
              "color": "#C8D4E3"
             },
             "line": {
              "color": "white"
             }
            },
            "type": "table"
           }
          ]
         },
         "layout": {
          "annotationdefaults": {
           "arrowcolor": "#2a3f5f",
           "arrowhead": 0,
           "arrowwidth": 1
          },
          "coloraxis": {
           "colorbar": {
            "outlinewidth": 0,
            "ticks": ""
           }
          },
          "colorscale": {
           "diverging": [
            [
             0,
             "#8e0152"
            ],
            [
             0.1,
             "#c51b7d"
            ],
            [
             0.2,
             "#de77ae"
            ],
            [
             0.3,
             "#f1b6da"
            ],
            [
             0.4,
             "#fde0ef"
            ],
            [
             0.5,
             "#f7f7f7"
            ],
            [
             0.6,
             "#e6f5d0"
            ],
            [
             0.7,
             "#b8e186"
            ],
            [
             0.8,
             "#7fbc41"
            ],
            [
             0.9,
             "#4d9221"
            ],
            [
             1,
             "#276419"
            ]
           ],
           "sequential": [
            [
             0,
             "#0d0887"
            ],
            [
             0.1111111111111111,
             "#46039f"
            ],
            [
             0.2222222222222222,
             "#7201a8"
            ],
            [
             0.3333333333333333,
             "#9c179e"
            ],
            [
             0.4444444444444444,
             "#bd3786"
            ],
            [
             0.5555555555555556,
             "#d8576b"
            ],
            [
             0.6666666666666666,
             "#ed7953"
            ],
            [
             0.7777777777777778,
             "#fb9f3a"
            ],
            [
             0.8888888888888888,
             "#fdca26"
            ],
            [
             1,
             "#f0f921"
            ]
           ],
           "sequentialminus": [
            [
             0,
             "#0d0887"
            ],
            [
             0.1111111111111111,
             "#46039f"
            ],
            [
             0.2222222222222222,
             "#7201a8"
            ],
            [
             0.3333333333333333,
             "#9c179e"
            ],
            [
             0.4444444444444444,
             "#bd3786"
            ],
            [
             0.5555555555555556,
             "#d8576b"
            ],
            [
             0.6666666666666666,
             "#ed7953"
            ],
            [
             0.7777777777777778,
             "#fb9f3a"
            ],
            [
             0.8888888888888888,
             "#fdca26"
            ],
            [
             1,
             "#f0f921"
            ]
           ]
          },
          "colorway": [
           "#636efa",
           "#EF553B",
           "#00cc96",
           "#ab63fa",
           "#FFA15A",
           "#19d3f3",
           "#FF6692",
           "#B6E880",
           "#FF97FF",
           "#FECB52"
          ],
          "font": {
           "color": "#2a3f5f"
          },
          "geo": {
           "bgcolor": "white",
           "lakecolor": "white",
           "landcolor": "#E5ECF6",
           "showlakes": true,
           "showland": true,
           "subunitcolor": "white"
          },
          "hoverlabel": {
           "align": "left"
          },
          "hovermode": "closest",
          "mapbox": {
           "style": "light"
          },
          "paper_bgcolor": "white",
          "plot_bgcolor": "#E5ECF6",
          "polar": {
           "angularaxis": {
            "gridcolor": "white",
            "linecolor": "white",
            "ticks": ""
           },
           "bgcolor": "#E5ECF6",
           "radialaxis": {
            "gridcolor": "white",
            "linecolor": "white",
            "ticks": ""
           }
          },
          "scene": {
           "xaxis": {
            "backgroundcolor": "#E5ECF6",
            "gridcolor": "white",
            "gridwidth": 2,
            "linecolor": "white",
            "showbackground": true,
            "ticks": "",
            "zerolinecolor": "white"
           },
           "yaxis": {
            "backgroundcolor": "#E5ECF6",
            "gridcolor": "white",
            "gridwidth": 2,
            "linecolor": "white",
            "showbackground": true,
            "ticks": "",
            "zerolinecolor": "white"
           },
           "zaxis": {
            "backgroundcolor": "#E5ECF6",
            "gridcolor": "white",
            "gridwidth": 2,
            "linecolor": "white",
            "showbackground": true,
            "ticks": "",
            "zerolinecolor": "white"
           }
          },
          "shapedefaults": {
           "line": {
            "color": "#2a3f5f"
           }
          },
          "ternary": {
           "aaxis": {
            "gridcolor": "white",
            "linecolor": "white",
            "ticks": ""
           },
           "baxis": {
            "gridcolor": "white",
            "linecolor": "white",
            "ticks": ""
           },
           "bgcolor": "#E5ECF6",
           "caxis": {
            "gridcolor": "white",
            "linecolor": "white",
            "ticks": ""
           }
          },
          "title": {
           "x": 0.05
          },
          "xaxis": {
           "automargin": true,
           "gridcolor": "white",
           "linecolor": "white",
           "ticks": "",
           "title": {
            "standoff": 15
           },
           "zerolinecolor": "white",
           "zerolinewidth": 2
          },
          "yaxis": {
           "automargin": true,
           "gridcolor": "white",
           "linecolor": "white",
           "ticks": "",
           "title": {
            "standoff": 15
           },
           "zerolinecolor": "white",
           "zerolinewidth": 2
          }
         }
        },
        "title": {
         "text": "CA County Waste vs Electricity Usage & Population (2014)"
        },
        "xaxis": {
         "anchor": "y",
         "domain": [
          0,
          1
         ],
         "title": {
          "text": "Electricity Usage (gWh)"
         }
        },
        "yaxis": {
         "anchor": "x",
         "domain": [
          0,
          1
         ],
         "title": {
          "text": "Total Residential Waste (Tons)"
         }
        }
       }
      },
      "text/html": [
       "<div>                            <div id=\"ed9de890-0335-4953-b77c-cd8949b1549a\" class=\"plotly-graph-div\" style=\"height:525px; width:100%;\"></div>            <script type=\"text/javascript\">                require([\"plotly\"], function(Plotly) {                    window.PLOTLYENV=window.PLOTLYENV || {};                                    if (document.getElementById(\"ed9de890-0335-4953-b77c-cd8949b1549a\")) {                    Plotly.newPlot(                        \"ed9de890-0335-4953-b77c-cd8949b1549a\",                        [{\"customdata\": [[\"ALAMEDA\"]], \"hovertemplate\": \"County=%{customdata[0]}<br>Electricity Usage (gWh)=%{x}<br>Total Residential Waste (Tons)=%{y}<br>Population=%{marker.size}<extra></extra>\", \"legendgroup\": \"ALAMEDA\", \"marker\": {\"color\": \"#636efa\", \"size\": [1607792.0], \"sizemode\": \"area\", \"sizeref\": 25100.18, \"symbol\": \"circle\"}, \"mode\": \"markers\", \"name\": \"ALAMEDA\", \"orientation\": \"v\", \"showlegend\": true, \"type\": \"scatter\", \"x\": [2891.232325], \"xaxis\": \"x\", \"y\": [405147], \"yaxis\": \"y\"}, {\"customdata\": [[\"ALPINE\"]], \"hovertemplate\": \"County=%{customdata[0]}<br>Electricity Usage (gWh)=%{x}<br>Total Residential Waste (Tons)=%{y}<br>Population=%{marker.size}<extra></extra>\", \"legendgroup\": \"ALPINE\", \"marker\": {\"color\": \"#EF553B\", \"size\": [1080.0], \"sizemode\": \"area\", \"sizeref\": 25100.18, \"symbol\": \"circle\"}, \"mode\": \"markers\", \"name\": \"ALPINE\", \"orientation\": \"v\", \"showlegend\": true, \"type\": \"scatter\", \"x\": [11.974975], \"xaxis\": \"x\", \"y\": [291], \"yaxis\": \"y\"}, {\"customdata\": [[\"AMADOR\"]], \"hovertemplate\": \"County=%{customdata[0]}<br>Electricity Usage (gWh)=%{x}<br>Total Residential Waste (Tons)=%{y}<br>Population=%{marker.size}<extra></extra>\", \"legendgroup\": \"AMADOR\", \"marker\": {\"color\": \"#00cc96\", \"size\": [36726.0], \"sizemode\": \"area\", \"sizeref\": 25100.18, \"symbol\": \"circle\"}, \"mode\": \"markers\", \"name\": \"AMADOR\", \"orientation\": \"v\", \"showlegend\": true, \"type\": \"scatter\", \"x\": [134.74438700000002], \"xaxis\": \"x\", \"y\": [8799], \"yaxis\": \"y\"}, {\"customdata\": [[\"BUTTE\"]], \"hovertemplate\": \"County=%{customdata[0]}<br>Electricity Usage (gWh)=%{x}<br>Total Residential Waste (Tons)=%{y}<br>Population=%{marker.size}<extra></extra>\", \"legendgroup\": \"BUTTE\", \"marker\": {\"color\": \"#ab63fa\", \"size\": [223516.0], \"sizemode\": \"area\", \"sizeref\": 25100.18, \"symbol\": \"circle\"}, \"mode\": \"markers\", \"name\": \"BUTTE\", \"orientation\": \"v\", \"showlegend\": true, \"type\": \"scatter\", \"x\": [718.947064], \"xaxis\": \"x\", \"y\": [55883], \"yaxis\": \"y\"}, {\"customdata\": [[\"CALAVERAS\"]], \"hovertemplate\": \"County=%{customdata[0]}<br>Electricity Usage (gWh)=%{x}<br>Total Residential Waste (Tons)=%{y}<br>Population=%{marker.size}<extra></extra>\", \"legendgroup\": \"CALAVERAS\", \"marker\": {\"color\": \"#FFA15A\", \"size\": [44671.0], \"sizemode\": \"area\", \"sizeref\": 25100.18, \"symbol\": \"circle\"}, \"mode\": \"markers\", \"name\": \"CALAVERAS\", \"orientation\": \"v\", \"showlegend\": true, \"type\": \"scatter\", \"x\": [192.543967], \"xaxis\": \"x\", \"y\": [11400], \"yaxis\": \"y\"}, {\"customdata\": [[\"COLUSA\"]], \"hovertemplate\": \"County=%{customdata[0]}<br>Electricity Usage (gWh)=%{x}<br>Total Residential Waste (Tons)=%{y}<br>Population=%{marker.size}<extra></extra>\", \"legendgroup\": \"COLUSA\", \"marker\": {\"color\": \"#19d3f3\", \"size\": [21176.0], \"sizemode\": \"area\", \"sizeref\": 25100.18, \"symbol\": \"circle\"}, \"mode\": \"markers\", \"name\": \"COLUSA\", \"orientation\": \"v\", \"showlegend\": true, \"type\": \"scatter\", \"x\": [64.72284499999999], \"xaxis\": \"x\", \"y\": [5532], \"yaxis\": \"y\"}, {\"customdata\": [[\"CONTRA COSTA\"]], \"hovertemplate\": \"County=%{customdata[0]}<br>Electricity Usage (gWh)=%{x}<br>Total Residential Waste (Tons)=%{y}<br>Population=%{marker.size}<extra></extra>\", \"legendgroup\": \"CONTRA COSTA\", \"marker\": {\"color\": \"#FF6692\", \"size\": [1108876.0], \"sizemode\": \"area\", \"sizeref\": 25100.18, \"symbol\": \"circle\"}, \"mode\": \"markers\", \"name\": \"CONTRA COSTA\", \"orientation\": \"v\", \"showlegend\": true, \"type\": \"scatter\", \"x\": [2731.309642], \"xaxis\": \"x\", \"y\": [283772], \"yaxis\": \"y\"}, {\"customdata\": [[\"DEL NORTE\"]], \"hovertemplate\": \"County=%{customdata[0]}<br>Electricity Usage (gWh)=%{x}<br>Total Residential Waste (Tons)=%{y}<br>Population=%{marker.size}<extra></extra>\", \"legendgroup\": \"DEL NORTE\", \"marker\": {\"color\": \"#B6E880\", \"size\": [27175.0], \"sizemode\": \"area\", \"sizeref\": 25100.18, \"symbol\": \"circle\"}, \"mode\": \"markers\", \"name\": \"DEL NORTE\", \"orientation\": \"v\", \"showlegend\": true, \"type\": \"scatter\", \"x\": [110.109643], \"xaxis\": \"x\", \"y\": [6106], \"yaxis\": \"y\"}, {\"customdata\": [[\"EL DORADO\"]], \"hovertemplate\": \"County=%{customdata[0]}<br>Electricity Usage (gWh)=%{x}<br>Total Residential Waste (Tons)=%{y}<br>Population=%{marker.size}<extra></extra>\", \"legendgroup\": \"EL DORADO\", \"marker\": {\"color\": \"#FF97FF\", \"size\": [183108.0], \"sizemode\": \"area\", \"sizeref\": 25100.18, \"symbol\": \"circle\"}, \"mode\": \"markers\", \"name\": \"EL DORADO\", \"orientation\": \"v\", \"showlegend\": true, \"type\": \"scatter\", \"x\": [721.053363], \"xaxis\": \"x\", \"y\": [46432], \"yaxis\": \"y\"}, {\"customdata\": [[\"FRESNO\"]], \"hovertemplate\": \"County=%{customdata[0]}<br>Electricity Usage (gWh)=%{x}<br>Total Residential Waste (Tons)=%{y}<br>Population=%{marker.size}<extra></extra>\", \"legendgroup\": \"FRESNO\", \"marker\": {\"color\": \"#FECB52\", \"size\": [960567.0], \"sizemode\": \"area\", \"sizeref\": 25100.18, \"symbol\": \"circle\"}, \"mode\": \"markers\", \"name\": \"FRESNO\", \"orientation\": \"v\", \"showlegend\": true, \"type\": \"scatter\", \"x\": [2692.471908], \"xaxis\": \"x\", \"y\": [246630], \"yaxis\": \"y\"}, {\"customdata\": [[\"GLENN\"]], \"hovertemplate\": \"County=%{customdata[0]}<br>Electricity Usage (gWh)=%{x}<br>Total Residential Waste (Tons)=%{y}<br>Population=%{marker.size}<extra></extra>\", \"legendgroup\": \"GLENN\", \"marker\": {\"color\": \"#636efa\", \"size\": [27831.0], \"sizemode\": \"area\", \"sizeref\": 25100.18, \"symbol\": \"circle\"}, \"mode\": \"markers\", \"name\": \"GLENN\", \"orientation\": \"v\", \"showlegend\": true, \"type\": \"scatter\", \"x\": [91.392872], \"xaxis\": \"x\", \"y\": [7232], \"yaxis\": \"y\"}, {\"customdata\": [[\"HUMBOLDT\"]], \"hovertemplate\": \"County=%{customdata[0]}<br>Electricity Usage (gWh)=%{x}<br>Total Residential Waste (Tons)=%{y}<br>Population=%{marker.size}<extra></extra>\", \"legendgroup\": \"HUMBOLDT\", \"marker\": {\"color\": \"#EF553B\", \"size\": [134494.0], \"sizemode\": \"area\", \"sizeref\": 25100.18, \"symbol\": \"circle\"}, \"mode\": \"markers\", \"name\": \"HUMBOLDT\", \"orientation\": \"v\", \"showlegend\": true, \"type\": \"scatter\", \"x\": [395.915896], \"xaxis\": \"x\", \"y\": [33039], \"yaxis\": \"y\"}, {\"customdata\": [[\"IMPERIAL\"]], \"hovertemplate\": \"County=%{customdata[0]}<br>Electricity Usage (gWh)=%{x}<br>Total Residential Waste (Tons)=%{y}<br>Population=%{marker.size}<extra></extra>\", \"legendgroup\": \"IMPERIAL\", \"marker\": {\"color\": \"#00cc96\", \"size\": [177974.0], \"sizemode\": \"area\", \"sizeref\": 25100.18, \"symbol\": \"circle\"}, \"mode\": \"markers\", \"name\": \"IMPERIAL\", \"orientation\": \"v\", \"showlegend\": true, \"type\": \"scatter\", \"x\": [536.1185009999998], \"xaxis\": \"x\", \"y\": [45159], \"yaxis\": \"y\"}, {\"customdata\": [[\"INYO\"]], \"hovertemplate\": \"County=%{customdata[0]}<br>Electricity Usage (gWh)=%{x}<br>Total Residential Waste (Tons)=%{y}<br>Population=%{marker.size}<extra></extra>\", \"legendgroup\": \"INYO\", \"marker\": {\"color\": \"#ab63fa\", \"size\": [18292.0], \"sizemode\": \"area\", \"sizeref\": 25100.18, \"symbol\": \"circle\"}, \"mode\": \"markers\", \"name\": \"INYO\", \"orientation\": \"v\", \"showlegend\": true, \"type\": \"scatter\", \"x\": [60.788615], \"xaxis\": \"x\", \"y\": [4648], \"yaxis\": \"y\"}, {\"customdata\": [[\"KERN\"]], \"hovertemplate\": \"County=%{customdata[0]}<br>Electricity Usage (gWh)=%{x}<br>Total Residential Waste (Tons)=%{y}<br>Population=%{marker.size}<extra></extra>\", \"legendgroup\": \"KERN\", \"marker\": {\"color\": \"#FFA15A\", \"size\": [869176.0], \"sizemode\": \"area\", \"sizeref\": 25100.18, \"symbol\": \"circle\"}, \"mode\": \"markers\", \"name\": \"KERN\", \"orientation\": \"v\", \"showlegend\": true, \"type\": \"scatter\", \"x\": [2294.846631], \"xaxis\": \"x\", \"y\": [217883], \"yaxis\": \"y\"}, {\"customdata\": [[\"KINGS\"]], \"hovertemplate\": \"County=%{customdata[0]}<br>Electricity Usage (gWh)=%{x}<br>Total Residential Waste (Tons)=%{y}<br>Population=%{marker.size}<extra></extra>\", \"legendgroup\": \"KINGS\", \"marker\": {\"color\": \"#19d3f3\", \"size\": [149495.0], \"sizemode\": \"area\", \"sizeref\": 25100.18, \"symbol\": \"circle\"}, \"mode\": \"markers\", \"name\": \"KINGS\", \"orientation\": \"v\", \"showlegend\": true, \"type\": \"scatter\", \"x\": [376.278996], \"xaxis\": \"x\", \"y\": [34263], \"yaxis\": \"y\"}, {\"customdata\": [[\"LAKE\"]], \"hovertemplate\": \"County=%{customdata[0]}<br>Electricity Usage (gWh)=%{x}<br>Total Residential Waste (Tons)=%{y}<br>Population=%{marker.size}<extra></extra>\", \"legendgroup\": \"LAKE\", \"marker\": {\"color\": \"#FF6692\", \"size\": [64044.0], \"sizemode\": \"area\", \"sizeref\": 25100.18, \"symbol\": \"circle\"}, \"mode\": \"markers\", \"name\": \"LAKE\", \"orientation\": \"v\", \"showlegend\": true, \"type\": \"scatter\", \"x\": [285.2773509999999], \"xaxis\": \"x\", \"y\": [16105], \"yaxis\": \"y\"}, {\"customdata\": [[\"LASSEN\"]], \"hovertemplate\": \"County=%{customdata[0]}<br>Electricity Usage (gWh)=%{x}<br>Total Residential Waste (Tons)=%{y}<br>Population=%{marker.size}<extra></extra>\", \"legendgroup\": \"LASSEN\", \"marker\": {\"color\": \"#B6E880\", \"size\": [31664.0], \"sizemode\": \"area\", \"sizeref\": 25100.18, \"symbol\": \"circle\"}, \"mode\": \"markers\", \"name\": \"LASSEN\", \"orientation\": \"v\", \"showlegend\": true, \"type\": \"scatter\", \"x\": [94.366525], \"xaxis\": \"x\", \"y\": [5904], \"yaxis\": \"y\"}, {\"customdata\": [[\"LOS ANGELES\"]], \"hovertemplate\": \"County=%{customdata[0]}<br>Electricity Usage (gWh)=%{x}<br>Total Residential Waste (Tons)=%{y}<br>Population=%{marker.size}<extra></extra>\", \"legendgroup\": \"LOS ANGELES\", \"marker\": {\"color\": \"#FF97FF\", \"size\": [10040072.0], \"sizemode\": \"area\", \"sizeref\": 25100.18, \"symbol\": \"circle\"}, \"mode\": \"markers\", \"name\": \"LOS ANGELES\", \"orientation\": \"v\", \"showlegend\": true, \"type\": \"scatter\", \"x\": [20742.773777], \"xaxis\": \"x\", \"y\": [2565550], \"yaxis\": \"y\"}, {\"customdata\": [[\"MADERA\"]], \"hovertemplate\": \"County=%{customdata[0]}<br>Electricity Usage (gWh)=%{x}<br>Total Residential Waste (Tons)=%{y}<br>Population=%{marker.size}<extra></extra>\", \"legendgroup\": \"MADERA\", \"marker\": {\"color\": \"#FECB52\", \"size\": [153456.0], \"sizemode\": \"area\", \"sizeref\": 25100.18, \"symbol\": \"circle\"}, \"mode\": \"markers\", \"name\": \"MADERA\", \"orientation\": \"v\", \"showlegend\": true, \"type\": \"scatter\", \"x\": [424.63294800000006], \"xaxis\": \"x\", \"y\": [37707], \"yaxis\": \"y\"}, {\"customdata\": [[\"MARIN\"]], \"hovertemplate\": \"County=%{customdata[0]}<br>Electricity Usage (gWh)=%{x}<br>Total Residential Waste (Tons)=%{y}<br>Population=%{marker.size}<extra></extra>\", \"legendgroup\": \"MARIN\", \"marker\": {\"color\": \"#636efa\", \"size\": [260359.0], \"sizemode\": \"area\", \"sizeref\": 25100.18, \"symbol\": \"circle\"}, \"mode\": \"markers\", \"name\": \"MARIN\", \"orientation\": \"v\", \"showlegend\": true, \"type\": \"scatter\", \"x\": [652.468169], \"xaxis\": \"x\", \"y\": [64859], \"yaxis\": \"y\"}, {\"customdata\": [[\"MARIPOSA\"]], \"hovertemplate\": \"County=%{customdata[0]}<br>Electricity Usage (gWh)=%{x}<br>Total Residential Waste (Tons)=%{y}<br>Population=%{marker.size}<extra></extra>\", \"legendgroup\": \"MARIPOSA\", \"marker\": {\"color\": \"#EF553B\", \"size\": [17714.0], \"sizemode\": \"area\", \"sizeref\": 25100.18, \"symbol\": \"circle\"}, \"mode\": \"markers\", \"name\": \"MARIPOSA\", \"orientation\": \"v\", \"showlegend\": true, \"type\": \"scatter\", \"x\": [68.51898299999999], \"xaxis\": \"x\", \"y\": [4448], \"yaxis\": \"y\"}, {\"customdata\": [[\"MENDOCINO\"]], \"hovertemplate\": \"County=%{customdata[0]}<br>Electricity Usage (gWh)=%{x}<br>Total Residential Waste (Tons)=%{y}<br>Population=%{marker.size}<extra></extra>\", \"legendgroup\": \"MENDOCINO\", \"marker\": {\"color\": \"#00cc96\", \"size\": [87225.0], \"sizemode\": \"area\", \"sizeref\": 25100.18, \"symbol\": \"circle\"}, \"mode\": \"markers\", \"name\": \"MENDOCINO\", \"orientation\": \"v\", \"showlegend\": true, \"type\": \"scatter\", \"x\": [295.1787970000001], \"xaxis\": \"x\", \"y\": [22032], \"yaxis\": \"y\"}, {\"customdata\": [[\"MERCED\"]], \"hovertemplate\": \"County=%{customdata[0]}<br>Electricity Usage (gWh)=%{x}<br>Total Residential Waste (Tons)=%{y}<br>Population=%{marker.size}<extra></extra>\", \"legendgroup\": \"MERCED\", \"marker\": {\"color\": \"#ab63fa\", \"size\": [264419.0], \"sizemode\": \"area\", \"sizeref\": 25100.18, \"symbol\": \"circle\"}, \"mode\": \"markers\", \"name\": \"MERCED\", \"orientation\": \"v\", \"showlegend\": true, \"type\": \"scatter\", \"x\": [718.4812820000002], \"xaxis\": \"x\", \"y\": [67789], \"yaxis\": \"y\"}, {\"customdata\": [[\"MODOC\"]], \"hovertemplate\": \"County=%{customdata[0]}<br>Electricity Usage (gWh)=%{x}<br>Total Residential Waste (Tons)=%{y}<br>Population=%{marker.size}<extra></extra>\", \"legendgroup\": \"MODOC\", \"marker\": {\"color\": \"#FFA15A\", \"size\": [9068.0], \"sizemode\": \"area\", \"sizeref\": 25100.18, \"symbol\": \"circle\"}, \"mode\": \"markers\", \"name\": \"MODOC\", \"orientation\": \"v\", \"showlegend\": true, \"type\": \"scatter\", \"x\": [53.515557], \"xaxis\": \"x\", \"y\": [2369], \"yaxis\": \"y\"}, {\"customdata\": [[\"MONO\"]], \"hovertemplate\": \"County=%{customdata[0]}<br>Electricity Usage (gWh)=%{x}<br>Total Residential Waste (Tons)=%{y}<br>Population=%{marker.size}<extra></extra>\", \"legendgroup\": \"MONO\", \"marker\": {\"color\": \"#19d3f3\", \"size\": [14134.0], \"sizemode\": \"area\", \"sizeref\": 25100.18, \"symbol\": \"circle\"}, \"mode\": \"markers\", \"name\": \"MONO\", \"orientation\": \"v\", \"showlegend\": true, \"type\": \"scatter\", \"x\": [87.69288399999998], \"xaxis\": \"x\", \"y\": [3416], \"yaxis\": \"y\"}, {\"customdata\": [[\"MONTEREY\"]], \"hovertemplate\": \"County=%{customdata[0]}<br>Electricity Usage (gWh)=%{x}<br>Total Residential Waste (Tons)=%{y}<br>Population=%{marker.size}<extra></extra>\", \"legendgroup\": \"MONTEREY\", \"marker\": {\"color\": \"#FF6692\", \"size\": [428475.0], \"sizemode\": \"area\", \"sizeref\": 25100.18, \"symbol\": \"circle\"}, \"mode\": \"markers\", \"name\": \"MONTEREY\", \"orientation\": \"v\", \"showlegend\": true, \"type\": \"scatter\", \"x\": [684.290192], \"xaxis\": \"x\", \"y\": [106232], \"yaxis\": \"y\"}, {\"customdata\": [[\"NAPA\"]], \"hovertemplate\": \"County=%{customdata[0]}<br>Electricity Usage (gWh)=%{x}<br>Total Residential Waste (Tons)=%{y}<br>Population=%{marker.size}<extra></extra>\", \"legendgroup\": \"NAPA\", \"marker\": {\"color\": \"#B6E880\", \"size\": [140405.0], \"sizemode\": \"area\", \"sizeref\": 25100.18, \"symbol\": \"circle\"}, \"mode\": \"markers\", \"name\": \"NAPA\", \"orientation\": \"v\", \"showlegend\": true, \"type\": \"scatter\", \"x\": [364.662282], \"xaxis\": \"x\", \"y\": [34961], \"yaxis\": \"y\"}, {\"customdata\": [[\"NEVADA\"]], \"hovertemplate\": \"County=%{customdata[0]}<br>Electricity Usage (gWh)=%{x}<br>Total Residential Waste (Tons)=%{y}<br>Population=%{marker.size}<extra></extra>\", \"legendgroup\": \"NEVADA\", \"marker\": {\"color\": \"#FF97FF\", \"size\": [98572.0], \"sizemode\": \"area\", \"sizeref\": 25100.18, \"symbol\": \"circle\"}, \"mode\": \"markers\", \"name\": \"NEVADA\", \"orientation\": \"v\", \"showlegend\": true, \"type\": \"scatter\", \"x\": [407.094148], \"xaxis\": \"x\", \"y\": [24706], \"yaxis\": \"y\"}, {\"customdata\": [[\"ORANGE\"]], \"hovertemplate\": \"County=%{customdata[0]}<br>Electricity Usage (gWh)=%{x}<br>Total Residential Waste (Tons)=%{y}<br>Population=%{marker.size}<extra></extra>\", \"legendgroup\": \"ORANGE\", \"marker\": {\"color\": \"#FECB52\", \"size\": [3126537.0], \"sizemode\": \"area\", \"sizeref\": 25100.18, \"symbol\": \"circle\"}, \"mode\": \"markers\", \"name\": \"ORANGE\", \"orientation\": \"v\", \"showlegend\": true, \"type\": \"scatter\", \"x\": [7032.734696], \"xaxis\": \"x\", \"y\": [798973], \"yaxis\": \"y\"}, {\"customdata\": [[\"PLACER\"]], \"hovertemplate\": \"County=%{customdata[0]}<br>Electricity Usage (gWh)=%{x}<br>Total Residential Waste (Tons)=%{y}<br>Population=%{marker.size}<extra></extra>\", \"legendgroup\": \"PLACER\", \"marker\": {\"color\": \"#636efa\", \"size\": [369217.0], \"sizemode\": \"area\", \"sizeref\": 25100.18, \"symbol\": \"circle\"}, \"mode\": \"markers\", \"name\": \"PLACER\", \"orientation\": \"v\", \"showlegend\": true, \"type\": \"scatter\", \"x\": [1370.790232], \"xaxis\": \"x\", \"y\": [94361], \"yaxis\": \"y\"}, {\"customdata\": [[\"PLUMAS\"]], \"hovertemplate\": \"County=%{customdata[0]}<br>Electricity Usage (gWh)=%{x}<br>Total Residential Waste (Tons)=%{y}<br>Population=%{marker.size}<extra></extra>\", \"legendgroup\": \"PLUMAS\", \"marker\": {\"color\": \"#EF553B\", \"size\": [18622.0], \"sizemode\": \"area\", \"sizeref\": 25100.18, \"symbol\": \"circle\"}, \"mode\": \"markers\", \"name\": \"PLUMAS\", \"orientation\": \"v\", \"showlegend\": true, \"type\": \"scatter\", \"x\": [98.122899], \"xaxis\": \"x\", \"y\": [5000], \"yaxis\": \"y\"}, {\"customdata\": [[\"RIVERSIDE\"]], \"hovertemplate\": \"County=%{customdata[0]}<br>Electricity Usage (gWh)=%{x}<br>Total Residential Waste (Tons)=%{y}<br>Population=%{marker.size}<extra></extra>\", \"legendgroup\": \"RIVERSIDE\", \"marker\": {\"color\": \"#00cc96\", \"size\": [2316162.0], \"sizemode\": \"area\", \"sizeref\": 25100.18, \"symbol\": \"circle\"}, \"mode\": \"markers\", \"name\": \"RIVERSIDE\", \"orientation\": \"v\", \"showlegend\": true, \"type\": \"scatter\", \"x\": [6763.139781], \"xaxis\": \"x\", \"y\": [590028], \"yaxis\": \"y\"}, {\"customdata\": [[\"SACRAMENTO\"]], \"hovertemplate\": \"County=%{customdata[0]}<br>Electricity Usage (gWh)=%{x}<br>Total Residential Waste (Tons)=%{y}<br>Population=%{marker.size}<extra></extra>\", \"legendgroup\": \"SACRAMENTO\", \"marker\": {\"color\": \"#ab63fa\", \"size\": [1474917.0], \"sizemode\": \"area\", \"sizeref\": 25100.18, \"symbol\": \"circle\"}, \"mode\": \"markers\", \"name\": \"SACRAMENTO\", \"orientation\": \"v\", \"showlegend\": true, \"type\": \"scatter\", \"x\": [4708.098133], \"xaxis\": \"x\", \"y\": [375574], \"yaxis\": \"y\"}, {\"customdata\": [[\"SAN BENITO\"]], \"hovertemplate\": \"County=%{customdata[0]}<br>Electricity Usage (gWh)=%{x}<br>Total Residential Waste (Tons)=%{y}<br>Population=%{marker.size}<extra></extra>\", \"legendgroup\": \"SAN BENITO\", \"marker\": {\"color\": \"#FFA15A\", \"size\": [57825.0], \"sizemode\": \"area\", \"sizeref\": 25100.18, \"symbol\": \"circle\"}, \"mode\": \"markers\", \"name\": \"SAN BENITO\", \"orientation\": \"v\", \"showlegend\": true, \"type\": \"scatter\", \"x\": [115.497509], \"xaxis\": \"x\", \"y\": [14341], \"yaxis\": \"y\"}, {\"customdata\": [[\"SAN BERNARDINO\"]], \"hovertemplate\": \"County=%{customdata[0]}<br>Electricity Usage (gWh)=%{x}<br>Total Residential Waste (Tons)=%{y}<br>Population=%{marker.size}<extra></extra>\", \"legendgroup\": \"SAN BERNARDINO\", \"marker\": {\"color\": \"#19d3f3\", \"size\": [2099181.0], \"sizemode\": \"area\", \"sizeref\": 25100.18, \"symbol\": \"circle\"}, \"mode\": \"markers\", \"name\": \"SAN BERNARDINO\", \"orientation\": \"v\", \"showlegend\": true, \"type\": \"scatter\", \"x\": [4749.693015999998], \"xaxis\": \"x\", \"y\": [536080], \"yaxis\": \"y\"}, {\"customdata\": [[\"SAN DIEGO\"]], \"hovertemplate\": \"County=%{customdata[0]}<br>Electricity Usage (gWh)=%{x}<br>Total Residential Waste (Tons)=%{y}<br>Population=%{marker.size}<extra></extra>\", \"legendgroup\": \"SAN DIEGO\", \"marker\": {\"color\": \"#FF6692\", \"size\": [3248877.0], \"sizemode\": \"area\", \"sizeref\": 25100.18, \"symbol\": \"circle\"}, \"mode\": \"markers\", \"name\": \"SAN DIEGO\", \"orientation\": \"v\", \"showlegend\": true, \"type\": \"scatter\", \"x\": [6855.540414], \"xaxis\": \"x\", \"y\": [811199], \"yaxis\": \"y\"}, {\"customdata\": [[\"SAN FRANCISCO\"]], \"hovertemplate\": \"County=%{customdata[0]}<br>Electricity Usage (gWh)=%{x}<br>Total Residential Waste (Tons)=%{y}<br>Population=%{marker.size}<extra></extra>\", \"legendgroup\": \"SAN FRANCISCO\", \"marker\": {\"color\": \"#B6E880\", \"size\": [850750.0], \"sizemode\": \"area\", \"sizeref\": 25100.18, \"symbol\": \"circle\"}, \"mode\": \"markers\", \"name\": \"SAN FRANCISCO\", \"orientation\": \"v\", \"showlegend\": true, \"type\": \"scatter\", \"x\": [1436.097607], \"xaxis\": \"x\", \"y\": [214592], \"yaxis\": \"y\"}, {\"customdata\": [[\"SAN JOAQUIN\"]], \"hovertemplate\": \"County=%{customdata[0]}<br>Electricity Usage (gWh)=%{x}<br>Total Residential Waste (Tons)=%{y}<br>Population=%{marker.size}<extra></extra>\", \"legendgroup\": \"SAN JOAQUIN\", \"marker\": {\"color\": \"#FF97FF\", \"size\": [711579.0], \"sizemode\": \"area\", \"sizeref\": 25100.18, \"symbol\": \"circle\"}, \"mode\": \"markers\", \"name\": \"SAN JOAQUIN\", \"orientation\": \"v\", \"showlegend\": true, \"type\": \"scatter\", \"x\": [1762.8874879999996], \"xaxis\": \"x\", \"y\": [183159], \"yaxis\": \"y\"}, {\"customdata\": [[\"SAN LUIS OBISPO\"]], \"hovertemplate\": \"County=%{customdata[0]}<br>Electricity Usage (gWh)=%{x}<br>Total Residential Waste (Tons)=%{y}<br>Population=%{marker.size}<extra></extra>\", \"legendgroup\": \"SAN LUIS OBISPO\", \"marker\": {\"color\": \"#FECB52\", \"size\": [278227.0], \"sizemode\": \"area\", \"sizeref\": 25100.18, \"symbol\": \"circle\"}, \"mode\": \"markers\", \"name\": \"SAN LUIS OBISPO\", \"orientation\": \"v\", \"showlegend\": true, \"type\": \"scatter\", \"x\": [629.9200089999998], \"xaxis\": \"x\", \"y\": [66835], \"yaxis\": \"y\"}, {\"customdata\": [[\"SAN MATEO\"]], \"hovertemplate\": \"County=%{customdata[0]}<br>Electricity Usage (gWh)=%{x}<br>Total Residential Waste (Tons)=%{y}<br>Population=%{marker.size}<extra></extra>\", \"legendgroup\": \"SAN MATEO\", \"marker\": {\"color\": \"#636efa\", \"size\": [757204.0], \"sizemode\": \"area\", \"sizeref\": 25100.18, \"symbol\": \"circle\"}, \"mode\": \"markers\", \"name\": \"SAN MATEO\", \"orientation\": \"v\", \"showlegend\": true, \"type\": \"scatter\", \"x\": [1505.269862], \"xaxis\": \"x\", \"y\": [193000], \"yaxis\": \"y\"}, {\"customdata\": [[\"SANTA BARBARA\"]], \"hovertemplate\": \"County=%{customdata[0]}<br>Electricity Usage (gWh)=%{x}<br>Total Residential Waste (Tons)=%{y}<br>Population=%{marker.size}<extra></extra>\", \"legendgroup\": \"SANTA BARBARA\", \"marker\": {\"color\": \"#EF553B\", \"size\": [439045.0], \"sizemode\": \"area\", \"sizeref\": 25100.18, \"symbol\": \"circle\"}, \"mode\": \"markers\", \"name\": \"SANTA BARBARA\", \"orientation\": \"v\", \"showlegend\": true, \"type\": \"scatter\", \"x\": [804.131553], \"xaxis\": \"x\", \"y\": [109099], \"yaxis\": \"y\"}, {\"customdata\": [[\"SANTA CLARA\"]], \"hovertemplate\": \"County=%{customdata[0]}<br>Electricity Usage (gWh)=%{x}<br>Total Residential Waste (Tons)=%{y}<br>Population=%{marker.size}<extra></extra>\", \"legendgroup\": \"SANTA CLARA\", \"marker\": {\"color\": \"#00cc96\", \"size\": [1891753.0], \"sizemode\": \"area\", \"sizeref\": 25100.18, \"symbol\": \"circle\"}, \"mode\": \"markers\", \"name\": \"SANTA CLARA\", \"orientation\": \"v\", \"showlegend\": true, \"type\": \"scatter\", \"x\": [3844.162094], \"xaxis\": \"x\", \"y\": [483851], \"yaxis\": \"y\"}, {\"customdata\": [[\"SANTA CRUZ\"]], \"hovertemplate\": \"County=%{customdata[0]}<br>Electricity Usage (gWh)=%{x}<br>Total Residential Waste (Tons)=%{y}<br>Population=%{marker.size}<extra></extra>\", \"legendgroup\": \"SANTA CRUZ\", \"marker\": {\"color\": \"#ab63fa\", \"size\": [270861.0], \"sizemode\": \"area\", \"sizeref\": 25100.18, \"symbol\": \"circle\"}, \"mode\": \"markers\", \"name\": \"SANTA CRUZ\", \"orientation\": \"v\", \"showlegend\": true, \"type\": \"scatter\", \"x\": [558.75025], \"xaxis\": \"x\", \"y\": [66826], \"yaxis\": \"y\"}, {\"customdata\": [[\"SHASTA\"]], \"hovertemplate\": \"County=%{customdata[0]}<br>Electricity Usage (gWh)=%{x}<br>Total Residential Waste (Tons)=%{y}<br>Population=%{marker.size}<extra></extra>\", \"legendgroup\": \"SHASTA\", \"marker\": {\"color\": \"#FFA15A\", \"size\": [178844.0], \"sizemode\": \"area\", \"sizeref\": 25100.18, \"symbol\": \"circle\"}, \"mode\": \"markers\", \"name\": \"SHASTA\", \"orientation\": \"v\", \"showlegend\": true, \"type\": \"scatter\", \"x\": [724.0686910000002], \"xaxis\": \"x\", \"y\": [44812], \"yaxis\": \"y\"}, {\"customdata\": [[\"SIERRA\"]], \"hovertemplate\": \"County=%{customdata[0]}<br>Electricity Usage (gWh)=%{x}<br>Total Residential Waste (Tons)=%{y}<br>Population=%{marker.size}<extra></extra>\", \"legendgroup\": \"SIERRA\", \"marker\": {\"color\": \"#19d3f3\", \"size\": [2972.0], \"sizemode\": \"area\", \"sizeref\": 25100.18, \"symbol\": \"circle\"}, \"mode\": \"markers\", \"name\": \"SIERRA\", \"orientation\": \"v\", \"showlegend\": true, \"type\": \"scatter\", \"x\": [13.27525], \"xaxis\": \"x\", \"y\": [813], \"yaxis\": \"y\"}, {\"customdata\": [[\"SISKIYOU\"]], \"hovertemplate\": \"County=%{customdata[0]}<br>Electricity Usage (gWh)=%{x}<br>Total Residential Waste (Tons)=%{y}<br>Population=%{marker.size}<extra></extra>\", \"legendgroup\": \"SISKIYOU\", \"marker\": {\"color\": \"#FF6692\", \"size\": [43338.0], \"sizemode\": \"area\", \"sizeref\": 25100.18, \"symbol\": \"circle\"}, \"mode\": \"markers\", \"name\": \"SISKIYOU\", \"orientation\": \"v\", \"showlegend\": true, \"type\": \"scatter\", \"x\": [215.407966], \"xaxis\": \"x\", \"y\": [11265], \"yaxis\": \"y\"}, {\"customdata\": [[\"SOLANO\"]], \"hovertemplate\": \"County=%{customdata[0]}<br>Electricity Usage (gWh)=%{x}<br>Total Residential Waste (Tons)=%{y}<br>Population=%{marker.size}<extra></extra>\", \"legendgroup\": \"SOLANO\", \"marker\": {\"color\": \"#B6E880\", \"size\": [429006.0], \"sizemode\": \"area\", \"sizeref\": 25100.18, \"symbol\": \"circle\"}, \"mode\": \"markers\", \"name\": \"SOLANO\", \"orientation\": \"v\", \"showlegend\": true, \"type\": \"scatter\", \"x\": [1007.803874], \"xaxis\": \"x\", \"y\": [107166], \"yaxis\": \"y\"}, {\"customdata\": [[\"SONOMA\"]], \"hovertemplate\": \"County=%{customdata[0]}<br>Electricity Usage (gWh)=%{x}<br>Total Residential Waste (Tons)=%{y}<br>Population=%{marker.size}<extra></extra>\", \"legendgroup\": \"SONOMA\", \"marker\": {\"color\": \"#FF97FF\", \"size\": [498560.0], \"sizemode\": \"area\", \"sizeref\": 25100.18, \"symbol\": \"circle\"}, \"mode\": \"markers\", \"name\": \"SONOMA\", \"orientation\": \"v\", \"showlegend\": true, \"type\": \"scatter\", \"x\": [1286.568562], \"xaxis\": \"x\", \"y\": [125350], \"yaxis\": \"y\"}, {\"customdata\": [[\"STANISLAUS\"]], \"hovertemplate\": \"County=%{customdata[0]}<br>Electricity Usage (gWh)=%{x}<br>Total Residential Waste (Tons)=%{y}<br>Population=%{marker.size}<extra></extra>\", \"legendgroup\": \"STANISLAUS\", \"marker\": {\"color\": \"#FECB52\", \"size\": [528015.0], \"sizemode\": \"area\", \"sizeref\": 25100.18, \"symbol\": \"circle\"}, \"mode\": \"markers\", \"name\": \"STANISLAUS\", \"orientation\": \"v\", \"showlegend\": true, \"type\": \"scatter\", \"x\": [1716.5681600000007], \"xaxis\": \"x\", \"y\": [136114], \"yaxis\": \"y\"}, {\"customdata\": [[\"SUTTER\"]], \"hovertemplate\": \"County=%{customdata[0]}<br>Electricity Usage (gWh)=%{x}<br>Total Residential Waste (Tons)=%{y}<br>Population=%{marker.size}<extra></extra>\", \"legendgroup\": \"SUTTER\", \"marker\": {\"color\": \"#636efa\", \"size\": [94778.0], \"sizemode\": \"area\", \"sizeref\": 25100.18, \"symbol\": \"circle\"}, \"mode\": \"markers\", \"name\": \"SUTTER\", \"orientation\": \"v\", \"showlegend\": true, \"type\": \"scatter\", \"x\": [276.569295], \"xaxis\": \"x\", \"y\": [24617], \"yaxis\": \"y\"}, {\"customdata\": [[\"TEHAMA\"]], \"hovertemplate\": \"County=%{customdata[0]}<br>Electricity Usage (gWh)=%{x}<br>Total Residential Waste (Tons)=%{y}<br>Population=%{marker.size}<extra></extra>\", \"legendgroup\": \"TEHAMA\", \"marker\": {\"color\": \"#EF553B\", \"size\": [62801.0], \"sizemode\": \"area\", \"sizeref\": 25100.18, \"symbol\": \"circle\"}, \"mode\": \"markers\", \"name\": \"TEHAMA\", \"orientation\": \"v\", \"showlegend\": true, \"type\": \"scatter\", \"x\": [231.001181], \"xaxis\": \"x\", \"y\": [16080], \"yaxis\": \"y\"}, {\"customdata\": [[\"TRINITY\"]], \"hovertemplate\": \"County=%{customdata[0]}<br>Electricity Usage (gWh)=%{x}<br>Total Residential Waste (Tons)=%{y}<br>Population=%{marker.size}<extra></extra>\", \"legendgroup\": \"TRINITY\", \"marker\": {\"color\": \"#00cc96\", \"size\": [13128.0], \"sizemode\": \"area\", \"sizeref\": 25100.18, \"symbol\": \"circle\"}, \"mode\": \"markers\", \"name\": \"TRINITY\", \"orientation\": \"v\", \"showlegend\": true, \"type\": \"scatter\", \"x\": [10.266434], \"xaxis\": \"x\", \"y\": [3388], \"yaxis\": \"y\"}, {\"customdata\": [[\"TULARE\"]], \"hovertemplate\": \"County=%{customdata[0]}<br>Electricity Usage (gWh)=%{x}<br>Total Residential Waste (Tons)=%{y}<br>Population=%{marker.size}<extra></extra>\", \"legendgroup\": \"TULARE\", \"marker\": {\"color\": \"#ab63fa\", \"size\": [455138.0], \"sizemode\": \"area\", \"sizeref\": 25100.18, \"symbol\": \"circle\"}, \"mode\": \"markers\", \"name\": \"TULARE\", \"orientation\": \"v\", \"showlegend\": true, \"type\": \"scatter\", \"x\": [1221.371347], \"xaxis\": \"x\", \"y\": [117688], \"yaxis\": \"y\"}, {\"customdata\": [[\"TUOLUMNE\"]], \"hovertemplate\": \"County=%{customdata[0]}<br>Electricity Usage (gWh)=%{x}<br>Total Residential Waste (Tons)=%{y}<br>Population=%{marker.size}<extra></extra>\", \"legendgroup\": \"TUOLUMNE\", \"marker\": {\"color\": \"#FFA15A\", \"size\": [53851.0], \"sizemode\": \"area\", \"sizeref\": 25100.18, \"symbol\": \"circle\"}, \"mode\": \"markers\", \"name\": \"TUOLUMNE\", \"orientation\": \"v\", \"showlegend\": true, \"type\": \"scatter\", \"x\": [206.254682], \"xaxis\": \"x\", \"y\": [13092], \"yaxis\": \"y\"}, {\"customdata\": [[\"VENTURA\"]], \"hovertemplate\": \"County=%{customdata[0]}<br>Electricity Usage (gWh)=%{x}<br>Total Residential Waste (Tons)=%{y}<br>Population=%{marker.size}<extra></extra>\", \"legendgroup\": \"VENTURA\", \"marker\": {\"color\": \"#19d3f3\", \"size\": [842297.0], \"sizemode\": \"area\", \"sizeref\": 25100.18, \"symbol\": \"circle\"}, \"mode\": \"markers\", \"name\": \"VENTURA\", \"orientation\": \"v\", \"showlegend\": true, \"type\": \"scatter\", \"x\": [1904.791753], \"xaxis\": \"x\", \"y\": [215568], \"yaxis\": \"y\"}, {\"customdata\": [[\"YOLO\"]], \"hovertemplate\": \"County=%{customdata[0]}<br>Electricity Usage (gWh)=%{x}<br>Total Residential Waste (Tons)=%{y}<br>Population=%{marker.size}<extra></extra>\", \"legendgroup\": \"YOLO\", \"marker\": {\"color\": \"#FF6692\", \"size\": [208398.0], \"sizemode\": \"area\", \"sizeref\": 25100.18, \"symbol\": \"circle\"}, \"mode\": \"markers\", \"name\": \"YOLO\", \"orientation\": \"v\", \"showlegend\": true, \"type\": \"scatter\", \"x\": [507.245608], \"xaxis\": \"x\", \"y\": [51697], \"yaxis\": \"y\"}, {\"customdata\": [[\"YUBA\"]], \"hovertemplate\": \"County=%{customdata[0]}<br>Electricity Usage (gWh)=%{x}<br>Total Residential Waste (Tons)=%{y}<br>Population=%{marker.size}<extra></extra>\", \"legendgroup\": \"YUBA\", \"marker\": {\"color\": \"#B6E880\", \"size\": [73533.0], \"sizemode\": \"area\", \"sizeref\": 25100.18, \"symbol\": \"circle\"}, \"mode\": \"markers\", \"name\": \"YUBA\", \"orientation\": \"v\", \"showlegend\": true, \"type\": \"scatter\", \"x\": [214.329404], \"xaxis\": \"x\", \"y\": [18632], \"yaxis\": \"y\"}],                        {\"legend\": {\"itemsizing\": \"constant\", \"title\": {\"text\": \"County\"}, \"tracegroupgap\": 0}, \"template\": {\"data\": {\"bar\": [{\"error_x\": {\"color\": \"#2a3f5f\"}, \"error_y\": {\"color\": \"#2a3f5f\"}, \"marker\": {\"line\": {\"color\": \"#E5ECF6\", \"width\": 0.5}}, \"type\": \"bar\"}], \"barpolar\": [{\"marker\": {\"line\": {\"color\": \"#E5ECF6\", \"width\": 0.5}}, \"type\": \"barpolar\"}], \"carpet\": [{\"aaxis\": {\"endlinecolor\": \"#2a3f5f\", \"gridcolor\": \"white\", \"linecolor\": \"white\", \"minorgridcolor\": \"white\", \"startlinecolor\": \"#2a3f5f\"}, \"baxis\": {\"endlinecolor\": \"#2a3f5f\", \"gridcolor\": \"white\", \"linecolor\": \"white\", \"minorgridcolor\": \"white\", \"startlinecolor\": \"#2a3f5f\"}, \"type\": \"carpet\"}], \"choropleth\": [{\"colorbar\": {\"outlinewidth\": 0, \"ticks\": \"\"}, \"type\": \"choropleth\"}], \"contour\": [{\"colorbar\": {\"outlinewidth\": 0, \"ticks\": \"\"}, \"colorscale\": [[0.0, \"#0d0887\"], [0.1111111111111111, \"#46039f\"], [0.2222222222222222, \"#7201a8\"], [0.3333333333333333, \"#9c179e\"], [0.4444444444444444, \"#bd3786\"], [0.5555555555555556, \"#d8576b\"], [0.6666666666666666, \"#ed7953\"], [0.7777777777777778, \"#fb9f3a\"], [0.8888888888888888, \"#fdca26\"], [1.0, \"#f0f921\"]], \"type\": \"contour\"}], \"contourcarpet\": [{\"colorbar\": {\"outlinewidth\": 0, \"ticks\": \"\"}, \"type\": \"contourcarpet\"}], \"heatmap\": [{\"colorbar\": {\"outlinewidth\": 0, \"ticks\": \"\"}, \"colorscale\": [[0.0, \"#0d0887\"], [0.1111111111111111, \"#46039f\"], [0.2222222222222222, \"#7201a8\"], [0.3333333333333333, \"#9c179e\"], [0.4444444444444444, \"#bd3786\"], [0.5555555555555556, \"#d8576b\"], [0.6666666666666666, \"#ed7953\"], [0.7777777777777778, \"#fb9f3a\"], [0.8888888888888888, \"#fdca26\"], [1.0, \"#f0f921\"]], \"type\": \"heatmap\"}], \"heatmapgl\": [{\"colorbar\": {\"outlinewidth\": 0, \"ticks\": \"\"}, \"colorscale\": [[0.0, \"#0d0887\"], [0.1111111111111111, \"#46039f\"], [0.2222222222222222, \"#7201a8\"], [0.3333333333333333, \"#9c179e\"], [0.4444444444444444, \"#bd3786\"], [0.5555555555555556, \"#d8576b\"], [0.6666666666666666, \"#ed7953\"], [0.7777777777777778, \"#fb9f3a\"], [0.8888888888888888, \"#fdca26\"], [1.0, \"#f0f921\"]], \"type\": \"heatmapgl\"}], \"histogram\": [{\"marker\": {\"colorbar\": {\"outlinewidth\": 0, \"ticks\": \"\"}}, \"type\": \"histogram\"}], \"histogram2d\": [{\"colorbar\": {\"outlinewidth\": 0, \"ticks\": \"\"}, \"colorscale\": [[0.0, \"#0d0887\"], [0.1111111111111111, \"#46039f\"], [0.2222222222222222, \"#7201a8\"], [0.3333333333333333, \"#9c179e\"], [0.4444444444444444, \"#bd3786\"], [0.5555555555555556, \"#d8576b\"], [0.6666666666666666, \"#ed7953\"], [0.7777777777777778, \"#fb9f3a\"], [0.8888888888888888, \"#fdca26\"], [1.0, \"#f0f921\"]], \"type\": \"histogram2d\"}], \"histogram2dcontour\": [{\"colorbar\": {\"outlinewidth\": 0, \"ticks\": \"\"}, \"colorscale\": [[0.0, \"#0d0887\"], [0.1111111111111111, \"#46039f\"], [0.2222222222222222, \"#7201a8\"], [0.3333333333333333, \"#9c179e\"], [0.4444444444444444, \"#bd3786\"], [0.5555555555555556, \"#d8576b\"], [0.6666666666666666, \"#ed7953\"], [0.7777777777777778, \"#fb9f3a\"], [0.8888888888888888, \"#fdca26\"], [1.0, \"#f0f921\"]], \"type\": \"histogram2dcontour\"}], \"mesh3d\": [{\"colorbar\": {\"outlinewidth\": 0, \"ticks\": \"\"}, \"type\": \"mesh3d\"}], \"parcoords\": [{\"line\": {\"colorbar\": {\"outlinewidth\": 0, \"ticks\": \"\"}}, \"type\": \"parcoords\"}], \"pie\": [{\"automargin\": true, \"type\": \"pie\"}], \"scatter\": [{\"marker\": {\"colorbar\": {\"outlinewidth\": 0, \"ticks\": \"\"}}, \"type\": \"scatter\"}], \"scatter3d\": [{\"line\": {\"colorbar\": {\"outlinewidth\": 0, \"ticks\": \"\"}}, \"marker\": {\"colorbar\": {\"outlinewidth\": 0, \"ticks\": \"\"}}, \"type\": \"scatter3d\"}], \"scattercarpet\": [{\"marker\": {\"colorbar\": {\"outlinewidth\": 0, \"ticks\": \"\"}}, \"type\": \"scattercarpet\"}], \"scattergeo\": [{\"marker\": {\"colorbar\": {\"outlinewidth\": 0, \"ticks\": \"\"}}, \"type\": \"scattergeo\"}], \"scattergl\": [{\"marker\": {\"colorbar\": {\"outlinewidth\": 0, \"ticks\": \"\"}}, \"type\": \"scattergl\"}], \"scattermapbox\": [{\"marker\": {\"colorbar\": {\"outlinewidth\": 0, \"ticks\": \"\"}}, \"type\": \"scattermapbox\"}], \"scatterpolar\": [{\"marker\": {\"colorbar\": {\"outlinewidth\": 0, \"ticks\": \"\"}}, \"type\": \"scatterpolar\"}], \"scatterpolargl\": [{\"marker\": {\"colorbar\": {\"outlinewidth\": 0, \"ticks\": \"\"}}, \"type\": \"scatterpolargl\"}], \"scatterternary\": [{\"marker\": {\"colorbar\": {\"outlinewidth\": 0, \"ticks\": \"\"}}, \"type\": \"scatterternary\"}], \"surface\": [{\"colorbar\": {\"outlinewidth\": 0, \"ticks\": \"\"}, \"colorscale\": [[0.0, \"#0d0887\"], [0.1111111111111111, \"#46039f\"], [0.2222222222222222, \"#7201a8\"], [0.3333333333333333, \"#9c179e\"], [0.4444444444444444, \"#bd3786\"], [0.5555555555555556, \"#d8576b\"], [0.6666666666666666, \"#ed7953\"], [0.7777777777777778, \"#fb9f3a\"], [0.8888888888888888, \"#fdca26\"], [1.0, \"#f0f921\"]], \"type\": \"surface\"}], \"table\": [{\"cells\": {\"fill\": {\"color\": \"#EBF0F8\"}, \"line\": {\"color\": \"white\"}}, \"header\": {\"fill\": {\"color\": \"#C8D4E3\"}, \"line\": {\"color\": \"white\"}}, \"type\": \"table\"}]}, \"layout\": {\"annotationdefaults\": {\"arrowcolor\": \"#2a3f5f\", \"arrowhead\": 0, \"arrowwidth\": 1}, \"coloraxis\": {\"colorbar\": {\"outlinewidth\": 0, \"ticks\": \"\"}}, \"colorscale\": {\"diverging\": [[0, \"#8e0152\"], [0.1, \"#c51b7d\"], [0.2, \"#de77ae\"], [0.3, \"#f1b6da\"], [0.4, \"#fde0ef\"], [0.5, \"#f7f7f7\"], [0.6, \"#e6f5d0\"], [0.7, \"#b8e186\"], [0.8, \"#7fbc41\"], [0.9, \"#4d9221\"], [1, \"#276419\"]], \"sequential\": [[0.0, \"#0d0887\"], [0.1111111111111111, \"#46039f\"], [0.2222222222222222, \"#7201a8\"], [0.3333333333333333, \"#9c179e\"], [0.4444444444444444, \"#bd3786\"], [0.5555555555555556, \"#d8576b\"], [0.6666666666666666, \"#ed7953\"], [0.7777777777777778, \"#fb9f3a\"], [0.8888888888888888, \"#fdca26\"], [1.0, \"#f0f921\"]], \"sequentialminus\": [[0.0, \"#0d0887\"], [0.1111111111111111, \"#46039f\"], [0.2222222222222222, \"#7201a8\"], [0.3333333333333333, \"#9c179e\"], [0.4444444444444444, \"#bd3786\"], [0.5555555555555556, \"#d8576b\"], [0.6666666666666666, \"#ed7953\"], [0.7777777777777778, \"#fb9f3a\"], [0.8888888888888888, \"#fdca26\"], [1.0, \"#f0f921\"]]}, \"colorway\": [\"#636efa\", \"#EF553B\", \"#00cc96\", \"#ab63fa\", \"#FFA15A\", \"#19d3f3\", \"#FF6692\", \"#B6E880\", \"#FF97FF\", \"#FECB52\"], \"font\": {\"color\": \"#2a3f5f\"}, \"geo\": {\"bgcolor\": \"white\", \"lakecolor\": \"white\", \"landcolor\": \"#E5ECF6\", \"showlakes\": true, \"showland\": true, \"subunitcolor\": \"white\"}, \"hoverlabel\": {\"align\": \"left\"}, \"hovermode\": \"closest\", \"mapbox\": {\"style\": \"light\"}, \"paper_bgcolor\": \"white\", \"plot_bgcolor\": \"#E5ECF6\", \"polar\": {\"angularaxis\": {\"gridcolor\": \"white\", \"linecolor\": \"white\", \"ticks\": \"\"}, \"bgcolor\": \"#E5ECF6\", \"radialaxis\": {\"gridcolor\": \"white\", \"linecolor\": \"white\", \"ticks\": \"\"}}, \"scene\": {\"xaxis\": {\"backgroundcolor\": \"#E5ECF6\", \"gridcolor\": \"white\", \"gridwidth\": 2, \"linecolor\": \"white\", \"showbackground\": true, \"ticks\": \"\", \"zerolinecolor\": \"white\"}, \"yaxis\": {\"backgroundcolor\": \"#E5ECF6\", \"gridcolor\": \"white\", \"gridwidth\": 2, \"linecolor\": \"white\", \"showbackground\": true, \"ticks\": \"\", \"zerolinecolor\": \"white\"}, \"zaxis\": {\"backgroundcolor\": \"#E5ECF6\", \"gridcolor\": \"white\", \"gridwidth\": 2, \"linecolor\": \"white\", \"showbackground\": true, \"ticks\": \"\", \"zerolinecolor\": \"white\"}}, \"shapedefaults\": {\"line\": {\"color\": \"#2a3f5f\"}}, \"ternary\": {\"aaxis\": {\"gridcolor\": \"white\", \"linecolor\": \"white\", \"ticks\": \"\"}, \"baxis\": {\"gridcolor\": \"white\", \"linecolor\": \"white\", \"ticks\": \"\"}, \"bgcolor\": \"#E5ECF6\", \"caxis\": {\"gridcolor\": \"white\", \"linecolor\": \"white\", \"ticks\": \"\"}}, \"title\": {\"x\": 0.05}, \"xaxis\": {\"automargin\": true, \"gridcolor\": \"white\", \"linecolor\": \"white\", \"ticks\": \"\", \"title\": {\"standoff\": 15}, \"zerolinecolor\": \"white\", \"zerolinewidth\": 2}, \"yaxis\": {\"automargin\": true, \"gridcolor\": \"white\", \"linecolor\": \"white\", \"ticks\": \"\", \"title\": {\"standoff\": 15}, \"zerolinecolor\": \"white\", \"zerolinewidth\": 2}}}, \"title\": {\"text\": \"CA County Waste vs Electricity Usage & Population (2014)\"}, \"xaxis\": {\"anchor\": \"y\", \"domain\": [0.0, 1.0], \"title\": {\"text\": \"Electricity Usage (gWh)\"}}, \"yaxis\": {\"anchor\": \"x\", \"domain\": [0.0, 1.0], \"title\": {\"text\": \"Total Residential Waste (Tons)\"}}},                        {\"responsive\": true}                    ).then(function(){\n",
       "                            \n",
       "var gd = document.getElementById('ed9de890-0335-4953-b77c-cd8949b1549a');\n",
       "var x = new MutationObserver(function (mutations, observer) {{\n",
       "        var display = window.getComputedStyle(gd).display;\n",
       "        if (!display || display === 'none') {{\n",
       "            console.log([gd, 'removed!']);\n",
       "            Plotly.purge(gd);\n",
       "            observer.disconnect();\n",
       "        }}\n",
       "}});\n",
       "\n",
       "// Listen for the removal of the full notebook cells\n",
       "var notebookContainer = gd.closest('#notebook-container');\n",
       "if (notebookContainer) {{\n",
       "    x.observe(notebookContainer, {childList: true});\n",
       "}}\n",
       "\n",
       "// Listen for the clearing of the current output cell\n",
       "var outputEl = gd.closest('.output');\n",
       "if (outputEl) {{\n",
       "    x.observe(outputEl, {childList: true});\n",
       "}}\n",
       "\n",
       "                        })                };                });            </script>        </div>"
      ]
     },
     "metadata": {},
     "output_type": "display_data"
    }
   ],
   "source": [
    "fig = px.scatter(calrecycle_waste_characterization_per_county, x=\"Electricity Usage_2014\", y=\"Total Residential Tons\",\n",
    "                 size=\"Population_2014\", hover_data=[\"County\"], color=\"County\",\n",
    "#                  log_x=True, log_y=True, \n",
    "                 labels={\n",
    "                     \"Total Residential Tons\": \"Total Residential Waste (Tons)\",\n",
    "                     \"Electricity Usage_2014\": \"Electricity Usage (gWh)\",\n",
    "                     \"Population_2014\": \"Population\"\n",
    "                 },\n",
    "                 title=\"CA County Waste vs Electricity Usage & Population (2014)\"\n",
    "                )\n",
    "# fig.update_traces(textposition='top left')\n",
    "fig.show()"
   ]
  },
  {
   "cell_type": "code",
   "execution_count": 22,
   "metadata": {},
   "outputs": [
    {
     "data": {
      "text/plain": [
       "'https://plotly.com/~mdong127/59/'"
      ]
     },
     "execution_count": 22,
     "metadata": {},
     "output_type": "execute_result"
    }
   ],
   "source": [
    "py.plot(fig, filename = 'Waste-vs-Energy-Population', auto_open=True)"
   ]
  }
 ],
 "metadata": {
  "kernelspec": {
   "display_name": "Python 3",
   "language": "python",
   "name": "python3"
  },
  "language_info": {
   "codemirror_mode": {
    "name": "ipython",
    "version": 3
   },
   "file_extension": ".py",
   "mimetype": "text/x-python",
   "name": "python",
   "nbconvert_exporter": "python",
   "pygments_lexer": "ipython3",
   "version": "3.7.4"
  }
 },
 "nbformat": 4,
 "nbformat_minor": 2
}
