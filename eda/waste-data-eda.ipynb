{
 "cells": [
  {
   "cell_type": "code",
   "execution_count": 1,
   "metadata": {},
   "outputs": [
    {
     "name": "stdout",
     "output_type": "stream",
     "text": [
      "········\n"
     ]
    }
   ],
   "source": [
    "import pandas as pd\n",
    "import plotly.express as px\n",
    "from getpass import getpass\n",
    "import chart_studio\n",
    "import chart_studio.plotly as py\n",
    "\n",
    "username = \"mdong127\"\n",
    "api_key = getpass()\n",
    "chart_studio.tools.set_credentials_file(username=username, api_key=api_key)"
   ]
  },
  {
   "cell_type": "code",
   "execution_count": 2,
   "metadata": {},
   "outputs": [
    {
     "data": {
      "text/html": [
       "<div>\n",
       "<style scoped>\n",
       "    .dataframe tbody tr th:only-of-type {\n",
       "        vertical-align: middle;\n",
       "    }\n",
       "\n",
       "    .dataframe tbody tr th {\n",
       "        vertical-align: top;\n",
       "    }\n",
       "\n",
       "    .dataframe thead th {\n",
       "        text-align: right;\n",
       "    }\n",
       "</style>\n",
       "<table border=\"1\" class=\"dataframe\">\n",
       "  <thead>\n",
       "    <tr style=\"text-align: right;\">\n",
       "      <th></th>\n",
       "      <th>County</th>\n",
       "      <th>Total Residential Tons</th>\n",
       "      <th>Electricity Usage_2014</th>\n",
       "      <th>Population_2014</th>\n",
       "    </tr>\n",
       "  </thead>\n",
       "  <tbody>\n",
       "    <tr>\n",
       "      <td>0</td>\n",
       "      <td>ALAMEDA</td>\n",
       "      <td>405147</td>\n",
       "      <td>2891.232325</td>\n",
       "      <td>1607792.0</td>\n",
       "    </tr>\n",
       "    <tr>\n",
       "      <td>1</td>\n",
       "      <td>ALPINE</td>\n",
       "      <td>291</td>\n",
       "      <td>11.974975</td>\n",
       "      <td>1080.0</td>\n",
       "    </tr>\n",
       "    <tr>\n",
       "      <td>2</td>\n",
       "      <td>AMADOR</td>\n",
       "      <td>8799</td>\n",
       "      <td>134.744387</td>\n",
       "      <td>36726.0</td>\n",
       "    </tr>\n",
       "    <tr>\n",
       "      <td>3</td>\n",
       "      <td>BUTTE</td>\n",
       "      <td>55883</td>\n",
       "      <td>718.947064</td>\n",
       "      <td>223516.0</td>\n",
       "    </tr>\n",
       "    <tr>\n",
       "      <td>4</td>\n",
       "      <td>CALAVERAS</td>\n",
       "      <td>11400</td>\n",
       "      <td>192.543967</td>\n",
       "      <td>44671.0</td>\n",
       "    </tr>\n",
       "  </tbody>\n",
       "</table>\n",
       "</div>"
      ],
      "text/plain": [
       "      County  Total Residential Tons  Electricity Usage_2014  Population_2014\n",
       "0    ALAMEDA                  405147             2891.232325        1607792.0\n",
       "1     ALPINE                     291               11.974975           1080.0\n",
       "2     AMADOR                    8799              134.744387          36726.0\n",
       "3      BUTTE                   55883              718.947064         223516.0\n",
       "4  CALAVERAS                   11400              192.543967          44671.0"
      ]
     },
     "execution_count": 2,
     "metadata": {},
     "output_type": "execute_result"
    }
   ],
   "source": [
    "complete_feature_df = pd.read_csv(\"../data/complete_feature_df.csv\")\n",
    "complete_feature_df.head()"
   ]
  },
  {
   "cell_type": "code",
   "execution_count": 3,
   "metadata": {},
   "outputs": [
    {
     "data": {
      "text/html": [
       "<div>\n",
       "<style scoped>\n",
       "    .dataframe tbody tr th:only-of-type {\n",
       "        vertical-align: middle;\n",
       "    }\n",
       "\n",
       "    .dataframe tbody tr th {\n",
       "        vertical-align: top;\n",
       "    }\n",
       "\n",
       "    .dataframe thead th {\n",
       "        text-align: right;\n",
       "    }\n",
       "</style>\n",
       "<table border=\"1\" class=\"dataframe\">\n",
       "  <thead>\n",
       "    <tr style=\"text-align: right;\">\n",
       "      <th></th>\n",
       "      <th>Total Residential Tons</th>\n",
       "      <th>Electricity Usage_2014</th>\n",
       "      <th>Population_2014</th>\n",
       "    </tr>\n",
       "    <tr>\n",
       "      <th>County</th>\n",
       "      <th></th>\n",
       "      <th></th>\n",
       "      <th></th>\n",
       "    </tr>\n",
       "  </thead>\n",
       "  <tbody>\n",
       "    <tr>\n",
       "      <td>ALAMEDA</td>\n",
       "      <td>405147</td>\n",
       "      <td>2891.232325</td>\n",
       "      <td>1607792.0</td>\n",
       "    </tr>\n",
       "    <tr>\n",
       "      <td>ALPINE</td>\n",
       "      <td>291</td>\n",
       "      <td>11.974975</td>\n",
       "      <td>1080.0</td>\n",
       "    </tr>\n",
       "    <tr>\n",
       "      <td>AMADOR</td>\n",
       "      <td>8799</td>\n",
       "      <td>134.744387</td>\n",
       "      <td>36726.0</td>\n",
       "    </tr>\n",
       "    <tr>\n",
       "      <td>BUTTE</td>\n",
       "      <td>55883</td>\n",
       "      <td>718.947064</td>\n",
       "      <td>223516.0</td>\n",
       "    </tr>\n",
       "    <tr>\n",
       "      <td>CALAVERAS</td>\n",
       "      <td>11400</td>\n",
       "      <td>192.543967</td>\n",
       "      <td>44671.0</td>\n",
       "    </tr>\n",
       "  </tbody>\n",
       "</table>\n",
       "</div>"
      ],
      "text/plain": [
       "           Total Residential Tons  Electricity Usage_2014  Population_2014\n",
       "County                                                                    \n",
       "ALAMEDA                    405147             2891.232325        1607792.0\n",
       "ALPINE                        291               11.974975           1080.0\n",
       "AMADOR                       8799              134.744387          36726.0\n",
       "BUTTE                       55883              718.947064         223516.0\n",
       "CALAVERAS                   11400              192.543967          44671.0"
      ]
     },
     "execution_count": 3,
     "metadata": {},
     "output_type": "execute_result"
    }
   ],
   "source": [
    "complete_feature_df.groupby(\"County\").agg(\"mean\").head()"
   ]
  },
  {
   "cell_type": "code",
   "execution_count": 21,
   "metadata": {},
   "outputs": [
    {
     "data": {
      "application/vnd.plotly.v1+json": {
       "config": {
        "plotlyServerURL": "https://plot.ly"
       },
       "data": [
        {
         "customdata": [
          [
           "ALAMEDA"
          ]
         ],
         "hovertemplate": "County=%{customdata[0]}<br>Electricity Usage (gWh)=%{x}<br>Total Residential Waste (Tons)=%{y}<br>Population=%{marker.size}<extra></extra>",
         "legendgroup": "ALAMEDA",
         "marker": {
          "color": "#636efa",
          "size": [
           1607792
          ],
          "sizemode": "area",
          "sizeref": 25100.18,
          "symbol": "circle"
         },
         "mode": "markers",
         "name": "ALAMEDA",
         "orientation": "v",
         "showlegend": true,
         "type": "scatter",
         "x": [
          2891.232325
         ],
         "xaxis": "x",
         "y": [
          405147
         ],
         "yaxis": "y"
        },
        {
         "customdata": [
          [
           "ALPINE"
          ]
         ],
         "hovertemplate": "County=%{customdata[0]}<br>Electricity Usage (gWh)=%{x}<br>Total Residential Waste (Tons)=%{y}<br>Population=%{marker.size}<extra></extra>",
         "legendgroup": "ALPINE",
         "marker": {
          "color": "#EF553B",
          "size": [
           1080
          ],
          "sizemode": "area",
          "sizeref": 25100.18,
          "symbol": "circle"
         },
         "mode": "markers",
         "name": "ALPINE",
         "orientation": "v",
         "showlegend": true,
         "type": "scatter",
         "x": [
          11.974975
         ],
         "xaxis": "x",
         "y": [
          291
         ],
         "yaxis": "y"
        },
        {
         "customdata": [
          [
           "AMADOR"
          ]
         ],
         "hovertemplate": "County=%{customdata[0]}<br>Electricity Usage (gWh)=%{x}<br>Total Residential Waste (Tons)=%{y}<br>Population=%{marker.size}<extra></extra>",
         "legendgroup": "AMADOR",
         "marker": {
          "color": "#00cc96",
          "size": [
           36726
          ],
          "sizemode": "area",
          "sizeref": 25100.18,
          "symbol": "circle"
         },
         "mode": "markers",
         "name": "AMADOR",
         "orientation": "v",
         "showlegend": true,
         "type": "scatter",
         "x": [
          134.74438700000002
         ],
         "xaxis": "x",
         "y": [
          8799
         ],
         "yaxis": "y"
        },
        {
         "customdata": [
          [
           "BUTTE"
          ]
         ],
         "hovertemplate": "County=%{customdata[0]}<br>Electricity Usage (gWh)=%{x}<br>Total Residential Waste (Tons)=%{y}<br>Population=%{marker.size}<extra></extra>",
         "legendgroup": "BUTTE",
         "marker": {
          "color": "#ab63fa",
          "size": [
           223516
          ],
          "sizemode": "area",
          "sizeref": 25100.18,
          "symbol": "circle"
         },
         "mode": "markers",
         "name": "BUTTE",
         "orientation": "v",
         "showlegend": true,
         "type": "scatter",
         "x": [
          718.947064
         ],
         "xaxis": "x",
         "y": [
          55883
         ],
         "yaxis": "y"
        },
        {
         "customdata": [
          [
           "CALAVERAS"
          ]
         ],
         "hovertemplate": "County=%{customdata[0]}<br>Electricity Usage (gWh)=%{x}<br>Total Residential Waste (Tons)=%{y}<br>Population=%{marker.size}<extra></extra>",
         "legendgroup": "CALAVERAS",
         "marker": {
          "color": "#FFA15A",
          "size": [
           44671
          ],
          "sizemode": "area",
          "sizeref": 25100.18,
          "symbol": "circle"
         },
         "mode": "markers",
         "name": "CALAVERAS",
         "orientation": "v",
         "showlegend": true,
         "type": "scatter",
         "x": [
          192.543967
         ],
         "xaxis": "x",
         "y": [
          11400
         ],
         "yaxis": "y"
        },
        {
         "customdata": [
          [
           "COLUSA"
          ]
         ],
         "hovertemplate": "County=%{customdata[0]}<br>Electricity Usage (gWh)=%{x}<br>Total Residential Waste (Tons)=%{y}<br>Population=%{marker.size}<extra></extra>",
         "legendgroup": "COLUSA",
         "marker": {
          "color": "#19d3f3",
          "size": [
           21176
          ],
          "sizemode": "area",
          "sizeref": 25100.18,
          "symbol": "circle"
         },
         "mode": "markers",
         "name": "COLUSA",
         "orientation": "v",
         "showlegend": true,
         "type": "scatter",
         "x": [
          64.72284499999999
         ],
         "xaxis": "x",
         "y": [
          5532
         ],
         "yaxis": "y"
        },
        {
         "customdata": [
          [
           "CONTRA COSTA"
          ]
         ],
         "hovertemplate": "County=%{customdata[0]}<br>Electricity Usage (gWh)=%{x}<br>Total Residential Waste (Tons)=%{y}<br>Population=%{marker.size}<extra></extra>",
         "legendgroup": "CONTRA COSTA",
         "marker": {
          "color": "#FF6692",
          "size": [
           1108876
          ],
          "sizemode": "area",
          "sizeref": 25100.18,
          "symbol": "circle"
         },
         "mode": "markers",
         "name": "CONTRA COSTA",
         "orientation": "v",
         "showlegend": true,
         "type": "scatter",
         "x": [
          2731.309642
         ],
         "xaxis": "x",
         "y": [
          283772
         ],
         "yaxis": "y"
        },
        {
         "customdata": [
          [
           "DEL NORTE"
          ]
         ],
         "hovertemplate": "County=%{customdata[0]}<br>Electricity Usage (gWh)=%{x}<br>Total Residential Waste (Tons)=%{y}<br>Population=%{marker.size}<extra></extra>",
         "legendgroup": "DEL NORTE",
         "marker": {
          "color": "#B6E880",
          "size": [
           27175
          ],
          "sizemode": "area",
          "sizeref": 25100.18,
          "symbol": "circle"
         },
         "mode": "markers",
         "name": "DEL NORTE",
         "orientation": "v",
         "showlegend": true,
         "type": "scatter",
         "x": [
          110.109643
         ],
         "xaxis": "x",
         "y": [
          6106
         ],
         "yaxis": "y"
        },
        {
         "customdata": [
          [
           "EL DORADO"
          ]
         ],
         "hovertemplate": "County=%{customdata[0]}<br>Electricity Usage (gWh)=%{x}<br>Total Residential Waste (Tons)=%{y}<br>Population=%{marker.size}<extra></extra>",
         "legendgroup": "EL DORADO",
         "marker": {
          "color": "#FF97FF",
          "size": [
           183108
          ],
          "sizemode": "area",
          "sizeref": 25100.18,
          "symbol": "circle"
         },
         "mode": "markers",
         "name": "EL DORADO",
         "orientation": "v",
         "showlegend": true,
         "type": "scatter",
         "x": [
          721.053363
         ],
         "xaxis": "x",
         "y": [
          46432
         ],
         "yaxis": "y"
        },
        {
         "customdata": [
          [
           "FRESNO"
          ]
         ],
         "hovertemplate": "County=%{customdata[0]}<br>Electricity Usage (gWh)=%{x}<br>Total Residential Waste (Tons)=%{y}<br>Population=%{marker.size}<extra></extra>",
         "legendgroup": "FRESNO",
         "marker": {
          "color": "#FECB52",
          "size": [
           960567
          ],
          "sizemode": "area",
          "sizeref": 25100.18,
          "symbol": "circle"
         },
         "mode": "markers",
         "name": "FRESNO",
         "orientation": "v",
         "showlegend": true,
         "type": "scatter",
         "x": [
          2692.471908
         ],
         "xaxis": "x",
         "y": [
          246630
         ],
         "yaxis": "y"
        },
        {
         "customdata": [
          [
           "GLENN"
          ]
         ],
         "hovertemplate": "County=%{customdata[0]}<br>Electricity Usage (gWh)=%{x}<br>Total Residential Waste (Tons)=%{y}<br>Population=%{marker.size}<extra></extra>",
         "legendgroup": "GLENN",
         "marker": {
          "color": "#636efa",
          "size": [
           27831
          ],
          "sizemode": "area",
          "sizeref": 25100.18,
          "symbol": "circle"
         },
         "mode": "markers",
         "name": "GLENN",
         "orientation": "v",
         "showlegend": true,
         "type": "scatter",
         "x": [
          91.392872
         ],
         "xaxis": "x",
         "y": [
          7232
         ],
         "yaxis": "y"
        },
        {
         "customdata": [
          [
           "HUMBOLDT"
          ]
         ],
         "hovertemplate": "County=%{customdata[0]}<br>Electricity Usage (gWh)=%{x}<br>Total Residential Waste (Tons)=%{y}<br>Population=%{marker.size}<extra></extra>",
         "legendgroup": "HUMBOLDT",
         "marker": {
          "color": "#EF553B",
          "size": [
           134494
          ],
          "sizemode": "area",
          "sizeref": 25100.18,
          "symbol": "circle"
         },
         "mode": "markers",
         "name": "HUMBOLDT",
         "orientation": "v",
         "showlegend": true,
         "type": "scatter",
         "x": [
          395.915896
         ],
         "xaxis": "x",
         "y": [
          33039
         ],
         "yaxis": "y"
        },
        {
         "customdata": [
          [
           "IMPERIAL"
          ]
         ],
         "hovertemplate": "County=%{customdata[0]}<br>Electricity Usage (gWh)=%{x}<br>Total Residential Waste (Tons)=%{y}<br>Population=%{marker.size}<extra></extra>",
         "legendgroup": "IMPERIAL",
         "marker": {
          "color": "#00cc96",
          "size": [
           177974
          ],
          "sizemode": "area",
          "sizeref": 25100.18,
          "symbol": "circle"
         },
         "mode": "markers",
         "name": "IMPERIAL",
         "orientation": "v",
         "showlegend": true,
         "type": "scatter",
         "x": [
          536.1185009999998
         ],
         "xaxis": "x",
         "y": [
          45159
         ],
         "yaxis": "y"
        },
        {
         "customdata": [
          [
           "INYO"
          ]
         ],
         "hovertemplate": "County=%{customdata[0]}<br>Electricity Usage (gWh)=%{x}<br>Total Residential Waste (Tons)=%{y}<br>Population=%{marker.size}<extra></extra>",
         "legendgroup": "INYO",
         "marker": {
          "color": "#ab63fa",
          "size": [
           18292
          ],
          "sizemode": "area",
          "sizeref": 25100.18,
          "symbol": "circle"
         },
         "mode": "markers",
         "name": "INYO",
         "orientation": "v",
         "showlegend": true,
         "type": "scatter",
         "x": [
          60.788615
         ],
         "xaxis": "x",
         "y": [
          4648
         ],
         "yaxis": "y"
        },
        {
         "customdata": [
          [
           "KERN"
          ]
         ],
         "hovertemplate": "County=%{customdata[0]}<br>Electricity Usage (gWh)=%{x}<br>Total Residential Waste (Tons)=%{y}<br>Population=%{marker.size}<extra></extra>",
         "legendgroup": "KERN",
         "marker": {
          "color": "#FFA15A",
          "size": [
           869176
          ],
          "sizemode": "area",
          "sizeref": 25100.18,
          "symbol": "circle"
         },
         "mode": "markers",
         "name": "KERN",
         "orientation": "v",
         "showlegend": true,
         "type": "scatter",
         "x": [
          2294.846631
         ],
         "xaxis": "x",
         "y": [
          217883
         ],
         "yaxis": "y"
        },
        {
         "customdata": [
          [
           "KINGS"
          ]
         ],
         "hovertemplate": "County=%{customdata[0]}<br>Electricity Usage (gWh)=%{x}<br>Total Residential Waste (Tons)=%{y}<br>Population=%{marker.size}<extra></extra>",
         "legendgroup": "KINGS",
         "marker": {
          "color": "#19d3f3",
          "size": [
           149495
          ],
          "sizemode": "area",
          "sizeref": 25100.18,
          "symbol": "circle"
         },
         "mode": "markers",
         "name": "KINGS",
         "orientation": "v",
         "showlegend": true,
         "type": "scatter",
         "x": [
          376.278996
         ],
         "xaxis": "x",
         "y": [
          34263
         ],
         "yaxis": "y"
        },
        {
         "customdata": [
          [
           "LAKE"
          ]
         ],
         "hovertemplate": "County=%{customdata[0]}<br>Electricity Usage (gWh)=%{x}<br>Total Residential Waste (Tons)=%{y}<br>Population=%{marker.size}<extra></extra>",
         "legendgroup": "LAKE",
         "marker": {
          "color": "#FF6692",
          "size": [
           64044
          ],
          "sizemode": "area",
          "sizeref": 25100.18,
          "symbol": "circle"
         },
         "mode": "markers",
         "name": "LAKE",
         "orientation": "v",
         "showlegend": true,
         "type": "scatter",
         "x": [
          285.2773509999999
         ],
         "xaxis": "x",
         "y": [
          16105
         ],
         "yaxis": "y"
        },
        {
         "customdata": [
          [
           "LASSEN"
          ]
         ],
         "hovertemplate": "County=%{customdata[0]}<br>Electricity Usage (gWh)=%{x}<br>Total Residential Waste (Tons)=%{y}<br>Population=%{marker.size}<extra></extra>",
         "legendgroup": "LASSEN",
         "marker": {
          "color": "#B6E880",
          "size": [
           31664
          ],
          "sizemode": "area",
          "sizeref": 25100.18,
          "symbol": "circle"
         },
         "mode": "markers",
         "name": "LASSEN",
         "orientation": "v",
         "showlegend": true,
         "type": "scatter",
         "x": [
          94.366525
         ],
         "xaxis": "x",
         "y": [
          5904
         ],
         "yaxis": "y"
        },
        {
         "customdata": [
          [
           "LOS ANGELES"
          ]
         ],
         "hovertemplate": "County=%{customdata[0]}<br>Electricity Usage (gWh)=%{x}<br>Total Residential Waste (Tons)=%{y}<br>Population=%{marker.size}<extra></extra>",
         "legendgroup": "LOS ANGELES",
         "marker": {
          "color": "#FF97FF",
          "size": [
           10040072
          ],
          "sizemode": "area",
          "sizeref": 25100.18,
          "symbol": "circle"
         },
         "mode": "markers",
         "name": "LOS ANGELES",
         "orientation": "v",
         "showlegend": true,
         "type": "scatter",
         "x": [
          20742.773777
         ],
         "xaxis": "x",
         "y": [
          2565550
         ],
         "yaxis": "y"
        },
        {
         "customdata": [
          [
           "MADERA"
          ]
         ],
         "hovertemplate": "County=%{customdata[0]}<br>Electricity Usage (gWh)=%{x}<br>Total Residential Waste (Tons)=%{y}<br>Population=%{marker.size}<extra></extra>",
         "legendgroup": "MADERA",
         "marker": {
          "color": "#FECB52",
          "size": [
           153456
          ],
          "sizemode": "area",
          "sizeref": 25100.18,
          "symbol": "circle"
         },
         "mode": "markers",
         "name": "MADERA",
         "orientation": "v",
         "showlegend": true,
         "type": "scatter",
         "x": [
          424.63294800000006
         ],
         "xaxis": "x",
         "y": [
          37707
         ],
         "yaxis": "y"
        },
        {
         "customdata": [
          [
           "MARIN"
          ]
         ],
         "hovertemplate": "County=%{customdata[0]}<br>Electricity Usage (gWh)=%{x}<br>Total Residential Waste (Tons)=%{y}<br>Population=%{marker.size}<extra></extra>",
         "legendgroup": "MARIN",
         "marker": {
          "color": "#636efa",
          "size": [
           260359
          ],
          "sizemode": "area",
          "sizeref": 25100.18,
          "symbol": "circle"
         },
         "mode": "markers",
         "name": "MARIN",
         "orientation": "v",
         "showlegend": true,
         "type": "scatter",
         "x": [
          652.468169
         ],
         "xaxis": "x",
         "y": [
          64859
         ],
         "yaxis": "y"
        },
        {
         "customdata": [
          [
           "MARIPOSA"
          ]
         ],
         "hovertemplate": "County=%{customdata[0]}<br>Electricity Usage (gWh)=%{x}<br>Total Residential Waste (Tons)=%{y}<br>Population=%{marker.size}<extra></extra>",
         "legendgroup": "MARIPOSA",
         "marker": {
          "color": "#EF553B",
          "size": [
           17714
          ],
          "sizemode": "area",
          "sizeref": 25100.18,
          "symbol": "circle"
         },
         "mode": "markers",
         "name": "MARIPOSA",
         "orientation": "v",
         "showlegend": true,
         "type": "scatter",
         "x": [
          68.51898299999999
         ],
         "xaxis": "x",
         "y": [
          4448
         ],
         "yaxis": "y"
        },
        {
         "customdata": [
          [
           "MENDOCINO"
          ]
         ],
         "hovertemplate": "County=%{customdata[0]}<br>Electricity Usage (gWh)=%{x}<br>Total Residential Waste (Tons)=%{y}<br>Population=%{marker.size}<extra></extra>",
         "legendgroup": "MENDOCINO",
         "marker": {
          "color": "#00cc96",
          "size": [
           87225
          ],
          "sizemode": "area",
          "sizeref": 25100.18,
          "symbol": "circle"
         },
         "mode": "markers",
         "name": "MENDOCINO",
         "orientation": "v",
         "showlegend": true,
         "type": "scatter",
         "x": [
          295.1787970000001
         ],
         "xaxis": "x",
         "y": [
          22032
         ],
         "yaxis": "y"
        },
        {
         "customdata": [
          [
           "MERCED"
          ]
         ],
         "hovertemplate": "County=%{customdata[0]}<br>Electricity Usage (gWh)=%{x}<br>Total Residential Waste (Tons)=%{y}<br>Population=%{marker.size}<extra></extra>",
         "legendgroup": "MERCED",
         "marker": {
          "color": "#ab63fa",
          "size": [
           264419
          ],
          "sizemode": "area",
          "sizeref": 25100.18,
          "symbol": "circle"
         },
         "mode": "markers",
         "name": "MERCED",
         "orientation": "v",
         "showlegend": true,
         "type": "scatter",
         "x": [
          718.4812820000002
         ],
         "xaxis": "x",
         "y": [
          67789
         ],
         "yaxis": "y"
        },
        {
         "customdata": [
          [
           "MODOC"
          ]
         ],
         "hovertemplate": "County=%{customdata[0]}<br>Electricity Usage (gWh)=%{x}<br>Total Residential Waste (Tons)=%{y}<br>Population=%{marker.size}<extra></extra>",
         "legendgroup": "MODOC",
         "marker": {
          "color": "#FFA15A",
          "size": [
           9068
          ],
          "sizemode": "area",
          "sizeref": 25100.18,
          "symbol": "circle"
         },
         "mode": "markers",
         "name": "MODOC",
         "orientation": "v",
         "showlegend": true,
         "type": "scatter",
         "x": [
          53.515557
         ],
         "xaxis": "x",
         "y": [
          2369
         ],
         "yaxis": "y"
        },
        {
         "customdata": [
          [
           "MONO"
          ]
         ],
         "hovertemplate": "County=%{customdata[0]}<br>Electricity Usage (gWh)=%{x}<br>Total Residential Waste (Tons)=%{y}<br>Population=%{marker.size}<extra></extra>",
         "legendgroup": "MONO",
         "marker": {
          "color": "#19d3f3",
          "size": [
           14134
          ],
          "sizemode": "area",
          "sizeref": 25100.18,
          "symbol": "circle"
         },
         "mode": "markers",
         "name": "MONO",
         "orientation": "v",
         "showlegend": true,
         "type": "scatter",
         "x": [
          87.69288399999998
         ],
         "xaxis": "x",
         "y": [
          3416
         ],
         "yaxis": "y"
        },
        {
         "customdata": [
          [
           "MONTEREY"
          ]
         ],
         "hovertemplate": "County=%{customdata[0]}<br>Electricity Usage (gWh)=%{x}<br>Total Residential Waste (Tons)=%{y}<br>Population=%{marker.size}<extra></extra>",
         "legendgroup": "MONTEREY",
         "marker": {
          "color": "#FF6692",
          "size": [
           428475
          ],
          "sizemode": "area",
          "sizeref": 25100.18,
          "symbol": "circle"
         },
         "mode": "markers",
         "name": "MONTEREY",
         "orientation": "v",
         "showlegend": true,
         "type": "scatter",
         "x": [
          684.290192
         ],
         "xaxis": "x",
         "y": [
          106232
         ],
         "yaxis": "y"
        },
        {
         "customdata": [
          [
           "NAPA"
          ]
         ],
         "hovertemplate": "County=%{customdata[0]}<br>Electricity Usage (gWh)=%{x}<br>Total Residential Waste (Tons)=%{y}<br>Population=%{marker.size}<extra></extra>",
         "legendgroup": "NAPA",
         "marker": {
          "color": "#B6E880",
          "size": [
           140405
          ],
          "sizemode": "area",
          "sizeref": 25100.18,
          "symbol": "circle"
         },
         "mode": "markers",
         "name": "NAPA",
         "orientation": "v",
         "showlegend": true,
         "type": "scatter",
         "x": [
          364.662282
         ],
         "xaxis": "x",
         "y": [
          34961
         ],
         "yaxis": "y"
        },
        {
         "customdata": [
          [
           "NEVADA"
          ]
         ],
         "hovertemplate": "County=%{customdata[0]}<br>Electricity Usage (gWh)=%{x}<br>Total Residential Waste (Tons)=%{y}<br>Population=%{marker.size}<extra></extra>",
         "legendgroup": "NEVADA",
         "marker": {
          "color": "#FF97FF",
          "size": [
           98572
          ],
          "sizemode": "area",
          "sizeref": 25100.18,
          "symbol": "circle"
         },
         "mode": "markers",
         "name": "NEVADA",
         "orientation": "v",
         "showlegend": true,
         "type": "scatter",
         "x": [
          407.094148
         ],
         "xaxis": "x",
         "y": [
          24706
         ],
         "yaxis": "y"
        },
        {
         "customdata": [
          [
           "ORANGE"
          ]
         ],
         "hovertemplate": "County=%{customdata[0]}<br>Electricity Usage (gWh)=%{x}<br>Total Residential Waste (Tons)=%{y}<br>Population=%{marker.size}<extra></extra>",
         "legendgroup": "ORANGE",
         "marker": {
          "color": "#FECB52",
          "size": [
           3126537
          ],
          "sizemode": "area",
          "sizeref": 25100.18,
          "symbol": "circle"
         },
         "mode": "markers",
         "name": "ORANGE",
         "orientation": "v",
         "showlegend": true,
         "type": "scatter",
         "x": [
          7032.734696
         ],
         "xaxis": "x",
         "y": [
          798973
         ],
         "yaxis": "y"
        },
        {
         "customdata": [
          [
           "PLACER"
          ]
         ],
         "hovertemplate": "County=%{customdata[0]}<br>Electricity Usage (gWh)=%{x}<br>Total Residential Waste (Tons)=%{y}<br>Population=%{marker.size}<extra></extra>",
         "legendgroup": "PLACER",
         "marker": {
          "color": "#636efa",
          "size": [
           369217
          ],
          "sizemode": "area",
          "sizeref": 25100.18,
          "symbol": "circle"
         },
         "mode": "markers",
         "name": "PLACER",
         "orientation": "v",
         "showlegend": true,
         "type": "scatter",
         "x": [
          1370.790232
         ],
         "xaxis": "x",
         "y": [
          94361
         ],
         "yaxis": "y"
        },
        {
         "customdata": [
          [
           "PLUMAS"
          ]
         ],
         "hovertemplate": "County=%{customdata[0]}<br>Electricity Usage (gWh)=%{x}<br>Total Residential Waste (Tons)=%{y}<br>Population=%{marker.size}<extra></extra>",
         "legendgroup": "PLUMAS",
         "marker": {
          "color": "#EF553B",
          "size": [
           18622
          ],
          "sizemode": "area",
          "sizeref": 25100.18,
          "symbol": "circle"
         },
         "mode": "markers",
         "name": "PLUMAS",
         "orientation": "v",
         "showlegend": true,
         "type": "scatter",
         "x": [
          98.122899
         ],
         "xaxis": "x",
         "y": [
          5000
         ],
         "yaxis": "y"
        },
        {
         "customdata": [
          [
           "RIVERSIDE"
          ]
         ],
         "hovertemplate": "County=%{customdata[0]}<br>Electricity Usage (gWh)=%{x}<br>Total Residential Waste (Tons)=%{y}<br>Population=%{marker.size}<extra></extra>",
         "legendgroup": "RIVERSIDE",
         "marker": {
          "color": "#00cc96",
          "size": [
           2316162
          ],
          "sizemode": "area",
          "sizeref": 25100.18,
          "symbol": "circle"
         },
         "mode": "markers",
         "name": "RIVERSIDE",
         "orientation": "v",
         "showlegend": true,
         "type": "scatter",
         "x": [
          6763.139781
         ],
         "xaxis": "x",
         "y": [
          590028
         ],
         "yaxis": "y"
        },
        {
         "customdata": [
          [
           "SACRAMENTO"
          ]
         ],
         "hovertemplate": "County=%{customdata[0]}<br>Electricity Usage (gWh)=%{x}<br>Total Residential Waste (Tons)=%{y}<br>Population=%{marker.size}<extra></extra>",
         "legendgroup": "SACRAMENTO",
         "marker": {
          "color": "#ab63fa",
          "size": [
           1474917
          ],
          "sizemode": "area",
          "sizeref": 25100.18,
          "symbol": "circle"
         },
         "mode": "markers",
         "name": "SACRAMENTO",
         "orientation": "v",
         "showlegend": true,
         "type": "scatter",
         "x": [
          4708.098133
         ],
         "xaxis": "x",
         "y": [
          375574
         ],
         "yaxis": "y"
        },
        {
         "customdata": [
          [
           "SAN BENITO"
          ]
         ],
         "hovertemplate": "County=%{customdata[0]}<br>Electricity Usage (gWh)=%{x}<br>Total Residential Waste (Tons)=%{y}<br>Population=%{marker.size}<extra></extra>",
         "legendgroup": "SAN BENITO",
         "marker": {
          "color": "#FFA15A",
          "size": [
           57825
          ],
          "sizemode": "area",
          "sizeref": 25100.18,
          "symbol": "circle"
         },
         "mode": "markers",
         "name": "SAN BENITO",
         "orientation": "v",
         "showlegend": true,
         "type": "scatter",
         "x": [
          115.497509
         ],
         "xaxis": "x",
         "y": [
          14341
         ],
         "yaxis": "y"
        },
        {
         "customdata": [
          [
           "SAN BERNARDINO"
          ]
         ],
         "hovertemplate": "County=%{customdata[0]}<br>Electricity Usage (gWh)=%{x}<br>Total Residential Waste (Tons)=%{y}<br>Population=%{marker.size}<extra></extra>",
         "legendgroup": "SAN BERNARDINO",
         "marker": {
          "color": "#19d3f3",
          "size": [
           2099181
          ],
          "sizemode": "area",
          "sizeref": 25100.18,
          "symbol": "circle"
         },
         "mode": "markers",
         "name": "SAN BERNARDINO",
         "orientation": "v",
         "showlegend": true,
         "type": "scatter",
         "x": [
          4749.693015999998
         ],
         "xaxis": "x",
         "y": [
          536080
         ],
         "yaxis": "y"
        },
        {
         "customdata": [
          [
           "SAN DIEGO"
          ]
         ],
         "hovertemplate": "County=%{customdata[0]}<br>Electricity Usage (gWh)=%{x}<br>Total Residential Waste (Tons)=%{y}<br>Population=%{marker.size}<extra></extra>",
         "legendgroup": "SAN DIEGO",
         "marker": {
          "color": "#FF6692",
          "size": [
           3248877
          ],
          "sizemode": "area",
          "sizeref": 25100.18,
          "symbol": "circle"
         },
         "mode": "markers",
         "name": "SAN DIEGO",
         "orientation": "v",
         "showlegend": true,
         "type": "scatter",
         "x": [
          6855.540414
         ],
         "xaxis": "x",
         "y": [
          811199
         ],
         "yaxis": "y"
        },
        {
         "customdata": [
          [
           "SAN FRANCISCO"
          ]
         ],
         "hovertemplate": "County=%{customdata[0]}<br>Electricity Usage (gWh)=%{x}<br>Total Residential Waste (Tons)=%{y}<br>Population=%{marker.size}<extra></extra>",
         "legendgroup": "SAN FRANCISCO",
         "marker": {
          "color": "#B6E880",
          "size": [
           850750
          ],
          "sizemode": "area",
          "sizeref": 25100.18,
          "symbol": "circle"
         },
         "mode": "markers",
         "name": "SAN FRANCISCO",
         "orientation": "v",
         "showlegend": true,
         "type": "scatter",
         "x": [
          1436.097607
         ],
         "xaxis": "x",
         "y": [
          214592
         ],
         "yaxis": "y"
        },
        {
         "customdata": [
          [
           "SAN JOAQUIN"
          ]
         ],
         "hovertemplate": "County=%{customdata[0]}<br>Electricity Usage (gWh)=%{x}<br>Total Residential Waste (Tons)=%{y}<br>Population=%{marker.size}<extra></extra>",
         "legendgroup": "SAN JOAQUIN",
         "marker": {
          "color": "#FF97FF",
          "size": [
           711579
          ],
          "sizemode": "area",
          "sizeref": 25100.18,
          "symbol": "circle"
         },
         "mode": "markers",
         "name": "SAN JOAQUIN",
         "orientation": "v",
         "showlegend": true,
         "type": "scatter",
         "x": [
          1762.8874879999996
         ],
         "xaxis": "x",
         "y": [
          183159
         ],
         "yaxis": "y"
        },
        {
         "customdata": [
          [
           "SAN LUIS OBISPO"
          ]
         ],
         "hovertemplate": "County=%{customdata[0]}<br>Electricity Usage (gWh)=%{x}<br>Total Residential Waste (Tons)=%{y}<br>Population=%{marker.size}<extra></extra>",
         "legendgroup": "SAN LUIS OBISPO",
         "marker": {
          "color": "#FECB52",
          "size": [
           278227
          ],
          "sizemode": "area",
          "sizeref": 25100.18,
          "symbol": "circle"
         },
         "mode": "markers",
         "name": "SAN LUIS OBISPO",
         "orientation": "v",
         "showlegend": true,
         "type": "scatter",
         "x": [
          629.9200089999998
         ],
         "xaxis": "x",
         "y": [
          66835
         ],
         "yaxis": "y"
        },
        {
         "customdata": [
          [
           "SAN MATEO"
          ]
         ],
         "hovertemplate": "County=%{customdata[0]}<br>Electricity Usage (gWh)=%{x}<br>Total Residential Waste (Tons)=%{y}<br>Population=%{marker.size}<extra></extra>",
         "legendgroup": "SAN MATEO",
         "marker": {
          "color": "#636efa",
          "size": [
           757204
          ],
          "sizemode": "area",
          "sizeref": 25100.18,
          "symbol": "circle"
         },
         "mode": "markers",
         "name": "SAN MATEO",
         "orientation": "v",
         "showlegend": true,
         "type": "scatter",
         "x": [
          1505.269862
         ],
         "xaxis": "x",
         "y": [
          193000
         ],
         "yaxis": "y"
        },
        {
         "customdata": [
          [
           "SANTA BARBARA"
          ]
         ],
         "hovertemplate": "County=%{customdata[0]}<br>Electricity Usage (gWh)=%{x}<br>Total Residential Waste (Tons)=%{y}<br>Population=%{marker.size}<extra></extra>",
         "legendgroup": "SANTA BARBARA",
         "marker": {
          "color": "#EF553B",
          "size": [
           439045
          ],
          "sizemode": "area",
          "sizeref": 25100.18,
          "symbol": "circle"
         },
         "mode": "markers",
         "name": "SANTA BARBARA",
         "orientation": "v",
         "showlegend": true,
         "type": "scatter",
         "x": [
          804.131553
         ],
         "xaxis": "x",
         "y": [
          109099
         ],
         "yaxis": "y"
        },
        {
         "customdata": [
          [
           "SANTA CLARA"
          ]
         ],
         "hovertemplate": "County=%{customdata[0]}<br>Electricity Usage (gWh)=%{x}<br>Total Residential Waste (Tons)=%{y}<br>Population=%{marker.size}<extra></extra>",
         "legendgroup": "SANTA CLARA",
         "marker": {
          "color": "#00cc96",
          "size": [
           1891753
          ],
          "sizemode": "area",
          "sizeref": 25100.18,
          "symbol": "circle"
         },
         "mode": "markers",
         "name": "SANTA CLARA",
         "orientation": "v",
         "showlegend": true,
         "type": "scatter",
         "x": [
          3844.162094
         ],
         "xaxis": "x",
         "y": [
          483851
         ],
         "yaxis": "y"
        },
        {
         "customdata": [
          [
           "SANTA CRUZ"
          ]
         ],
         "hovertemplate": "County=%{customdata[0]}<br>Electricity Usage (gWh)=%{x}<br>Total Residential Waste (Tons)=%{y}<br>Population=%{marker.size}<extra></extra>",
         "legendgroup": "SANTA CRUZ",
         "marker": {
          "color": "#ab63fa",
          "size": [
           270861
          ],
          "sizemode": "area",
          "sizeref": 25100.18,
          "symbol": "circle"
         },
         "mode": "markers",
         "name": "SANTA CRUZ",
         "orientation": "v",
         "showlegend": true,
         "type": "scatter",
         "x": [
          558.75025
         ],
         "xaxis": "x",
         "y": [
          66826
         ],
         "yaxis": "y"
        },
        {
         "customdata": [
          [
           "SHASTA"
          ]
         ],
         "hovertemplate": "County=%{customdata[0]}<br>Electricity Usage (gWh)=%{x}<br>Total Residential Waste (Tons)=%{y}<br>Population=%{marker.size}<extra></extra>",
         "legendgroup": "SHASTA",
         "marker": {
          "color": "#FFA15A",
          "size": [
           178844
          ],
          "sizemode": "area",
          "sizeref": 25100.18,
          "symbol": "circle"
         },
         "mode": "markers",
         "name": "SHASTA",
         "orientation": "v",
         "showlegend": true,
         "type": "scatter",
         "x": [
          724.0686910000002
         ],
         "xaxis": "x",
         "y": [
          44812
         ],
         "yaxis": "y"
        },
        {
         "customdata": [
          [
           "SIERRA"
          ]
         ],
         "hovertemplate": "County=%{customdata[0]}<br>Electricity Usage (gWh)=%{x}<br>Total Residential Waste (Tons)=%{y}<br>Population=%{marker.size}<extra></extra>",
         "legendgroup": "SIERRA",
         "marker": {
          "color": "#19d3f3",
          "size": [
           2972
          ],
          "sizemode": "area",
          "sizeref": 25100.18,
          "symbol": "circle"
         },
         "mode": "markers",
         "name": "SIERRA",
         "orientation": "v",
         "showlegend": true,
         "type": "scatter",
         "x": [
          13.27525
         ],
         "xaxis": "x",
         "y": [
          813
         ],
         "yaxis": "y"
        },
        {
         "customdata": [
          [
           "SISKIYOU"
          ]
         ],
         "hovertemplate": "County=%{customdata[0]}<br>Electricity Usage (gWh)=%{x}<br>Total Residential Waste (Tons)=%{y}<br>Population=%{marker.size}<extra></extra>",
         "legendgroup": "SISKIYOU",
         "marker": {
          "color": "#FF6692",
          "size": [
           43338
          ],
          "sizemode": "area",
          "sizeref": 25100.18,
          "symbol": "circle"
         },
         "mode": "markers",
         "name": "SISKIYOU",
         "orientation": "v",
         "showlegend": true,
         "type": "scatter",
         "x": [
          215.407966
         ],
         "xaxis": "x",
         "y": [
          11265
         ],
         "yaxis": "y"
        },
        {
         "customdata": [
          [
           "SOLANO"
          ]
         ],
         "hovertemplate": "County=%{customdata[0]}<br>Electricity Usage (gWh)=%{x}<br>Total Residential Waste (Tons)=%{y}<br>Population=%{marker.size}<extra></extra>",
         "legendgroup": "SOLANO",
         "marker": {
          "color": "#B6E880",
          "size": [
           429006
          ],
          "sizemode": "area",
          "sizeref": 25100.18,
          "symbol": "circle"
         },
         "mode": "markers",
         "name": "SOLANO",
         "orientation": "v",
         "showlegend": true,
         "type": "scatter",
         "x": [
          1007.803874
         ],
         "xaxis": "x",
         "y": [
          107166
         ],
         "yaxis": "y"
        },
        {
         "customdata": [
          [
           "SONOMA"
          ]
         ],
         "hovertemplate": "County=%{customdata[0]}<br>Electricity Usage (gWh)=%{x}<br>Total Residential Waste (Tons)=%{y}<br>Population=%{marker.size}<extra></extra>",
         "legendgroup": "SONOMA",
         "marker": {
          "color": "#FF97FF",
          "size": [
           498560
          ],
          "sizemode": "area",
          "sizeref": 25100.18,
          "symbol": "circle"
         },
         "mode": "markers",
         "name": "SONOMA",
         "orientation": "v",
         "showlegend": true,
         "type": "scatter",
         "x": [
          1286.568562
         ],
         "xaxis": "x",
         "y": [
          125350
         ],
         "yaxis": "y"
        },
        {
         "customdata": [
          [
           "STANISLAUS"
          ]
         ],
         "hovertemplate": "County=%{customdata[0]}<br>Electricity Usage (gWh)=%{x}<br>Total Residential Waste (Tons)=%{y}<br>Population=%{marker.size}<extra></extra>",
         "legendgroup": "STANISLAUS",
         "marker": {
          "color": "#FECB52",
          "size": [
           528015
          ],
          "sizemode": "area",
          "sizeref": 25100.18,
          "symbol": "circle"
         },
         "mode": "markers",
         "name": "STANISLAUS",
         "orientation": "v",
         "showlegend": true,
         "type": "scatter",
         "x": [
          1716.5681600000007
         ],
         "xaxis": "x",
         "y": [
          136114
         ],
         "yaxis": "y"
        },
        {
         "customdata": [
          [
           "SUTTER"
          ]
         ],
         "hovertemplate": "County=%{customdata[0]}<br>Electricity Usage (gWh)=%{x}<br>Total Residential Waste (Tons)=%{y}<br>Population=%{marker.size}<extra></extra>",
         "legendgroup": "SUTTER",
         "marker": {
          "color": "#636efa",
          "size": [
           94778
          ],
          "sizemode": "area",
          "sizeref": 25100.18,
          "symbol": "circle"
         },
         "mode": "markers",
         "name": "SUTTER",
         "orientation": "v",
         "showlegend": true,
         "type": "scatter",
         "x": [
          276.569295
         ],
         "xaxis": "x",
         "y": [
          24617
         ],
         "yaxis": "y"
        },
        {
         "customdata": [
          [
           "TEHAMA"
          ]
         ],
         "hovertemplate": "County=%{customdata[0]}<br>Electricity Usage (gWh)=%{x}<br>Total Residential Waste (Tons)=%{y}<br>Population=%{marker.size}<extra></extra>",
         "legendgroup": "TEHAMA",
         "marker": {
          "color": "#EF553B",
          "size": [
           62801
          ],
          "sizemode": "area",
          "sizeref": 25100.18,
          "symbol": "circle"
         },
         "mode": "markers",
         "name": "TEHAMA",
         "orientation": "v",
         "showlegend": true,
         "type": "scatter",
         "x": [
          231.001181
         ],
         "xaxis": "x",
         "y": [
          16080
         ],
         "yaxis": "y"
        },
        {
         "customdata": [
          [
           "TRINITY"
          ]
         ],
         "hovertemplate": "County=%{customdata[0]}<br>Electricity Usage (gWh)=%{x}<br>Total Residential Waste (Tons)=%{y}<br>Population=%{marker.size}<extra></extra>",
         "legendgroup": "TRINITY",
         "marker": {
          "color": "#00cc96",
          "size": [
           13128
          ],
          "sizemode": "area",
          "sizeref": 25100.18,
          "symbol": "circle"
         },
         "mode": "markers",
         "name": "TRINITY",
         "orientation": "v",
         "showlegend": true,
         "type": "scatter",
         "x": [
          10.266434
         ],
         "xaxis": "x",
         "y": [
          3388
         ],
         "yaxis": "y"
        },
        {
         "customdata": [
          [
           "TULARE"
          ]
         ],
         "hovertemplate": "County=%{customdata[0]}<br>Electricity Usage (gWh)=%{x}<br>Total Residential Waste (Tons)=%{y}<br>Population=%{marker.size}<extra></extra>",
         "legendgroup": "TULARE",
         "marker": {
          "color": "#ab63fa",
          "size": [
           455138
          ],
          "sizemode": "area",
          "sizeref": 25100.18,
          "symbol": "circle"
         },
         "mode": "markers",
         "name": "TULARE",
         "orientation": "v",
         "showlegend": true,
         "type": "scatter",
         "x": [
          1221.371347
         ],
         "xaxis": "x",
         "y": [
          117688
         ],
         "yaxis": "y"
        },
        {
         "customdata": [
          [
           "TUOLUMNE"
          ]
         ],
         "hovertemplate": "County=%{customdata[0]}<br>Electricity Usage (gWh)=%{x}<br>Total Residential Waste (Tons)=%{y}<br>Population=%{marker.size}<extra></extra>",
         "legendgroup": "TUOLUMNE",
         "marker": {
          "color": "#FFA15A",
          "size": [
           53851
          ],
          "sizemode": "area",
          "sizeref": 25100.18,
          "symbol": "circle"
         },
         "mode": "markers",
         "name": "TUOLUMNE",
         "orientation": "v",
         "showlegend": true,
         "type": "scatter",
         "x": [
          206.254682
         ],
         "xaxis": "x",
         "y": [
          13092
         ],
         "yaxis": "y"
        },
        {
         "customdata": [
          [
           "VENTURA"
          ]
         ],
         "hovertemplate": "County=%{customdata[0]}<br>Electricity Usage (gWh)=%{x}<br>Total Residential Waste (Tons)=%{y}<br>Population=%{marker.size}<extra></extra>",
         "legendgroup": "VENTURA",
         "marker": {
          "color": "#19d3f3",
          "size": [
           842297
          ],
          "sizemode": "area",
          "sizeref": 25100.18,
          "symbol": "circle"
         },
         "mode": "markers",
         "name": "VENTURA",
         "orientation": "v",
         "showlegend": true,
         "type": "scatter",
         "x": [
          1904.791753
         ],
         "xaxis": "x",
         "y": [
          215568
         ],
         "yaxis": "y"
        },
        {
         "customdata": [
          [
           "YOLO"
          ]
         ],
         "hovertemplate": "County=%{customdata[0]}<br>Electricity Usage (gWh)=%{x}<br>Total Residential Waste (Tons)=%{y}<br>Population=%{marker.size}<extra></extra>",
         "legendgroup": "YOLO",
         "marker": {
          "color": "#FF6692",
          "size": [
           208398
          ],
          "sizemode": "area",
          "sizeref": 25100.18,
          "symbol": "circle"
         },
         "mode": "markers",
         "name": "YOLO",
         "orientation": "v",
         "showlegend": true,
         "type": "scatter",
         "x": [
          507.245608
         ],
         "xaxis": "x",
         "y": [
          51697
         ],
         "yaxis": "y"
        },
        {
         "customdata": [
          [
           "YUBA"
          ]
         ],
         "hovertemplate": "County=%{customdata[0]}<br>Electricity Usage (gWh)=%{x}<br>Total Residential Waste (Tons)=%{y}<br>Population=%{marker.size}<extra></extra>",
         "legendgroup": "YUBA",
         "marker": {
          "color": "#B6E880",
          "size": [
           73533
          ],
          "sizemode": "area",
          "sizeref": 25100.18,
          "symbol": "circle"
         },
         "mode": "markers",
         "name": "YUBA",
         "orientation": "v",
         "showlegend": true,
         "type": "scatter",
         "x": [
          214.329404
         ],
         "xaxis": "x",
         "y": [
          18632
         ],
         "yaxis": "y"
        }
       ],
       "layout": {
        "legend": {
         "itemsizing": "constant",
         "title": {
          "text": "County"
         },
         "tracegroupgap": 0
        },
        "template": {
         "data": {
          "bar": [
           {
            "error_x": {
             "color": "#2a3f5f"
            },
            "error_y": {
             "color": "#2a3f5f"
            },
            "marker": {
             "line": {
              "color": "#E5ECF6",
              "width": 0.5
             }
            },
            "type": "bar"
           }
          ],
          "barpolar": [
           {
            "marker": {
             "line": {
              "color": "#E5ECF6",
              "width": 0.5
             }
            },
            "type": "barpolar"
           }
          ],
          "carpet": [
           {
            "aaxis": {
             "endlinecolor": "#2a3f5f",
             "gridcolor": "white",
             "linecolor": "white",
             "minorgridcolor": "white",
             "startlinecolor": "#2a3f5f"
            },
            "baxis": {
             "endlinecolor": "#2a3f5f",
             "gridcolor": "white",
             "linecolor": "white",
             "minorgridcolor": "white",
             "startlinecolor": "#2a3f5f"
            },
            "type": "carpet"
           }
          ],
          "choropleth": [
           {
            "colorbar": {
             "outlinewidth": 0,
             "ticks": ""
            },
            "type": "choropleth"
           }
          ],
          "contour": [
           {
            "colorbar": {
             "outlinewidth": 0,
             "ticks": ""
            },
            "colorscale": [
             [
              0,
              "#0d0887"
             ],
             [
              0.1111111111111111,
              "#46039f"
             ],
             [
              0.2222222222222222,
              "#7201a8"
             ],
             [
              0.3333333333333333,
              "#9c179e"
             ],
             [
              0.4444444444444444,
              "#bd3786"
             ],
             [
              0.5555555555555556,
              "#d8576b"
             ],
             [
              0.6666666666666666,
              "#ed7953"
             ],
             [
              0.7777777777777778,
              "#fb9f3a"
             ],
             [
              0.8888888888888888,
              "#fdca26"
             ],
             [
              1,
              "#f0f921"
             ]
            ],
            "type": "contour"
           }
          ],
          "contourcarpet": [
           {
            "colorbar": {
             "outlinewidth": 0,
             "ticks": ""
            },
            "type": "contourcarpet"
           }
          ],
          "heatmap": [
           {
            "colorbar": {
             "outlinewidth": 0,
             "ticks": ""
            },
            "colorscale": [
             [
              0,
              "#0d0887"
             ],
             [
              0.1111111111111111,
              "#46039f"
             ],
             [
              0.2222222222222222,
              "#7201a8"
             ],
             [
              0.3333333333333333,
              "#9c179e"
             ],
             [
              0.4444444444444444,
              "#bd3786"
             ],
             [
              0.5555555555555556,
              "#d8576b"
             ],
             [
              0.6666666666666666,
              "#ed7953"
             ],
             [
              0.7777777777777778,
              "#fb9f3a"
             ],
             [
              0.8888888888888888,
              "#fdca26"
             ],
             [
              1,
              "#f0f921"
             ]
            ],
            "type": "heatmap"
           }
          ],
          "heatmapgl": [
           {
            "colorbar": {
             "outlinewidth": 0,
             "ticks": ""
            },
            "colorscale": [
             [
              0,
              "#0d0887"
             ],
             [
              0.1111111111111111,
              "#46039f"
             ],
             [
              0.2222222222222222,
              "#7201a8"
             ],
             [
              0.3333333333333333,
              "#9c179e"
             ],
             [
              0.4444444444444444,
              "#bd3786"
             ],
             [
              0.5555555555555556,
              "#d8576b"
             ],
             [
              0.6666666666666666,
              "#ed7953"
             ],
             [
              0.7777777777777778,
              "#fb9f3a"
             ],
             [
              0.8888888888888888,
              "#fdca26"
             ],
             [
              1,
              "#f0f921"
             ]
            ],
            "type": "heatmapgl"
           }
          ],
          "histogram": [
           {
            "marker": {
             "colorbar": {
              "outlinewidth": 0,
              "ticks": ""
             }
            },
            "type": "histogram"
           }
          ],
          "histogram2d": [
           {
            "colorbar": {
             "outlinewidth": 0,
             "ticks": ""
            },
            "colorscale": [
             [
              0,
              "#0d0887"
             ],
             [
              0.1111111111111111,
              "#46039f"
             ],
             [
              0.2222222222222222,
              "#7201a8"
             ],
             [
              0.3333333333333333,
              "#9c179e"
             ],
             [
              0.4444444444444444,
              "#bd3786"
             ],
             [
              0.5555555555555556,
              "#d8576b"
             ],
             [
              0.6666666666666666,
              "#ed7953"
             ],
             [
              0.7777777777777778,
              "#fb9f3a"
             ],
             [
              0.8888888888888888,
              "#fdca26"
             ],
             [
              1,
              "#f0f921"
             ]
            ],
            "type": "histogram2d"
           }
          ],
          "histogram2dcontour": [
           {
            "colorbar": {
             "outlinewidth": 0,
             "ticks": ""
            },
            "colorscale": [
             [
              0,
              "#0d0887"
             ],
             [
              0.1111111111111111,
              "#46039f"
             ],
             [
              0.2222222222222222,
              "#7201a8"
             ],
             [
              0.3333333333333333,
              "#9c179e"
             ],
             [
              0.4444444444444444,
              "#bd3786"
             ],
             [
              0.5555555555555556,
              "#d8576b"
             ],
             [
              0.6666666666666666,
              "#ed7953"
             ],
             [
              0.7777777777777778,
              "#fb9f3a"
             ],
             [
              0.8888888888888888,
              "#fdca26"
             ],
             [
              1,
              "#f0f921"
             ]
            ],
            "type": "histogram2dcontour"
           }
          ],
          "mesh3d": [
           {
            "colorbar": {
             "outlinewidth": 0,
             "ticks": ""
            },
            "type": "mesh3d"
           }
          ],
          "parcoords": [
           {
            "line": {
             "colorbar": {
              "outlinewidth": 0,
              "ticks": ""
             }
            },
            "type": "parcoords"
           }
          ],
          "pie": [
           {
            "automargin": true,
            "type": "pie"
           }
          ],
          "scatter": [
           {
            "marker": {
             "colorbar": {
              "outlinewidth": 0,
              "ticks": ""
             }
            },
            "type": "scatter"
           }
          ],
          "scatter3d": [
           {
            "line": {
             "colorbar": {
              "outlinewidth": 0,
              "ticks": ""
             }
            },
            "marker": {
             "colorbar": {
              "outlinewidth": 0,
              "ticks": ""
             }
            },
            "type": "scatter3d"
           }
          ],
          "scattercarpet": [
           {
            "marker": {
             "colorbar": {
              "outlinewidth": 0,
              "ticks": ""
             }
            },
            "type": "scattercarpet"
           }
          ],
          "scattergeo": [
           {
            "marker": {
             "colorbar": {
              "outlinewidth": 0,
              "ticks": ""
             }
            },
            "type": "scattergeo"
           }
          ],
          "scattergl": [
           {
            "marker": {
             "colorbar": {
              "outlinewidth": 0,
              "ticks": ""
             }
            },
            "type": "scattergl"
           }
          ],
          "scattermapbox": [
           {
            "marker": {
             "colorbar": {
              "outlinewidth": 0,
              "ticks": ""
             }
            },
            "type": "scattermapbox"
           }
          ],
          "scatterpolar": [
           {
            "marker": {
             "colorbar": {
              "outlinewidth": 0,
              "ticks": ""
             }
            },
            "type": "scatterpolar"
           }
          ],
          "scatterpolargl": [
           {
            "marker": {
             "colorbar": {
              "outlinewidth": 0,
              "ticks": ""
             }
            },
            "type": "scatterpolargl"
           }
          ],
          "scatterternary": [
           {
            "marker": {
             "colorbar": {
              "outlinewidth": 0,
              "ticks": ""
             }
            },
            "type": "scatterternary"
           }
          ],
          "surface": [
           {
            "colorbar": {
             "outlinewidth": 0,
             "ticks": ""
            },
            "colorscale": [
             [
              0,
              "#0d0887"
             ],
             [
              0.1111111111111111,
              "#46039f"
             ],
             [
              0.2222222222222222,
              "#7201a8"
             ],
             [
              0.3333333333333333,
              "#9c179e"
             ],
             [
              0.4444444444444444,
              "#bd3786"
             ],
             [
              0.5555555555555556,
              "#d8576b"
             ],
             [
              0.6666666666666666,
              "#ed7953"
             ],
             [
              0.7777777777777778,
              "#fb9f3a"
             ],
             [
              0.8888888888888888,
              "#fdca26"
             ],
             [
              1,
              "#f0f921"
             ]
            ],
            "type": "surface"
           }
          ],
          "table": [
           {
            "cells": {
             "fill": {
              "color": "#EBF0F8"
             },
             "line": {
              "color": "white"
             }
            },
            "header": {
             "fill": {
              "color": "#C8D4E3"
             },
             "line": {
              "color": "white"
             }
            },
            "type": "table"
           }
          ]
         },
         "layout": {
          "annotationdefaults": {
           "arrowcolor": "#2a3f5f",
           "arrowhead": 0,
           "arrowwidth": 1
          },
          "coloraxis": {
           "colorbar": {
            "outlinewidth": 0,
            "ticks": ""
           }
          },
          "colorscale": {
           "diverging": [
            [
             0,
             "#8e0152"
            ],
            [
             0.1,
             "#c51b7d"
            ],
            [
             0.2,
             "#de77ae"
            ],
            [
             0.3,
             "#f1b6da"
            ],
            [
             0.4,
             "#fde0ef"
            ],
            [
             0.5,
             "#f7f7f7"
            ],
            [
             0.6,
             "#e6f5d0"
            ],
            [
             0.7,
             "#b8e186"
            ],
            [
             0.8,
             "#7fbc41"
            ],
            [
             0.9,
             "#4d9221"
            ],
            [
             1,
             "#276419"
            ]
           ],
           "sequential": [
            [
             0,
             "#0d0887"
            ],
            [
             0.1111111111111111,
             "#46039f"
            ],
            [
             0.2222222222222222,
             "#7201a8"
            ],
            [
             0.3333333333333333,
             "#9c179e"
            ],
            [
             0.4444444444444444,
             "#bd3786"
            ],
            [
             0.5555555555555556,
             "#d8576b"
            ],
            [
             0.6666666666666666,
             "#ed7953"
            ],
            [
             0.7777777777777778,
             "#fb9f3a"
            ],
            [
             0.8888888888888888,
             "#fdca26"
            ],
            [
             1,
             "#f0f921"
            ]
           ],
           "sequentialminus": [
            [
             0,
             "#0d0887"
            ],
            [
             0.1111111111111111,
             "#46039f"
            ],
            [
             0.2222222222222222,
             "#7201a8"
            ],
            [
             0.3333333333333333,
             "#9c179e"
            ],
            [
             0.4444444444444444,
             "#bd3786"
            ],
            [
             0.5555555555555556,
             "#d8576b"
            ],
            [
             0.6666666666666666,
             "#ed7953"
            ],
            [
             0.7777777777777778,
             "#fb9f3a"
            ],
            [
             0.8888888888888888,
             "#fdca26"
            ],
            [
             1,
             "#f0f921"
            ]
           ]
          },
          "colorway": [
           "#636efa",
           "#EF553B",
           "#00cc96",
           "#ab63fa",
           "#FFA15A",
           "#19d3f3",
           "#FF6692",
           "#B6E880",
           "#FF97FF",
           "#FECB52"
          ],
          "font": {
           "color": "#2a3f5f"
          },
          "geo": {
           "bgcolor": "white",
           "lakecolor": "white",
           "landcolor": "#E5ECF6",
           "showlakes": true,
           "showland": true,
           "subunitcolor": "white"
          },
          "hoverlabel": {
           "align": "left"
          },
          "hovermode": "closest",
          "mapbox": {
           "style": "light"
          },
          "paper_bgcolor": "white",
          "plot_bgcolor": "#E5ECF6",
          "polar": {
           "angularaxis": {
            "gridcolor": "white",
            "linecolor": "white",
            "ticks": ""
           },
           "bgcolor": "#E5ECF6",
           "radialaxis": {
            "gridcolor": "white",
            "linecolor": "white",
            "ticks": ""
           }
          },
          "scene": {
           "xaxis": {
            "backgroundcolor": "#E5ECF6",
            "gridcolor": "white",
            "gridwidth": 2,
            "linecolor": "white",
            "showbackground": true,
            "ticks": "",
            "zerolinecolor": "white"
           },
           "yaxis": {
            "backgroundcolor": "#E5ECF6",
            "gridcolor": "white",
            "gridwidth": 2,
            "linecolor": "white",
            "showbackground": true,
            "ticks": "",
            "zerolinecolor": "white"
           },
           "zaxis": {
            "backgroundcolor": "#E5ECF6",
            "gridcolor": "white",
            "gridwidth": 2,
            "linecolor": "white",
            "showbackground": true,
            "ticks": "",
            "zerolinecolor": "white"
           }
          },
          "shapedefaults": {
           "line": {
            "color": "#2a3f5f"
           }
          },
          "ternary": {
           "aaxis": {
            "gridcolor": "white",
            "linecolor": "white",
            "ticks": ""
           },
           "baxis": {
            "gridcolor": "white",
            "linecolor": "white",
            "ticks": ""
           },
           "bgcolor": "#E5ECF6",
           "caxis": {
            "gridcolor": "white",
            "linecolor": "white",
            "ticks": ""
           }
          },
          "title": {
           "x": 0.05
          },
          "xaxis": {
           "automargin": true,
           "gridcolor": "white",
           "linecolor": "white",
           "ticks": "",
           "title": {
            "standoff": 15
           },
           "zerolinecolor": "white",
           "zerolinewidth": 2
          },
          "yaxis": {
           "automargin": true,
           "gridcolor": "white",
           "linecolor": "white",
           "ticks": "",
           "title": {
            "standoff": 15
           },
           "zerolinecolor": "white",
           "zerolinewidth": 2
          }
         }
        },
        "title": {
         "text": "CA County Waste vs Electricity Usage & Population (2014)"
        },
        "xaxis": {
         "anchor": "y",
         "domain": [
          0,
          1
         ],
         "title": {
          "text": "Electricity Usage (gWh)"
         }
        },
        "yaxis": {
         "anchor": "x",
         "domain": [
          0,
          1
         ],
         "title": {
          "text": "Total Residential Waste (Tons)"
         }
        }
       }
      },
      "text/html": [
       "<div>                            <div id=\"ed9de890-0335-4953-b77c-cd8949b1549a\" class=\"plotly-graph-div\" style=\"height:525px; width:100%;\"></div>            <script type=\"text/javascript\">                require([\"plotly\"], function(Plotly) {                    window.PLOTLYENV=window.PLOTLYENV || {};                                    if (document.getElementById(\"ed9de890-0335-4953-b77c-cd8949b1549a\")) {                    Plotly.newPlot(                        \"ed9de890-0335-4953-b77c-cd8949b1549a\",                        [{\"customdata\": [[\"ALAMEDA\"]], \"hovertemplate\": \"County=%{customdata[0]}<br>Electricity Usage (gWh)=%{x}<br>Total Residential Waste (Tons)=%{y}<br>Population=%{marker.size}<extra></extra>\", \"legendgroup\": \"ALAMEDA\", \"marker\": {\"color\": \"#636efa\", \"size\": [1607792.0], \"sizemode\": \"area\", \"sizeref\": 25100.18, \"symbol\": \"circle\"}, \"mode\": \"markers\", \"name\": \"ALAMEDA\", \"orientation\": \"v\", \"showlegend\": true, \"type\": \"scatter\", \"x\": [2891.232325], \"xaxis\": \"x\", \"y\": [405147], \"yaxis\": \"y\"}, {\"customdata\": [[\"ALPINE\"]], \"hovertemplate\": \"County=%{customdata[0]}<br>Electricity Usage (gWh)=%{x}<br>Total Residential Waste (Tons)=%{y}<br>Population=%{marker.size}<extra></extra>\", \"legendgroup\": \"ALPINE\", \"marker\": {\"color\": \"#EF553B\", \"size\": [1080.0], \"sizemode\": \"area\", \"sizeref\": 25100.18, \"symbol\": \"circle\"}, \"mode\": \"markers\", \"name\": \"ALPINE\", \"orientation\": \"v\", \"showlegend\": true, \"type\": \"scatter\", \"x\": [11.974975], \"xaxis\": \"x\", \"y\": [291], \"yaxis\": \"y\"}, {\"customdata\": [[\"AMADOR\"]], \"hovertemplate\": \"County=%{customdata[0]}<br>Electricity Usage (gWh)=%{x}<br>Total Residential Waste (Tons)=%{y}<br>Population=%{marker.size}<extra></extra>\", \"legendgroup\": \"AMADOR\", \"marker\": {\"color\": \"#00cc96\", \"size\": [36726.0], \"sizemode\": \"area\", \"sizeref\": 25100.18, \"symbol\": \"circle\"}, \"mode\": \"markers\", \"name\": \"AMADOR\", \"orientation\": \"v\", \"showlegend\": true, \"type\": \"scatter\", \"x\": [134.74438700000002], \"xaxis\": \"x\", \"y\": [8799], \"yaxis\": \"y\"}, {\"customdata\": [[\"BUTTE\"]], \"hovertemplate\": \"County=%{customdata[0]}<br>Electricity Usage (gWh)=%{x}<br>Total Residential Waste (Tons)=%{y}<br>Population=%{marker.size}<extra></extra>\", \"legendgroup\": \"BUTTE\", \"marker\": {\"color\": \"#ab63fa\", \"size\": [223516.0], \"sizemode\": \"area\", \"sizeref\": 25100.18, \"symbol\": \"circle\"}, \"mode\": \"markers\", \"name\": \"BUTTE\", \"orientation\": \"v\", \"showlegend\": true, \"type\": \"scatter\", \"x\": [718.947064], \"xaxis\": \"x\", \"y\": [55883], \"yaxis\": \"y\"}, {\"customdata\": [[\"CALAVERAS\"]], \"hovertemplate\": \"County=%{customdata[0]}<br>Electricity Usage (gWh)=%{x}<br>Total Residential Waste (Tons)=%{y}<br>Population=%{marker.size}<extra></extra>\", \"legendgroup\": \"CALAVERAS\", \"marker\": {\"color\": \"#FFA15A\", \"size\": [44671.0], \"sizemode\": \"area\", \"sizeref\": 25100.18, \"symbol\": \"circle\"}, \"mode\": \"markers\", \"name\": \"CALAVERAS\", \"orientation\": \"v\", \"showlegend\": true, \"type\": \"scatter\", \"x\": [192.543967], \"xaxis\": \"x\", \"y\": [11400], \"yaxis\": \"y\"}, {\"customdata\": [[\"COLUSA\"]], \"hovertemplate\": \"County=%{customdata[0]}<br>Electricity Usage (gWh)=%{x}<br>Total Residential Waste (Tons)=%{y}<br>Population=%{marker.size}<extra></extra>\", \"legendgroup\": \"COLUSA\", \"marker\": {\"color\": \"#19d3f3\", \"size\": [21176.0], \"sizemode\": \"area\", \"sizeref\": 25100.18, \"symbol\": \"circle\"}, \"mode\": \"markers\", \"name\": \"COLUSA\", \"orientation\": \"v\", \"showlegend\": true, \"type\": \"scatter\", \"x\": [64.72284499999999], \"xaxis\": \"x\", \"y\": [5532], \"yaxis\": \"y\"}, {\"customdata\": [[\"CONTRA COSTA\"]], \"hovertemplate\": \"County=%{customdata[0]}<br>Electricity Usage (gWh)=%{x}<br>Total Residential Waste (Tons)=%{y}<br>Population=%{marker.size}<extra></extra>\", \"legendgroup\": \"CONTRA COSTA\", \"marker\": {\"color\": \"#FF6692\", \"size\": [1108876.0], \"sizemode\": \"area\", \"sizeref\": 25100.18, \"symbol\": \"circle\"}, \"mode\": \"markers\", \"name\": \"CONTRA COSTA\", \"orientation\": \"v\", \"showlegend\": true, \"type\": \"scatter\", \"x\": [2731.309642], \"xaxis\": \"x\", \"y\": [283772], \"yaxis\": \"y\"}, {\"customdata\": [[\"DEL NORTE\"]], \"hovertemplate\": \"County=%{customdata[0]}<br>Electricity Usage (gWh)=%{x}<br>Total Residential Waste (Tons)=%{y}<br>Population=%{marker.size}<extra></extra>\", \"legendgroup\": \"DEL NORTE\", \"marker\": {\"color\": \"#B6E880\", \"size\": [27175.0], \"sizemode\": \"area\", \"sizeref\": 25100.18, \"symbol\": \"circle\"}, \"mode\": \"markers\", \"name\": \"DEL NORTE\", \"orientation\": \"v\", \"showlegend\": true, \"type\": \"scatter\", \"x\": [110.109643], \"xaxis\": \"x\", \"y\": [6106], \"yaxis\": \"y\"}, {\"customdata\": [[\"EL DORADO\"]], \"hovertemplate\": \"County=%{customdata[0]}<br>Electricity Usage (gWh)=%{x}<br>Total Residential Waste (Tons)=%{y}<br>Population=%{marker.size}<extra></extra>\", \"legendgroup\": \"EL DORADO\", \"marker\": {\"color\": \"#FF97FF\", \"size\": [183108.0], \"sizemode\": \"area\", \"sizeref\": 25100.18, \"symbol\": \"circle\"}, \"mode\": \"markers\", \"name\": \"EL DORADO\", \"orientation\": \"v\", \"showlegend\": true, \"type\": \"scatter\", \"x\": [721.053363], \"xaxis\": \"x\", \"y\": [46432], \"yaxis\": \"y\"}, {\"customdata\": [[\"FRESNO\"]], \"hovertemplate\": \"County=%{customdata[0]}<br>Electricity Usage (gWh)=%{x}<br>Total Residential Waste (Tons)=%{y}<br>Population=%{marker.size}<extra></extra>\", \"legendgroup\": \"FRESNO\", \"marker\": {\"color\": \"#FECB52\", \"size\": [960567.0], \"sizemode\": \"area\", \"sizeref\": 25100.18, \"symbol\": \"circle\"}, \"mode\": \"markers\", \"name\": \"FRESNO\", \"orientation\": \"v\", \"showlegend\": true, \"type\": \"scatter\", \"x\": [2692.471908], \"xaxis\": \"x\", \"y\": [246630], \"yaxis\": \"y\"}, {\"customdata\": [[\"GLENN\"]], \"hovertemplate\": \"County=%{customdata[0]}<br>Electricity Usage (gWh)=%{x}<br>Total Residential Waste (Tons)=%{y}<br>Population=%{marker.size}<extra></extra>\", \"legendgroup\": \"GLENN\", \"marker\": {\"color\": \"#636efa\", \"size\": [27831.0], \"sizemode\": \"area\", \"sizeref\": 25100.18, \"symbol\": \"circle\"}, \"mode\": \"markers\", \"name\": \"GLENN\", \"orientation\": \"v\", \"showlegend\": true, \"type\": \"scatter\", \"x\": [91.392872], \"xaxis\": \"x\", \"y\": [7232], \"yaxis\": \"y\"}, {\"customdata\": [[\"HUMBOLDT\"]], \"hovertemplate\": \"County=%{customdata[0]}<br>Electricity Usage (gWh)=%{x}<br>Total Residential Waste (Tons)=%{y}<br>Population=%{marker.size}<extra></extra>\", \"legendgroup\": \"HUMBOLDT\", \"marker\": {\"color\": \"#EF553B\", \"size\": [134494.0], \"sizemode\": \"area\", \"sizeref\": 25100.18, \"symbol\": \"circle\"}, \"mode\": \"markers\", \"name\": \"HUMBOLDT\", \"orientation\": \"v\", \"showlegend\": true, \"type\": \"scatter\", \"x\": [395.915896], \"xaxis\": \"x\", \"y\": [33039], \"yaxis\": \"y\"}, {\"customdata\": [[\"IMPERIAL\"]], \"hovertemplate\": \"County=%{customdata[0]}<br>Electricity Usage (gWh)=%{x}<br>Total Residential Waste (Tons)=%{y}<br>Population=%{marker.size}<extra></extra>\", \"legendgroup\": \"IMPERIAL\", \"marker\": {\"color\": \"#00cc96\", \"size\": [177974.0], \"sizemode\": \"area\", \"sizeref\": 25100.18, \"symbol\": \"circle\"}, \"mode\": \"markers\", \"name\": \"IMPERIAL\", \"orientation\": \"v\", \"showlegend\": true, \"type\": \"scatter\", \"x\": [536.1185009999998], \"xaxis\": \"x\", \"y\": [45159], \"yaxis\": \"y\"}, {\"customdata\": [[\"INYO\"]], \"hovertemplate\": \"County=%{customdata[0]}<br>Electricity Usage (gWh)=%{x}<br>Total Residential Waste (Tons)=%{y}<br>Population=%{marker.size}<extra></extra>\", \"legendgroup\": \"INYO\", \"marker\": {\"color\": \"#ab63fa\", \"size\": [18292.0], \"sizemode\": \"area\", \"sizeref\": 25100.18, \"symbol\": \"circle\"}, \"mode\": \"markers\", \"name\": \"INYO\", \"orientation\": \"v\", \"showlegend\": true, \"type\": \"scatter\", \"x\": [60.788615], \"xaxis\": \"x\", \"y\": [4648], \"yaxis\": \"y\"}, {\"customdata\": [[\"KERN\"]], \"hovertemplate\": \"County=%{customdata[0]}<br>Electricity Usage (gWh)=%{x}<br>Total Residential Waste (Tons)=%{y}<br>Population=%{marker.size}<extra></extra>\", \"legendgroup\": \"KERN\", \"marker\": {\"color\": \"#FFA15A\", \"size\": [869176.0], \"sizemode\": \"area\", \"sizeref\": 25100.18, \"symbol\": \"circle\"}, \"mode\": \"markers\", \"name\": \"KERN\", \"orientation\": \"v\", \"showlegend\": true, \"type\": \"scatter\", \"x\": [2294.846631], \"xaxis\": \"x\", \"y\": [217883], \"yaxis\": \"y\"}, {\"customdata\": [[\"KINGS\"]], \"hovertemplate\": \"County=%{customdata[0]}<br>Electricity Usage (gWh)=%{x}<br>Total Residential Waste (Tons)=%{y}<br>Population=%{marker.size}<extra></extra>\", \"legendgroup\": \"KINGS\", \"marker\": {\"color\": \"#19d3f3\", \"size\": [149495.0], \"sizemode\": \"area\", \"sizeref\": 25100.18, \"symbol\": \"circle\"}, \"mode\": \"markers\", \"name\": \"KINGS\", \"orientation\": \"v\", \"showlegend\": true, \"type\": \"scatter\", \"x\": [376.278996], \"xaxis\": \"x\", \"y\": [34263], \"yaxis\": \"y\"}, {\"customdata\": [[\"LAKE\"]], \"hovertemplate\": \"County=%{customdata[0]}<br>Electricity Usage (gWh)=%{x}<br>Total Residential Waste (Tons)=%{y}<br>Population=%{marker.size}<extra></extra>\", \"legendgroup\": \"LAKE\", \"marker\": {\"color\": \"#FF6692\", \"size\": [64044.0], \"sizemode\": \"area\", \"sizeref\": 25100.18, \"symbol\": \"circle\"}, \"mode\": \"markers\", \"name\": \"LAKE\", \"orientation\": \"v\", \"showlegend\": true, \"type\": \"scatter\", \"x\": [285.2773509999999], \"xaxis\": \"x\", \"y\": [16105], \"yaxis\": \"y\"}, {\"customdata\": [[\"LASSEN\"]], \"hovertemplate\": \"County=%{customdata[0]}<br>Electricity Usage (gWh)=%{x}<br>Total Residential Waste (Tons)=%{y}<br>Population=%{marker.size}<extra></extra>\", \"legendgroup\": \"LASSEN\", \"marker\": {\"color\": \"#B6E880\", \"size\": [31664.0], \"sizemode\": \"area\", \"sizeref\": 25100.18, \"symbol\": \"circle\"}, \"mode\": \"markers\", \"name\": \"LASSEN\", \"orientation\": \"v\", \"showlegend\": true, \"type\": \"scatter\", \"x\": [94.366525], \"xaxis\": \"x\", \"y\": [5904], \"yaxis\": \"y\"}, {\"customdata\": [[\"LOS ANGELES\"]], \"hovertemplate\": \"County=%{customdata[0]}<br>Electricity Usage (gWh)=%{x}<br>Total Residential Waste (Tons)=%{y}<br>Population=%{marker.size}<extra></extra>\", \"legendgroup\": \"LOS ANGELES\", \"marker\": {\"color\": \"#FF97FF\", \"size\": [10040072.0], \"sizemode\": \"area\", \"sizeref\": 25100.18, \"symbol\": \"circle\"}, \"mode\": \"markers\", \"name\": \"LOS ANGELES\", \"orientation\": \"v\", \"showlegend\": true, \"type\": \"scatter\", \"x\": [20742.773777], \"xaxis\": \"x\", \"y\": [2565550], \"yaxis\": \"y\"}, {\"customdata\": [[\"MADERA\"]], \"hovertemplate\": \"County=%{customdata[0]}<br>Electricity Usage (gWh)=%{x}<br>Total Residential Waste (Tons)=%{y}<br>Population=%{marker.size}<extra></extra>\", \"legendgroup\": \"MADERA\", \"marker\": {\"color\": \"#FECB52\", \"size\": [153456.0], \"sizemode\": \"area\", \"sizeref\": 25100.18, \"symbol\": \"circle\"}, \"mode\": \"markers\", \"name\": \"MADERA\", \"orientation\": \"v\", \"showlegend\": true, \"type\": \"scatter\", \"x\": [424.63294800000006], \"xaxis\": \"x\", \"y\": [37707], \"yaxis\": \"y\"}, {\"customdata\": [[\"MARIN\"]], \"hovertemplate\": \"County=%{customdata[0]}<br>Electricity Usage (gWh)=%{x}<br>Total Residential Waste (Tons)=%{y}<br>Population=%{marker.size}<extra></extra>\", \"legendgroup\": \"MARIN\", \"marker\": {\"color\": \"#636efa\", \"size\": [260359.0], \"sizemode\": \"area\", \"sizeref\": 25100.18, \"symbol\": \"circle\"}, \"mode\": \"markers\", \"name\": \"MARIN\", \"orientation\": \"v\", \"showlegend\": true, \"type\": \"scatter\", \"x\": [652.468169], \"xaxis\": \"x\", \"y\": [64859], \"yaxis\": \"y\"}, {\"customdata\": [[\"MARIPOSA\"]], \"hovertemplate\": \"County=%{customdata[0]}<br>Electricity Usage (gWh)=%{x}<br>Total Residential Waste (Tons)=%{y}<br>Population=%{marker.size}<extra></extra>\", \"legendgroup\": \"MARIPOSA\", \"marker\": {\"color\": \"#EF553B\", \"size\": [17714.0], \"sizemode\": \"area\", \"sizeref\": 25100.18, \"symbol\": \"circle\"}, \"mode\": \"markers\", \"name\": \"MARIPOSA\", \"orientation\": \"v\", \"showlegend\": true, \"type\": \"scatter\", \"x\": [68.51898299999999], \"xaxis\": \"x\", \"y\": [4448], \"yaxis\": \"y\"}, {\"customdata\": [[\"MENDOCINO\"]], \"hovertemplate\": \"County=%{customdata[0]}<br>Electricity Usage (gWh)=%{x}<br>Total Residential Waste (Tons)=%{y}<br>Population=%{marker.size}<extra></extra>\", \"legendgroup\": \"MENDOCINO\", \"marker\": {\"color\": \"#00cc96\", \"size\": [87225.0], \"sizemode\": \"area\", \"sizeref\": 25100.18, \"symbol\": \"circle\"}, \"mode\": \"markers\", \"name\": \"MENDOCINO\", \"orientation\": \"v\", \"showlegend\": true, \"type\": \"scatter\", \"x\": [295.1787970000001], \"xaxis\": \"x\", \"y\": [22032], \"yaxis\": \"y\"}, {\"customdata\": [[\"MERCED\"]], \"hovertemplate\": \"County=%{customdata[0]}<br>Electricity Usage (gWh)=%{x}<br>Total Residential Waste (Tons)=%{y}<br>Population=%{marker.size}<extra></extra>\", \"legendgroup\": \"MERCED\", \"marker\": {\"color\": \"#ab63fa\", \"size\": [264419.0], \"sizemode\": \"area\", \"sizeref\": 25100.18, \"symbol\": \"circle\"}, \"mode\": \"markers\", \"name\": \"MERCED\", \"orientation\": \"v\", \"showlegend\": true, \"type\": \"scatter\", \"x\": [718.4812820000002], \"xaxis\": \"x\", \"y\": [67789], \"yaxis\": \"y\"}, {\"customdata\": [[\"MODOC\"]], \"hovertemplate\": \"County=%{customdata[0]}<br>Electricity Usage (gWh)=%{x}<br>Total Residential Waste (Tons)=%{y}<br>Population=%{marker.size}<extra></extra>\", \"legendgroup\": \"MODOC\", \"marker\": {\"color\": \"#FFA15A\", \"size\": [9068.0], \"sizemode\": \"area\", \"sizeref\": 25100.18, \"symbol\": \"circle\"}, \"mode\": \"markers\", \"name\": \"MODOC\", \"orientation\": \"v\", \"showlegend\": true, \"type\": \"scatter\", \"x\": [53.515557], \"xaxis\": \"x\", \"y\": [2369], \"yaxis\": \"y\"}, {\"customdata\": [[\"MONO\"]], \"hovertemplate\": \"County=%{customdata[0]}<br>Electricity Usage (gWh)=%{x}<br>Total Residential Waste (Tons)=%{y}<br>Population=%{marker.size}<extra></extra>\", \"legendgroup\": \"MONO\", \"marker\": {\"color\": \"#19d3f3\", \"size\": [14134.0], \"sizemode\": \"area\", \"sizeref\": 25100.18, \"symbol\": \"circle\"}, \"mode\": \"markers\", \"name\": \"MONO\", \"orientation\": \"v\", \"showlegend\": true, \"type\": \"scatter\", \"x\": [87.69288399999998], \"xaxis\": \"x\", \"y\": [3416], \"yaxis\": \"y\"}, {\"customdata\": [[\"MONTEREY\"]], \"hovertemplate\": \"County=%{customdata[0]}<br>Electricity Usage (gWh)=%{x}<br>Total Residential Waste (Tons)=%{y}<br>Population=%{marker.size}<extra></extra>\", \"legendgroup\": \"MONTEREY\", \"marker\": {\"color\": \"#FF6692\", \"size\": [428475.0], \"sizemode\": \"area\", \"sizeref\": 25100.18, \"symbol\": \"circle\"}, \"mode\": \"markers\", \"name\": \"MONTEREY\", \"orientation\": \"v\", \"showlegend\": true, \"type\": \"scatter\", \"x\": [684.290192], \"xaxis\": \"x\", \"y\": [106232], \"yaxis\": \"y\"}, {\"customdata\": [[\"NAPA\"]], \"hovertemplate\": \"County=%{customdata[0]}<br>Electricity Usage (gWh)=%{x}<br>Total Residential Waste (Tons)=%{y}<br>Population=%{marker.size}<extra></extra>\", \"legendgroup\": \"NAPA\", \"marker\": {\"color\": \"#B6E880\", \"size\": [140405.0], \"sizemode\": \"area\", \"sizeref\": 25100.18, \"symbol\": \"circle\"}, \"mode\": \"markers\", \"name\": \"NAPA\", \"orientation\": \"v\", \"showlegend\": true, \"type\": \"scatter\", \"x\": [364.662282], \"xaxis\": \"x\", \"y\": [34961], \"yaxis\": \"y\"}, {\"customdata\": [[\"NEVADA\"]], \"hovertemplate\": \"County=%{customdata[0]}<br>Electricity Usage (gWh)=%{x}<br>Total Residential Waste (Tons)=%{y}<br>Population=%{marker.size}<extra></extra>\", \"legendgroup\": \"NEVADA\", \"marker\": {\"color\": \"#FF97FF\", \"size\": [98572.0], \"sizemode\": \"area\", \"sizeref\": 25100.18, \"symbol\": \"circle\"}, \"mode\": \"markers\", \"name\": \"NEVADA\", \"orientation\": \"v\", \"showlegend\": true, \"type\": \"scatter\", \"x\": [407.094148], \"xaxis\": \"x\", \"y\": [24706], \"yaxis\": \"y\"}, {\"customdata\": [[\"ORANGE\"]], \"hovertemplate\": \"County=%{customdata[0]}<br>Electricity Usage (gWh)=%{x}<br>Total Residential Waste (Tons)=%{y}<br>Population=%{marker.size}<extra></extra>\", \"legendgroup\": \"ORANGE\", \"marker\": {\"color\": \"#FECB52\", \"size\": [3126537.0], \"sizemode\": \"area\", \"sizeref\": 25100.18, \"symbol\": \"circle\"}, \"mode\": \"markers\", \"name\": \"ORANGE\", \"orientation\": \"v\", \"showlegend\": true, \"type\": \"scatter\", \"x\": [7032.734696], \"xaxis\": \"x\", \"y\": [798973], \"yaxis\": \"y\"}, {\"customdata\": [[\"PLACER\"]], \"hovertemplate\": \"County=%{customdata[0]}<br>Electricity Usage (gWh)=%{x}<br>Total Residential Waste (Tons)=%{y}<br>Population=%{marker.size}<extra></extra>\", \"legendgroup\": \"PLACER\", \"marker\": {\"color\": \"#636efa\", \"size\": [369217.0], \"sizemode\": \"area\", \"sizeref\": 25100.18, \"symbol\": \"circle\"}, \"mode\": \"markers\", \"name\": \"PLACER\", \"orientation\": \"v\", \"showlegend\": true, \"type\": \"scatter\", \"x\": [1370.790232], \"xaxis\": \"x\", \"y\": [94361], \"yaxis\": \"y\"}, {\"customdata\": [[\"PLUMAS\"]], \"hovertemplate\": \"County=%{customdata[0]}<br>Electricity Usage (gWh)=%{x}<br>Total Residential Waste (Tons)=%{y}<br>Population=%{marker.size}<extra></extra>\", \"legendgroup\": \"PLUMAS\", \"marker\": {\"color\": \"#EF553B\", \"size\": [18622.0], \"sizemode\": \"area\", \"sizeref\": 25100.18, \"symbol\": \"circle\"}, \"mode\": \"markers\", \"name\": \"PLUMAS\", \"orientation\": \"v\", \"showlegend\": true, \"type\": \"scatter\", \"x\": [98.122899], \"xaxis\": \"x\", \"y\": [5000], \"yaxis\": \"y\"}, {\"customdata\": [[\"RIVERSIDE\"]], \"hovertemplate\": \"County=%{customdata[0]}<br>Electricity Usage (gWh)=%{x}<br>Total Residential Waste (Tons)=%{y}<br>Population=%{marker.size}<extra></extra>\", \"legendgroup\": \"RIVERSIDE\", \"marker\": {\"color\": \"#00cc96\", \"size\": [2316162.0], \"sizemode\": \"area\", \"sizeref\": 25100.18, \"symbol\": \"circle\"}, \"mode\": \"markers\", \"name\": \"RIVERSIDE\", \"orientation\": \"v\", \"showlegend\": true, \"type\": \"scatter\", \"x\": [6763.139781], \"xaxis\": \"x\", \"y\": [590028], \"yaxis\": \"y\"}, {\"customdata\": [[\"SACRAMENTO\"]], \"hovertemplate\": \"County=%{customdata[0]}<br>Electricity Usage (gWh)=%{x}<br>Total Residential Waste (Tons)=%{y}<br>Population=%{marker.size}<extra></extra>\", \"legendgroup\": \"SACRAMENTO\", \"marker\": {\"color\": \"#ab63fa\", \"size\": [1474917.0], \"sizemode\": \"area\", \"sizeref\": 25100.18, \"symbol\": \"circle\"}, \"mode\": \"markers\", \"name\": \"SACRAMENTO\", \"orientation\": \"v\", \"showlegend\": true, \"type\": \"scatter\", \"x\": [4708.098133], \"xaxis\": \"x\", \"y\": [375574], \"yaxis\": \"y\"}, {\"customdata\": [[\"SAN BENITO\"]], \"hovertemplate\": \"County=%{customdata[0]}<br>Electricity Usage (gWh)=%{x}<br>Total Residential Waste (Tons)=%{y}<br>Population=%{marker.size}<extra></extra>\", \"legendgroup\": \"SAN BENITO\", \"marker\": {\"color\": \"#FFA15A\", \"size\": [57825.0], \"sizemode\": \"area\", \"sizeref\": 25100.18, \"symbol\": \"circle\"}, \"mode\": \"markers\", \"name\": \"SAN BENITO\", \"orientation\": \"v\", \"showlegend\": true, \"type\": \"scatter\", \"x\": [115.497509], \"xaxis\": \"x\", \"y\": [14341], \"yaxis\": \"y\"}, {\"customdata\": [[\"SAN BERNARDINO\"]], \"hovertemplate\": \"County=%{customdata[0]}<br>Electricity Usage (gWh)=%{x}<br>Total Residential Waste (Tons)=%{y}<br>Population=%{marker.size}<extra></extra>\", \"legendgroup\": \"SAN BERNARDINO\", \"marker\": {\"color\": \"#19d3f3\", \"size\": [2099181.0], \"sizemode\": \"area\", \"sizeref\": 25100.18, \"symbol\": \"circle\"}, \"mode\": \"markers\", \"name\": \"SAN BERNARDINO\", \"orientation\": \"v\", \"showlegend\": true, \"type\": \"scatter\", \"x\": [4749.693015999998], \"xaxis\": \"x\", \"y\": [536080], \"yaxis\": \"y\"}, {\"customdata\": [[\"SAN DIEGO\"]], \"hovertemplate\": \"County=%{customdata[0]}<br>Electricity Usage (gWh)=%{x}<br>Total Residential Waste (Tons)=%{y}<br>Population=%{marker.size}<extra></extra>\", \"legendgroup\": \"SAN DIEGO\", \"marker\": {\"color\": \"#FF6692\", \"size\": [3248877.0], \"sizemode\": \"area\", \"sizeref\": 25100.18, \"symbol\": \"circle\"}, \"mode\": \"markers\", \"name\": \"SAN DIEGO\", \"orientation\": \"v\", \"showlegend\": true, \"type\": \"scatter\", \"x\": [6855.540414], \"xaxis\": \"x\", \"y\": [811199], \"yaxis\": \"y\"}, {\"customdata\": [[\"SAN FRANCISCO\"]], \"hovertemplate\": \"County=%{customdata[0]}<br>Electricity Usage (gWh)=%{x}<br>Total Residential Waste (Tons)=%{y}<br>Population=%{marker.size}<extra></extra>\", \"legendgroup\": \"SAN FRANCISCO\", \"marker\": {\"color\": \"#B6E880\", \"size\": [850750.0], \"sizemode\": \"area\", \"sizeref\": 25100.18, \"symbol\": \"circle\"}, \"mode\": \"markers\", \"name\": \"SAN FRANCISCO\", \"orientation\": \"v\", \"showlegend\": true, \"type\": \"scatter\", \"x\": [1436.097607], \"xaxis\": \"x\", \"y\": [214592], \"yaxis\": \"y\"}, {\"customdata\": [[\"SAN JOAQUIN\"]], \"hovertemplate\": \"County=%{customdata[0]}<br>Electricity Usage (gWh)=%{x}<br>Total Residential Waste (Tons)=%{y}<br>Population=%{marker.size}<extra></extra>\", \"legendgroup\": \"SAN JOAQUIN\", \"marker\": {\"color\": \"#FF97FF\", \"size\": [711579.0], \"sizemode\": \"area\", \"sizeref\": 25100.18, \"symbol\": \"circle\"}, \"mode\": \"markers\", \"name\": \"SAN JOAQUIN\", \"orientation\": \"v\", \"showlegend\": true, \"type\": \"scatter\", \"x\": [1762.8874879999996], \"xaxis\": \"x\", \"y\": [183159], \"yaxis\": \"y\"}, {\"customdata\": [[\"SAN LUIS OBISPO\"]], \"hovertemplate\": \"County=%{customdata[0]}<br>Electricity Usage (gWh)=%{x}<br>Total Residential Waste (Tons)=%{y}<br>Population=%{marker.size}<extra></extra>\", \"legendgroup\": \"SAN LUIS OBISPO\", \"marker\": {\"color\": \"#FECB52\", \"size\": [278227.0], \"sizemode\": \"area\", \"sizeref\": 25100.18, \"symbol\": \"circle\"}, \"mode\": \"markers\", \"name\": \"SAN LUIS OBISPO\", \"orientation\": \"v\", \"showlegend\": true, \"type\": \"scatter\", \"x\": [629.9200089999998], \"xaxis\": \"x\", \"y\": [66835], \"yaxis\": \"y\"}, {\"customdata\": [[\"SAN MATEO\"]], \"hovertemplate\": \"County=%{customdata[0]}<br>Electricity Usage (gWh)=%{x}<br>Total Residential Waste (Tons)=%{y}<br>Population=%{marker.size}<extra></extra>\", \"legendgroup\": \"SAN MATEO\", \"marker\": {\"color\": \"#636efa\", \"size\": [757204.0], \"sizemode\": \"area\", \"sizeref\": 25100.18, \"symbol\": \"circle\"}, \"mode\": \"markers\", \"name\": \"SAN MATEO\", \"orientation\": \"v\", \"showlegend\": true, \"type\": \"scatter\", \"x\": [1505.269862], \"xaxis\": \"x\", \"y\": [193000], \"yaxis\": \"y\"}, {\"customdata\": [[\"SANTA BARBARA\"]], \"hovertemplate\": \"County=%{customdata[0]}<br>Electricity Usage (gWh)=%{x}<br>Total Residential Waste (Tons)=%{y}<br>Population=%{marker.size}<extra></extra>\", \"legendgroup\": \"SANTA BARBARA\", \"marker\": {\"color\": \"#EF553B\", \"size\": [439045.0], \"sizemode\": \"area\", \"sizeref\": 25100.18, \"symbol\": \"circle\"}, \"mode\": \"markers\", \"name\": \"SANTA BARBARA\", \"orientation\": \"v\", \"showlegend\": true, \"type\": \"scatter\", \"x\": [804.131553], \"xaxis\": \"x\", \"y\": [109099], \"yaxis\": \"y\"}, {\"customdata\": [[\"SANTA CLARA\"]], \"hovertemplate\": \"County=%{customdata[0]}<br>Electricity Usage (gWh)=%{x}<br>Total Residential Waste (Tons)=%{y}<br>Population=%{marker.size}<extra></extra>\", \"legendgroup\": \"SANTA CLARA\", \"marker\": {\"color\": \"#00cc96\", \"size\": [1891753.0], \"sizemode\": \"area\", \"sizeref\": 25100.18, \"symbol\": \"circle\"}, \"mode\": \"markers\", \"name\": \"SANTA CLARA\", \"orientation\": \"v\", \"showlegend\": true, \"type\": \"scatter\", \"x\": [3844.162094], \"xaxis\": \"x\", \"y\": [483851], \"yaxis\": \"y\"}, {\"customdata\": [[\"SANTA CRUZ\"]], \"hovertemplate\": \"County=%{customdata[0]}<br>Electricity Usage (gWh)=%{x}<br>Total Residential Waste (Tons)=%{y}<br>Population=%{marker.size}<extra></extra>\", \"legendgroup\": \"SANTA CRUZ\", \"marker\": {\"color\": \"#ab63fa\", \"size\": [270861.0], \"sizemode\": \"area\", \"sizeref\": 25100.18, \"symbol\": \"circle\"}, \"mode\": \"markers\", \"name\": \"SANTA CRUZ\", \"orientation\": \"v\", \"showlegend\": true, \"type\": \"scatter\", \"x\": [558.75025], \"xaxis\": \"x\", \"y\": [66826], \"yaxis\": \"y\"}, {\"customdata\": [[\"SHASTA\"]], \"hovertemplate\": \"County=%{customdata[0]}<br>Electricity Usage (gWh)=%{x}<br>Total Residential Waste (Tons)=%{y}<br>Population=%{marker.size}<extra></extra>\", \"legendgroup\": \"SHASTA\", \"marker\": {\"color\": \"#FFA15A\", \"size\": [178844.0], \"sizemode\": \"area\", \"sizeref\": 25100.18, \"symbol\": \"circle\"}, \"mode\": \"markers\", \"name\": \"SHASTA\", \"orientation\": \"v\", \"showlegend\": true, \"type\": \"scatter\", \"x\": [724.0686910000002], \"xaxis\": \"x\", \"y\": [44812], \"yaxis\": \"y\"}, {\"customdata\": [[\"SIERRA\"]], \"hovertemplate\": \"County=%{customdata[0]}<br>Electricity Usage (gWh)=%{x}<br>Total Residential Waste (Tons)=%{y}<br>Population=%{marker.size}<extra></extra>\", \"legendgroup\": \"SIERRA\", \"marker\": {\"color\": \"#19d3f3\", \"size\": [2972.0], \"sizemode\": \"area\", \"sizeref\": 25100.18, \"symbol\": \"circle\"}, \"mode\": \"markers\", \"name\": \"SIERRA\", \"orientation\": \"v\", \"showlegend\": true, \"type\": \"scatter\", \"x\": [13.27525], \"xaxis\": \"x\", \"y\": [813], \"yaxis\": \"y\"}, {\"customdata\": [[\"SISKIYOU\"]], \"hovertemplate\": \"County=%{customdata[0]}<br>Electricity Usage (gWh)=%{x}<br>Total Residential Waste (Tons)=%{y}<br>Population=%{marker.size}<extra></extra>\", \"legendgroup\": \"SISKIYOU\", \"marker\": {\"color\": \"#FF6692\", \"size\": [43338.0], \"sizemode\": \"area\", \"sizeref\": 25100.18, \"symbol\": \"circle\"}, \"mode\": \"markers\", \"name\": \"SISKIYOU\", \"orientation\": \"v\", \"showlegend\": true, \"type\": \"scatter\", \"x\": [215.407966], \"xaxis\": \"x\", \"y\": [11265], \"yaxis\": \"y\"}, {\"customdata\": [[\"SOLANO\"]], \"hovertemplate\": \"County=%{customdata[0]}<br>Electricity Usage (gWh)=%{x}<br>Total Residential Waste (Tons)=%{y}<br>Population=%{marker.size}<extra></extra>\", \"legendgroup\": \"SOLANO\", \"marker\": {\"color\": \"#B6E880\", \"size\": [429006.0], \"sizemode\": \"area\", \"sizeref\": 25100.18, \"symbol\": \"circle\"}, \"mode\": \"markers\", \"name\": \"SOLANO\", \"orientation\": \"v\", \"showlegend\": true, \"type\": \"scatter\", \"x\": [1007.803874], \"xaxis\": \"x\", \"y\": [107166], \"yaxis\": \"y\"}, {\"customdata\": [[\"SONOMA\"]], \"hovertemplate\": \"County=%{customdata[0]}<br>Electricity Usage (gWh)=%{x}<br>Total Residential Waste (Tons)=%{y}<br>Population=%{marker.size}<extra></extra>\", \"legendgroup\": \"SONOMA\", \"marker\": {\"color\": \"#FF97FF\", \"size\": [498560.0], \"sizemode\": \"area\", \"sizeref\": 25100.18, \"symbol\": \"circle\"}, \"mode\": \"markers\", \"name\": \"SONOMA\", \"orientation\": \"v\", \"showlegend\": true, \"type\": \"scatter\", \"x\": [1286.568562], \"xaxis\": \"x\", \"y\": [125350], \"yaxis\": \"y\"}, {\"customdata\": [[\"STANISLAUS\"]], \"hovertemplate\": \"County=%{customdata[0]}<br>Electricity Usage (gWh)=%{x}<br>Total Residential Waste (Tons)=%{y}<br>Population=%{marker.size}<extra></extra>\", \"legendgroup\": \"STANISLAUS\", \"marker\": {\"color\": \"#FECB52\", \"size\": [528015.0], \"sizemode\": \"area\", \"sizeref\": 25100.18, \"symbol\": \"circle\"}, \"mode\": \"markers\", \"name\": \"STANISLAUS\", \"orientation\": \"v\", \"showlegend\": true, \"type\": \"scatter\", \"x\": [1716.5681600000007], \"xaxis\": \"x\", \"y\": [136114], \"yaxis\": \"y\"}, {\"customdata\": [[\"SUTTER\"]], \"hovertemplate\": \"County=%{customdata[0]}<br>Electricity Usage (gWh)=%{x}<br>Total Residential Waste (Tons)=%{y}<br>Population=%{marker.size}<extra></extra>\", \"legendgroup\": \"SUTTER\", \"marker\": {\"color\": \"#636efa\", \"size\": [94778.0], \"sizemode\": \"area\", \"sizeref\": 25100.18, \"symbol\": \"circle\"}, \"mode\": \"markers\", \"name\": \"SUTTER\", \"orientation\": \"v\", \"showlegend\": true, \"type\": \"scatter\", \"x\": [276.569295], \"xaxis\": \"x\", \"y\": [24617], \"yaxis\": \"y\"}, {\"customdata\": [[\"TEHAMA\"]], \"hovertemplate\": \"County=%{customdata[0]}<br>Electricity Usage (gWh)=%{x}<br>Total Residential Waste (Tons)=%{y}<br>Population=%{marker.size}<extra></extra>\", \"legendgroup\": \"TEHAMA\", \"marker\": {\"color\": \"#EF553B\", \"size\": [62801.0], \"sizemode\": \"area\", \"sizeref\": 25100.18, \"symbol\": \"circle\"}, \"mode\": \"markers\", \"name\": \"TEHAMA\", \"orientation\": \"v\", \"showlegend\": true, \"type\": \"scatter\", \"x\": [231.001181], \"xaxis\": \"x\", \"y\": [16080], \"yaxis\": \"y\"}, {\"customdata\": [[\"TRINITY\"]], \"hovertemplate\": \"County=%{customdata[0]}<br>Electricity Usage (gWh)=%{x}<br>Total Residential Waste (Tons)=%{y}<br>Population=%{marker.size}<extra></extra>\", \"legendgroup\": \"TRINITY\", \"marker\": {\"color\": \"#00cc96\", \"size\": [13128.0], \"sizemode\": \"area\", \"sizeref\": 25100.18, \"symbol\": \"circle\"}, \"mode\": \"markers\", \"name\": \"TRINITY\", \"orientation\": \"v\", \"showlegend\": true, \"type\": \"scatter\", \"x\": [10.266434], \"xaxis\": \"x\", \"y\": [3388], \"yaxis\": \"y\"}, {\"customdata\": [[\"TULARE\"]], \"hovertemplate\": \"County=%{customdata[0]}<br>Electricity Usage (gWh)=%{x}<br>Total Residential Waste (Tons)=%{y}<br>Population=%{marker.size}<extra></extra>\", \"legendgroup\": \"TULARE\", \"marker\": {\"color\": \"#ab63fa\", \"size\": [455138.0], \"sizemode\": \"area\", \"sizeref\": 25100.18, \"symbol\": \"circle\"}, \"mode\": \"markers\", \"name\": \"TULARE\", \"orientation\": \"v\", \"showlegend\": true, \"type\": \"scatter\", \"x\": [1221.371347], \"xaxis\": \"x\", \"y\": [117688], \"yaxis\": \"y\"}, {\"customdata\": [[\"TUOLUMNE\"]], \"hovertemplate\": \"County=%{customdata[0]}<br>Electricity Usage (gWh)=%{x}<br>Total Residential Waste (Tons)=%{y}<br>Population=%{marker.size}<extra></extra>\", \"legendgroup\": \"TUOLUMNE\", \"marker\": {\"color\": \"#FFA15A\", \"size\": [53851.0], \"sizemode\": \"area\", \"sizeref\": 25100.18, \"symbol\": \"circle\"}, \"mode\": \"markers\", \"name\": \"TUOLUMNE\", \"orientation\": \"v\", \"showlegend\": true, \"type\": \"scatter\", \"x\": [206.254682], \"xaxis\": \"x\", \"y\": [13092], \"yaxis\": \"y\"}, {\"customdata\": [[\"VENTURA\"]], \"hovertemplate\": \"County=%{customdata[0]}<br>Electricity Usage (gWh)=%{x}<br>Total Residential Waste (Tons)=%{y}<br>Population=%{marker.size}<extra></extra>\", \"legendgroup\": \"VENTURA\", \"marker\": {\"color\": \"#19d3f3\", \"size\": [842297.0], \"sizemode\": \"area\", \"sizeref\": 25100.18, \"symbol\": \"circle\"}, \"mode\": \"markers\", \"name\": \"VENTURA\", \"orientation\": \"v\", \"showlegend\": true, \"type\": \"scatter\", \"x\": [1904.791753], \"xaxis\": \"x\", \"y\": [215568], \"yaxis\": \"y\"}, {\"customdata\": [[\"YOLO\"]], \"hovertemplate\": \"County=%{customdata[0]}<br>Electricity Usage (gWh)=%{x}<br>Total Residential Waste (Tons)=%{y}<br>Population=%{marker.size}<extra></extra>\", \"legendgroup\": \"YOLO\", \"marker\": {\"color\": \"#FF6692\", \"size\": [208398.0], \"sizemode\": \"area\", \"sizeref\": 25100.18, \"symbol\": \"circle\"}, \"mode\": \"markers\", \"name\": \"YOLO\", \"orientation\": \"v\", \"showlegend\": true, \"type\": \"scatter\", \"x\": [507.245608], \"xaxis\": \"x\", \"y\": [51697], \"yaxis\": \"y\"}, {\"customdata\": [[\"YUBA\"]], \"hovertemplate\": \"County=%{customdata[0]}<br>Electricity Usage (gWh)=%{x}<br>Total Residential Waste (Tons)=%{y}<br>Population=%{marker.size}<extra></extra>\", \"legendgroup\": \"YUBA\", \"marker\": {\"color\": \"#B6E880\", \"size\": [73533.0], \"sizemode\": \"area\", \"sizeref\": 25100.18, \"symbol\": \"circle\"}, \"mode\": \"markers\", \"name\": \"YUBA\", \"orientation\": \"v\", \"showlegend\": true, \"type\": \"scatter\", \"x\": [214.329404], \"xaxis\": \"x\", \"y\": [18632], \"yaxis\": \"y\"}],                        {\"legend\": {\"itemsizing\": \"constant\", \"title\": {\"text\": \"County\"}, \"tracegroupgap\": 0}, \"template\": {\"data\": {\"bar\": [{\"error_x\": {\"color\": \"#2a3f5f\"}, \"error_y\": {\"color\": \"#2a3f5f\"}, \"marker\": {\"line\": {\"color\": \"#E5ECF6\", \"width\": 0.5}}, \"type\": \"bar\"}], \"barpolar\": [{\"marker\": {\"line\": {\"color\": \"#E5ECF6\", \"width\": 0.5}}, \"type\": \"barpolar\"}], \"carpet\": [{\"aaxis\": {\"endlinecolor\": \"#2a3f5f\", \"gridcolor\": \"white\", \"linecolor\": \"white\", \"minorgridcolor\": \"white\", \"startlinecolor\": \"#2a3f5f\"}, \"baxis\": {\"endlinecolor\": \"#2a3f5f\", \"gridcolor\": \"white\", \"linecolor\": \"white\", \"minorgridcolor\": \"white\", \"startlinecolor\": \"#2a3f5f\"}, \"type\": \"carpet\"}], \"choropleth\": [{\"colorbar\": {\"outlinewidth\": 0, \"ticks\": \"\"}, \"type\": \"choropleth\"}], \"contour\": [{\"colorbar\": {\"outlinewidth\": 0, \"ticks\": \"\"}, \"colorscale\": [[0.0, \"#0d0887\"], [0.1111111111111111, \"#46039f\"], [0.2222222222222222, \"#7201a8\"], [0.3333333333333333, \"#9c179e\"], [0.4444444444444444, \"#bd3786\"], [0.5555555555555556, \"#d8576b\"], [0.6666666666666666, \"#ed7953\"], [0.7777777777777778, \"#fb9f3a\"], [0.8888888888888888, \"#fdca26\"], [1.0, \"#f0f921\"]], \"type\": \"contour\"}], \"contourcarpet\": [{\"colorbar\": {\"outlinewidth\": 0, \"ticks\": \"\"}, \"type\": \"contourcarpet\"}], \"heatmap\": [{\"colorbar\": {\"outlinewidth\": 0, \"ticks\": \"\"}, \"colorscale\": [[0.0, \"#0d0887\"], [0.1111111111111111, \"#46039f\"], [0.2222222222222222, \"#7201a8\"], [0.3333333333333333, \"#9c179e\"], [0.4444444444444444, \"#bd3786\"], [0.5555555555555556, \"#d8576b\"], [0.6666666666666666, \"#ed7953\"], [0.7777777777777778, \"#fb9f3a\"], [0.8888888888888888, \"#fdca26\"], [1.0, \"#f0f921\"]], \"type\": \"heatmap\"}], \"heatmapgl\": [{\"colorbar\": {\"outlinewidth\": 0, \"ticks\": \"\"}, \"colorscale\": [[0.0, \"#0d0887\"], [0.1111111111111111, \"#46039f\"], [0.2222222222222222, \"#7201a8\"], [0.3333333333333333, \"#9c179e\"], [0.4444444444444444, \"#bd3786\"], [0.5555555555555556, \"#d8576b\"], [0.6666666666666666, \"#ed7953\"], [0.7777777777777778, \"#fb9f3a\"], [0.8888888888888888, \"#fdca26\"], [1.0, \"#f0f921\"]], \"type\": \"heatmapgl\"}], \"histogram\": [{\"marker\": {\"colorbar\": {\"outlinewidth\": 0, \"ticks\": \"\"}}, \"type\": \"histogram\"}], \"histogram2d\": [{\"colorbar\": {\"outlinewidth\": 0, \"ticks\": \"\"}, \"colorscale\": [[0.0, \"#0d0887\"], [0.1111111111111111, \"#46039f\"], [0.2222222222222222, \"#7201a8\"], [0.3333333333333333, \"#9c179e\"], [0.4444444444444444, \"#bd3786\"], [0.5555555555555556, \"#d8576b\"], [0.6666666666666666, \"#ed7953\"], [0.7777777777777778, \"#fb9f3a\"], [0.8888888888888888, \"#fdca26\"], [1.0, \"#f0f921\"]], \"type\": \"histogram2d\"}], \"histogram2dcontour\": [{\"colorbar\": {\"outlinewidth\": 0, \"ticks\": \"\"}, \"colorscale\": [[0.0, \"#0d0887\"], [0.1111111111111111, \"#46039f\"], [0.2222222222222222, \"#7201a8\"], [0.3333333333333333, \"#9c179e\"], [0.4444444444444444, \"#bd3786\"], [0.5555555555555556, \"#d8576b\"], [0.6666666666666666, \"#ed7953\"], [0.7777777777777778, \"#fb9f3a\"], [0.8888888888888888, \"#fdca26\"], [1.0, \"#f0f921\"]], \"type\": \"histogram2dcontour\"}], \"mesh3d\": [{\"colorbar\": {\"outlinewidth\": 0, \"ticks\": \"\"}, \"type\": \"mesh3d\"}], \"parcoords\": [{\"line\": {\"colorbar\": {\"outlinewidth\": 0, \"ticks\": \"\"}}, \"type\": \"parcoords\"}], \"pie\": [{\"automargin\": true, \"type\": \"pie\"}], \"scatter\": [{\"marker\": {\"colorbar\": {\"outlinewidth\": 0, \"ticks\": \"\"}}, \"type\": \"scatter\"}], \"scatter3d\": [{\"line\": {\"colorbar\": {\"outlinewidth\": 0, \"ticks\": \"\"}}, \"marker\": {\"colorbar\": {\"outlinewidth\": 0, \"ticks\": \"\"}}, \"type\": \"scatter3d\"}], \"scattercarpet\": [{\"marker\": {\"colorbar\": {\"outlinewidth\": 0, \"ticks\": \"\"}}, \"type\": \"scattercarpet\"}], \"scattergeo\": [{\"marker\": {\"colorbar\": {\"outlinewidth\": 0, \"ticks\": \"\"}}, \"type\": \"scattergeo\"}], \"scattergl\": [{\"marker\": {\"colorbar\": {\"outlinewidth\": 0, \"ticks\": \"\"}}, \"type\": \"scattergl\"}], \"scattermapbox\": [{\"marker\": {\"colorbar\": {\"outlinewidth\": 0, \"ticks\": \"\"}}, \"type\": \"scattermapbox\"}], \"scatterpolar\": [{\"marker\": {\"colorbar\": {\"outlinewidth\": 0, \"ticks\": \"\"}}, \"type\": \"scatterpolar\"}], \"scatterpolargl\": [{\"marker\": {\"colorbar\": {\"outlinewidth\": 0, \"ticks\": \"\"}}, \"type\": \"scatterpolargl\"}], \"scatterternary\": [{\"marker\": {\"colorbar\": {\"outlinewidth\": 0, \"ticks\": \"\"}}, \"type\": \"scatterternary\"}], \"surface\": [{\"colorbar\": {\"outlinewidth\": 0, \"ticks\": \"\"}, \"colorscale\": [[0.0, \"#0d0887\"], [0.1111111111111111, \"#46039f\"], [0.2222222222222222, \"#7201a8\"], [0.3333333333333333, \"#9c179e\"], [0.4444444444444444, \"#bd3786\"], [0.5555555555555556, \"#d8576b\"], [0.6666666666666666, \"#ed7953\"], [0.7777777777777778, \"#fb9f3a\"], [0.8888888888888888, \"#fdca26\"], [1.0, \"#f0f921\"]], \"type\": \"surface\"}], \"table\": [{\"cells\": {\"fill\": {\"color\": \"#EBF0F8\"}, \"line\": {\"color\": \"white\"}}, \"header\": {\"fill\": {\"color\": \"#C8D4E3\"}, \"line\": {\"color\": \"white\"}}, \"type\": \"table\"}]}, \"layout\": {\"annotationdefaults\": {\"arrowcolor\": \"#2a3f5f\", \"arrowhead\": 0, \"arrowwidth\": 1}, \"coloraxis\": {\"colorbar\": {\"outlinewidth\": 0, \"ticks\": \"\"}}, \"colorscale\": {\"diverging\": [[0, \"#8e0152\"], [0.1, \"#c51b7d\"], [0.2, \"#de77ae\"], [0.3, \"#f1b6da\"], [0.4, \"#fde0ef\"], [0.5, \"#f7f7f7\"], [0.6, \"#e6f5d0\"], [0.7, \"#b8e186\"], [0.8, \"#7fbc41\"], [0.9, \"#4d9221\"], [1, \"#276419\"]], \"sequential\": [[0.0, \"#0d0887\"], [0.1111111111111111, \"#46039f\"], [0.2222222222222222, \"#7201a8\"], [0.3333333333333333, \"#9c179e\"], [0.4444444444444444, \"#bd3786\"], [0.5555555555555556, \"#d8576b\"], [0.6666666666666666, \"#ed7953\"], [0.7777777777777778, \"#fb9f3a\"], [0.8888888888888888, \"#fdca26\"], [1.0, \"#f0f921\"]], \"sequentialminus\": [[0.0, \"#0d0887\"], [0.1111111111111111, \"#46039f\"], [0.2222222222222222, \"#7201a8\"], [0.3333333333333333, \"#9c179e\"], [0.4444444444444444, \"#bd3786\"], [0.5555555555555556, \"#d8576b\"], [0.6666666666666666, \"#ed7953\"], [0.7777777777777778, \"#fb9f3a\"], [0.8888888888888888, \"#fdca26\"], [1.0, \"#f0f921\"]]}, \"colorway\": [\"#636efa\", \"#EF553B\", \"#00cc96\", \"#ab63fa\", \"#FFA15A\", \"#19d3f3\", \"#FF6692\", \"#B6E880\", \"#FF97FF\", \"#FECB52\"], \"font\": {\"color\": \"#2a3f5f\"}, \"geo\": {\"bgcolor\": \"white\", \"lakecolor\": \"white\", \"landcolor\": \"#E5ECF6\", \"showlakes\": true, \"showland\": true, \"subunitcolor\": \"white\"}, \"hoverlabel\": {\"align\": \"left\"}, \"hovermode\": \"closest\", \"mapbox\": {\"style\": \"light\"}, \"paper_bgcolor\": \"white\", \"plot_bgcolor\": \"#E5ECF6\", \"polar\": {\"angularaxis\": {\"gridcolor\": \"white\", \"linecolor\": \"white\", \"ticks\": \"\"}, \"bgcolor\": \"#E5ECF6\", \"radialaxis\": {\"gridcolor\": \"white\", \"linecolor\": \"white\", \"ticks\": \"\"}}, \"scene\": {\"xaxis\": {\"backgroundcolor\": \"#E5ECF6\", \"gridcolor\": \"white\", \"gridwidth\": 2, \"linecolor\": \"white\", \"showbackground\": true, \"ticks\": \"\", \"zerolinecolor\": \"white\"}, \"yaxis\": {\"backgroundcolor\": \"#E5ECF6\", \"gridcolor\": \"white\", \"gridwidth\": 2, \"linecolor\": \"white\", \"showbackground\": true, \"ticks\": \"\", \"zerolinecolor\": \"white\"}, \"zaxis\": {\"backgroundcolor\": \"#E5ECF6\", \"gridcolor\": \"white\", \"gridwidth\": 2, \"linecolor\": \"white\", \"showbackground\": true, \"ticks\": \"\", \"zerolinecolor\": \"white\"}}, \"shapedefaults\": {\"line\": {\"color\": \"#2a3f5f\"}}, \"ternary\": {\"aaxis\": {\"gridcolor\": \"white\", \"linecolor\": \"white\", \"ticks\": \"\"}, \"baxis\": {\"gridcolor\": \"white\", \"linecolor\": \"white\", \"ticks\": \"\"}, \"bgcolor\": \"#E5ECF6\", \"caxis\": {\"gridcolor\": \"white\", \"linecolor\": \"white\", \"ticks\": \"\"}}, \"title\": {\"x\": 0.05}, \"xaxis\": {\"automargin\": true, \"gridcolor\": \"white\", \"linecolor\": \"white\", \"ticks\": \"\", \"title\": {\"standoff\": 15}, \"zerolinecolor\": \"white\", \"zerolinewidth\": 2}, \"yaxis\": {\"automargin\": true, \"gridcolor\": \"white\", \"linecolor\": \"white\", \"ticks\": \"\", \"title\": {\"standoff\": 15}, \"zerolinecolor\": \"white\", \"zerolinewidth\": 2}}}, \"title\": {\"text\": \"CA County Waste vs Electricity Usage & Population (2014)\"}, \"xaxis\": {\"anchor\": \"y\", \"domain\": [0.0, 1.0], \"title\": {\"text\": \"Electricity Usage (gWh)\"}}, \"yaxis\": {\"anchor\": \"x\", \"domain\": [0.0, 1.0], \"title\": {\"text\": \"Total Residential Waste (Tons)\"}}},                        {\"responsive\": true}                    ).then(function(){\n",
       "                            \n",
       "var gd = document.getElementById('ed9de890-0335-4953-b77c-cd8949b1549a');\n",
       "var x = new MutationObserver(function (mutations, observer) {{\n",
       "        var display = window.getComputedStyle(gd).display;\n",
       "        if (!display || display === 'none') {{\n",
       "            console.log([gd, 'removed!']);\n",
       "            Plotly.purge(gd);\n",
       "            observer.disconnect();\n",
       "        }}\n",
       "}});\n",
       "\n",
       "// Listen for the removal of the full notebook cells\n",
       "var notebookContainer = gd.closest('#notebook-container');\n",
       "if (notebookContainer) {{\n",
       "    x.observe(notebookContainer, {childList: true});\n",
       "}}\n",
       "\n",
       "// Listen for the clearing of the current output cell\n",
       "var outputEl = gd.closest('.output');\n",
       "if (outputEl) {{\n",
       "    x.observe(outputEl, {childList: true});\n",
       "}}\n",
       "\n",
       "                        })                };                });            </script>        </div>"
      ]
     },
     "metadata": {},
     "output_type": "display_data"
    }
   ],
   "source": [
    "fig = px.scatter(complete_feature_df, x=\"Electricity Usage_2014\", y=\"Total Residential Tons\",\n",
    "                 size=\"Population_2014\", hover_data=[\"County\"], color=\"County\",\n",
    "#                  log_x=True, log_y=True, \n",
    "                 labels={\n",
    "                     \"Total Residential Tons\": \"Total Residential Waste (Tons)\",\n",
    "                     \"Electricity Usage_2014\": \"Electricity Usage (gWh)\",\n",
    "                     \"Population_2014\": \"Population\"\n",
    "                 },\n",
    "                 title=\"CA County Waste vs Electricity Usage & Population (2014)\"\n",
    "                )\n",
    "# fig.update_traces(textposition='top left')\n",
    "fig.show()"
   ]
  },
  {
   "cell_type": "code",
   "execution_count": 22,
   "metadata": {},
   "outputs": [
    {
     "data": {
      "text/plain": [
       "'https://plotly.com/~mdong127/59/'"
      ]
     },
     "execution_count": 22,
     "metadata": {},
     "output_type": "execute_result"
    }
   ],
   "source": [
    "py.plot(fig, filename = 'Waste-vs-Energy-Population', auto_open=True)"
   ]
  },
  {
   "cell_type": "markdown",
   "metadata": {},
   "source": [
    "---\n",
    "\n",
    "## State / County Data"
   ]
  },
  {
   "cell_type": "markdown",
   "metadata": {},
   "source": [
    "### Cal Recycle"
   ]
  },
  {
   "cell_type": "markdown",
   "metadata": {},
   "source": [
    "- The Solid Waste Information System (SWIS) database contains information on solid waste facilities, operations, and disposal sites in California.  Includes Latitude, Longitude and waste type processed\n",
    "- Source: https://www2.calrecycle.ca.gov/SolidWaste/Site/Search"
   ]
  },
  {
   "cell_type": "code",
   "execution_count": 37,
   "metadata": {
    "scrolled": true
   },
   "outputs": [
    {
     "data": {
      "text/html": [
       "<div>\n",
       "<style scoped>\n",
       "    .dataframe tbody tr th:only-of-type {\n",
       "        vertical-align: middle;\n",
       "    }\n",
       "\n",
       "    .dataframe tbody tr th {\n",
       "        vertical-align: top;\n",
       "    }\n",
       "\n",
       "    .dataframe thead th {\n",
       "        text-align: right;\n",
       "    }\n",
       "</style>\n",
       "<table border=\"1\" class=\"dataframe\">\n",
       "  <thead>\n",
       "    <tr style=\"text-align: right;\">\n",
       "      <th></th>\n",
       "      <th>SWIS Number</th>\n",
       "      <th>Site Name</th>\n",
       "      <th>Activity</th>\n",
       "      <th>Waste Type</th>\n",
       "      <th>Site Is Archived</th>\n",
       "      <th>Site Operational Status</th>\n",
       "      <th>Site Regulatory Status</th>\n",
       "      <th>Site Type</th>\n",
       "      <th>Latitude</th>\n",
       "      <th>Longitude</th>\n",
       "      <th>Point of Contact</th>\n",
       "      <th>Activity Is Archived</th>\n",
       "      <th>Activity Operational Status</th>\n",
       "      <th>Activity Regulatory Status</th>\n",
       "      <th>Activity Category</th>\n",
       "      <th>Activity Classification</th>\n",
       "    </tr>\n",
       "  </thead>\n",
       "  <tbody>\n",
       "    <tr>\n",
       "      <td>0</td>\n",
       "      <td>27-AA-0114</td>\n",
       "      <td>Return to Earth, LLC</td>\n",
       "      <td>Agricultural Material Composting Operation</td>\n",
       "      <td>Agricultural</td>\n",
       "      <td>Yes</td>\n",
       "      <td>Closed</td>\n",
       "      <td>Surrendered</td>\n",
       "      <td>Non-Disposal Only</td>\n",
       "      <td>36.63163</td>\n",
       "      <td>-121.54770</td>\n",
       "      <td>Eric Kiruja</td>\n",
       "      <td>Yes</td>\n",
       "      <td>Closed</td>\n",
       "      <td>Surrendered</td>\n",
       "      <td>Composting</td>\n",
       "      <td>Solid Waste Operation</td>\n",
       "    </tr>\n",
       "    <tr>\n",
       "      <td>1</td>\n",
       "      <td>27-AA-0114</td>\n",
       "      <td>Return to Earth, LLC</td>\n",
       "      <td>Agricultural Material Composting Operation</td>\n",
       "      <td>Green Materials</td>\n",
       "      <td>Yes</td>\n",
       "      <td>Closed</td>\n",
       "      <td>Surrendered</td>\n",
       "      <td>Non-Disposal Only</td>\n",
       "      <td>36.63163</td>\n",
       "      <td>-121.54770</td>\n",
       "      <td>Eric Kiruja</td>\n",
       "      <td>Yes</td>\n",
       "      <td>Closed</td>\n",
       "      <td>Surrendered</td>\n",
       "      <td>Composting</td>\n",
       "      <td>Solid Waste Operation</td>\n",
       "    </tr>\n",
       "    <tr>\n",
       "      <td>2</td>\n",
       "      <td>15-AA-0392</td>\n",
       "      <td>Demler Enterprises-Delano</td>\n",
       "      <td>Agricultural Material Composting Operation</td>\n",
       "      <td>Manure</td>\n",
       "      <td>No</td>\n",
       "      <td>Active</td>\n",
       "      <td>Notification</td>\n",
       "      <td>Non-Disposal Only</td>\n",
       "      <td>35.75880</td>\n",
       "      <td>-119.33784</td>\n",
       "      <td>Christine Karl</td>\n",
       "      <td>No</td>\n",
       "      <td>Active</td>\n",
       "      <td>Notification</td>\n",
       "      <td>Composting</td>\n",
       "      <td>Solid Waste Operation</td>\n",
       "    </tr>\n",
       "  </tbody>\n",
       "</table>\n",
       "</div>"
      ],
      "text/plain": [
       "  SWIS Number                  Site Name  \\\n",
       "0  27-AA-0114       Return to Earth, LLC   \n",
       "1  27-AA-0114       Return to Earth, LLC   \n",
       "2  15-AA-0392  Demler Enterprises-Delano   \n",
       "\n",
       "                                     Activity       Waste Type  \\\n",
       "0  Agricultural Material Composting Operation     Agricultural   \n",
       "1  Agricultural Material Composting Operation  Green Materials   \n",
       "2  Agricultural Material Composting Operation           Manure   \n",
       "\n",
       "  Site Is Archived Site Operational Status Site Regulatory Status  \\\n",
       "0              Yes                  Closed            Surrendered   \n",
       "1              Yes                  Closed            Surrendered   \n",
       "2               No                  Active           Notification   \n",
       "\n",
       "           Site Type  Latitude  Longitude Point of Contact  \\\n",
       "0  Non-Disposal Only  36.63163 -121.54770      Eric Kiruja   \n",
       "1  Non-Disposal Only  36.63163 -121.54770      Eric Kiruja   \n",
       "2  Non-Disposal Only  35.75880 -119.33784   Christine Karl   \n",
       "\n",
       "  Activity Is Archived Activity Operational Status Activity Regulatory Status  \\\n",
       "0                  Yes                      Closed                Surrendered   \n",
       "1                  Yes                      Closed                Surrendered   \n",
       "2                   No                      Active               Notification   \n",
       "\n",
       "  Activity Category Activity Classification  \n",
       "0        Composting   Solid Waste Operation  \n",
       "1        Composting   Solid Waste Operation  \n",
       "2        Composting   Solid Waste Operation  "
      ]
     },
     "execution_count": 37,
     "metadata": {},
     "output_type": "execute_result"
    }
   ],
   "source": [
    "cal_waste_facilities = pd.read_csv('../data/calrecycle-waste-facilities.csv')\n",
    "cal_waste_facilities.head(3)"
   ]
  },
  {
   "cell_type": "markdown",
   "metadata": {},
   "source": [
    "---\n",
    "\n",
    "## National Data"
   ]
  },
  {
   "cell_type": "markdown",
   "metadata": {},
   "source": [
    "### EIA energy consumption\n",
    "\n",
    "- Residential Energy consumption \n",
    "    - Totals and averages for each major end use: space heating, water heating, air-conditioning, refrigerators, and other (other appliances, electronics, and lighting)\n",
    "    - Grouped by different categories like large census region, climate, housing type, etc.\n",
    "\n",
    "- Source: https://www.eia.gov/consumption/residential/data/2015/index.php?view=consumption#by%20end%20uses'\n",
    "- Downlads as an excel file that has some indentation in the index column such that it downloading it directly as a csv messes up the organization.  The rows that have no observations just separate the different cateogires"
   ]
  },
  {
   "cell_type": "code",
   "execution_count": 31,
   "metadata": {},
   "outputs": [
    {
     "data": {
      "text/html": [
       "<div>\n",
       "<style scoped>\n",
       "    .dataframe tbody tr th:only-of-type {\n",
       "        vertical-align: middle;\n",
       "    }\n",
       "\n",
       "    .dataframe tbody tr th {\n",
       "        vertical-align: top;\n",
       "    }\n",
       "\n",
       "    .dataframe thead th {\n",
       "        text-align: right;\n",
       "    }\n",
       "</style>\n",
       "<table border=\"1\" class=\"dataframe\">\n",
       "  <thead>\n",
       "    <tr style=\"text-align: right;\">\n",
       "      <th></th>\n",
       "      <th>Total U.S.2 (Number of housing units (million))</th>\n",
       "      <th>Total Average energy expenditures \\n(dollars per household using the end use)</th>\n",
       "      <th>Space heating3</th>\n",
       "      <th>Water heating</th>\n",
       "      <th>Air condi-tioning</th>\n",
       "      <th>Refrig-erators</th>\n",
       "      <th>Other4</th>\n",
       "    </tr>\n",
       "  </thead>\n",
       "  <tbody>\n",
       "    <tr>\n",
       "      <td>All homes</td>\n",
       "      <td>118.2</td>\n",
       "      <td>1,856</td>\n",
       "      <td>543</td>\n",
       "      <td>296</td>\n",
       "      <td>265</td>\n",
       "      <td>103</td>\n",
       "      <td>714</td>\n",
       "    </tr>\n",
       "    <tr>\n",
       "      <td>Census region and division</td>\n",
       "      <td></td>\n",
       "      <td></td>\n",
       "      <td></td>\n",
       "      <td></td>\n",
       "      <td></td>\n",
       "      <td></td>\n",
       "      <td></td>\n",
       "    </tr>\n",
       "    <tr>\n",
       "      <td>Northeast</td>\n",
       "      <td>21</td>\n",
       "      <td>2,269</td>\n",
       "      <td>850</td>\n",
       "      <td>335</td>\n",
       "      <td>174</td>\n",
       "      <td>120</td>\n",
       "      <td>834</td>\n",
       "    </tr>\n",
       "    <tr>\n",
       "      <td>New England</td>\n",
       "      <td>5.6</td>\n",
       "      <td>2,541</td>\n",
       "      <td>1,046</td>\n",
       "      <td>379</td>\n",
       "      <td>127</td>\n",
       "      <td>124</td>\n",
       "      <td>926</td>\n",
       "    </tr>\n",
       "    <tr>\n",
       "      <td>Middle Atlantic</td>\n",
       "      <td>15.4</td>\n",
       "      <td>2,169</td>\n",
       "      <td>779</td>\n",
       "      <td>318</td>\n",
       "      <td>188</td>\n",
       "      <td>118</td>\n",
       "      <td>800</td>\n",
       "    </tr>\n",
       "    <tr>\n",
       "      <td>Midwest</td>\n",
       "      <td>26.4</td>\n",
       "      <td>1,760</td>\n",
       "      <td>604</td>\n",
       "      <td>246</td>\n",
       "      <td>148</td>\n",
       "      <td>99</td>\n",
       "      <td>681</td>\n",
       "    </tr>\n",
       "    <tr>\n",
       "      <td>East North Central</td>\n",
       "      <td>18.1</td>\n",
       "      <td>1,762</td>\n",
       "      <td>612</td>\n",
       "      <td>247</td>\n",
       "      <td>140</td>\n",
       "      <td>101</td>\n",
       "      <td>676</td>\n",
       "    </tr>\n",
       "    <tr>\n",
       "      <td>West North Central</td>\n",
       "      <td>8.3</td>\n",
       "      <td>1,757</td>\n",
       "      <td>587</td>\n",
       "      <td>243</td>\n",
       "      <td>166</td>\n",
       "      <td>96</td>\n",
       "      <td>691</td>\n",
       "    </tr>\n",
       "    <tr>\n",
       "      <td>South</td>\n",
       "      <td>44.4</td>\n",
       "      <td>1,917</td>\n",
       "      <td>465</td>\n",
       "      <td>323</td>\n",
       "      <td>392</td>\n",
       "      <td>93</td>\n",
       "      <td>694</td>\n",
       "    </tr>\n",
       "    <tr>\n",
       "      <td>South Atlantic</td>\n",
       "      <td>23.5</td>\n",
       "      <td>1,963</td>\n",
       "      <td>488</td>\n",
       "      <td>344</td>\n",
       "      <td>386</td>\n",
       "      <td>95</td>\n",
       "      <td>714</td>\n",
       "    </tr>\n",
       "  </tbody>\n",
       "</table>\n",
       "</div>"
      ],
      "text/plain": [
       "                           Total U.S.2 (Number of housing units (million))  \\\n",
       "All homes                                                            118.2   \n",
       "Census region and division                                                   \n",
       "Northeast                                                               21   \n",
       "New England                                                            5.6   \n",
       "Middle Atlantic                                                       15.4   \n",
       "Midwest                                                               26.4   \n",
       "East North Central                                                    18.1   \n",
       "West North Central                                                     8.3   \n",
       "South                                                                 44.4   \n",
       "South Atlantic                                                        23.5   \n",
       "\n",
       "                           Total Average energy expenditures \\n(dollars per household using the end use)  \\\n",
       "All homes                                                               1,856                              \n",
       "Census region and division                                                                                 \n",
       "Northeast                                                               2,269                              \n",
       "New England                                                             2,541                              \n",
       "Middle Atlantic                                                         2,169                              \n",
       "Midwest                                                                 1,760                              \n",
       "East North Central                                                      1,762                              \n",
       "West North Central                                                      1,757                              \n",
       "South                                                                   1,917                              \n",
       "South Atlantic                                                          1,963                              \n",
       "\n",
       "                           Space heating3 Water heating Air condi-tioning  \\\n",
       "All homes                             543           296               265   \n",
       "Census region and division                                                  \n",
       "Northeast                             850           335               174   \n",
       "New England                         1,046           379               127   \n",
       "Middle Atlantic                       779           318               188   \n",
       "Midwest                               604           246               148   \n",
       "East North Central                    612           247               140   \n",
       "West North Central                    587           243               166   \n",
       "South                                 465           323               392   \n",
       "South Atlantic                        488           344               386   \n",
       "\n",
       "                           Refrig-erators Other4  \n",
       "All homes                             103    714  \n",
       "Census region and division                        \n",
       "Northeast                             120    834  \n",
       "New England                           124    926  \n",
       "Middle Atlantic                       118    800  \n",
       "Midwest                                99    681  \n",
       "East North Central                    101    676  \n",
       "West North Central                     96    691  \n",
       "South                                  93    694  \n",
       "South Atlantic                         95    714  "
      ]
     },
     "execution_count": 31,
     "metadata": {},
     "output_type": "execute_result"
    }
   ],
   "source": [
    "us_region_energy_usage = pd.read_csv('../data/eia-residential-energy-consumption.csv',index_col=0)\n",
    "us_region_energy_usage.head(10)"
   ]
  },
  {
   "cell_type": "code",
   "execution_count": 40,
   "metadata": {},
   "outputs": [
    {
     "data": {
      "text/html": [
       "<div>\n",
       "<style scoped>\n",
       "    .dataframe tbody tr th:only-of-type {\n",
       "        vertical-align: middle;\n",
       "    }\n",
       "\n",
       "    .dataframe tbody tr th {\n",
       "        vertical-align: top;\n",
       "    }\n",
       "\n",
       "    .dataframe thead th {\n",
       "        text-align: right;\n",
       "    }\n",
       "</style>\n",
       "<table border=\"1\" class=\"dataframe\">\n",
       "  <thead>\n",
       "    <tr style=\"text-align: right;\">\n",
       "      <th></th>\n",
       "      <th>Total U.S.2 (Number of housing units (million))</th>\n",
       "      <th>Total Average energy expenditures \\n(dollars per household using the end use)</th>\n",
       "      <th>Space heating3</th>\n",
       "      <th>Water heating</th>\n",
       "      <th>Air condi-tioning</th>\n",
       "      <th>Refrig-erators</th>\n",
       "      <th>Other4</th>\n",
       "    </tr>\n",
       "  </thead>\n",
       "  <tbody>\n",
       "    <tr>\n",
       "      <td>Census urban/rural classification5</td>\n",
       "      <td></td>\n",
       "      <td></td>\n",
       "      <td></td>\n",
       "      <td></td>\n",
       "      <td></td>\n",
       "      <td></td>\n",
       "      <td></td>\n",
       "    </tr>\n",
       "    <tr>\n",
       "      <td>Urban</td>\n",
       "      <td>94.7</td>\n",
       "      <td>1,773</td>\n",
       "      <td>495</td>\n",
       "      <td>274</td>\n",
       "      <td>269</td>\n",
       "      <td>102</td>\n",
       "      <td>694</td>\n",
       "    </tr>\n",
       "    <tr>\n",
       "      <td>Urbanized area</td>\n",
       "      <td>82.2</td>\n",
       "      <td>1,782</td>\n",
       "      <td>488</td>\n",
       "      <td>272</td>\n",
       "      <td>279</td>\n",
       "      <td>104</td>\n",
       "      <td>705</td>\n",
       "    </tr>\n",
       "    <tr>\n",
       "      <td>Urban cluster</td>\n",
       "      <td>12.5</td>\n",
       "      <td>1,710</td>\n",
       "      <td>540</td>\n",
       "      <td>286</td>\n",
       "      <td>202</td>\n",
       "      <td>92</td>\n",
       "      <td>625</td>\n",
       "    </tr>\n",
       "    <tr>\n",
       "      <td>Rural</td>\n",
       "      <td>23.5</td>\n",
       "      <td>2,190</td>\n",
       "      <td>737</td>\n",
       "      <td>382</td>\n",
       "      <td>253</td>\n",
       "      <td>105</td>\n",
       "      <td>791</td>\n",
       "    </tr>\n",
       "    <tr>\n",
       "      <td>Metropolitan or micropolitan statistical area</td>\n",
       "      <td></td>\n",
       "      <td></td>\n",
       "      <td></td>\n",
       "      <td></td>\n",
       "      <td></td>\n",
       "      <td></td>\n",
       "      <td></td>\n",
       "    </tr>\n",
       "    <tr>\n",
       "      <td>In metropolitan statistical area</td>\n",
       "      <td>98.5</td>\n",
       "      <td>1,840</td>\n",
       "      <td>520</td>\n",
       "      <td>287</td>\n",
       "      <td>274</td>\n",
       "      <td>105</td>\n",
       "      <td>723</td>\n",
       "    </tr>\n",
       "    <tr>\n",
       "      <td>In micropolitan statistical area</td>\n",
       "      <td>12.3</td>\n",
       "      <td>1,861</td>\n",
       "      <td>626</td>\n",
       "      <td>325</td>\n",
       "      <td>195</td>\n",
       "      <td>91</td>\n",
       "      <td>657</td>\n",
       "    </tr>\n",
       "    <tr>\n",
       "      <td>Not in metropolitan or micropolitan statistical area</td>\n",
       "      <td>7.4</td>\n",
       "      <td>2,050</td>\n",
       "      <td>714</td>\n",
       "      <td>368</td>\n",
       "      <td>270</td>\n",
       "      <td>96</td>\n",
       "      <td>688</td>\n",
       "    </tr>\n",
       "    <tr>\n",
       "      <td>Climate region6</td>\n",
       "      <td></td>\n",
       "      <td></td>\n",
       "      <td></td>\n",
       "      <td></td>\n",
       "      <td></td>\n",
       "      <td></td>\n",
       "      <td></td>\n",
       "    </tr>\n",
       "    <tr>\n",
       "      <td>Very cold/Cold</td>\n",
       "      <td>42.5</td>\n",
       "      <td>1,874</td>\n",
       "      <td>676</td>\n",
       "      <td>274</td>\n",
       "      <td>120</td>\n",
       "      <td>102</td>\n",
       "      <td>730</td>\n",
       "    </tr>\n",
       "    <tr>\n",
       "      <td>Mixed-humid</td>\n",
       "      <td>33.5</td>\n",
       "      <td>2,086</td>\n",
       "      <td>655</td>\n",
       "      <td>345</td>\n",
       "      <td>262</td>\n",
       "      <td>102</td>\n",
       "      <td>746</td>\n",
       "    </tr>\n",
       "    <tr>\n",
       "      <td>Mixed-dry/Hot-dry</td>\n",
       "      <td>12.7</td>\n",
       "      <td>1,484</td>\n",
       "      <td>221</td>\n",
       "      <td>240</td>\n",
       "      <td>319</td>\n",
       "      <td>117</td>\n",
       "      <td>692</td>\n",
       "    </tr>\n",
       "    <tr>\n",
       "      <td>Hot-humid</td>\n",
       "      <td>22.8</td>\n",
       "      <td>1,800</td>\n",
       "      <td>299</td>\n",
       "      <td>290</td>\n",
       "      <td>525</td>\n",
       "      <td>96</td>\n",
       "      <td>661</td>\n",
       "    </tr>\n",
       "    <tr>\n",
       "      <td>Marine</td>\n",
       "      <td>6.7</td>\n",
       "      <td>1,479</td>\n",
       "      <td>392</td>\n",
       "      <td>311</td>\n",
       "      <td>60</td>\n",
       "      <td>109</td>\n",
       "      <td>666</td>\n",
       "    </tr>\n",
       "    <tr>\n",
       "      <td>Housing unit type</td>\n",
       "      <td></td>\n",
       "      <td></td>\n",
       "      <td></td>\n",
       "      <td></td>\n",
       "      <td></td>\n",
       "      <td></td>\n",
       "      <td></td>\n",
       "    </tr>\n",
       "  </tbody>\n",
       "</table>\n",
       "</div>"
      ],
      "text/plain": [
       "                                                   Total U.S.2 (Number of housing units (million))  \\\n",
       "Census urban/rural classification5                                                                   \n",
       "Urban                                                                                         94.7   \n",
       "Urbanized area                                                                                82.2   \n",
       "Urban cluster                                                                                 12.5   \n",
       "Rural                                                                                         23.5   \n",
       "Metropolitan or micropolitan statistical area                                                        \n",
       "In metropolitan statistical area                                                              98.5   \n",
       "In micropolitan statistical area                                                              12.3   \n",
       "Not in metropolitan or micropolitan statistical...                                             7.4   \n",
       "Climate region6                                                                                      \n",
       "Very cold/Cold                                                                                42.5   \n",
       "Mixed-humid                                                                                   33.5   \n",
       "Mixed-dry/Hot-dry                                                                             12.7   \n",
       "Hot-humid                                                                                     22.8   \n",
       "Marine                                                                                         6.7   \n",
       "Housing unit type                                                                                    \n",
       "\n",
       "                                                   Total Average energy expenditures \\n(dollars per household using the end use)  \\\n",
       "Census urban/rural classification5                                                                                                 \n",
       "Urban                                                                                           1,773                              \n",
       "Urbanized area                                                                                  1,782                              \n",
       "Urban cluster                                                                                   1,710                              \n",
       "Rural                                                                                           2,190                              \n",
       "Metropolitan or micropolitan statistical area                                                                                      \n",
       "In metropolitan statistical area                                                                1,840                              \n",
       "In micropolitan statistical area                                                                1,861                              \n",
       "Not in metropolitan or micropolitan statistical...                                              2,050                              \n",
       "Climate region6                                                                                                                    \n",
       "Very cold/Cold                                                                                  1,874                              \n",
       "Mixed-humid                                                                                     2,086                              \n",
       "Mixed-dry/Hot-dry                                                                               1,484                              \n",
       "Hot-humid                                                                                       1,800                              \n",
       "Marine                                                                                          1,479                              \n",
       "Housing unit type                                                                                                                  \n",
       "\n",
       "                                                   Space heating3  \\\n",
       "Census urban/rural classification5                                  \n",
       "Urban                                                         495   \n",
       "Urbanized area                                                488   \n",
       "Urban cluster                                                 540   \n",
       "Rural                                                         737   \n",
       "Metropolitan or micropolitan statistical area                       \n",
       "In metropolitan statistical area                              520   \n",
       "In micropolitan statistical area                              626   \n",
       "Not in metropolitan or micropolitan statistical...            714   \n",
       "Climate region6                                                     \n",
       "Very cold/Cold                                                676   \n",
       "Mixed-humid                                                   655   \n",
       "Mixed-dry/Hot-dry                                             221   \n",
       "Hot-humid                                                     299   \n",
       "Marine                                                        392   \n",
       "Housing unit type                                                   \n",
       "\n",
       "                                                   Water heating  \\\n",
       "Census urban/rural classification5                                 \n",
       "Urban                                                        274   \n",
       "Urbanized area                                               272   \n",
       "Urban cluster                                                286   \n",
       "Rural                                                        382   \n",
       "Metropolitan or micropolitan statistical area                      \n",
       "In metropolitan statistical area                             287   \n",
       "In micropolitan statistical area                             325   \n",
       "Not in metropolitan or micropolitan statistical...           368   \n",
       "Climate region6                                                    \n",
       "Very cold/Cold                                               274   \n",
       "Mixed-humid                                                  345   \n",
       "Mixed-dry/Hot-dry                                            240   \n",
       "Hot-humid                                                    290   \n",
       "Marine                                                       311   \n",
       "Housing unit type                                                  \n",
       "\n",
       "                                                   Air condi-tioning  \\\n",
       "Census urban/rural classification5                                     \n",
       "Urban                                                            269   \n",
       "Urbanized area                                                   279   \n",
       "Urban cluster                                                    202   \n",
       "Rural                                                            253   \n",
       "Metropolitan or micropolitan statistical area                          \n",
       "In metropolitan statistical area                                 274   \n",
       "In micropolitan statistical area                                 195   \n",
       "Not in metropolitan or micropolitan statistical...               270   \n",
       "Climate region6                                                        \n",
       "Very cold/Cold                                                   120   \n",
       "Mixed-humid                                                      262   \n",
       "Mixed-dry/Hot-dry                                                319   \n",
       "Hot-humid                                                        525   \n",
       "Marine                                                            60   \n",
       "Housing unit type                                                      \n",
       "\n",
       "                                                   Refrig-erators Other4  \n",
       "Census urban/rural classification5                                        \n",
       "Urban                                                         102    694  \n",
       "Urbanized area                                                104    705  \n",
       "Urban cluster                                                  92    625  \n",
       "Rural                                                         105    791  \n",
       "Metropolitan or micropolitan statistical area                             \n",
       "In metropolitan statistical area                              105    723  \n",
       "In micropolitan statistical area                               91    657  \n",
       "Not in metropolitan or micropolitan statistical...             96    688  \n",
       "Climate region6                                                           \n",
       "Very cold/Cold                                                102    730  \n",
       "Mixed-humid                                                   102    746  \n",
       "Mixed-dry/Hot-dry                                             117    692  \n",
       "Hot-humid                                                      96    661  \n",
       "Marine                                                        109    666  \n",
       "Housing unit type                                                         "
      ]
     },
     "execution_count": 40,
     "metadata": {},
     "output_type": "execute_result"
    }
   ],
   "source": [
    "us_region_energy_usage.iloc[17:33]"
   ]
  },
  {
   "cell_type": "markdown",
   "metadata": {},
   "source": [
    "### BLS demographic information\n",
    "\n",
    "- Income levels, expenditures by housing, transportation, food, etc. for major regions (Northeast, Midwest, South, West) and major cities for each region\n",
    "- Source: https://www.bls.gov/cex/tables.htm#MSA"
   ]
  },
  {
   "cell_type": "code",
   "execution_count": 70,
   "metadata": {},
   "outputs": [
    {
     "data": {
      "text/html": [
       "<div>\n",
       "<style scoped>\n",
       "    .dataframe tbody tr th:only-of-type {\n",
       "        vertical-align: middle;\n",
       "    }\n",
       "\n",
       "    .dataframe tbody tr th {\n",
       "        vertical-align: top;\n",
       "    }\n",
       "\n",
       "    .dataframe thead th {\n",
       "        text-align: right;\n",
       "    }\n",
       "</style>\n",
       "<table border=\"1\" class=\"dataframe\">\n",
       "  <thead>\n",
       "    <tr style=\"text-align: right;\">\n",
       "      <th></th>\n",
       "      <th>All consumer\\nunits in the\\nWest</th>\n",
       "      <th>Los\\nAngeles</th>\n",
       "      <th>San\\nFrancisco</th>\n",
       "      <th>San Diego</th>\n",
       "      <th>Seattle</th>\n",
       "      <th>Phoenix</th>\n",
       "      <th>Denver</th>\n",
       "      <th>Honolulu</th>\n",
       "      <th>Anchorage</th>\n",
       "    </tr>\n",
       "    <tr>\n",
       "      <th>Item</th>\n",
       "      <th></th>\n",
       "      <th></th>\n",
       "      <th></th>\n",
       "      <th></th>\n",
       "      <th></th>\n",
       "      <th></th>\n",
       "      <th></th>\n",
       "      <th></th>\n",
       "      <th></th>\n",
       "    </tr>\n",
       "  </thead>\n",
       "  <tbody>\n",
       "    <tr>\n",
       "      <td>Household operations</td>\n",
       "      <td>1768</td>\n",
       "      <td>1647</td>\n",
       "      <td>3346</td>\n",
       "      <td>1862</td>\n",
       "      <td>2552</td>\n",
       "      <td>1668</td>\n",
       "      <td>2338</td>\n",
       "      <td>944</td>\n",
       "      <td>1281</td>\n",
       "    </tr>\n",
       "    <tr>\n",
       "      <td>Housekeeping supplies</td>\n",
       "      <td>746</td>\n",
       "      <td>673</td>\n",
       "      <td>674</td>\n",
       "      <td>674</td>\n",
       "      <td>765</td>\n",
       "      <td>821</td>\n",
       "      <td>729</td>\n",
       "      <td>871</td>\n",
       "      <td>967</td>\n",
       "    </tr>\n",
       "    <tr>\n",
       "      <td>Household furnishings and equipment</td>\n",
       "      <td>2238</td>\n",
       "      <td>1743</td>\n",
       "      <td>1545</td>\n",
       "      <td>2293</td>\n",
       "      <td>3175</td>\n",
       "      <td>2802</td>\n",
       "      <td>2492</td>\n",
       "      <td>1692</td>\n",
       "      <td>2444</td>\n",
       "    </tr>\n",
       "    <tr>\n",
       "      <td>Apparel and services</td>\n",
       "      <td>1989</td>\n",
       "      <td>2080</td>\n",
       "      <td>2427</td>\n",
       "      <td>2274</td>\n",
       "      <td>2915</td>\n",
       "      <td>2178</td>\n",
       "      <td>2156</td>\n",
       "      <td>1577</td>\n",
       "      <td>2653</td>\n",
       "    </tr>\n",
       "    <tr>\n",
       "      <td>Transportation</td>\n",
       "      <td>11210</td>\n",
       "      <td>10959</td>\n",
       "      <td>11103</td>\n",
       "      <td>11704</td>\n",
       "      <td>11506</td>\n",
       "      <td>12525</td>\n",
       "      <td>12331</td>\n",
       "      <td>8403</td>\n",
       "      <td>13313</td>\n",
       "    </tr>\n",
       "    <tr>\n",
       "      <td>Vehicle purchases (net outlay)</td>\n",
       "      <td>4187</td>\n",
       "      <td>3435</td>\n",
       "      <td>3796</td>\n",
       "      <td>3334</td>\n",
       "      <td>3902</td>\n",
       "      <td>5890</td>\n",
       "      <td>4641</td>\n",
       "      <td>2865</td>\n",
       "      <td>5539</td>\n",
       "    </tr>\n",
       "    <tr>\n",
       "      <td>Gasoline, other fuels, and motor oil</td>\n",
       "      <td>2397</td>\n",
       "      <td>2890</td>\n",
       "      <td>2123</td>\n",
       "      <td>2576</td>\n",
       "      <td>2290</td>\n",
       "      <td>2151</td>\n",
       "      <td>1943</td>\n",
       "      <td>1851</td>\n",
       "      <td>2363</td>\n",
       "    </tr>\n",
       "    <tr>\n",
       "      <td>Other vehicle expenses</td>\n",
       "      <td>3634</td>\n",
       "      <td>3723</td>\n",
       "      <td>3448</td>\n",
       "      <td>4291</td>\n",
       "      <td>3689</td>\n",
       "      <td>3750</td>\n",
       "      <td>4626</td>\n",
       "      <td>2543</td>\n",
       "      <td>3816</td>\n",
       "    </tr>\n",
       "    <tr>\n",
       "      <td>Public and other transportation</td>\n",
       "      <td>992</td>\n",
       "      <td>910</td>\n",
       "      <td>1736</td>\n",
       "      <td>1504</td>\n",
       "      <td>1625</td>\n",
       "      <td>734</td>\n",
       "      <td>1121</td>\n",
       "      <td>1143</td>\n",
       "      <td>1594</td>\n",
       "    </tr>\n",
       "    <tr>\n",
       "      <td>Healthcare</td>\n",
       "      <td>5005</td>\n",
       "      <td>4158</td>\n",
       "      <td>4898</td>\n",
       "      <td>4645</td>\n",
       "      <td>5140</td>\n",
       "      <td>5972</td>\n",
       "      <td>5977</td>\n",
       "      <td>4233</td>\n",
       "      <td>5179</td>\n",
       "    </tr>\n",
       "    <tr>\n",
       "      <td>Entertainment</td>\n",
       "      <td>3554</td>\n",
       "      <td>2901</td>\n",
       "      <td>3810</td>\n",
       "      <td>4590</td>\n",
       "      <td>4725</td>\n",
       "      <td>3611</td>\n",
       "      <td>4622</td>\n",
       "      <td>2307</td>\n",
       "      <td>5311</td>\n",
       "    </tr>\n",
       "    <tr>\n",
       "      <td>Personal care products and services</td>\n",
       "      <td>847</td>\n",
       "      <td>872</td>\n",
       "      <td>915</td>\n",
       "      <td>1025</td>\n",
       "      <td>963</td>\n",
       "      <td>1040</td>\n",
       "      <td>1053</td>\n",
       "      <td>755</td>\n",
       "      <td>743</td>\n",
       "    </tr>\n",
       "    <tr>\n",
       "      <td>Reading</td>\n",
       "      <td>107</td>\n",
       "      <td>91</td>\n",
       "      <td>157</td>\n",
       "      <td>104</td>\n",
       "      <td>119</td>\n",
       "      <td>49</td>\n",
       "      <td>128</td>\n",
       "      <td>30</td>\n",
       "      <td>129</td>\n",
       "    </tr>\n",
       "    <tr>\n",
       "      <td>Education</td>\n",
       "      <td>1469</td>\n",
       "      <td>1854</td>\n",
       "      <td>2713</td>\n",
       "      <td>1057</td>\n",
       "      <td>2098</td>\n",
       "      <td>1010</td>\n",
       "      <td>2032</td>\n",
       "      <td>1375</td>\n",
       "      <td>1218</td>\n",
       "    </tr>\n",
       "    <tr>\n",
       "      <td>Tobacco products and smoking supplies</td>\n",
       "      <td>245</td>\n",
       "      <td>201</td>\n",
       "      <td>100</td>\n",
       "      <td>116</td>\n",
       "      <td>367</td>\n",
       "      <td>369</td>\n",
       "      <td>255</td>\n",
       "      <td>206</td>\n",
       "      <td>435</td>\n",
       "    </tr>\n",
       "  </tbody>\n",
       "</table>\n",
       "</div>"
      ],
      "text/plain": [
       "                                       All consumer\\nunits in the\\nWest  \\\n",
       "Item                                                                      \n",
       "Household operations                                               1768   \n",
       "Housekeeping supplies                                               746   \n",
       "Household furnishings and equipment                                2238   \n",
       "Apparel and services                                               1989   \n",
       "Transportation                                                    11210   \n",
       "Vehicle purchases (net outlay)                                     4187   \n",
       "Gasoline, other fuels, and motor oil                               2397   \n",
       "Other vehicle expenses                                             3634   \n",
       "Public and other transportation                                     992   \n",
       "Healthcare                                                         5005   \n",
       "Entertainment                                                      3554   \n",
       "Personal care products and services                                 847   \n",
       "Reading                                                             107   \n",
       "Education                                                          1469   \n",
       "Tobacco products and smoking supplies                               245   \n",
       "\n",
       "                                       Los\\nAngeles  San\\nFrancisco  \\\n",
       "Item                                                                  \n",
       "Household operations                           1647            3346   \n",
       "Housekeeping supplies                           673             674   \n",
       "Household furnishings and equipment            1743            1545   \n",
       "Apparel and services                           2080            2427   \n",
       "Transportation                                10959           11103   \n",
       "Vehicle purchases (net outlay)                 3435            3796   \n",
       "Gasoline, other fuels, and motor oil           2890            2123   \n",
       "Other vehicle expenses                         3723            3448   \n",
       "Public and other transportation                 910            1736   \n",
       "Healthcare                                     4158            4898   \n",
       "Entertainment                                  2901            3810   \n",
       "Personal care products and services             872             915   \n",
       "Reading                                          91             157   \n",
       "Education                                      1854            2713   \n",
       "Tobacco products and smoking supplies           201             100   \n",
       "\n",
       "                                       San Diego  Seattle  Phoenix  Denver  \\\n",
       "Item                                                                         \n",
       "Household operations                        1862     2552     1668    2338   \n",
       "Housekeeping supplies                        674      765      821     729   \n",
       "Household furnishings and equipment         2293     3175     2802    2492   \n",
       "Apparel and services                        2274     2915     2178    2156   \n",
       "Transportation                             11704    11506    12525   12331   \n",
       "Vehicle purchases (net outlay)              3334     3902     5890    4641   \n",
       "Gasoline, other fuels, and motor oil        2576     2290     2151    1943   \n",
       "Other vehicle expenses                      4291     3689     3750    4626   \n",
       "Public and other transportation             1504     1625      734    1121   \n",
       "Healthcare                                  4645     5140     5972    5977   \n",
       "Entertainment                               4590     4725     3611    4622   \n",
       "Personal care products and services         1025      963     1040    1053   \n",
       "Reading                                      104      119       49     128   \n",
       "Education                                   1057     2098     1010    2032   \n",
       "Tobacco products and smoking supplies        116      367      369     255   \n",
       "\n",
       "                                       Honolulu  Anchorage  \n",
       "Item                                                        \n",
       "Household operations                        944       1281  \n",
       "Housekeeping supplies                       871        967  \n",
       "Household furnishings and equipment        1692       2444  \n",
       "Apparel and services                       1577       2653  \n",
       "Transportation                             8403      13313  \n",
       "Vehicle purchases (net outlay)             2865       5539  \n",
       "Gasoline, other fuels, and motor oil       1851       2363  \n",
       "Other vehicle expenses                     2543       3816  \n",
       "Public and other transportation            1143       1594  \n",
       "Healthcare                                 4233       5179  \n",
       "Entertainment                              2307       5311  \n",
       "Personal care products and services         755        743  \n",
       "Reading                                      30        129  \n",
       "Education                                  1375       1218  \n",
       "Tobacco products and smoking supplies       206        435  "
      ]
     },
     "execution_count": 70,
     "metadata": {},
     "output_type": "execute_result"
    }
   ],
   "source": [
    "bls_consumer_expenditures_west = pd.read_csv('../data/bls-consumer-expenditures-west.csv',index_col=0)\n",
    "bls_consumer_expenditures_west.dropna(axis=0, how=\"all\", inplace=True)\n",
    "for col in bls_consumer_expenditures_west.columns:\n",
    "    bls_consumer_expenditures_west[col] = bls_consumer_expenditures_west[col].str.replace(r'\\D+', '')\n",
    "bls_consumer_expenditures_west = bls_consumer_expenditures_west.apply(pd.to_numeric, errors='raise')\n",
    "bls_consumer_expenditures_west.iloc[25:40]"
   ]
  },
  {
   "cell_type": "code",
   "execution_count": 69,
   "metadata": {},
   "outputs": [
    {
     "data": {
      "text/html": [
       "<div>\n",
       "<style scoped>\n",
       "    .dataframe tbody tr th:only-of-type {\n",
       "        vertical-align: middle;\n",
       "    }\n",
       "\n",
       "    .dataframe tbody tr th {\n",
       "        vertical-align: top;\n",
       "    }\n",
       "\n",
       "    .dataframe thead th {\n",
       "        text-align: right;\n",
       "    }\n",
       "</style>\n",
       "<table border=\"1\" class=\"dataframe\">\n",
       "  <thead>\n",
       "    <tr style=\"text-align: right;\">\n",
       "      <th></th>\n",
       "      <th>All consumer\\nunits in the\\nWest</th>\n",
       "      <th>Los\\nAngeles</th>\n",
       "      <th>San\\nFrancisco</th>\n",
       "      <th>San Diego</th>\n",
       "      <th>Seattle</th>\n",
       "      <th>Phoenix</th>\n",
       "      <th>Denver</th>\n",
       "      <th>Honolulu</th>\n",
       "      <th>Anchorage</th>\n",
       "    </tr>\n",
       "  </thead>\n",
       "  <tbody>\n",
       "    <tr>\n",
       "      <td>count</td>\n",
       "      <td>45.000000</td>\n",
       "      <td>45.000000</td>\n",
       "      <td>45.000000</td>\n",
       "      <td>45.000000</td>\n",
       "      <td>45.000000</td>\n",
       "      <td>45.000000</td>\n",
       "      <td>45.000000</td>\n",
       "      <td>45.000000</td>\n",
       "      <td>45.000000</td>\n",
       "    </tr>\n",
       "    <tr>\n",
       "      <td>mean</td>\n",
       "      <td>7222.888889</td>\n",
       "      <td>6941.066667</td>\n",
       "      <td>9081.422222</td>\n",
       "      <td>7525.266667</td>\n",
       "      <td>8128.955556</td>\n",
       "      <td>6071.711111</td>\n",
       "      <td>7501.244444</td>\n",
       "      <td>6588.377778</td>\n",
       "      <td>7259.866667</td>\n",
       "    </tr>\n",
       "    <tr>\n",
       "      <td>std</td>\n",
       "      <td>16548.299572</td>\n",
       "      <td>16776.202053</td>\n",
       "      <td>24029.336317</td>\n",
       "      <td>18422.698955</td>\n",
       "      <td>20720.920913</td>\n",
       "      <td>14683.003646</td>\n",
       "      <td>19167.250934</td>\n",
       "      <td>16871.850800</td>\n",
       "      <td>17807.027088</td>\n",
       "    </tr>\n",
       "    <tr>\n",
       "      <td>min</td>\n",
       "      <td>2.000000</td>\n",
       "      <td>3.000000</td>\n",
       "      <td>4.000000</td>\n",
       "      <td>2.000000</td>\n",
       "      <td>2.000000</td>\n",
       "      <td>5.000000</td>\n",
       "      <td>2.000000</td>\n",
       "      <td>5.000000</td>\n",
       "      <td>3.000000</td>\n",
       "    </tr>\n",
       "    <tr>\n",
       "      <td>25%</td>\n",
       "      <td>606.000000</td>\n",
       "      <td>576.000000</td>\n",
       "      <td>661.000000</td>\n",
       "      <td>648.000000</td>\n",
       "      <td>657.000000</td>\n",
       "      <td>479.000000</td>\n",
       "      <td>600.000000</td>\n",
       "      <td>561.000000</td>\n",
       "      <td>628.000000</td>\n",
       "    </tr>\n",
       "    <tr>\n",
       "      <td>50%</td>\n",
       "      <td>1854.000000</td>\n",
       "      <td>1743.000000</td>\n",
       "      <td>1932.000000</td>\n",
       "      <td>1658.000000</td>\n",
       "      <td>2098.000000</td>\n",
       "      <td>1566.000000</td>\n",
       "      <td>1857.000000</td>\n",
       "      <td>1376.000000</td>\n",
       "      <td>1594.000000</td>\n",
       "    </tr>\n",
       "    <tr>\n",
       "      <td>75%</td>\n",
       "      <td>5005.000000</td>\n",
       "      <td>4593.000000</td>\n",
       "      <td>5713.000000</td>\n",
       "      <td>5153.000000</td>\n",
       "      <td>5140.000000</td>\n",
       "      <td>4560.000000</td>\n",
       "      <td>4948.000000</td>\n",
       "      <td>5345.000000</td>\n",
       "      <td>5311.000000</td>\n",
       "    </tr>\n",
       "    <tr>\n",
       "      <td>max</td>\n",
       "      <td>86301.000000</td>\n",
       "      <td>90037.000000</td>\n",
       "      <td>138041.000000</td>\n",
       "      <td>97853.000000</td>\n",
       "      <td>115137.000000</td>\n",
       "      <td>74635.000000</td>\n",
       "      <td>106128.000000</td>\n",
       "      <td>95375.000000</td>\n",
       "      <td>94235.000000</td>\n",
       "    </tr>\n",
       "  </tbody>\n",
       "</table>\n",
       "</div>"
      ],
      "text/plain": [
       "       All consumer\\nunits in the\\nWest  Los\\nAngeles  San\\nFrancisco  \\\n",
       "count                         45.000000     45.000000       45.000000   \n",
       "mean                        7222.888889   6941.066667     9081.422222   \n",
       "std                        16548.299572  16776.202053    24029.336317   \n",
       "min                            2.000000      3.000000        4.000000   \n",
       "25%                          606.000000    576.000000      661.000000   \n",
       "50%                         1854.000000   1743.000000     1932.000000   \n",
       "75%                         5005.000000   4593.000000     5713.000000   \n",
       "max                        86301.000000  90037.000000   138041.000000   \n",
       "\n",
       "          San Diego        Seattle       Phoenix         Denver      Honolulu  \\\n",
       "count     45.000000      45.000000     45.000000      45.000000     45.000000   \n",
       "mean    7525.266667    8128.955556   6071.711111    7501.244444   6588.377778   \n",
       "std    18422.698955   20720.920913  14683.003646   19167.250934  16871.850800   \n",
       "min        2.000000       2.000000      5.000000       2.000000      5.000000   \n",
       "25%      648.000000     657.000000    479.000000     600.000000    561.000000   \n",
       "50%     1658.000000    2098.000000   1566.000000    1857.000000   1376.000000   \n",
       "75%     5153.000000    5140.000000   4560.000000    4948.000000   5345.000000   \n",
       "max    97853.000000  115137.000000  74635.000000  106128.000000  95375.000000   \n",
       "\n",
       "          Anchorage  \n",
       "count     45.000000  \n",
       "mean    7259.866667  \n",
       "std    17807.027088  \n",
       "min        3.000000  \n",
       "25%      628.000000  \n",
       "50%     1594.000000  \n",
       "75%     5311.000000  \n",
       "max    94235.000000  "
      ]
     },
     "execution_count": 69,
     "metadata": {},
     "output_type": "execute_result"
    }
   ],
   "source": [
    "bls_consumer_expenditures_west.describe()"
   ]
  }
 ],
 "metadata": {
  "kernelspec": {
   "display_name": "Python 3",
   "language": "python",
   "name": "python3"
  },
  "language_info": {
   "codemirror_mode": {
    "name": "ipython",
    "version": 3
   },
   "file_extension": ".py",
   "mimetype": "text/x-python",
   "name": "python",
   "nbconvert_exporter": "python",
   "pygments_lexer": "ipython3",
   "version": "3.7.4"
  }
 },
 "nbformat": 4,
 "nbformat_minor": 2
}
