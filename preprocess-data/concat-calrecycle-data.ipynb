{
 "cells": [
  {
   "cell_type": "code",
   "execution_count": 11,
   "metadata": {},
   "outputs": [],
   "source": [
    "import pandas as pd\n",
    "import os\n",
    "DATA_PATH = \"../calrecycle-data/\""
   ]
  },
  {
   "cell_type": "markdown",
   "metadata": {},
   "source": [
    "## Waste produced per city"
   ]
  },
  {
   "cell_type": "code",
   "execution_count": null,
   "metadata": {},
   "outputs": [],
   "source": []
  },
  {
   "cell_type": "markdown",
   "metadata": {},
   "source": [
    "---\n",
    "\n",
    "## Waste Characterization per county"
   ]
  },
  {
   "cell_type": "code",
   "execution_count": 12,
   "metadata": {},
   "outputs": [],
   "source": [
    "county_waste = []\n",
    "for f in os.listdir(DATA_PATH):\n",
    "    filename, ext = os.path.splitext(f)\n",
    "    if ext == '.csv':\n",
    "        df = pd.read_csv(os.path.join(DATA_PATH, f))\n",
    "        df[\"Jurisdiction(s)\"] = df[\"Jurisdiction(s)\"].str.replace(\" \\(Countywide\\)\", \"\").str.upper()\n",
    "        df.rename(columns={\"Jurisdiction(s)\":\"County\"}, inplace=True)\n",
    "        county_waste.append(df)"
   ]
  },
  {
   "cell_type": "code",
   "execution_count": 13,
   "metadata": {},
   "outputs": [
    {
     "data": {
      "text/html": [
       "<div>\n",
       "<style scoped>\n",
       "    .dataframe tbody tr th:only-of-type {\n",
       "        vertical-align: middle;\n",
       "    }\n",
       "\n",
       "    .dataframe tbody tr th {\n",
       "        vertical-align: top;\n",
       "    }\n",
       "\n",
       "    .dataframe thead th {\n",
       "        text-align: right;\n",
       "    }\n",
       "</style>\n",
       "<table border=\"1\" class=\"dataframe\">\n",
       "  <thead>\n",
       "    <tr style=\"text-align: right;\">\n",
       "      <th></th>\n",
       "      <th>Material Category</th>\n",
       "      <th>Material Type</th>\n",
       "      <th>County</th>\n",
       "      <th>Single Family Tons</th>\n",
       "      <th>Regional Single Family Composition</th>\n",
       "      <th>Multi Family Tons</th>\n",
       "      <th>Statewide Multi Family Composition</th>\n",
       "      <th>Total Residential Tons</th>\n",
       "      <th>Total Residential Composition</th>\n",
       "    </tr>\n",
       "  </thead>\n",
       "  <tbody>\n",
       "    <tr>\n",
       "      <td>0</td>\n",
       "      <td>Paper</td>\n",
       "      <td>Uncoated Corrugated Cardboard</td>\n",
       "      <td>CONTRA COSTA</td>\n",
       "      <td>1536</td>\n",
       "      <td>0.006688</td>\n",
       "      <td>1931</td>\n",
       "      <td>0.035679</td>\n",
       "      <td>3467</td>\n",
       "      <td>0.012218</td>\n",
       "    </tr>\n",
       "    <tr>\n",
       "      <td>1</td>\n",
       "      <td>Paper</td>\n",
       "      <td>Paper Bags</td>\n",
       "      <td>CONTRA COSTA</td>\n",
       "      <td>719</td>\n",
       "      <td>0.003132</td>\n",
       "      <td>286</td>\n",
       "      <td>0.005275</td>\n",
       "      <td>1005</td>\n",
       "      <td>0.003541</td>\n",
       "    </tr>\n",
       "    <tr>\n",
       "      <td>2</td>\n",
       "      <td>Paper</td>\n",
       "      <td>Newspaper</td>\n",
       "      <td>CONTRA COSTA</td>\n",
       "      <td>1665</td>\n",
       "      <td>0.007250</td>\n",
       "      <td>2513</td>\n",
       "      <td>0.046431</td>\n",
       "      <td>4178</td>\n",
       "      <td>0.014724</td>\n",
       "    </tr>\n",
       "    <tr>\n",
       "      <td>3</td>\n",
       "      <td>Paper</td>\n",
       "      <td>White Ledger Paper</td>\n",
       "      <td>CONTRA COSTA</td>\n",
       "      <td>426</td>\n",
       "      <td>0.001854</td>\n",
       "      <td>286</td>\n",
       "      <td>0.005287</td>\n",
       "      <td>712</td>\n",
       "      <td>0.002509</td>\n",
       "    </tr>\n",
       "    <tr>\n",
       "      <td>4</td>\n",
       "      <td>Paper</td>\n",
       "      <td>Other Office Paper</td>\n",
       "      <td>CONTRA COSTA</td>\n",
       "      <td>1097</td>\n",
       "      <td>0.004775</td>\n",
       "      <td>319</td>\n",
       "      <td>0.005888</td>\n",
       "      <td>1415</td>\n",
       "      <td>0.004987</td>\n",
       "    </tr>\n",
       "  </tbody>\n",
       "</table>\n",
       "</div>"
      ],
      "text/plain": [
       "  Material Category                  Material Type        County  \\\n",
       "0             Paper  Uncoated Corrugated Cardboard  CONTRA COSTA   \n",
       "1             Paper                     Paper Bags  CONTRA COSTA   \n",
       "2             Paper                      Newspaper  CONTRA COSTA   \n",
       "3             Paper             White Ledger Paper  CONTRA COSTA   \n",
       "4             Paper             Other Office Paper  CONTRA COSTA   \n",
       "\n",
       "   Single Family Tons  Regional Single Family Composition  Multi Family Tons  \\\n",
       "0                1536                            0.006688               1931   \n",
       "1                 719                            0.003132                286   \n",
       "2                1665                            0.007250               2513   \n",
       "3                 426                            0.001854                286   \n",
       "4                1097                            0.004775                319   \n",
       "\n",
       "   Statewide Multi Family Composition  Total Residential Tons  \\\n",
       "0                            0.035679                    3467   \n",
       "1                            0.005275                    1005   \n",
       "2                            0.046431                    4178   \n",
       "3                            0.005287                     712   \n",
       "4                            0.005888                    1415   \n",
       "\n",
       "   Total Residential Composition  \n",
       "0                       0.012218  \n",
       "1                       0.003541  \n",
       "2                       0.014724  \n",
       "3                       0.002509  \n",
       "4                       0.004987  "
      ]
     },
     "execution_count": 13,
     "metadata": {},
     "output_type": "execute_result"
    }
   ],
   "source": [
    "waste_per_county = pd.concat(county_waste)\n",
    "waste_per_county.head()"
   ]
  },
  {
   "cell_type": "code",
   "execution_count": 16,
   "metadata": {},
   "outputs": [],
   "source": [
    "assert len(waste_per_county[\"County\"].unique()) == 58"
   ]
  },
  {
   "cell_type": "code",
   "execution_count": 17,
   "metadata": {},
   "outputs": [],
   "source": [
    "waste_per_county.to_csv(\"../data/calrecycle_waste_per_county.csv\", index=False)"
   ]
  },
  {
   "cell_type": "markdown",
   "metadata": {},
   "source": [
    "---\n",
    "\n",
    "### Scratch work"
   ]
  },
  {
   "cell_type": "code",
   "execution_count": 8,
   "metadata": {},
   "outputs": [],
   "source": [
    "alameda = pd.read_csv(\"/Users/mdong/dataScience/projects-ml/waste-management/calrecycle-data/Alameda_Alameda (Countywide).csv\")"
   ]
  },
  {
   "cell_type": "code",
   "execution_count": 9,
   "metadata": {},
   "outputs": [],
   "source": [
    "alameda.rename(columns={\"Jurisdiction(s)\":\"County\"},inplace = True)"
   ]
  },
  {
   "cell_type": "code",
   "execution_count": 10,
   "metadata": {},
   "outputs": [
    {
     "data": {
      "text/html": [
       "<div>\n",
       "<style scoped>\n",
       "    .dataframe tbody tr th:only-of-type {\n",
       "        vertical-align: middle;\n",
       "    }\n",
       "\n",
       "    .dataframe tbody tr th {\n",
       "        vertical-align: top;\n",
       "    }\n",
       "\n",
       "    .dataframe thead th {\n",
       "        text-align: right;\n",
       "    }\n",
       "</style>\n",
       "<table border=\"1\" class=\"dataframe\">\n",
       "  <thead>\n",
       "    <tr style=\"text-align: right;\">\n",
       "      <th></th>\n",
       "      <th>Material Category</th>\n",
       "      <th>Material Type</th>\n",
       "      <th>County</th>\n",
       "      <th>Single Family Tons</th>\n",
       "      <th>Regional Single Family Composition</th>\n",
       "      <th>Multi Family Tons</th>\n",
       "      <th>Statewide Multi Family Composition</th>\n",
       "      <th>Total Residential Tons</th>\n",
       "      <th>Total Residential Composition</th>\n",
       "    </tr>\n",
       "  </thead>\n",
       "  <tbody>\n",
       "    <tr>\n",
       "      <td>0</td>\n",
       "      <td>Paper</td>\n",
       "      <td>Uncoated Corrugated Cardboard</td>\n",
       "      <td>Alameda (Countywide)</td>\n",
       "      <td>1917</td>\n",
       "      <td>0.006688</td>\n",
       "      <td>4231</td>\n",
       "      <td>0.035679</td>\n",
       "      <td>6147</td>\n",
       "      <td>0.015173</td>\n",
       "    </tr>\n",
       "    <tr>\n",
       "      <td>1</td>\n",
       "      <td>Paper</td>\n",
       "      <td>Paper Bags</td>\n",
       "      <td>Alameda (Countywide)</td>\n",
       "      <td>898</td>\n",
       "      <td>0.003132</td>\n",
       "      <td>625</td>\n",
       "      <td>0.005275</td>\n",
       "      <td>1523</td>\n",
       "      <td>0.003759</td>\n",
       "    </tr>\n",
       "    <tr>\n",
       "      <td>2</td>\n",
       "      <td>Paper</td>\n",
       "      <td>Newspaper</td>\n",
       "      <td>Alameda (Countywide)</td>\n",
       "      <td>2078</td>\n",
       "      <td>0.007250</td>\n",
       "      <td>5506</td>\n",
       "      <td>0.046431</td>\n",
       "      <td>7583</td>\n",
       "      <td>0.018717</td>\n",
       "    </tr>\n",
       "    <tr>\n",
       "      <td>3</td>\n",
       "      <td>Paper</td>\n",
       "      <td>White Ledger Paper</td>\n",
       "      <td>Alameda (Countywide)</td>\n",
       "      <td>531</td>\n",
       "      <td>0.001854</td>\n",
       "      <td>627</td>\n",
       "      <td>0.005287</td>\n",
       "      <td>1158</td>\n",
       "      <td>0.002859</td>\n",
       "    </tr>\n",
       "    <tr>\n",
       "      <td>4</td>\n",
       "      <td>Paper</td>\n",
       "      <td>Other Office Paper</td>\n",
       "      <td>Alameda (Countywide)</td>\n",
       "      <td>1368</td>\n",
       "      <td>0.004775</td>\n",
       "      <td>698</td>\n",
       "      <td>0.005888</td>\n",
       "      <td>2067</td>\n",
       "      <td>0.005101</td>\n",
       "    </tr>\n",
       "  </tbody>\n",
       "</table>\n",
       "</div>"
      ],
      "text/plain": [
       "  Material Category                  Material Type                County  \\\n",
       "0             Paper  Uncoated Corrugated Cardboard  Alameda (Countywide)   \n",
       "1             Paper                     Paper Bags  Alameda (Countywide)   \n",
       "2             Paper                      Newspaper  Alameda (Countywide)   \n",
       "3             Paper             White Ledger Paper  Alameda (Countywide)   \n",
       "4             Paper             Other Office Paper  Alameda (Countywide)   \n",
       "\n",
       "   Single Family Tons  Regional Single Family Composition  Multi Family Tons  \\\n",
       "0                1917                            0.006688               4231   \n",
       "1                 898                            0.003132                625   \n",
       "2                2078                            0.007250               5506   \n",
       "3                 531                            0.001854                627   \n",
       "4                1368                            0.004775                698   \n",
       "\n",
       "   Statewide Multi Family Composition  Total Residential Tons  \\\n",
       "0                            0.035679                    6147   \n",
       "1                            0.005275                    1523   \n",
       "2                            0.046431                    7583   \n",
       "3                            0.005287                    1158   \n",
       "4                            0.005888                    2067   \n",
       "\n",
       "   Total Residential Composition  \n",
       "0                       0.015173  \n",
       "1                       0.003759  \n",
       "2                       0.018717  \n",
       "3                       0.002859  \n",
       "4                       0.005101  "
      ]
     },
     "execution_count": 10,
     "metadata": {},
     "output_type": "execute_result"
    }
   ],
   "source": [
    "alameda.head()"
   ]
  },
  {
   "cell_type": "code",
   "execution_count": 5,
   "metadata": {},
   "outputs": [
    {
     "data": {
      "text/plain": [
       "'Alameda (Countywide)'"
      ]
     },
     "execution_count": 5,
     "metadata": {},
     "output_type": "execute_result"
    }
   ],
   "source": [
    "alameda[\"Jurisdiction(s)\"][0]"
   ]
  },
  {
   "cell_type": "code",
   "execution_count": 11,
   "metadata": {},
   "outputs": [],
   "source": [
    "alameda[\"Jurisdiction(s)\"] = alameda[\"Jurisdiction(s)\"].str.replace(\" \\(Countywide\\)\", \"\").str.upper()"
   ]
  },
  {
   "cell_type": "code",
   "execution_count": null,
   "metadata": {},
   "outputs": [],
   "source": []
  }
 ],
 "metadata": {
  "kernelspec": {
   "display_name": "Python 3",
   "language": "python",
   "name": "python3"
  },
  "language_info": {
   "codemirror_mode": {
    "name": "ipython",
    "version": 3
   },
   "file_extension": ".py",
   "mimetype": "text/x-python",
   "name": "python",
   "nbconvert_exporter": "python",
   "pygments_lexer": "ipython3",
   "version": "3.7.4"
  }
 },
 "nbformat": 4,
 "nbformat_minor": 2
}
