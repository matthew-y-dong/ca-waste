{
 "cells": [
  {
   "cell_type": "code",
   "execution_count": 1,
   "metadata": {},
   "outputs": [],
   "source": [
    "import pandas as pd\n",
    "import numpy as np\n",
    "import os\n",
    "DATA_PATH = \"../calrecycle-data/\""
   ]
  },
  {
   "cell_type": "markdown",
   "metadata": {},
   "source": [
    "## CalRecycle Waste Data"
   ]
  },
  {
   "cell_type": "markdown",
   "metadata": {},
   "source": [
    "### Combine all individual county data into a single df"
   ]
  },
  {
   "cell_type": "code",
   "execution_count": 2,
   "metadata": {},
   "outputs": [],
   "source": [
    "def filter_waste_origin_df(df, county):\n",
    "    \"\"\"Drop quarterly values in the csv and only keep yearly values\n",
    "    Input:\n",
    "        - calrecycle df\n",
    "        - county (string)\n",
    "    \n",
    "    Ouput:\n",
    "        - df with year, county, disposal ton\n",
    "    \"\"\"\n",
    "    columns_to_keep = [\"Report Year\", \"Diposal Ton\", \"County\"]\n",
    "    df[\"County\"] = county\n",
    "    missing_data = df[\"Report Year\"].isnull()\n",
    "    df = df[~missing_data]\n",
    "    return df[columns_to_keep]"
   ]
  },
  {
   "cell_type": "code",
   "execution_count": 8,
   "metadata": {},
   "outputs": [
    {
     "name": "stdout",
     "output_type": "stream",
     "text": [
      "[INFO] filtering county file:  ../calrecycle-data/San_Bernardino_waste_production.xlsx\n",
      "[INFO] filtering county file:  ../calrecycle-data/Tehama_waste_production.xlsx\n",
      "[INFO] filtering county file:  ../calrecycle-data/Modoc_waste_production.xlsx\n",
      "[INFO] filtering county file:  ../calrecycle-data/San_Benito_waste_production.xlsx\n",
      "[INFO] filtering county file:  ../calrecycle-data/Santa_Barbara_waste_production.xlsx\n",
      "[INFO] filtering county file:  ../calrecycle-data/Yolo_waste_production.xlsx\n",
      "[INFO] filtering county file:  ../calrecycle-data/Sonoma_waste_production.xlsx\n",
      "[INFO] filtering county file:  ../calrecycle-data/Tuolumne_waste_production.xlsx\n",
      "[INFO] filtering county file:  ../calrecycle-data/San_Mateo_waste_production.xlsx\n",
      "[INFO] filtering county file:  ../calrecycle-data/Monterey_waste_production.xlsx\n",
      "[INFO] filtering county file:  ../calrecycle-data/Alpine_waste_production.xlsx\n",
      "[INFO] filtering county file:  ../calrecycle-data/Solano_waste_production.xlsx\n",
      "[INFO] filtering county file:  ../calrecycle-data/Fresno_waste_production.xlsx\n",
      "[INFO] filtering county file:  ../calrecycle-data/Tulare_waste_production.xlsx\n",
      "[INFO] filtering county file:  ../calrecycle-data/Marin_waste_production.xlsx\n",
      "[INFO] filtering county file:  ../calrecycle-data/Trinity_waste_production.xlsx\n",
      "[INFO] filtering county file:  ../calrecycle-data/Humboldt_waste_production.xlsx\n",
      "[INFO] filtering county file:  ../calrecycle-data/Calaveras_waste_production.xlsx\n",
      "[INFO] filtering county file:  ../calrecycle-data/Inyo_waste_production.xlsx\n",
      "[INFO] filtering county file:  ../calrecycle-data/Kings_waste_production.xlsx\n",
      "[INFO] filtering county file:  ../calrecycle-data/Amador_waste_production.xlsx\n",
      "[INFO] filtering county file:  ../calrecycle-data/Kern_waste_production.xlsx\n",
      "[INFO] filtering county file:  ../calrecycle-data/San_Luis_Obispo_waste_production.xlsx\n",
      "[INFO] filtering county file:  ../calrecycle-data/Mendocino_waste_production.xlsx\n",
      "[INFO] filtering county file:  ../calrecycle-data/Ventura_waste_production.xlsx\n",
      "[INFO] filtering county file:  ../calrecycle-data/Lassen_waste_production.xlsx\n",
      "[INFO] filtering county file:  ../calrecycle-data/El_Dorado_waste_production.xlsx\n",
      "[INFO] filtering county file:  ../calrecycle-data/Yuba_waste_production.xlsx\n",
      "[INFO] filtering county file:  ../calrecycle-data/Colusa_waste_production.xlsx\n",
      "[INFO] filtering county file:  ../calrecycle-data/Mono_waste_production.xlsx\n",
      "[INFO] filtering county file:  ../calrecycle-data/Merced_waste_production.xlsx\n",
      "[INFO] filtering county file:  ../calrecycle-data/Los_Angeles_waste_production.xlsx\n",
      "[INFO] filtering county file:  ../calrecycle-data/Stanislaus_waste_production.xlsx\n",
      "[INFO] filtering county file:  ../calrecycle-data/Del_Norte_waste_production.xlsx\n",
      "[INFO] filtering county file:  ../calrecycle-data/San_Francisco_waste_production.xlsx\n",
      "[INFO] filtering county file:  ../calrecycle-data/Contra_Costa_waste_production.xlsx\n",
      "[INFO] filtering county file:  ../calrecycle-data/Plumas_waste_production.xlsx\n",
      "[INFO] filtering county file:  ../calrecycle-data/San_Diego_waste_production.xlsx\n",
      "[INFO] filtering county file:  ../calrecycle-data/Santa_Clara_waste_production.xlsx\n",
      "[INFO] filtering county file:  ../calrecycle-data/Sacramento_waste_production.xlsx\n",
      "[INFO] filtering county file:  ../calrecycle-data/Nevada_waste_production.xlsx\n",
      "[INFO] filtering county file:  ../calrecycle-data/Napa_waste_production.xlsx\n",
      "[INFO] filtering county file:  ../calrecycle-data/Madera_waste_production.xlsx\n",
      "[INFO] filtering county file:  ../calrecycle-data/Orange_waste_production.xlsx\n",
      "[INFO] filtering county file:  ../calrecycle-data/Placer_waste_production.xlsx\n",
      "[INFO] filtering county file:  ../calrecycle-data/Siskiyou_waste_production.xlsx\n",
      "[INFO] filtering county file:  ../calrecycle-data/Alameda_waste_production.xlsx\n",
      "[INFO] filtering county file:  ../calrecycle-data/Lake_waste_production.xlsx\n",
      "[INFO] filtering county file:  ../calrecycle-data/San_Joaquin_waste_production.xlsx\n",
      "[INFO] filtering county file:  ../calrecycle-data/Sierra_waste_production.xlsx\n",
      "[INFO] filtering county file:  ../calrecycle-data/Glenn_waste_production.xlsx\n",
      "[INFO] filtering county file:  ../calrecycle-data/Butte_waste_production.xlsx\n",
      "[INFO] filtering county file:  ../calrecycle-data/Mariposa_waste_production.xlsx\n",
      "[INFO] filtering county file:  ../calrecycle-data/Imperial_waste_production.xlsx\n",
      "[INFO] filtering county file:  ../calrecycle-data/Riverside_waste_production.xlsx\n",
      "[INFO] filtering county file:  ../calrecycle-data/Shasta_waste_production.xlsx\n",
      "[INFO] filtering county file:  ../calrecycle-data/Sutter_waste_production.xlsx\n",
      "[DEBUG] Skipping:  Sutter\n",
      "[INFO] filtering county file:  ../calrecycle-data/Santa_Cruz_waste_production.xlsx\n"
     ]
    }
   ],
   "source": [
    "county_waste_production = []\n",
    "for f in os.listdir(DATA_PATH):\n",
    "    filename, ext = os.path.splitext(f)\n",
    "    county = filename.split(\"_waste_production\")[0]\n",
    "    county = county.replace(\"_\", \" \")\n",
    "    print(\"[INFO] filtering county file: \", os.path.join(DATA_PATH, f))\n",
    "    try:\n",
    "        df = pd.read_excel(os.path.join(DATA_PATH, f), skiprows=3, skipfooter=2)\n",
    "        filtered_df = filter_waste_origin_df(df, county)\n",
    "        county_waste_production.append(filtered_df)\n",
    "    except Exception as e:\n",
    "        print(\"[DEBUG] Skipping: \", county)\n",
    "\n",
    "county_waste_production_df = pd.concat(county_waste_production)"
   ]
  },
  {
   "cell_type": "code",
   "execution_count": 9,
   "metadata": {},
   "outputs": [
    {
     "data": {
      "text/html": [
       "<div>\n",
       "<style scoped>\n",
       "    .dataframe tbody tr th:only-of-type {\n",
       "        vertical-align: middle;\n",
       "    }\n",
       "\n",
       "    .dataframe tbody tr th {\n",
       "        vertical-align: top;\n",
       "    }\n",
       "\n",
       "    .dataframe thead th {\n",
       "        text-align: right;\n",
       "    }\n",
       "</style>\n",
       "<table border=\"1\" class=\"dataframe\">\n",
       "  <thead>\n",
       "    <tr style=\"text-align: right;\">\n",
       "      <th></th>\n",
       "      <th>Report Year</th>\n",
       "      <th>Diposal Ton</th>\n",
       "      <th>County</th>\n",
       "    </tr>\n",
       "  </thead>\n",
       "  <tbody>\n",
       "    <tr>\n",
       "      <td>0</td>\n",
       "      <td>1995.0</td>\n",
       "      <td>1623266.99</td>\n",
       "      <td>San Bernardino</td>\n",
       "    </tr>\n",
       "    <tr>\n",
       "      <td>105</td>\n",
       "      <td>1996.0</td>\n",
       "      <td>1652495.58</td>\n",
       "      <td>San Bernardino</td>\n",
       "    </tr>\n",
       "    <tr>\n",
       "      <td>210</td>\n",
       "      <td>1997.0</td>\n",
       "      <td>1603700.60</td>\n",
       "      <td>San Bernardino</td>\n",
       "    </tr>\n",
       "    <tr>\n",
       "      <td>315</td>\n",
       "      <td>1998.0</td>\n",
       "      <td>1682447.54</td>\n",
       "      <td>San Bernardino</td>\n",
       "    </tr>\n",
       "    <tr>\n",
       "      <td>420</td>\n",
       "      <td>1999.0</td>\n",
       "      <td>1679816.31</td>\n",
       "      <td>San Bernardino</td>\n",
       "    </tr>\n",
       "  </tbody>\n",
       "</table>\n",
       "</div>"
      ],
      "text/plain": [
       "     Report Year  Diposal Ton          County\n",
       "0         1995.0   1623266.99  San Bernardino\n",
       "105       1996.0   1652495.58  San Bernardino\n",
       "210       1997.0   1603700.60  San Bernardino\n",
       "315       1998.0   1682447.54  San Bernardino\n",
       "420       1999.0   1679816.31  San Bernardino"
      ]
     },
     "execution_count": 9,
     "metadata": {},
     "output_type": "execute_result"
    }
   ],
   "source": [
    "county_waste_production_df.head()"
   ]
  },
  {
   "attachments": {},
   "cell_type": "markdown",
   "metadata": {},
   "source": [
    "### Tests\n",
    "\n",
    "- Total number of counties (excluding Sutter) * total number of years = 58 - 1 * (2019 - 1995 + 1) = total number of observations in the final df\n",
    "- 2012 LA County total waste produced = 8,141,712\n",
    "- 2019 Alameda County total waste produced = 1,465,264\t"
   ]
  },
  {
   "cell_type": "code",
   "execution_count": 10,
   "metadata": {},
   "outputs": [],
   "source": [
    "def waste_produced(county, year):\n",
    "    county_condition = county_waste_production_df[\"County\"] == county\n",
    "    year_condition = county_waste_production_df[\"Report Year\"] == year\n",
    "    return county_waste_production_df.loc[county_condition & year_condition, \"Diposal Ton\"]"
   ]
  },
  {
   "cell_type": "code",
   "execution_count": 11,
   "metadata": {},
   "outputs": [],
   "source": [
    "assert county_waste_production_df.shape[0] == (58 - 1) * (2019 - 1995 + 1)\n",
    "assert np.isclose(1465264, waste_produced(\"Alameda\", 2019))\n",
    "assert np.isclose(8141712, waste_produced(\"Los Angeles\", 2012))"
   ]
  },
  {
   "cell_type": "markdown",
   "metadata": {},
   "source": [
    "### Save cleaned waste production csv"
   ]
  },
  {
   "cell_type": "code",
   "execution_count": 12,
   "metadata": {},
   "outputs": [],
   "source": [
    "county_waste_production_df.to_csv(\"../data/calrecycle_waste_production_per_county.csv\", index=False)"
   ]
  },
  {
   "cell_type": "markdown",
   "metadata": {},
   "source": [
    "## Census Population Data"
   ]
  },
  {
   "cell_type": "code",
   "execution_count": null,
   "metadata": {},
   "outputs": [],
   "source": []
  }
 ],
 "metadata": {
  "kernelspec": {
   "display_name": "Python 3",
   "language": "python",
   "name": "python3"
  },
  "language_info": {
   "codemirror_mode": {
    "name": "ipython",
    "version": 3
   },
   "file_extension": ".py",
   "mimetype": "text/x-python",
   "name": "python",
   "nbconvert_exporter": "python",
   "pygments_lexer": "ipython3",
   "version": "3.7.4"
  }
 },
 "nbformat": 4,
 "nbformat_minor": 2
}
