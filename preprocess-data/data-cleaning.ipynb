{
 "cells": [
  {
   "cell_type": "code",
   "execution_count": 17,
   "metadata": {},
   "outputs": [],
   "source": [
    "import pandas as pd\n",
    "import os\n",
    "DATA_PATH = \"../calrecycle-data/\""
   ]
  },
  {
   "cell_type": "markdown",
   "metadata": {},
   "source": [
    "## CalRecycle Waste Data"
   ]
  },
  {
   "cell_type": "code",
   "execution_count": 22,
   "metadata": {},
   "outputs": [],
   "source": [
    "def filter_waste_origin_df(df, county):\n",
    "    \"\"\"Drop quarterly values in the csv and only keep yearly values\n",
    "    Input:\n",
    "        - calrecycle df\n",
    "        - county (string)\n",
    "    \n",
    "    Ouput:\n",
    "        - df with year, county, disposal ton\n",
    "    \"\"\"\n",
    "    columns_to_keep = [\"Report Year\", \"Diposal Ton\", \"County\"]\n",
    "    df[\"County\"] = county\n",
    "    missing_data = df[\"Report Year\"].isnull()\n",
    "    df = df[~missing_data]\n",
    "    return df[columns_to_keep]"
   ]
  },
  {
   "cell_type": "code",
   "execution_count": 23,
   "metadata": {},
   "outputs": [
    {
     "name": "stdout",
     "output_type": "stream",
     "text": [
      "[INFO] filtering county:  ../calrecycle-data/Butte_waste_production.csv\n",
      "[INFO] filtering county:  ../calrecycle-data/Yolo_waste_production.csv\n",
      "[INFO] filtering county:  ../calrecycle-data/San_Benito_waste_production.csv\n",
      "[INFO] filtering county:  ../calrecycle-data/San_Diego_waste_production.csv\n",
      "[INFO] filtering county:  ../calrecycle-data/Fresno_waste_production.csv\n",
      "[INFO] filtering county:  ../calrecycle-data/Glenn_waste_production.csv\n",
      "[INFO] filtering county:  ../calrecycle-data/Sutter_waste_production.csv\n",
      "[DEBUG] Skipping:  Sutter\n",
      "[INFO] filtering county:  ../calrecycle-data/Mendocino_waste_production.csv\n",
      "[INFO] filtering county:  ../calrecycle-data/Santa_Cruz_waste_production.csv\n",
      "[INFO] filtering county:  ../calrecycle-data/Los_Angeles_waste_production.csv\n",
      "[INFO] filtering county:  ../calrecycle-data/Alpine_waste_production.csv\n",
      "[INFO] filtering county:  ../calrecycle-data/Lassen_waste_production.csv\n",
      "[INFO] filtering county:  ../calrecycle-data/San_Luis_Obispo_waste_production.csv\n",
      "[INFO] filtering county:  ../calrecycle-data/Marin_waste_production.csv\n",
      "[INFO] filtering county:  ../calrecycle-data/Riverside_waste_production.csv\n",
      "[INFO] filtering county:  ../calrecycle-data/Santa_Clara_waste_production.csv\n",
      "[INFO] filtering county:  ../calrecycle-data/Imperial_waste_production.csv\n",
      "[INFO] filtering county:  ../calrecycle-data/Tuolumne_waste_production.csv\n",
      "[INFO] filtering county:  ../calrecycle-data/Trinity_waste_production.csv\n",
      "[INFO] filtering county:  ../calrecycle-data/El_Dorado_waste_production.csv\n",
      "[INFO] filtering county:  ../calrecycle-data/Amador_waste_production.csv\n",
      "[INFO] filtering county:  ../calrecycle-data/Del_Norte_waste_production.csv\n",
      "[INFO] filtering county:  ../calrecycle-data/Napa_waste_production.csv\n",
      "[INFO] filtering county:  ../calrecycle-data/Contra_Costa_waste_production.csv\n",
      "[INFO] filtering county:  ../calrecycle-data/Placer_waste_production.csv\n"
     ]
    },
    {
     "name": "stderr",
     "output_type": "stream",
     "text": [
      "/Users/mdong/anaconda3/lib/python3.7/site-packages/ipykernel_launcher.py:9: ParserWarning: Falling back to the 'python' engine because the 'c' engine does not support skipfooter; you can avoid this warning by specifying engine='python'.\n",
      "  if __name__ == '__main__':\n"
     ]
    },
    {
     "name": "stdout",
     "output_type": "stream",
     "text": [
      "[INFO] filtering county:  ../calrecycle-data/Santa_Barbara_waste_production.csv\n",
      "[INFO] filtering county:  ../calrecycle-data/San_Joaquin_waste_production.csv\n",
      "[INFO] filtering county:  ../calrecycle-data/Colusa_waste_production.csv\n",
      "[INFO] filtering county:  ../calrecycle-data/Tulare_waste_production.csv\n",
      "[INFO] filtering county:  ../calrecycle-data/Mono_waste_production.csv\n",
      "[INFO] filtering county:  ../calrecycle-data/Sonoma_waste_production.csv\n",
      "[INFO] filtering county:  ../calrecycle-data/Merced_waste_production.csv\n",
      "[INFO] filtering county:  ../calrecycle-data/Kings_waste_production.csv\n",
      "[INFO] filtering county:  ../calrecycle-data/Solano_waste_production.csv\n",
      "[INFO] filtering county:  ../calrecycle-data/Sierra_waste_production.csv\n",
      "[INFO] filtering county:  ../calrecycle-data/Yuba_waste_production.csv\n",
      "[INFO] filtering county:  ../calrecycle-data/Inyo_waste_production.csv\n",
      "[INFO] filtering county:  ../calrecycle-data/San_Bernardino_waste_production.csv\n",
      "[INFO] filtering county:  ../calrecycle-data/Tehama_waste_production.csv\n",
      "[INFO] filtering county:  ../calrecycle-data/Sacramento_waste_production.csv\n",
      "[INFO] filtering county:  ../calrecycle-data/Alameda_waste_production.csv\n",
      "[INFO] filtering county:  ../calrecycle-data/Lake_waste_production.csv\n",
      "[INFO] filtering county:  ../calrecycle-data/Modoc_waste_production.csv\n",
      "[INFO] filtering county:  ../calrecycle-data/Monterey_waste_production.csv\n",
      "[INFO] filtering county:  ../calrecycle-data/Ventura_waste_production.csv\n",
      "[INFO] filtering county:  ../calrecycle-data/San_Mateo_waste_production.csv\n",
      "[INFO] filtering county:  ../calrecycle-data/Nevada_waste_production.csv\n",
      "[INFO] filtering county:  ../calrecycle-data/San_Francisco_waste_production.csv\n",
      "[INFO] filtering county:  ../calrecycle-data/Shasta_waste_production.csv\n",
      "[INFO] filtering county:  ../calrecycle-data/Madera_waste_production.csv\n",
      "[INFO] filtering county:  ../calrecycle-data/Siskiyou_waste_production.csv\n",
      "[INFO] filtering county:  ../calrecycle-data/Plumas_waste_production.csv\n",
      "[INFO] filtering county:  ../calrecycle-data/Stanislaus_waste_production.csv\n",
      "[INFO] filtering county:  ../calrecycle-data/Kern_waste_production.csv\n",
      "[INFO] filtering county:  ../calrecycle-data/Orange_waste_production.csv\n",
      "[INFO] filtering county:  ../calrecycle-data/Humboldt_waste_production.csv\n",
      "[INFO] filtering county:  ../calrecycle-data/Mariposa_waste_production.csv\n",
      "[INFO] filtering county:  ../calrecycle-data/Calaveras_waste_production.csv\n"
     ]
    }
   ],
   "source": [
    "county_waste_production = []\n",
    "for f in os.listdir(DATA_PATH):\n",
    "    filename, ext = os.path.splitext(f)\n",
    "    if ext == '.csv':\n",
    "        county = filename.split(\"_waste_production\")[0]\n",
    "        county = county.replace(\"_\", \" \")\n",
    "        print(\"[INFO] filtering county: \", os.path.join(DATA_PATH, f))\n",
    "        try:\n",
    "            df = pd.read_csv(os.path.join(DATA_PATH, f), skiprows=3, skipfooter=2)\n",
    "            filtered_df = filter_waste_origin_df(df, county)\n",
    "            county_waste_production.append(filtered_df)\n",
    "        except Exception as e:\n",
    "            print(\"[DEBUG] Skipping: \", county)\n",
    "\n",
    "county_waste_production_df = pd.concat(county_waste_production)"
   ]
  },
  {
   "cell_type": "code",
   "execution_count": 25,
   "metadata": {},
   "outputs": [
    {
     "data": {
      "text/html": [
       "<div>\n",
       "<style scoped>\n",
       "    .dataframe tbody tr th:only-of-type {\n",
       "        vertical-align: middle;\n",
       "    }\n",
       "\n",
       "    .dataframe tbody tr th {\n",
       "        vertical-align: top;\n",
       "    }\n",
       "\n",
       "    .dataframe thead th {\n",
       "        text-align: right;\n",
       "    }\n",
       "</style>\n",
       "<table border=\"1\" class=\"dataframe\">\n",
       "  <thead>\n",
       "    <tr style=\"text-align: right;\">\n",
       "      <th></th>\n",
       "      <th>Report Year</th>\n",
       "      <th>Diposal Ton</th>\n",
       "      <th>County</th>\n",
       "    </tr>\n",
       "  </thead>\n",
       "  <tbody>\n",
       "    <tr>\n",
       "      <td>0</td>\n",
       "      <td>1995.0</td>\n",
       "      <td>200356.10</td>\n",
       "      <td>Butte</td>\n",
       "    </tr>\n",
       "    <tr>\n",
       "      <td>25</td>\n",
       "      <td>1996.0</td>\n",
       "      <td>197467.09</td>\n",
       "      <td>Butte</td>\n",
       "    </tr>\n",
       "    <tr>\n",
       "      <td>50</td>\n",
       "      <td>1997.0</td>\n",
       "      <td>178342.08</td>\n",
       "      <td>Butte</td>\n",
       "    </tr>\n",
       "    <tr>\n",
       "      <td>67</td>\n",
       "      <td>1998.0</td>\n",
       "      <td>200288.53</td>\n",
       "      <td>Butte</td>\n",
       "    </tr>\n",
       "    <tr>\n",
       "      <td>84</td>\n",
       "      <td>1999.0</td>\n",
       "      <td>211408.91</td>\n",
       "      <td>Butte</td>\n",
       "    </tr>\n",
       "  </tbody>\n",
       "</table>\n",
       "</div>"
      ],
      "text/plain": [
       "    Report Year  Diposal Ton County\n",
       "0        1995.0    200356.10  Butte\n",
       "25       1996.0    197467.09  Butte\n",
       "50       1997.0    178342.08  Butte\n",
       "67       1998.0    200288.53  Butte\n",
       "84       1999.0    211408.91  Butte"
      ]
     },
     "execution_count": 25,
     "metadata": {},
     "output_type": "execute_result"
    }
   ],
   "source": [
    "county_waste_production_df.head()"
   ]
  },
  {
   "cell_type": "markdown",
   "metadata": {},
   "source": [
    "## Census Population Data"
   ]
  },
  {
   "cell_type": "code",
   "execution_count": null,
   "metadata": {},
   "outputs": [],
   "source": []
  }
 ],
 "metadata": {
  "kernelspec": {
   "display_name": "Python 3",
   "language": "python",
   "name": "python3"
  },
  "language_info": {
   "codemirror_mode": {
    "name": "ipython",
    "version": 3
   },
   "file_extension": ".py",
   "mimetype": "text/x-python",
   "name": "python",
   "nbconvert_exporter": "python",
   "pygments_lexer": "ipython3",
   "version": "3.7.4"
  }
 },
 "nbformat": 4,
 "nbformat_minor": 2
}
